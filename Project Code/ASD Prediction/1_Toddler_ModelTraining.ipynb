{
  "cells": [
    {
      "cell_type": "markdown",
      "metadata": {
        "id": "66bd4201"
      },
      "source": [
        "## Import Libraries"
      ],
      "id": "66bd4201"
    },
    {
      "cell_type": "code",
      "execution_count": null,
      "metadata": {
        "id": "927a4ecf"
      },
      "outputs": [],
      "source": [
        "import warnings\n",
        "warnings.filterwarnings(\"always\")\n",
        "warnings.filterwarnings(\"ignore\")"
      ],
      "id": "927a4ecf"
    },
    {
      "cell_type": "code",
      "execution_count": null,
      "metadata": {
        "id": "5ee925e1"
      },
      "outputs": [],
      "source": [
        "import os\n",
        "import pandas as pd\n",
        "import numpy as np\n",
        "import matplotlib.pyplot as plt\n",
        "%matplotlib inline\n",
        "import seaborn as sns\n",
        "from sklearn.model_selection import train_test_split\n",
        "from sklearn.metrics import accuracy_score,classification_report,confusion_matrix\n",
        "import pickle"
      ],
      "id": "5ee925e1"
    },
    {
      "cell_type": "markdown",
      "metadata": {
        "id": "fa9dec07"
      },
      "source": [
        "## Data Loading"
      ],
      "id": "fa9dec07"
    },
    {
      "cell_type": "code",
      "execution_count": null,
      "metadata": {
        "colab": {
          "base_uri": "https://localhost:8080/"
        },
        "id": "5bd68ff3",
        "outputId": "79068c12-1ff4-4f26-dc9f-8d0385c5dd61"
      },
      "outputs": [
        {
          "data": {
            "text/plain": [
              "['.config',\n",
              " 'model',\n",
              " 'RF_model_toddler.pkl',\n",
              " 'Child.csv',\n",
              " 'Toddler.csv',\n",
              " 'ANN_model_toddler.h5',\n",
              " 'SVM_model_toddler.pkl',\n",
              " 'sample_data']"
            ]
          },
          "execution_count": 486,
          "metadata": {},
          "output_type": "execute_result"
        }
      ],
      "source": [
        "os.listdir()"
      ],
      "id": "5bd68ff3"
    },
    {
      "cell_type": "code",
      "execution_count": null,
      "metadata": {
        "id": "e4d0fd0e"
      },
      "outputs": [],
      "source": [
        "df=pd.read_csv(filepath_or_buffer=\"Toddler.csv\")"
      ],
      "id": "e4d0fd0e"
    },
    {
      "cell_type": "code",
      "execution_count": null,
      "metadata": {
        "colab": {
          "base_uri": "https://localhost:8080/",
          "height": 206
        },
        "id": "a151bec4",
        "outputId": "d3403d48-7ace-425e-c41e-39547a94a0a8"
      },
      "outputs": [
        {
          "data": {
            "text/html": [
              "\n",
              "  <div id=\"df-faee8146-1dcf-47a0-8a5b-d184965a5dfe\">\n",
              "    <div class=\"colab-df-container\">\n",
              "      <div>\n",
              "<style scoped>\n",
              "    .dataframe tbody tr th:only-of-type {\n",
              "        vertical-align: middle;\n",
              "    }\n",
              "\n",
              "    .dataframe tbody tr th {\n",
              "        vertical-align: top;\n",
              "    }\n",
              "\n",
              "    .dataframe thead th {\n",
              "        text-align: right;\n",
              "    }\n",
              "</style>\n",
              "<table border=\"1\" class=\"dataframe\">\n",
              "  <thead>\n",
              "    <tr style=\"text-align: right;\">\n",
              "      <th></th>\n",
              "      <th>Case_No</th>\n",
              "      <th>A1</th>\n",
              "      <th>A2</th>\n",
              "      <th>A3</th>\n",
              "      <th>A4</th>\n",
              "      <th>A5</th>\n",
              "      <th>A6</th>\n",
              "      <th>A7</th>\n",
              "      <th>A8</th>\n",
              "      <th>A9</th>\n",
              "      <th>A10</th>\n",
              "      <th>Age_Mons</th>\n",
              "      <th>Qchat-10-Score</th>\n",
              "      <th>Sex</th>\n",
              "      <th>Ethnicity</th>\n",
              "      <th>Jaundice</th>\n",
              "      <th>Family_mem_with_ASD</th>\n",
              "      <th>Who completed the test</th>\n",
              "      <th>Class</th>\n",
              "    </tr>\n",
              "  </thead>\n",
              "  <tbody>\n",
              "    <tr>\n",
              "      <th>0</th>\n",
              "      <td>1</td>\n",
              "      <td>0</td>\n",
              "      <td>0</td>\n",
              "      <td>0</td>\n",
              "      <td>0</td>\n",
              "      <td>0</td>\n",
              "      <td>0</td>\n",
              "      <td>1</td>\n",
              "      <td>1</td>\n",
              "      <td>0</td>\n",
              "      <td>1</td>\n",
              "      <td>28</td>\n",
              "      <td>3</td>\n",
              "      <td>f</td>\n",
              "      <td>middle eastern</td>\n",
              "      <td>yes</td>\n",
              "      <td>no</td>\n",
              "      <td>family member</td>\n",
              "      <td>No</td>\n",
              "    </tr>\n",
              "    <tr>\n",
              "      <th>1</th>\n",
              "      <td>2</td>\n",
              "      <td>1</td>\n",
              "      <td>1</td>\n",
              "      <td>0</td>\n",
              "      <td>0</td>\n",
              "      <td>0</td>\n",
              "      <td>1</td>\n",
              "      <td>1</td>\n",
              "      <td>0</td>\n",
              "      <td>0</td>\n",
              "      <td>0</td>\n",
              "      <td>36</td>\n",
              "      <td>4</td>\n",
              "      <td>m</td>\n",
              "      <td>White European</td>\n",
              "      <td>yes</td>\n",
              "      <td>no</td>\n",
              "      <td>family member</td>\n",
              "      <td>Yes</td>\n",
              "    </tr>\n",
              "    <tr>\n",
              "      <th>2</th>\n",
              "      <td>3</td>\n",
              "      <td>1</td>\n",
              "      <td>0</td>\n",
              "      <td>0</td>\n",
              "      <td>0</td>\n",
              "      <td>0</td>\n",
              "      <td>0</td>\n",
              "      <td>1</td>\n",
              "      <td>1</td>\n",
              "      <td>0</td>\n",
              "      <td>1</td>\n",
              "      <td>36</td>\n",
              "      <td>4</td>\n",
              "      <td>m</td>\n",
              "      <td>middle eastern</td>\n",
              "      <td>yes</td>\n",
              "      <td>no</td>\n",
              "      <td>family member</td>\n",
              "      <td>Yes</td>\n",
              "    </tr>\n",
              "    <tr>\n",
              "      <th>3</th>\n",
              "      <td>4</td>\n",
              "      <td>1</td>\n",
              "      <td>1</td>\n",
              "      <td>1</td>\n",
              "      <td>1</td>\n",
              "      <td>1</td>\n",
              "      <td>1</td>\n",
              "      <td>1</td>\n",
              "      <td>1</td>\n",
              "      <td>1</td>\n",
              "      <td>1</td>\n",
              "      <td>24</td>\n",
              "      <td>10</td>\n",
              "      <td>m</td>\n",
              "      <td>Hispanic</td>\n",
              "      <td>no</td>\n",
              "      <td>no</td>\n",
              "      <td>family member</td>\n",
              "      <td>Yes</td>\n",
              "    </tr>\n",
              "    <tr>\n",
              "      <th>4</th>\n",
              "      <td>5</td>\n",
              "      <td>1</td>\n",
              "      <td>1</td>\n",
              "      <td>0</td>\n",
              "      <td>1</td>\n",
              "      <td>1</td>\n",
              "      <td>1</td>\n",
              "      <td>1</td>\n",
              "      <td>1</td>\n",
              "      <td>1</td>\n",
              "      <td>1</td>\n",
              "      <td>20</td>\n",
              "      <td>9</td>\n",
              "      <td>f</td>\n",
              "      <td>White European</td>\n",
              "      <td>no</td>\n",
              "      <td>yes</td>\n",
              "      <td>family member</td>\n",
              "      <td>Yes</td>\n",
              "    </tr>\n",
              "  </tbody>\n",
              "</table>\n",
              "</div>\n",
              "      <button class=\"colab-df-convert\" onclick=\"convertToInteractive('df-faee8146-1dcf-47a0-8a5b-d184965a5dfe')\"\n",
              "              title=\"Convert this dataframe to an interactive table.\"\n",
              "              style=\"display:none;\">\n",
              "        \n",
              "  <svg xmlns=\"http://www.w3.org/2000/svg\" height=\"24px\"viewBox=\"0 0 24 24\"\n",
              "       width=\"24px\">\n",
              "    <path d=\"M0 0h24v24H0V0z\" fill=\"none\"/>\n",
              "    <path d=\"M18.56 5.44l.94 2.06.94-2.06 2.06-.94-2.06-.94-.94-2.06-.94 2.06-2.06.94zm-11 1L8.5 8.5l.94-2.06 2.06-.94-2.06-.94L8.5 2.5l-.94 2.06-2.06.94zm10 10l.94 2.06.94-2.06 2.06-.94-2.06-.94-.94-2.06-.94 2.06-2.06.94z\"/><path d=\"M17.41 7.96l-1.37-1.37c-.4-.4-.92-.59-1.43-.59-.52 0-1.04.2-1.43.59L10.3 9.45l-7.72 7.72c-.78.78-.78 2.05 0 2.83L4 21.41c.39.39.9.59 1.41.59.51 0 1.02-.2 1.41-.59l7.78-7.78 2.81-2.81c.8-.78.8-2.07 0-2.86zM5.41 20L4 18.59l7.72-7.72 1.47 1.35L5.41 20z\"/>\n",
              "  </svg>\n",
              "      </button>\n",
              "      \n",
              "  <style>\n",
              "    .colab-df-container {\n",
              "      display:flex;\n",
              "      flex-wrap:wrap;\n",
              "      gap: 12px;\n",
              "    }\n",
              "\n",
              "    .colab-df-convert {\n",
              "      background-color: #E8F0FE;\n",
              "      border: none;\n",
              "      border-radius: 50%;\n",
              "      cursor: pointer;\n",
              "      display: none;\n",
              "      fill: #1967D2;\n",
              "      height: 32px;\n",
              "      padding: 0 0 0 0;\n",
              "      width: 32px;\n",
              "    }\n",
              "\n",
              "    .colab-df-convert:hover {\n",
              "      background-color: #E2EBFA;\n",
              "      box-shadow: 0px 1px 2px rgba(60, 64, 67, 0.3), 0px 1px 3px 1px rgba(60, 64, 67, 0.15);\n",
              "      fill: #174EA6;\n",
              "    }\n",
              "\n",
              "    [theme=dark] .colab-df-convert {\n",
              "      background-color: #3B4455;\n",
              "      fill: #D2E3FC;\n",
              "    }\n",
              "\n",
              "    [theme=dark] .colab-df-convert:hover {\n",
              "      background-color: #434B5C;\n",
              "      box-shadow: 0px 1px 3px 1px rgba(0, 0, 0, 0.15);\n",
              "      filter: drop-shadow(0px 1px 2px rgba(0, 0, 0, 0.3));\n",
              "      fill: #FFFFFF;\n",
              "    }\n",
              "  </style>\n",
              "\n",
              "      <script>\n",
              "        const buttonEl =\n",
              "          document.querySelector('#df-faee8146-1dcf-47a0-8a5b-d184965a5dfe button.colab-df-convert');\n",
              "        buttonEl.style.display =\n",
              "          google.colab.kernel.accessAllowed ? 'block' : 'none';\n",
              "\n",
              "        async function convertToInteractive(key) {\n",
              "          const element = document.querySelector('#df-faee8146-1dcf-47a0-8a5b-d184965a5dfe');\n",
              "          const dataTable =\n",
              "            await google.colab.kernel.invokeFunction('convertToInteractive',\n",
              "                                                     [key], {});\n",
              "          if (!dataTable) return;\n",
              "\n",
              "          const docLinkHtml = 'Like what you see? Visit the ' +\n",
              "            '<a target=\"_blank\" href=https://colab.research.google.com/notebooks/data_table.ipynb>data table notebook</a>'\n",
              "            + ' to learn more about interactive tables.';\n",
              "          element.innerHTML = '';\n",
              "          dataTable['output_type'] = 'display_data';\n",
              "          await google.colab.output.renderOutput(dataTable, element);\n",
              "          const docLink = document.createElement('div');\n",
              "          docLink.innerHTML = docLinkHtml;\n",
              "          element.appendChild(docLink);\n",
              "        }\n",
              "      </script>\n",
              "    </div>\n",
              "  </div>\n",
              "  "
            ],
            "text/plain": [
              "   Case_No  A1  A2  A3  A4  A5  A6  A7  A8  A9  A10  Age_Mons  Qchat-10-Score  \\\n",
              "0        1   0   0   0   0   0   0   1   1   0    1        28               3   \n",
              "1        2   1   1   0   0   0   1   1   0   0    0        36               4   \n",
              "2        3   1   0   0   0   0   0   1   1   0    1        36               4   \n",
              "3        4   1   1   1   1   1   1   1   1   1    1        24              10   \n",
              "4        5   1   1   0   1   1   1   1   1   1    1        20               9   \n",
              "\n",
              "  Sex       Ethnicity Jaundice Family_mem_with_ASD Who completed the test  \\\n",
              "0   f  middle eastern      yes                  no          family member   \n",
              "1   m  White European      yes                  no          family member   \n",
              "2   m  middle eastern      yes                  no          family member   \n",
              "3   m        Hispanic       no                  no          family member   \n",
              "4   f  White European       no                 yes          family member   \n",
              "\n",
              "  Class  \n",
              "0    No  \n",
              "1   Yes  \n",
              "2   Yes  \n",
              "3   Yes  \n",
              "4   Yes  "
            ]
          },
          "execution_count": 488,
          "metadata": {},
          "output_type": "execute_result"
        }
      ],
      "source": [
        "df.head()"
      ],
      "id": "a151bec4"
    },
    {
      "cell_type": "code",
      "execution_count": null,
      "metadata": {
        "colab": {
          "base_uri": "https://localhost:8080/"
        },
        "id": "3f7fed6a",
        "outputId": "a4ffb675-6ef1-4c47-f0f6-70d1fd149a55"
      },
      "outputs": [
        {
          "name": "stdout",
          "output_type": "stream",
          "text": [
            "(1054, 19)\n"
          ]
        }
      ],
      "source": [
        "print(df.shape)"
      ],
      "id": "3f7fed6a"
    },
    {
      "cell_type": "markdown",
      "metadata": {
        "id": "e6cf5736"
      },
      "source": [
        "## Data Preprocessing"
      ],
      "id": "e6cf5736"
    },
    {
      "cell_type": "code",
      "execution_count": null,
      "metadata": {
        "colab": {
          "base_uri": "https://localhost:8080/"
        },
        "id": "68caa7cc",
        "outputId": "cd929c1e-eecb-4d7f-ef76-ef4ad71344a8"
      },
      "outputs": [
        {
          "name": "stdout",
          "output_type": "stream",
          "text": [
            "Index(['Case_No', 'A1', 'A2', 'A3', 'A4', 'A5', 'A6', 'A7', 'A8', 'A9', 'A10',\n",
            "       'Age_Mons', 'Qchat-10-Score', 'Sex', 'Ethnicity', 'Jaundice',\n",
            "       'Family_mem_with_ASD', 'Who completed the test', 'Class'],\n",
            "      dtype='object')\n"
          ]
        }
      ],
      "source": [
        "print(df.columns)"
      ],
      "id": "68caa7cc"
    },
    {
      "cell_type": "markdown",
      "metadata": {
        "id": "5dff3dca"
      },
      "source": [
        "***dropping unwanted columns***"
      ],
      "id": "5dff3dca"
    },
    {
      "cell_type": "code",
      "execution_count": null,
      "metadata": {
        "id": "d23fcfd7"
      },
      "outputs": [],
      "source": [
        "df=df.drop(labels=[\"Case_No\",\"Ethnicity\"],axis=1)"
      ],
      "id": "d23fcfd7"
    },
    {
      "cell_type": "code",
      "execution_count": null,
      "metadata": {
        "colab": {
          "base_uri": "https://localhost:8080/",
          "height": 206
        },
        "id": "d462c2a6",
        "outputId": "42666ca7-98bd-4c20-e338-59cd884ede95"
      },
      "outputs": [
        {
          "data": {
            "text/html": [
              "\n",
              "  <div id=\"df-50ac4aef-dd6c-49b7-8db6-7ee4026a3cd3\">\n",
              "    <div class=\"colab-df-container\">\n",
              "      <div>\n",
              "<style scoped>\n",
              "    .dataframe tbody tr th:only-of-type {\n",
              "        vertical-align: middle;\n",
              "    }\n",
              "\n",
              "    .dataframe tbody tr th {\n",
              "        vertical-align: top;\n",
              "    }\n",
              "\n",
              "    .dataframe thead th {\n",
              "        text-align: right;\n",
              "    }\n",
              "</style>\n",
              "<table border=\"1\" class=\"dataframe\">\n",
              "  <thead>\n",
              "    <tr style=\"text-align: right;\">\n",
              "      <th></th>\n",
              "      <th>A1</th>\n",
              "      <th>A2</th>\n",
              "      <th>A3</th>\n",
              "      <th>A4</th>\n",
              "      <th>A5</th>\n",
              "      <th>A6</th>\n",
              "      <th>A7</th>\n",
              "      <th>A8</th>\n",
              "      <th>A9</th>\n",
              "      <th>A10</th>\n",
              "      <th>Age_Mons</th>\n",
              "      <th>Qchat-10-Score</th>\n",
              "      <th>Sex</th>\n",
              "      <th>Jaundice</th>\n",
              "      <th>Family_mem_with_ASD</th>\n",
              "      <th>Who completed the test</th>\n",
              "      <th>Class</th>\n",
              "    </tr>\n",
              "  </thead>\n",
              "  <tbody>\n",
              "    <tr>\n",
              "      <th>0</th>\n",
              "      <td>0</td>\n",
              "      <td>0</td>\n",
              "      <td>0</td>\n",
              "      <td>0</td>\n",
              "      <td>0</td>\n",
              "      <td>0</td>\n",
              "      <td>1</td>\n",
              "      <td>1</td>\n",
              "      <td>0</td>\n",
              "      <td>1</td>\n",
              "      <td>28</td>\n",
              "      <td>3</td>\n",
              "      <td>f</td>\n",
              "      <td>yes</td>\n",
              "      <td>no</td>\n",
              "      <td>family member</td>\n",
              "      <td>No</td>\n",
              "    </tr>\n",
              "    <tr>\n",
              "      <th>1</th>\n",
              "      <td>1</td>\n",
              "      <td>1</td>\n",
              "      <td>0</td>\n",
              "      <td>0</td>\n",
              "      <td>0</td>\n",
              "      <td>1</td>\n",
              "      <td>1</td>\n",
              "      <td>0</td>\n",
              "      <td>0</td>\n",
              "      <td>0</td>\n",
              "      <td>36</td>\n",
              "      <td>4</td>\n",
              "      <td>m</td>\n",
              "      <td>yes</td>\n",
              "      <td>no</td>\n",
              "      <td>family member</td>\n",
              "      <td>Yes</td>\n",
              "    </tr>\n",
              "    <tr>\n",
              "      <th>2</th>\n",
              "      <td>1</td>\n",
              "      <td>0</td>\n",
              "      <td>0</td>\n",
              "      <td>0</td>\n",
              "      <td>0</td>\n",
              "      <td>0</td>\n",
              "      <td>1</td>\n",
              "      <td>1</td>\n",
              "      <td>0</td>\n",
              "      <td>1</td>\n",
              "      <td>36</td>\n",
              "      <td>4</td>\n",
              "      <td>m</td>\n",
              "      <td>yes</td>\n",
              "      <td>no</td>\n",
              "      <td>family member</td>\n",
              "      <td>Yes</td>\n",
              "    </tr>\n",
              "    <tr>\n",
              "      <th>3</th>\n",
              "      <td>1</td>\n",
              "      <td>1</td>\n",
              "      <td>1</td>\n",
              "      <td>1</td>\n",
              "      <td>1</td>\n",
              "      <td>1</td>\n",
              "      <td>1</td>\n",
              "      <td>1</td>\n",
              "      <td>1</td>\n",
              "      <td>1</td>\n",
              "      <td>24</td>\n",
              "      <td>10</td>\n",
              "      <td>m</td>\n",
              "      <td>no</td>\n",
              "      <td>no</td>\n",
              "      <td>family member</td>\n",
              "      <td>Yes</td>\n",
              "    </tr>\n",
              "    <tr>\n",
              "      <th>4</th>\n",
              "      <td>1</td>\n",
              "      <td>1</td>\n",
              "      <td>0</td>\n",
              "      <td>1</td>\n",
              "      <td>1</td>\n",
              "      <td>1</td>\n",
              "      <td>1</td>\n",
              "      <td>1</td>\n",
              "      <td>1</td>\n",
              "      <td>1</td>\n",
              "      <td>20</td>\n",
              "      <td>9</td>\n",
              "      <td>f</td>\n",
              "      <td>no</td>\n",
              "      <td>yes</td>\n",
              "      <td>family member</td>\n",
              "      <td>Yes</td>\n",
              "    </tr>\n",
              "  </tbody>\n",
              "</table>\n",
              "</div>\n",
              "      <button class=\"colab-df-convert\" onclick=\"convertToInteractive('df-50ac4aef-dd6c-49b7-8db6-7ee4026a3cd3')\"\n",
              "              title=\"Convert this dataframe to an interactive table.\"\n",
              "              style=\"display:none;\">\n",
              "        \n",
              "  <svg xmlns=\"http://www.w3.org/2000/svg\" height=\"24px\"viewBox=\"0 0 24 24\"\n",
              "       width=\"24px\">\n",
              "    <path d=\"M0 0h24v24H0V0z\" fill=\"none\"/>\n",
              "    <path d=\"M18.56 5.44l.94 2.06.94-2.06 2.06-.94-2.06-.94-.94-2.06-.94 2.06-2.06.94zm-11 1L8.5 8.5l.94-2.06 2.06-.94-2.06-.94L8.5 2.5l-.94 2.06-2.06.94zm10 10l.94 2.06.94-2.06 2.06-.94-2.06-.94-.94-2.06-.94 2.06-2.06.94z\"/><path d=\"M17.41 7.96l-1.37-1.37c-.4-.4-.92-.59-1.43-.59-.52 0-1.04.2-1.43.59L10.3 9.45l-7.72 7.72c-.78.78-.78 2.05 0 2.83L4 21.41c.39.39.9.59 1.41.59.51 0 1.02-.2 1.41-.59l7.78-7.78 2.81-2.81c.8-.78.8-2.07 0-2.86zM5.41 20L4 18.59l7.72-7.72 1.47 1.35L5.41 20z\"/>\n",
              "  </svg>\n",
              "      </button>\n",
              "      \n",
              "  <style>\n",
              "    .colab-df-container {\n",
              "      display:flex;\n",
              "      flex-wrap:wrap;\n",
              "      gap: 12px;\n",
              "    }\n",
              "\n",
              "    .colab-df-convert {\n",
              "      background-color: #E8F0FE;\n",
              "      border: none;\n",
              "      border-radius: 50%;\n",
              "      cursor: pointer;\n",
              "      display: none;\n",
              "      fill: #1967D2;\n",
              "      height: 32px;\n",
              "      padding: 0 0 0 0;\n",
              "      width: 32px;\n",
              "    }\n",
              "\n",
              "    .colab-df-convert:hover {\n",
              "      background-color: #E2EBFA;\n",
              "      box-shadow: 0px 1px 2px rgba(60, 64, 67, 0.3), 0px 1px 3px 1px rgba(60, 64, 67, 0.15);\n",
              "      fill: #174EA6;\n",
              "    }\n",
              "\n",
              "    [theme=dark] .colab-df-convert {\n",
              "      background-color: #3B4455;\n",
              "      fill: #D2E3FC;\n",
              "    }\n",
              "\n",
              "    [theme=dark] .colab-df-convert:hover {\n",
              "      background-color: #434B5C;\n",
              "      box-shadow: 0px 1px 3px 1px rgba(0, 0, 0, 0.15);\n",
              "      filter: drop-shadow(0px 1px 2px rgba(0, 0, 0, 0.3));\n",
              "      fill: #FFFFFF;\n",
              "    }\n",
              "  </style>\n",
              "\n",
              "      <script>\n",
              "        const buttonEl =\n",
              "          document.querySelector('#df-50ac4aef-dd6c-49b7-8db6-7ee4026a3cd3 button.colab-df-convert');\n",
              "        buttonEl.style.display =\n",
              "          google.colab.kernel.accessAllowed ? 'block' : 'none';\n",
              "\n",
              "        async function convertToInteractive(key) {\n",
              "          const element = document.querySelector('#df-50ac4aef-dd6c-49b7-8db6-7ee4026a3cd3');\n",
              "          const dataTable =\n",
              "            await google.colab.kernel.invokeFunction('convertToInteractive',\n",
              "                                                     [key], {});\n",
              "          if (!dataTable) return;\n",
              "\n",
              "          const docLinkHtml = 'Like what you see? Visit the ' +\n",
              "            '<a target=\"_blank\" href=https://colab.research.google.com/notebooks/data_table.ipynb>data table notebook</a>'\n",
              "            + ' to learn more about interactive tables.';\n",
              "          element.innerHTML = '';\n",
              "          dataTable['output_type'] = 'display_data';\n",
              "          await google.colab.output.renderOutput(dataTable, element);\n",
              "          const docLink = document.createElement('div');\n",
              "          docLink.innerHTML = docLinkHtml;\n",
              "          element.appendChild(docLink);\n",
              "        }\n",
              "      </script>\n",
              "    </div>\n",
              "  </div>\n",
              "  "
            ],
            "text/plain": [
              "   A1  A2  A3  A4  A5  A6  A7  A8  A9  A10  Age_Mons  Qchat-10-Score Sex  \\\n",
              "0   0   0   0   0   0   0   1   1   0    1        28               3   f   \n",
              "1   1   1   0   0   0   1   1   0   0    0        36               4   m   \n",
              "2   1   0   0   0   0   0   1   1   0    1        36               4   m   \n",
              "3   1   1   1   1   1   1   1   1   1    1        24              10   m   \n",
              "4   1   1   0   1   1   1   1   1   1    1        20               9   f   \n",
              "\n",
              "  Jaundice Family_mem_with_ASD Who completed the test Class  \n",
              "0      yes                  no          family member    No  \n",
              "1      yes                  no          family member   Yes  \n",
              "2      yes                  no          family member   Yes  \n",
              "3       no                  no          family member   Yes  \n",
              "4       no                 yes          family member   Yes  "
            ]
          },
          "execution_count": 492,
          "metadata": {},
          "output_type": "execute_result"
        }
      ],
      "source": [
        "df.head()"
      ],
      "id": "d462c2a6"
    },
    {
      "cell_type": "markdown",
      "metadata": {
        "id": "0f4ef19d"
      },
      "source": [
        "***renaming the columns***"
      ],
      "id": "0f4ef19d"
    },
    {
      "cell_type": "code",
      "execution_count": null,
      "metadata": {
        "id": "558d9194"
      },
      "outputs": [],
      "source": [
        "df=df.rename(columns={\"Qchat-10-Score\":\"Q_Score\"})"
      ],
      "id": "558d9194"
    },
    {
      "cell_type": "code",
      "execution_count": null,
      "metadata": {
        "colab": {
          "base_uri": "https://localhost:8080/",
          "height": 206
        },
        "id": "be4650ec",
        "outputId": "94753026-7f4d-48bb-ed0d-a7549ab22f50"
      },
      "outputs": [
        {
          "data": {
            "text/html": [
              "\n",
              "  <div id=\"df-ea99dba2-89f7-43cf-a5f3-e1b64edb6839\">\n",
              "    <div class=\"colab-df-container\">\n",
              "      <div>\n",
              "<style scoped>\n",
              "    .dataframe tbody tr th:only-of-type {\n",
              "        vertical-align: middle;\n",
              "    }\n",
              "\n",
              "    .dataframe tbody tr th {\n",
              "        vertical-align: top;\n",
              "    }\n",
              "\n",
              "    .dataframe thead th {\n",
              "        text-align: right;\n",
              "    }\n",
              "</style>\n",
              "<table border=\"1\" class=\"dataframe\">\n",
              "  <thead>\n",
              "    <tr style=\"text-align: right;\">\n",
              "      <th></th>\n",
              "      <th>A1</th>\n",
              "      <th>A2</th>\n",
              "      <th>A3</th>\n",
              "      <th>A4</th>\n",
              "      <th>A5</th>\n",
              "      <th>A6</th>\n",
              "      <th>A7</th>\n",
              "      <th>A8</th>\n",
              "      <th>A9</th>\n",
              "      <th>A10</th>\n",
              "      <th>Age_Mons</th>\n",
              "      <th>Q_Score</th>\n",
              "      <th>Sex</th>\n",
              "      <th>Jaundice</th>\n",
              "      <th>Family_mem_with_ASD</th>\n",
              "      <th>Who completed the test</th>\n",
              "      <th>Class</th>\n",
              "    </tr>\n",
              "  </thead>\n",
              "  <tbody>\n",
              "    <tr>\n",
              "      <th>0</th>\n",
              "      <td>0</td>\n",
              "      <td>0</td>\n",
              "      <td>0</td>\n",
              "      <td>0</td>\n",
              "      <td>0</td>\n",
              "      <td>0</td>\n",
              "      <td>1</td>\n",
              "      <td>1</td>\n",
              "      <td>0</td>\n",
              "      <td>1</td>\n",
              "      <td>28</td>\n",
              "      <td>3</td>\n",
              "      <td>f</td>\n",
              "      <td>yes</td>\n",
              "      <td>no</td>\n",
              "      <td>family member</td>\n",
              "      <td>No</td>\n",
              "    </tr>\n",
              "    <tr>\n",
              "      <th>1</th>\n",
              "      <td>1</td>\n",
              "      <td>1</td>\n",
              "      <td>0</td>\n",
              "      <td>0</td>\n",
              "      <td>0</td>\n",
              "      <td>1</td>\n",
              "      <td>1</td>\n",
              "      <td>0</td>\n",
              "      <td>0</td>\n",
              "      <td>0</td>\n",
              "      <td>36</td>\n",
              "      <td>4</td>\n",
              "      <td>m</td>\n",
              "      <td>yes</td>\n",
              "      <td>no</td>\n",
              "      <td>family member</td>\n",
              "      <td>Yes</td>\n",
              "    </tr>\n",
              "    <tr>\n",
              "      <th>2</th>\n",
              "      <td>1</td>\n",
              "      <td>0</td>\n",
              "      <td>0</td>\n",
              "      <td>0</td>\n",
              "      <td>0</td>\n",
              "      <td>0</td>\n",
              "      <td>1</td>\n",
              "      <td>1</td>\n",
              "      <td>0</td>\n",
              "      <td>1</td>\n",
              "      <td>36</td>\n",
              "      <td>4</td>\n",
              "      <td>m</td>\n",
              "      <td>yes</td>\n",
              "      <td>no</td>\n",
              "      <td>family member</td>\n",
              "      <td>Yes</td>\n",
              "    </tr>\n",
              "    <tr>\n",
              "      <th>3</th>\n",
              "      <td>1</td>\n",
              "      <td>1</td>\n",
              "      <td>1</td>\n",
              "      <td>1</td>\n",
              "      <td>1</td>\n",
              "      <td>1</td>\n",
              "      <td>1</td>\n",
              "      <td>1</td>\n",
              "      <td>1</td>\n",
              "      <td>1</td>\n",
              "      <td>24</td>\n",
              "      <td>10</td>\n",
              "      <td>m</td>\n",
              "      <td>no</td>\n",
              "      <td>no</td>\n",
              "      <td>family member</td>\n",
              "      <td>Yes</td>\n",
              "    </tr>\n",
              "    <tr>\n",
              "      <th>4</th>\n",
              "      <td>1</td>\n",
              "      <td>1</td>\n",
              "      <td>0</td>\n",
              "      <td>1</td>\n",
              "      <td>1</td>\n",
              "      <td>1</td>\n",
              "      <td>1</td>\n",
              "      <td>1</td>\n",
              "      <td>1</td>\n",
              "      <td>1</td>\n",
              "      <td>20</td>\n",
              "      <td>9</td>\n",
              "      <td>f</td>\n",
              "      <td>no</td>\n",
              "      <td>yes</td>\n",
              "      <td>family member</td>\n",
              "      <td>Yes</td>\n",
              "    </tr>\n",
              "  </tbody>\n",
              "</table>\n",
              "</div>\n",
              "      <button class=\"colab-df-convert\" onclick=\"convertToInteractive('df-ea99dba2-89f7-43cf-a5f3-e1b64edb6839')\"\n",
              "              title=\"Convert this dataframe to an interactive table.\"\n",
              "              style=\"display:none;\">\n",
              "        \n",
              "  <svg xmlns=\"http://www.w3.org/2000/svg\" height=\"24px\"viewBox=\"0 0 24 24\"\n",
              "       width=\"24px\">\n",
              "    <path d=\"M0 0h24v24H0V0z\" fill=\"none\"/>\n",
              "    <path d=\"M18.56 5.44l.94 2.06.94-2.06 2.06-.94-2.06-.94-.94-2.06-.94 2.06-2.06.94zm-11 1L8.5 8.5l.94-2.06 2.06-.94-2.06-.94L8.5 2.5l-.94 2.06-2.06.94zm10 10l.94 2.06.94-2.06 2.06-.94-2.06-.94-.94-2.06-.94 2.06-2.06.94z\"/><path d=\"M17.41 7.96l-1.37-1.37c-.4-.4-.92-.59-1.43-.59-.52 0-1.04.2-1.43.59L10.3 9.45l-7.72 7.72c-.78.78-.78 2.05 0 2.83L4 21.41c.39.39.9.59 1.41.59.51 0 1.02-.2 1.41-.59l7.78-7.78 2.81-2.81c.8-.78.8-2.07 0-2.86zM5.41 20L4 18.59l7.72-7.72 1.47 1.35L5.41 20z\"/>\n",
              "  </svg>\n",
              "      </button>\n",
              "      \n",
              "  <style>\n",
              "    .colab-df-container {\n",
              "      display:flex;\n",
              "      flex-wrap:wrap;\n",
              "      gap: 12px;\n",
              "    }\n",
              "\n",
              "    .colab-df-convert {\n",
              "      background-color: #E8F0FE;\n",
              "      border: none;\n",
              "      border-radius: 50%;\n",
              "      cursor: pointer;\n",
              "      display: none;\n",
              "      fill: #1967D2;\n",
              "      height: 32px;\n",
              "      padding: 0 0 0 0;\n",
              "      width: 32px;\n",
              "    }\n",
              "\n",
              "    .colab-df-convert:hover {\n",
              "      background-color: #E2EBFA;\n",
              "      box-shadow: 0px 1px 2px rgba(60, 64, 67, 0.3), 0px 1px 3px 1px rgba(60, 64, 67, 0.15);\n",
              "      fill: #174EA6;\n",
              "    }\n",
              "\n",
              "    [theme=dark] .colab-df-convert {\n",
              "      background-color: #3B4455;\n",
              "      fill: #D2E3FC;\n",
              "    }\n",
              "\n",
              "    [theme=dark] .colab-df-convert:hover {\n",
              "      background-color: #434B5C;\n",
              "      box-shadow: 0px 1px 3px 1px rgba(0, 0, 0, 0.15);\n",
              "      filter: drop-shadow(0px 1px 2px rgba(0, 0, 0, 0.3));\n",
              "      fill: #FFFFFF;\n",
              "    }\n",
              "  </style>\n",
              "\n",
              "      <script>\n",
              "        const buttonEl =\n",
              "          document.querySelector('#df-ea99dba2-89f7-43cf-a5f3-e1b64edb6839 button.colab-df-convert');\n",
              "        buttonEl.style.display =\n",
              "          google.colab.kernel.accessAllowed ? 'block' : 'none';\n",
              "\n",
              "        async function convertToInteractive(key) {\n",
              "          const element = document.querySelector('#df-ea99dba2-89f7-43cf-a5f3-e1b64edb6839');\n",
              "          const dataTable =\n",
              "            await google.colab.kernel.invokeFunction('convertToInteractive',\n",
              "                                                     [key], {});\n",
              "          if (!dataTable) return;\n",
              "\n",
              "          const docLinkHtml = 'Like what you see? Visit the ' +\n",
              "            '<a target=\"_blank\" href=https://colab.research.google.com/notebooks/data_table.ipynb>data table notebook</a>'\n",
              "            + ' to learn more about interactive tables.';\n",
              "          element.innerHTML = '';\n",
              "          dataTable['output_type'] = 'display_data';\n",
              "          await google.colab.output.renderOutput(dataTable, element);\n",
              "          const docLink = document.createElement('div');\n",
              "          docLink.innerHTML = docLinkHtml;\n",
              "          element.appendChild(docLink);\n",
              "        }\n",
              "      </script>\n",
              "    </div>\n",
              "  </div>\n",
              "  "
            ],
            "text/plain": [
              "   A1  A2  A3  A4  A5  A6  A7  A8  A9  A10  Age_Mons  Q_Score Sex Jaundice  \\\n",
              "0   0   0   0   0   0   0   1   1   0    1        28        3   f      yes   \n",
              "1   1   1   0   0   0   1   1   0   0    0        36        4   m      yes   \n",
              "2   1   0   0   0   0   0   1   1   0    1        36        4   m      yes   \n",
              "3   1   1   1   1   1   1   1   1   1    1        24       10   m       no   \n",
              "4   1   1   0   1   1   1   1   1   1    1        20        9   f       no   \n",
              "\n",
              "  Family_mem_with_ASD Who completed the test Class  \n",
              "0                  no          family member    No  \n",
              "1                  no          family member   Yes  \n",
              "2                  no          family member   Yes  \n",
              "3                  no          family member   Yes  \n",
              "4                 yes          family member   Yes  "
            ]
          },
          "execution_count": 494,
          "metadata": {},
          "output_type": "execute_result"
        }
      ],
      "source": [
        "df.head()"
      ],
      "id": "be4650ec"
    },
    {
      "cell_type": "markdown",
      "metadata": {
        "id": "946c07fa"
      },
      "source": [
        "***Visualizing Age_Mons Column***"
      ],
      "id": "946c07fa"
    },
    {
      "cell_type": "code",
      "execution_count": null,
      "metadata": {
        "colab": {
          "base_uri": "https://localhost:8080/",
          "height": 647
        },
        "id": "4018b673",
        "outputId": "93771ba3-07f2-4b55-fdc8-c9136d15bce2"
      },
      "outputs": [
        {
          "data": {
            "image/png": "[encoded data removed]",
            "text/plain": [
              "<Figure size 1500x700 with 1 Axes>"
            ]
          },
          "metadata": {},
          "output_type": "display_data"
        }
      ],
      "source": [
        "plt.figure(figsize=(15,7))\n",
        "plt.rcParams[\"font.size\"]=20\n",
        "sns.countplot(x=\"Age_Mons\",data=df)\n",
        "plt.show()"
      ],
      "id": "4018b673"
    },
    {
      "cell_type": "markdown",
      "metadata": {
        "id": "5bc38d8a"
      },
      "source": [
        "***Visualizing Sex Column***"
      ],
      "id": "5bc38d8a"
    },
    {
      "cell_type": "code",
      "execution_count": null,
      "metadata": {
        "colab": {
          "base_uri": "https://localhost:8080/"
        },
        "id": "fddbfae6",
        "outputId": "2ca4cdbe-7899-4b89-912d-155afa3f855d"
      },
      "outputs": [
        {
          "data": {
            "text/plain": [
              "m    735\n",
              "f    319\n",
              "Name: Sex, dtype: int64"
            ]
          },
          "execution_count": 496,
          "metadata": {},
          "output_type": "execute_result"
        }
      ],
      "source": [
        "df[\"Sex\"].value_counts()"
      ],
      "id": "fddbfae6"
    },
    {
      "cell_type": "code",
      "execution_count": null,
      "metadata": {
        "colab": {
          "base_uri": "https://localhost:8080/",
          "height": 613
        },
        "id": "123cb733",
        "outputId": "7ce83fdb-a915-4ea8-fd90-b2dc91a1985d"
      },
      "outputs": [
        {
          "data": {
            "image/png": "[encoded data removed]",
            "text/plain": [
              "<Figure size 1000x700 with 1 Axes>"
            ]
          },
          "metadata": {},
          "output_type": "display_data"
        }
      ],
      "source": [
        "plt.figure(figsize=(10,7))\n",
        "plt.rcParams[\"font.size\"]=20\n",
        "plt.bar(x=[\"Male\",\"Female\"],height=df[\"Sex\"].value_counts(),color=[\"Silver\",\"green\"])\n",
        "plt.show()"
      ],
      "id": "123cb733"
    },
    {
      "cell_type": "code",
      "execution_count": null,
      "metadata": {
        "id": "94960d67"
      },
      "outputs": [],
      "source": [
        "df[\"Sex\"].replace(to_replace=[\"m\",\"f\"],value=[0,1],inplace=True)"
      ],
      "id": "94960d67"
    },
    {
      "cell_type": "code",
      "execution_count": null,
      "metadata": {
        "colab": {
          "base_uri": "https://localhost:8080/",
          "height": 206
        },
        "id": "99425396",
        "outputId": "3f0d11f6-803b-4359-9730-c65ed1a919d8"
      },
      "outputs": [
        {
          "data": {
            "text/html": [
              "\n",
              "  <div id=\"df-d3c0a77c-c8c1-456b-9403-9c020af0a578\">\n",
              "    <div class=\"colab-df-container\">\n",
              "      <div>\n",
              "<style scoped>\n",
              "    .dataframe tbody tr th:only-of-type {\n",
              "        vertical-align: middle;\n",
              "    }\n",
              "\n",
              "    .dataframe tbody tr th {\n",
              "        vertical-align: top;\n",
              "    }\n",
              "\n",
              "    .dataframe thead th {\n",
              "        text-align: right;\n",
              "    }\n",
              "</style>\n",
              "<table border=\"1\" class=\"dataframe\">\n",
              "  <thead>\n",
              "    <tr style=\"text-align: right;\">\n",
              "      <th></th>\n",
              "      <th>A1</th>\n",
              "      <th>A2</th>\n",
              "      <th>A3</th>\n",
              "      <th>A4</th>\n",
              "      <th>A5</th>\n",
              "      <th>A6</th>\n",
              "      <th>A7</th>\n",
              "      <th>A8</th>\n",
              "      <th>A9</th>\n",
              "      <th>A10</th>\n",
              "      <th>Age_Mons</th>\n",
              "      <th>Q_Score</th>\n",
              "      <th>Sex</th>\n",
              "      <th>Jaundice</th>\n",
              "      <th>Family_mem_with_ASD</th>\n",
              "      <th>Who completed the test</th>\n",
              "      <th>Class</th>\n",
              "    </tr>\n",
              "  </thead>\n",
              "  <tbody>\n",
              "    <tr>\n",
              "      <th>0</th>\n",
              "      <td>0</td>\n",
              "      <td>0</td>\n",
              "      <td>0</td>\n",
              "      <td>0</td>\n",
              "      <td>0</td>\n",
              "      <td>0</td>\n",
              "      <td>1</td>\n",
              "      <td>1</td>\n",
              "      <td>0</td>\n",
              "      <td>1</td>\n",
              "      <td>28</td>\n",
              "      <td>3</td>\n",
              "      <td>1</td>\n",
              "      <td>yes</td>\n",
              "      <td>no</td>\n",
              "      <td>family member</td>\n",
              "      <td>No</td>\n",
              "    </tr>\n",
              "    <tr>\n",
              "      <th>1</th>\n",
              "      <td>1</td>\n",
              "      <td>1</td>\n",
              "      <td>0</td>\n",
              "      <td>0</td>\n",
              "      <td>0</td>\n",
              "      <td>1</td>\n",
              "      <td>1</td>\n",
              "      <td>0</td>\n",
              "      <td>0</td>\n",
              "      <td>0</td>\n",
              "      <td>36</td>\n",
              "      <td>4</td>\n",
              "      <td>0</td>\n",
              "      <td>yes</td>\n",
              "      <td>no</td>\n",
              "      <td>family member</td>\n",
              "      <td>Yes</td>\n",
              "    </tr>\n",
              "    <tr>\n",
              "      <th>2</th>\n",
              "      <td>1</td>\n",
              "      <td>0</td>\n",
              "      <td>0</td>\n",
              "      <td>0</td>\n",
              "      <td>0</td>\n",
              "      <td>0</td>\n",
              "      <td>1</td>\n",
              "      <td>1</td>\n",
              "      <td>0</td>\n",
              "      <td>1</td>\n",
              "      <td>36</td>\n",
              "      <td>4</td>\n",
              "      <td>0</td>\n",
              "      <td>yes</td>\n",
              "      <td>no</td>\n",
              "      <td>family member</td>\n",
              "      <td>Yes</td>\n",
              "    </tr>\n",
              "    <tr>\n",
              "      <th>3</th>\n",
              "      <td>1</td>\n",
              "      <td>1</td>\n",
              "      <td>1</td>\n",
              "      <td>1</td>\n",
              "      <td>1</td>\n",
              "      <td>1</td>\n",
              "      <td>1</td>\n",
              "      <td>1</td>\n",
              "      <td>1</td>\n",
              "      <td>1</td>\n",
              "      <td>24</td>\n",
              "      <td>10</td>\n",
              "      <td>0</td>\n",
              "      <td>no</td>\n",
              "      <td>no</td>\n",
              "      <td>family member</td>\n",
              "      <td>Yes</td>\n",
              "    </tr>\n",
              "    <tr>\n",
              "      <th>4</th>\n",
              "      <td>1</td>\n",
              "      <td>1</td>\n",
              "      <td>0</td>\n",
              "      <td>1</td>\n",
              "      <td>1</td>\n",
              "      <td>1</td>\n",
              "      <td>1</td>\n",
              "      <td>1</td>\n",
              "      <td>1</td>\n",
              "      <td>1</td>\n",
              "      <td>20</td>\n",
              "      <td>9</td>\n",
              "      <td>1</td>\n",
              "      <td>no</td>\n",
              "      <td>yes</td>\n",
              "      <td>family member</td>\n",
              "      <td>Yes</td>\n",
              "    </tr>\n",
              "  </tbody>\n",
              "</table>\n",
              "</div>\n",
              "      <button class=\"colab-df-convert\" onclick=\"convertToInteractive('df-d3c0a77c-c8c1-456b-9403-9c020af0a578')\"\n",
              "              title=\"Convert this dataframe to an interactive table.\"\n",
              "              style=\"display:none;\">\n",
              "        \n",
              "  <svg xmlns=\"http://www.w3.org/2000/svg\" height=\"24px\"viewBox=\"0 0 24 24\"\n",
              "       width=\"24px\">\n",
              "    <path d=\"M0 0h24v24H0V0z\" fill=\"none\"/>\n",
              "    <path d=\"M18.56 5.44l.94 2.06.94-2.06 2.06-.94-2.06-.94-.94-2.06-.94 2.06-2.06.94zm-11 1L8.5 8.5l.94-2.06 2.06-.94-2.06-.94L8.5 2.5l-.94 2.06-2.06.94zm10 10l.94 2.06.94-2.06 2.06-.94-2.06-.94-.94-2.06-.94 2.06-2.06.94z\"/><path d=\"M17.41 7.96l-1.37-1.37c-.4-.4-.92-.59-1.43-.59-.52 0-1.04.2-1.43.59L10.3 9.45l-7.72 7.72c-.78.78-.78 2.05 0 2.83L4 21.41c.39.39.9.59 1.41.59.51 0 1.02-.2 1.41-.59l7.78-7.78 2.81-2.81c.8-.78.8-2.07 0-2.86zM5.41 20L4 18.59l7.72-7.72 1.47 1.35L5.41 20z\"/>\n",
              "  </svg>\n",
              "      </button>\n",
              "      \n",
              "  <style>\n",
              "    .colab-df-container {\n",
              "      display:flex;\n",
              "      flex-wrap:wrap;\n",
              "      gap: 12px;\n",
              "    }\n",
              "\n",
              "    .colab-df-convert {\n",
              "      background-color: #E8F0FE;\n",
              "      border: none;\n",
              "      border-radius: 50%;\n",
              "      cursor: pointer;\n",
              "      display: none;\n",
              "      fill: #1967D2;\n",
              "      height: 32px;\n",
              "      padding: 0 0 0 0;\n",
              "      width: 32px;\n",
              "    }\n",
              "\n",
              "    .colab-df-convert:hover {\n",
              "      background-color: #E2EBFA;\n",
              "      box-shadow: 0px 1px 2px rgba(60, 64, 67, 0.3), 0px 1px 3px 1px rgba(60, 64, 67, 0.15);\n",
              "      fill: #174EA6;\n",
              "    }\n",
              "\n",
              "    [theme=dark] .colab-df-convert {\n",
              "      background-color: #3B4455;\n",
              "      fill: #D2E3FC;\n",
              "    }\n",
              "\n",
              "    [theme=dark] .colab-df-convert:hover {\n",
              "      background-color: #434B5C;\n",
              "      box-shadow: 0px 1px 3px 1px rgba(0, 0, 0, 0.15);\n",
              "      filter: drop-shadow(0px 1px 2px rgba(0, 0, 0, 0.3));\n",
              "      fill: #FFFFFF;\n",
              "    }\n",
              "  </style>\n",
              "\n",
              "      <script>\n",
              "        const buttonEl =\n",
              "          document.querySelector('#df-d3c0a77c-c8c1-456b-9403-9c020af0a578 button.colab-df-convert');\n",
              "        buttonEl.style.display =\n",
              "          google.colab.kernel.accessAllowed ? 'block' : 'none';\n",
              "\n",
              "        async function convertToInteractive(key) {\n",
              "          const element = document.querySelector('#df-d3c0a77c-c8c1-456b-9403-9c020af0a578');\n",
              "          const dataTable =\n",
              "            await google.colab.kernel.invokeFunction('convertToInteractive',\n",
              "                                                     [key], {});\n",
              "          if (!dataTable) return;\n",
              "\n",
              "          const docLinkHtml = 'Like what you see? Visit the ' +\n",
              "            '<a target=\"_blank\" href=https://colab.research.google.com/notebooks/data_table.ipynb>data table notebook</a>'\n",
              "            + ' to learn more about interactive tables.';\n",
              "          element.innerHTML = '';\n",
              "          dataTable['output_type'] = 'display_data';\n",
              "          await google.colab.output.renderOutput(dataTable, element);\n",
              "          const docLink = document.createElement('div');\n",
              "          docLink.innerHTML = docLinkHtml;\n",
              "          element.appendChild(docLink);\n",
              "        }\n",
              "      </script>\n",
              "    </div>\n",
              "  </div>\n",
              "  "
            ],
            "text/plain": [
              "   A1  A2  A3  A4  A5  A6  A7  A8  A9  A10  Age_Mons  Q_Score  Sex Jaundice  \\\n",
              "0   0   0   0   0   0   0   1   1   0    1        28        3    1      yes   \n",
              "1   1   1   0   0   0   1   1   0   0    0        36        4    0      yes   \n",
              "2   1   0   0   0   0   0   1   1   0    1        36        4    0      yes   \n",
              "3   1   1   1   1   1   1   1   1   1    1        24       10    0       no   \n",
              "4   1   1   0   1   1   1   1   1   1    1        20        9    1       no   \n",
              "\n",
              "  Family_mem_with_ASD Who completed the test Class  \n",
              "0                  no          family member    No  \n",
              "1                  no          family member   Yes  \n",
              "2                  no          family member   Yes  \n",
              "3                  no          family member   Yes  \n",
              "4                 yes          family member   Yes  "
            ]
          },
          "execution_count": 499,
          "metadata": {},
          "output_type": "execute_result"
        }
      ],
      "source": [
        "df.head()"
      ],
      "id": "99425396"
    },
    {
      "cell_type": "markdown",
      "metadata": {
        "id": "7757b5cb"
      },
      "source": [
        "***Visualizing Jaundice***"
      ],
      "id": "7757b5cb"
    },
    {
      "cell_type": "code",
      "execution_count": null,
      "metadata": {
        "colab": {
          "base_uri": "https://localhost:8080/"
        },
        "id": "f582c2e2",
        "outputId": "2ba53c76-a583-4144-d3cf-629053391d54"
      },
      "outputs": [
        {
          "data": {
            "text/plain": [
              "array(['yes', 'no'], dtype=object)"
            ]
          },
          "execution_count": 500,
          "metadata": {},
          "output_type": "execute_result"
        }
      ],
      "source": [
        "df[\"Jaundice\"].unique()"
      ],
      "id": "f582c2e2"
    },
    {
      "cell_type": "code",
      "execution_count": null,
      "metadata": {
        "colab": {
          "base_uri": "https://localhost:8080/"
        },
        "id": "f1af852c",
        "outputId": "701fb912-48ee-4489-cc43-76993021715b"
      },
      "outputs": [
        {
          "data": {
            "text/plain": [
              "no     766\n",
              "yes    288\n",
              "Name: Jaundice, dtype: int64"
            ]
          },
          "execution_count": 501,
          "metadata": {},
          "output_type": "execute_result"
        }
      ],
      "source": [
        "df[\"Jaundice\"].value_counts()"
      ],
      "id": "f1af852c"
    },
    {
      "cell_type": "code",
      "execution_count": null,
      "metadata": {
        "colab": {
          "base_uri": "https://localhost:8080/",
          "height": 499
        },
        "id": "e42a16ff",
        "outputId": "0e1bb69e-f512-466e-d733-b4a0b9aafa3a"
      },
      "outputs": [
        {
          "data": {
            "image/png": "[encoded data removed]",
            "text/plain": [
              "<Figure size 1000x600 with 1 Axes>"
            ]
          },
          "metadata": {},
          "output_type": "display_data"
        }
      ],
      "source": [
        "plt.figure(figsize=(10,6))\n",
        "plt.rcParams[\"font.size\"]=20\n",
        "plt.pie(x=df[\"Jaundice\"].value_counts(),labels=[\"No\",\"Yes\"],colors=[\"deeppink\",\"orange\"],autopct=\"%.2f\")\n",
        "plt.show()"
      ],
      "id": "e42a16ff"
    },
    {
      "cell_type": "code",
      "execution_count": null,
      "metadata": {
        "id": "07935482"
      },
      "outputs": [],
      "source": [
        "df[\"Jaundice\"].replace(to_replace=[\"no\",\"yes\"],value=[0,1],inplace=True)"
      ],
      "id": "07935482"
    },
    {
      "cell_type": "code",
      "execution_count": null,
      "metadata": {
        "colab": {
          "base_uri": "https://localhost:8080/",
          "height": 206
        },
        "id": "141f0129",
        "outputId": "89993d51-59b3-474c-9fa6-7420dfd28b3d"
      },
      "outputs": [
        {
          "data": {
            "text/html": [
              "\n",
              "  <div id=\"df-6c764e6b-23f1-4912-9b10-2e5fb149946b\">\n",
              "    <div class=\"colab-df-container\">\n",
              "      <div>\n",
              "<style scoped>\n",
              "    .dataframe tbody tr th:only-of-type {\n",
              "        vertical-align: middle;\n",
              "    }\n",
              "\n",
              "    .dataframe tbody tr th {\n",
              "        vertical-align: top;\n",
              "    }\n",
              "\n",
              "    .dataframe thead th {\n",
              "        text-align: right;\n",
              "    }\n",
              "</style>\n",
              "<table border=\"1\" class=\"dataframe\">\n",
              "  <thead>\n",
              "    <tr style=\"text-align: right;\">\n",
              "      <th></th>\n",
              "      <th>A1</th>\n",
              "      <th>A2</th>\n",
              "      <th>A3</th>\n",
              "      <th>A4</th>\n",
              "      <th>A5</th>\n",
              "      <th>A6</th>\n",
              "      <th>A7</th>\n",
              "      <th>A8</th>\n",
              "      <th>A9</th>\n",
              "      <th>A10</th>\n",
              "      <th>Age_Mons</th>\n",
              "      <th>Q_Score</th>\n",
              "      <th>Sex</th>\n",
              "      <th>Jaundice</th>\n",
              "      <th>Family_mem_with_ASD</th>\n",
              "      <th>Who completed the test</th>\n",
              "      <th>Class</th>\n",
              "    </tr>\n",
              "  </thead>\n",
              "  <tbody>\n",
              "    <tr>\n",
              "      <th>0</th>\n",
              "      <td>0</td>\n",
              "      <td>0</td>\n",
              "      <td>0</td>\n",
              "      <td>0</td>\n",
              "      <td>0</td>\n",
              "      <td>0</td>\n",
              "      <td>1</td>\n",
              "      <td>1</td>\n",
              "      <td>0</td>\n",
              "      <td>1</td>\n",
              "      <td>28</td>\n",
              "      <td>3</td>\n",
              "      <td>1</td>\n",
              "      <td>1</td>\n",
              "      <td>no</td>\n",
              "      <td>family member</td>\n",
              "      <td>No</td>\n",
              "    </tr>\n",
              "    <tr>\n",
              "      <th>1</th>\n",
              "      <td>1</td>\n",
              "      <td>1</td>\n",
              "      <td>0</td>\n",
              "      <td>0</td>\n",
              "      <td>0</td>\n",
              "      <td>1</td>\n",
              "      <td>1</td>\n",
              "      <td>0</td>\n",
              "      <td>0</td>\n",
              "      <td>0</td>\n",
              "      <td>36</td>\n",
              "      <td>4</td>\n",
              "      <td>0</td>\n",
              "      <td>1</td>\n",
              "      <td>no</td>\n",
              "      <td>family member</td>\n",
              "      <td>Yes</td>\n",
              "    </tr>\n",
              "    <tr>\n",
              "      <th>2</th>\n",
              "      <td>1</td>\n",
              "      <td>0</td>\n",
              "      <td>0</td>\n",
              "      <td>0</td>\n",
              "      <td>0</td>\n",
              "      <td>0</td>\n",
              "      <td>1</td>\n",
              "      <td>1</td>\n",
              "      <td>0</td>\n",
              "      <td>1</td>\n",
              "      <td>36</td>\n",
              "      <td>4</td>\n",
              "      <td>0</td>\n",
              "      <td>1</td>\n",
              "      <td>no</td>\n",
              "      <td>family member</td>\n",
              "      <td>Yes</td>\n",
              "    </tr>\n",
              "    <tr>\n",
              "      <th>3</th>\n",
              "      <td>1</td>\n",
              "      <td>1</td>\n",
              "      <td>1</td>\n",
              "      <td>1</td>\n",
              "      <td>1</td>\n",
              "      <td>1</td>\n",
              "      <td>1</td>\n",
              "      <td>1</td>\n",
              "      <td>1</td>\n",
              "      <td>1</td>\n",
              "      <td>24</td>\n",
              "      <td>10</td>\n",
              "      <td>0</td>\n",
              "      <td>0</td>\n",
              "      <td>no</td>\n",
              "      <td>family member</td>\n",
              "      <td>Yes</td>\n",
              "    </tr>\n",
              "    <tr>\n",
              "      <th>4</th>\n",
              "      <td>1</td>\n",
              "      <td>1</td>\n",
              "      <td>0</td>\n",
              "      <td>1</td>\n",
              "      <td>1</td>\n",
              "      <td>1</td>\n",
              "      <td>1</td>\n",
              "      <td>1</td>\n",
              "      <td>1</td>\n",
              "      <td>1</td>\n",
              "      <td>20</td>\n",
              "      <td>9</td>\n",
              "      <td>1</td>\n",
              "      <td>0</td>\n",
              "      <td>yes</td>\n",
              "      <td>family member</td>\n",
              "      <td>Yes</td>\n",
              "    </tr>\n",
              "  </tbody>\n",
              "</table>\n",
              "</div>\n",
              "      <button class=\"colab-df-convert\" onclick=\"convertToInteractive('df-6c764e6b-23f1-4912-9b10-2e5fb149946b')\"\n",
              "              title=\"Convert this dataframe to an interactive table.\"\n",
              "              style=\"display:none;\">\n",
              "        \n",
              "  <svg xmlns=\"http://www.w3.org/2000/svg\" height=\"24px\"viewBox=\"0 0 24 24\"\n",
              "       width=\"24px\">\n",
              "    <path d=\"M0 0h24v24H0V0z\" fill=\"none\"/>\n",
              "    <path d=\"M18.56 5.44l.94 2.06.94-2.06 2.06-.94-2.06-.94-.94-2.06-.94 2.06-2.06.94zm-11 1L8.5 8.5l.94-2.06 2.06-.94-2.06-.94L8.5 2.5l-.94 2.06-2.06.94zm10 10l.94 2.06.94-2.06 2.06-.94-2.06-.94-.94-2.06-.94 2.06-2.06.94z\"/><path d=\"M17.41 7.96l-1.37-1.37c-.4-.4-.92-.59-1.43-.59-.52 0-1.04.2-1.43.59L10.3 9.45l-7.72 7.72c-.78.78-.78 2.05 0 2.83L4 21.41c.39.39.9.59 1.41.59.51 0 1.02-.2 1.41-.59l7.78-7.78 2.81-2.81c.8-.78.8-2.07 0-2.86zM5.41 20L4 18.59l7.72-7.72 1.47 1.35L5.41 20z\"/>\n",
              "  </svg>\n",
              "      </button>\n",
              "      \n",
              "  <style>\n",
              "    .colab-df-container {\n",
              "      display:flex;\n",
              "      flex-wrap:wrap;\n",
              "      gap: 12px;\n",
              "    }\n",
              "\n",
              "    .colab-df-convert {\n",
              "      background-color: #E8F0FE;\n",
              "      border: none;\n",
              "      border-radius: 50%;\n",
              "      cursor: pointer;\n",
              "      display: none;\n",
              "      fill: #1967D2;\n",
              "      height: 32px;\n",
              "      padding: 0 0 0 0;\n",
              "      width: 32px;\n",
              "    }\n",
              "\n",
              "    .colab-df-convert:hover {\n",
              "      background-color: #E2EBFA;\n",
              "      box-shadow: 0px 1px 2px rgba(60, 64, 67, 0.3), 0px 1px 3px 1px rgba(60, 64, 67, 0.15);\n",
              "      fill: #174EA6;\n",
              "    }\n",
              "\n",
              "    [theme=dark] .colab-df-convert {\n",
              "      background-color: #3B4455;\n",
              "      fill: #D2E3FC;\n",
              "    }\n",
              "\n",
              "    [theme=dark] .colab-df-convert:hover {\n",
              "      background-color: #434B5C;\n",
              "      box-shadow: 0px 1px 3px 1px rgba(0, 0, 0, 0.15);\n",
              "      filter: drop-shadow(0px 1px 2px rgba(0, 0, 0, 0.3));\n",
              "      fill: #FFFFFF;\n",
              "    }\n",
              "  </style>\n",
              "\n",
              "      <script>\n",
              "        const buttonEl =\n",
              "          document.querySelector('#df-6c764e6b-23f1-4912-9b10-2e5fb149946b button.colab-df-convert');\n",
              "        buttonEl.style.display =\n",
              "          google.colab.kernel.accessAllowed ? 'block' : 'none';\n",
              "\n",
              "        async function convertToInteractive(key) {\n",
              "          const element = document.querySelector('#df-6c764e6b-23f1-4912-9b10-2e5fb149946b');\n",
              "          const dataTable =\n",
              "            await google.colab.kernel.invokeFunction('convertToInteractive',\n",
              "                                                     [key], {});\n",
              "          if (!dataTable) return;\n",
              "\n",
              "          const docLinkHtml = 'Like what you see? Visit the ' +\n",
              "            '<a target=\"_blank\" href=https://colab.research.google.com/notebooks/data_table.ipynb>data table notebook</a>'\n",
              "            + ' to learn more about interactive tables.';\n",
              "          element.innerHTML = '';\n",
              "          dataTable['output_type'] = 'display_data';\n",
              "          await google.colab.output.renderOutput(dataTable, element);\n",
              "          const docLink = document.createElement('div');\n",
              "          docLink.innerHTML = docLinkHtml;\n",
              "          element.appendChild(docLink);\n",
              "        }\n",
              "      </script>\n",
              "    </div>\n",
              "  </div>\n",
              "  "
            ],
            "text/plain": [
              "   A1  A2  A3  A4  A5  A6  A7  A8  A9  A10  Age_Mons  Q_Score  Sex  Jaundice  \\\n",
              "0   0   0   0   0   0   0   1   1   0    1        28        3    1         1   \n",
              "1   1   1   0   0   0   1   1   0   0    0        36        4    0         1   \n",
              "2   1   0   0   0   0   0   1   1   0    1        36        4    0         1   \n",
              "3   1   1   1   1   1   1   1   1   1    1        24       10    0         0   \n",
              "4   1   1   0   1   1   1   1   1   1    1        20        9    1         0   \n",
              "\n",
              "  Family_mem_with_ASD Who completed the test Class  \n",
              "0                  no          family member    No  \n",
              "1                  no          family member   Yes  \n",
              "2                  no          family member   Yes  \n",
              "3                  no          family member   Yes  \n",
              "4                 yes          family member   Yes  "
            ]
          },
          "execution_count": 504,
          "metadata": {},
          "output_type": "execute_result"
        }
      ],
      "source": [
        "df.head()"
      ],
      "id": "141f0129"
    },
    {
      "cell_type": "markdown",
      "metadata": {
        "id": "ae574409"
      },
      "source": [
        "***Visualizing Family_mem_with_ASD column***"
      ],
      "id": "ae574409"
    },
    {
      "cell_type": "code",
      "execution_count": null,
      "metadata": {
        "colab": {
          "base_uri": "https://localhost:8080/"
        },
        "id": "66060947",
        "outputId": "fc37f253-1f98-466b-c016-bb402c92b1e9"
      },
      "outputs": [
        {
          "data": {
            "text/plain": [
              "array(['no', 'yes'], dtype=object)"
            ]
          },
          "execution_count": 505,
          "metadata": {},
          "output_type": "execute_result"
        }
      ],
      "source": [
        "df[\"Family_mem_with_ASD\"].unique()"
      ],
      "id": "66060947"
    },
    {
      "cell_type": "code",
      "execution_count": null,
      "metadata": {
        "colab": {
          "base_uri": "https://localhost:8080/"
        },
        "id": "08125856",
        "outputId": "274888ae-0880-4dad-ec60-929a1bfeec92"
      },
      "outputs": [
        {
          "data": {
            "text/plain": [
              "no     884\n",
              "yes    170\n",
              "Name: Family_mem_with_ASD, dtype: int64"
            ]
          },
          "execution_count": 506,
          "metadata": {},
          "output_type": "execute_result"
        }
      ],
      "source": [
        "df[\"Family_mem_with_ASD\"].value_counts()"
      ],
      "id": "08125856"
    },
    {
      "cell_type": "code",
      "execution_count": null,
      "metadata": {
        "colab": {
          "base_uri": "https://localhost:8080/",
          "height": 536
        },
        "id": "89c7b5e3",
        "outputId": "17c25133-8388-481b-cd14-b2f165e0e582"
      },
      "outputs": [
        {
          "data": {
            "image/png": "[encoded data removed]",
            "text/plain": [
              "<Figure size 1000x600 with 1 Axes>"
            ]
          },
          "metadata": {},
          "output_type": "display_data"
        }
      ],
      "source": [
        "plt.figure(figsize=(10,6))\n",
        "plt.rcParams[\"font.size\"]=20\n",
        "plt.barh(y=[\"No\",\"Yes\"],width=df[\"Family_mem_with_ASD\"].value_counts(),color=[\"gold\",\"dimgray\"])\n",
        "plt.show()"
      ],
      "id": "89c7b5e3"
    },
    {
      "cell_type": "code",
      "execution_count": null,
      "metadata": {
        "id": "80b09ab6"
      },
      "outputs": [],
      "source": [
        "df[\"Family_mem_with_ASD\"].replace(to_replace=[\"no\",\"yes\"],value=[0,1],inplace=True)"
      ],
      "id": "80b09ab6"
    },
    {
      "cell_type": "code",
      "execution_count": null,
      "metadata": {
        "colab": {
          "base_uri": "https://localhost:8080/",
          "height": 206
        },
        "id": "e821e944",
        "outputId": "997c2a6a-38fd-411c-9819-85446e49d26f"
      },
      "outputs": [
        {
          "data": {
            "text/html": [
              "\n",
              "  <div id=\"df-40a69b31-a195-46ff-9669-3afb697a9e91\">\n",
              "    <div class=\"colab-df-container\">\n",
              "      <div>\n",
              "<style scoped>\n",
              "    .dataframe tbody tr th:only-of-type {\n",
              "        vertical-align: middle;\n",
              "    }\n",
              "\n",
              "    .dataframe tbody tr th {\n",
              "        vertical-align: top;\n",
              "    }\n",
              "\n",
              "    .dataframe thead th {\n",
              "        text-align: right;\n",
              "    }\n",
              "</style>\n",
              "<table border=\"1\" class=\"dataframe\">\n",
              "  <thead>\n",
              "    <tr style=\"text-align: right;\">\n",
              "      <th></th>\n",
              "      <th>A1</th>\n",
              "      <th>A2</th>\n",
              "      <th>A3</th>\n",
              "      <th>A4</th>\n",
              "      <th>A5</th>\n",
              "      <th>A6</th>\n",
              "      <th>A7</th>\n",
              "      <th>A8</th>\n",
              "      <th>A9</th>\n",
              "      <th>A10</th>\n",
              "      <th>Age_Mons</th>\n",
              "      <th>Q_Score</th>\n",
              "      <th>Sex</th>\n",
              "      <th>Jaundice</th>\n",
              "      <th>Family_mem_with_ASD</th>\n",
              "      <th>Who completed the test</th>\n",
              "      <th>Class</th>\n",
              "    </tr>\n",
              "  </thead>\n",
              "  <tbody>\n",
              "    <tr>\n",
              "      <th>0</th>\n",
              "      <td>0</td>\n",
              "      <td>0</td>\n",
              "      <td>0</td>\n",
              "      <td>0</td>\n",
              "      <td>0</td>\n",
              "      <td>0</td>\n",
              "      <td>1</td>\n",
              "      <td>1</td>\n",
              "      <td>0</td>\n",
              "      <td>1</td>\n",
              "      <td>28</td>\n",
              "      <td>3</td>\n",
              "      <td>1</td>\n",
              "      <td>1</td>\n",
              "      <td>0</td>\n",
              "      <td>family member</td>\n",
              "      <td>No</td>\n",
              "    </tr>\n",
              "    <tr>\n",
              "      <th>1</th>\n",
              "      <td>1</td>\n",
              "      <td>1</td>\n",
              "      <td>0</td>\n",
              "      <td>0</td>\n",
              "      <td>0</td>\n",
              "      <td>1</td>\n",
              "      <td>1</td>\n",
              "      <td>0</td>\n",
              "      <td>0</td>\n",
              "      <td>0</td>\n",
              "      <td>36</td>\n",
              "      <td>4</td>\n",
              "      <td>0</td>\n",
              "      <td>1</td>\n",
              "      <td>0</td>\n",
              "      <td>family member</td>\n",
              "      <td>Yes</td>\n",
              "    </tr>\n",
              "    <tr>\n",
              "      <th>2</th>\n",
              "      <td>1</td>\n",
              "      <td>0</td>\n",
              "      <td>0</td>\n",
              "      <td>0</td>\n",
              "      <td>0</td>\n",
              "      <td>0</td>\n",
              "      <td>1</td>\n",
              "      <td>1</td>\n",
              "      <td>0</td>\n",
              "      <td>1</td>\n",
              "      <td>36</td>\n",
              "      <td>4</td>\n",
              "      <td>0</td>\n",
              "      <td>1</td>\n",
              "      <td>0</td>\n",
              "      <td>family member</td>\n",
              "      <td>Yes</td>\n",
              "    </tr>\n",
              "    <tr>\n",
              "      <th>3</th>\n",
              "      <td>1</td>\n",
              "      <td>1</td>\n",
              "      <td>1</td>\n",
              "      <td>1</td>\n",
              "      <td>1</td>\n",
              "      <td>1</td>\n",
              "      <td>1</td>\n",
              "      <td>1</td>\n",
              "      <td>1</td>\n",
              "      <td>1</td>\n",
              "      <td>24</td>\n",
              "      <td>10</td>\n",
              "      <td>0</td>\n",
              "      <td>0</td>\n",
              "      <td>0</td>\n",
              "      <td>family member</td>\n",
              "      <td>Yes</td>\n",
              "    </tr>\n",
              "    <tr>\n",
              "      <th>4</th>\n",
              "      <td>1</td>\n",
              "      <td>1</td>\n",
              "      <td>0</td>\n",
              "      <td>1</td>\n",
              "      <td>1</td>\n",
              "      <td>1</td>\n",
              "      <td>1</td>\n",
              "      <td>1</td>\n",
              "      <td>1</td>\n",
              "      <td>1</td>\n",
              "      <td>20</td>\n",
              "      <td>9</td>\n",
              "      <td>1</td>\n",
              "      <td>0</td>\n",
              "      <td>1</td>\n",
              "      <td>family member</td>\n",
              "      <td>Yes</td>\n",
              "    </tr>\n",
              "  </tbody>\n",
              "</table>\n",
              "</div>\n",
              "      <button class=\"colab-df-convert\" onclick=\"convertToInteractive('df-40a69b31-a195-46ff-9669-3afb697a9e91')\"\n",
              "              title=\"Convert this dataframe to an interactive table.\"\n",
              "              style=\"display:none;\">\n",
              "        \n",
              "  <svg xmlns=\"http://www.w3.org/2000/svg\" height=\"24px\"viewBox=\"0 0 24 24\"\n",
              "       width=\"24px\">\n",
              "    <path d=\"M0 0h24v24H0V0z\" fill=\"none\"/>\n",
              "    <path d=\"M18.56 5.44l.94 2.06.94-2.06 2.06-.94-2.06-.94-.94-2.06-.94 2.06-2.06.94zm-11 1L8.5 8.5l.94-2.06 2.06-.94-2.06-.94L8.5 2.5l-.94 2.06-2.06.94zm10 10l.94 2.06.94-2.06 2.06-.94-2.06-.94-.94-2.06-.94 2.06-2.06.94z\"/><path d=\"M17.41 7.96l-1.37-1.37c-.4-.4-.92-.59-1.43-.59-.52 0-1.04.2-1.43.59L10.3 9.45l-7.72 7.72c-.78.78-.78 2.05 0 2.83L4 21.41c.39.39.9.59 1.41.59.51 0 1.02-.2 1.41-.59l7.78-7.78 2.81-2.81c.8-.78.8-2.07 0-2.86zM5.41 20L4 18.59l7.72-7.72 1.47 1.35L5.41 20z\"/>\n",
              "  </svg>\n",
              "      </button>\n",
              "      \n",
              "  <style>\n",
              "    .colab-df-container {\n",
              "      display:flex;\n",
              "      flex-wrap:wrap;\n",
              "      gap: 12px;\n",
              "    }\n",
              "\n",
              "    .colab-df-convert {\n",
              "      background-color: #E8F0FE;\n",
              "      border: none;\n",
              "      border-radius: 50%;\n",
              "      cursor: pointer;\n",
              "      display: none;\n",
              "      fill: #1967D2;\n",
              "      height: 32px;\n",
              "      padding: 0 0 0 0;\n",
              "      width: 32px;\n",
              "    }\n",
              "\n",
              "    .colab-df-convert:hover {\n",
              "      background-color: #E2EBFA;\n",
              "      box-shadow: 0px 1px 2px rgba(60, 64, 67, 0.3), 0px 1px 3px 1px rgba(60, 64, 67, 0.15);\n",
              "      fill: #174EA6;\n",
              "    }\n",
              "\n",
              "    [theme=dark] .colab-df-convert {\n",
              "      background-color: #3B4455;\n",
              "      fill: #D2E3FC;\n",
              "    }\n",
              "\n",
              "    [theme=dark] .colab-df-convert:hover {\n",
              "      background-color: #434B5C;\n",
              "      box-shadow: 0px 1px 3px 1px rgba(0, 0, 0, 0.15);\n",
              "      filter: drop-shadow(0px 1px 2px rgba(0, 0, 0, 0.3));\n",
              "      fill: #FFFFFF;\n",
              "    }\n",
              "  </style>\n",
              "\n",
              "      <script>\n",
              "        const buttonEl =\n",
              "          document.querySelector('#df-40a69b31-a195-46ff-9669-3afb697a9e91 button.colab-df-convert');\n",
              "        buttonEl.style.display =\n",
              "          google.colab.kernel.accessAllowed ? 'block' : 'none';\n",
              "\n",
              "        async function convertToInteractive(key) {\n",
              "          const element = document.querySelector('#df-40a69b31-a195-46ff-9669-3afb697a9e91');\n",
              "          const dataTable =\n",
              "            await google.colab.kernel.invokeFunction('convertToInteractive',\n",
              "                                                     [key], {});\n",
              "          if (!dataTable) return;\n",
              "\n",
              "          const docLinkHtml = 'Like what you see? Visit the ' +\n",
              "            '<a target=\"_blank\" href=https://colab.research.google.com/notebooks/data_table.ipynb>data table notebook</a>'\n",
              "            + ' to learn more about interactive tables.';\n",
              "          element.innerHTML = '';\n",
              "          dataTable['output_type'] = 'display_data';\n",
              "          await google.colab.output.renderOutput(dataTable, element);\n",
              "          const docLink = document.createElement('div');\n",
              "          docLink.innerHTML = docLinkHtml;\n",
              "          element.appendChild(docLink);\n",
              "        }\n",
              "      </script>\n",
              "    </div>\n",
              "  </div>\n",
              "  "
            ],
            "text/plain": [
              "   A1  A2  A3  A4  A5  A6  A7  A8  A9  A10  Age_Mons  Q_Score  Sex  Jaundice  \\\n",
              "0   0   0   0   0   0   0   1   1   0    1        28        3    1         1   \n",
              "1   1   1   0   0   0   1   1   0   0    0        36        4    0         1   \n",
              "2   1   0   0   0   0   0   1   1   0    1        36        4    0         1   \n",
              "3   1   1   1   1   1   1   1   1   1    1        24       10    0         0   \n",
              "4   1   1   0   1   1   1   1   1   1    1        20        9    1         0   \n",
              "\n",
              "   Family_mem_with_ASD Who completed the test Class  \n",
              "0                    0          family member    No  \n",
              "1                    0          family member   Yes  \n",
              "2                    0          family member   Yes  \n",
              "3                    0          family member   Yes  \n",
              "4                    1          family member   Yes  "
            ]
          },
          "execution_count": 509,
          "metadata": {},
          "output_type": "execute_result"
        }
      ],
      "source": [
        "df.head()"
      ],
      "id": "e821e944"
    },
    {
      "cell_type": "markdown",
      "metadata": {
        "id": "b2593bc6"
      },
      "source": [
        "***visualizing Who completed the test column***"
      ],
      "id": "b2593bc6"
    },
    {
      "cell_type": "code",
      "execution_count": null,
      "metadata": {
        "colab": {
          "base_uri": "https://localhost:8080/"
        },
        "id": "81f1c205",
        "outputId": "aa9d8fc9-7c0c-44c5-8687-a52c2df77872"
      },
      "outputs": [
        {
          "data": {
            "text/plain": [
              "array(['family member', 'Health Care Professional',\n",
              "       'Health care professional', 'Self', 'Others'], dtype=object)"
            ]
          },
          "execution_count": 510,
          "metadata": {},
          "output_type": "execute_result"
        }
      ],
      "source": [
        "df[\"Who completed the test\"].unique()"
      ],
      "id": "81f1c205"
    },
    {
      "cell_type": "code",
      "execution_count": null,
      "metadata": {
        "id": "bb8d2e45"
      },
      "outputs": [],
      "source": [
        "df[\"Who completed the test\"].replace(to_replace=\"Health care professional\",value=\"Health Care Professional\",inplace=True)"
      ],
      "id": "bb8d2e45"
    },
    {
      "cell_type": "code",
      "execution_count": null,
      "metadata": {
        "colab": {
          "base_uri": "https://localhost:8080/"
        },
        "id": "24d66dfb",
        "outputId": "7cffc04d-51a4-46c9-b843-8e39ab5705f1"
      },
      "outputs": [
        {
          "data": {
            "text/plain": [
              "array(['family member', 'Health Care Professional', 'Self', 'Others'],\n",
              "      dtype=object)"
            ]
          },
          "execution_count": 512,
          "metadata": {},
          "output_type": "execute_result"
        }
      ],
      "source": [
        "df[\"Who completed the test\"].unique()"
      ],
      "id": "24d66dfb"
    },
    {
      "cell_type": "code",
      "execution_count": null,
      "metadata": {
        "colab": {
          "base_uri": "https://localhost:8080/"
        },
        "id": "e4fb4310",
        "outputId": "95de0850-18c9-4d67-b9ac-bd01e126f55c"
      },
      "outputs": [
        {
          "data": {
            "text/plain": [
              "family member               1018\n",
              "Health Care Professional      29\n",
              "Self                           4\n",
              "Others                         3\n",
              "Name: Who completed the test, dtype: int64"
            ]
          },
          "execution_count": 513,
          "metadata": {},
          "output_type": "execute_result"
        }
      ],
      "source": [
        "df[\"Who completed the test\"].value_counts()"
      ],
      "id": "e4fb4310"
    },
    {
      "cell_type": "code",
      "execution_count": null,
      "metadata": {
        "id": "8ba83afc"
      },
      "outputs": [],
      "source": [
        "df[\"Who completed the test\"].replace(to_replace=[\"family member\",\"Health Care Professional\",\"Self\",\"Others\"],value=[0,1,2,3],inplace=True)"
      ],
      "id": "8ba83afc"
    },
    {
      "cell_type": "code",
      "execution_count": null,
      "metadata": {
        "colab": {
          "base_uri": "https://localhost:8080/",
          "height": 206
        },
        "id": "0e380bf3",
        "outputId": "979f1e4b-dc5c-4287-9db0-7399063dd614"
      },
      "outputs": [
        {
          "data": {
            "text/html": [
              "\n",
              "  <div id=\"df-7ba22d86-24f7-43b5-928f-6180681cb7b9\">\n",
              "    <div class=\"colab-df-container\">\n",
              "      <div>\n",
              "<style scoped>\n",
              "    .dataframe tbody tr th:only-of-type {\n",
              "        vertical-align: middle;\n",
              "    }\n",
              "\n",
              "    .dataframe tbody tr th {\n",
              "        vertical-align: top;\n",
              "    }\n",
              "\n",
              "    .dataframe thead th {\n",
              "        text-align: right;\n",
              "    }\n",
              "</style>\n",
              "<table border=\"1\" class=\"dataframe\">\n",
              "  <thead>\n",
              "    <tr style=\"text-align: right;\">\n",
              "      <th></th>\n",
              "      <th>A1</th>\n",
              "      <th>A2</th>\n",
              "      <th>A3</th>\n",
              "      <th>A4</th>\n",
              "      <th>A5</th>\n",
              "      <th>A6</th>\n",
              "      <th>A7</th>\n",
              "      <th>A8</th>\n",
              "      <th>A9</th>\n",
              "      <th>A10</th>\n",
              "      <th>Age_Mons</th>\n",
              "      <th>Q_Score</th>\n",
              "      <th>Sex</th>\n",
              "      <th>Jaundice</th>\n",
              "      <th>Family_mem_with_ASD</th>\n",
              "      <th>Who completed the test</th>\n",
              "      <th>Class</th>\n",
              "    </tr>\n",
              "  </thead>\n",
              "  <tbody>\n",
              "    <tr>\n",
              "      <th>0</th>\n",
              "      <td>0</td>\n",
              "      <td>0</td>\n",
              "      <td>0</td>\n",
              "      <td>0</td>\n",
              "      <td>0</td>\n",
              "      <td>0</td>\n",
              "      <td>1</td>\n",
              "      <td>1</td>\n",
              "      <td>0</td>\n",
              "      <td>1</td>\n",
              "      <td>28</td>\n",
              "      <td>3</td>\n",
              "      <td>1</td>\n",
              "      <td>1</td>\n",
              "      <td>0</td>\n",
              "      <td>0</td>\n",
              "      <td>No</td>\n",
              "    </tr>\n",
              "    <tr>\n",
              "      <th>1</th>\n",
              "      <td>1</td>\n",
              "      <td>1</td>\n",
              "      <td>0</td>\n",
              "      <td>0</td>\n",
              "      <td>0</td>\n",
              "      <td>1</td>\n",
              "      <td>1</td>\n",
              "      <td>0</td>\n",
              "      <td>0</td>\n",
              "      <td>0</td>\n",
              "      <td>36</td>\n",
              "      <td>4</td>\n",
              "      <td>0</td>\n",
              "      <td>1</td>\n",
              "      <td>0</td>\n",
              "      <td>0</td>\n",
              "      <td>Yes</td>\n",
              "    </tr>\n",
              "    <tr>\n",
              "      <th>2</th>\n",
              "      <td>1</td>\n",
              "      <td>0</td>\n",
              "      <td>0</td>\n",
              "      <td>0</td>\n",
              "      <td>0</td>\n",
              "      <td>0</td>\n",
              "      <td>1</td>\n",
              "      <td>1</td>\n",
              "      <td>0</td>\n",
              "      <td>1</td>\n",
              "      <td>36</td>\n",
              "      <td>4</td>\n",
              "      <td>0</td>\n",
              "      <td>1</td>\n",
              "      <td>0</td>\n",
              "      <td>0</td>\n",
              "      <td>Yes</td>\n",
              "    </tr>\n",
              "    <tr>\n",
              "      <th>3</th>\n",
              "      <td>1</td>\n",
              "      <td>1</td>\n",
              "      <td>1</td>\n",
              "      <td>1</td>\n",
              "      <td>1</td>\n",
              "      <td>1</td>\n",
              "      <td>1</td>\n",
              "      <td>1</td>\n",
              "      <td>1</td>\n",
              "      <td>1</td>\n",
              "      <td>24</td>\n",
              "      <td>10</td>\n",
              "      <td>0</td>\n",
              "      <td>0</td>\n",
              "      <td>0</td>\n",
              "      <td>0</td>\n",
              "      <td>Yes</td>\n",
              "    </tr>\n",
              "    <tr>\n",
              "      <th>4</th>\n",
              "      <td>1</td>\n",
              "      <td>1</td>\n",
              "      <td>0</td>\n",
              "      <td>1</td>\n",
              "      <td>1</td>\n",
              "      <td>1</td>\n",
              "      <td>1</td>\n",
              "      <td>1</td>\n",
              "      <td>1</td>\n",
              "      <td>1</td>\n",
              "      <td>20</td>\n",
              "      <td>9</td>\n",
              "      <td>1</td>\n",
              "      <td>0</td>\n",
              "      <td>1</td>\n",
              "      <td>0</td>\n",
              "      <td>Yes</td>\n",
              "    </tr>\n",
              "  </tbody>\n",
              "</table>\n",
              "</div>\n",
              "      <button class=\"colab-df-convert\" onclick=\"convertToInteractive('df-7ba22d86-24f7-43b5-928f-6180681cb7b9')\"\n",
              "              title=\"Convert this dataframe to an interactive table.\"\n",
              "              style=\"display:none;\">\n",
              "        \n",
              "  <svg xmlns=\"http://www.w3.org/2000/svg\" height=\"24px\"viewBox=\"0 0 24 24\"\n",
              "       width=\"24px\">\n",
              "    <path d=\"M0 0h24v24H0V0z\" fill=\"none\"/>\n",
              "    <path d=\"M18.56 5.44l.94 2.06.94-2.06 2.06-.94-2.06-.94-.94-2.06-.94 2.06-2.06.94zm-11 1L8.5 8.5l.94-2.06 2.06-.94-2.06-.94L8.5 2.5l-.94 2.06-2.06.94zm10 10l.94 2.06.94-2.06 2.06-.94-2.06-.94-.94-2.06-.94 2.06-2.06.94z\"/><path d=\"M17.41 7.96l-1.37-1.37c-.4-.4-.92-.59-1.43-.59-.52 0-1.04.2-1.43.59L10.3 9.45l-7.72 7.72c-.78.78-.78 2.05 0 2.83L4 21.41c.39.39.9.59 1.41.59.51 0 1.02-.2 1.41-.59l7.78-7.78 2.81-2.81c.8-.78.8-2.07 0-2.86zM5.41 20L4 18.59l7.72-7.72 1.47 1.35L5.41 20z\"/>\n",
              "  </svg>\n",
              "      </button>\n",
              "      \n",
              "  <style>\n",
              "    .colab-df-container {\n",
              "      display:flex;\n",
              "      flex-wrap:wrap;\n",
              "      gap: 12px;\n",
              "    }\n",
              "\n",
              "    .colab-df-convert {\n",
              "      background-color: #E8F0FE;\n",
              "      border: none;\n",
              "      border-radius: 50%;\n",
              "      cursor: pointer;\n",
              "      display: none;\n",
              "      fill: #1967D2;\n",
              "      height: 32px;\n",
              "      padding: 0 0 0 0;\n",
              "      width: 32px;\n",
              "    }\n",
              "\n",
              "    .colab-df-convert:hover {\n",
              "      background-color: #E2EBFA;\n",
              "      box-shadow: 0px 1px 2px rgba(60, 64, 67, 0.3), 0px 1px 3px 1px rgba(60, 64, 67, 0.15);\n",
              "      fill: #174EA6;\n",
              "    }\n",
              "\n",
              "    [theme=dark] .colab-df-convert {\n",
              "      background-color: #3B4455;\n",
              "      fill: #D2E3FC;\n",
              "    }\n",
              "\n",
              "    [theme=dark] .colab-df-convert:hover {\n",
              "      background-color: #434B5C;\n",
              "      box-shadow: 0px 1px 3px 1px rgba(0, 0, 0, 0.15);\n",
              "      filter: drop-shadow(0px 1px 2px rgba(0, 0, 0, 0.3));\n",
              "      fill: #FFFFFF;\n",
              "    }\n",
              "  </style>\n",
              "\n",
              "      <script>\n",
              "        const buttonEl =\n",
              "          document.querySelector('#df-7ba22d86-24f7-43b5-928f-6180681cb7b9 button.colab-df-convert');\n",
              "        buttonEl.style.display =\n",
              "          google.colab.kernel.accessAllowed ? 'block' : 'none';\n",
              "\n",
              "        async function convertToInteractive(key) {\n",
              "          const element = document.querySelector('#df-7ba22d86-24f7-43b5-928f-6180681cb7b9');\n",
              "          const dataTable =\n",
              "            await google.colab.kernel.invokeFunction('convertToInteractive',\n",
              "                                                     [key], {});\n",
              "          if (!dataTable) return;\n",
              "\n",
              "          const docLinkHtml = 'Like what you see? Visit the ' +\n",
              "            '<a target=\"_blank\" href=https://colab.research.google.com/notebooks/data_table.ipynb>data table notebook</a>'\n",
              "            + ' to learn more about interactive tables.';\n",
              "          element.innerHTML = '';\n",
              "          dataTable['output_type'] = 'display_data';\n",
              "          await google.colab.output.renderOutput(dataTable, element);\n",
              "          const docLink = document.createElement('div');\n",
              "          docLink.innerHTML = docLinkHtml;\n",
              "          element.appendChild(docLink);\n",
              "        }\n",
              "      </script>\n",
              "    </div>\n",
              "  </div>\n",
              "  "
            ],
            "text/plain": [
              "   A1  A2  A3  A4  A5  A6  A7  A8  A9  A10  Age_Mons  Q_Score  Sex  Jaundice  \\\n",
              "0   0   0   0   0   0   0   1   1   0    1        28        3    1         1   \n",
              "1   1   1   0   0   0   1   1   0   0    0        36        4    0         1   \n",
              "2   1   0   0   0   0   0   1   1   0    1        36        4    0         1   \n",
              "3   1   1   1   1   1   1   1   1   1    1        24       10    0         0   \n",
              "4   1   1   0   1   1   1   1   1   1    1        20        9    1         0   \n",
              "\n",
              "   Family_mem_with_ASD  Who completed the test Class  \n",
              "0                    0                       0    No  \n",
              "1                    0                       0   Yes  \n",
              "2                    0                       0   Yes  \n",
              "3                    0                       0   Yes  \n",
              "4                    1                       0   Yes  "
            ]
          },
          "execution_count": 515,
          "metadata": {},
          "output_type": "execute_result"
        }
      ],
      "source": [
        "df.head()"
      ],
      "id": "0e380bf3"
    },
    {
      "cell_type": "markdown",
      "metadata": {
        "id": "f468b14e"
      },
      "source": [
        "***Analyzing and Visualizing Class column***"
      ],
      "id": "f468b14e"
    },
    {
      "cell_type": "code",
      "execution_count": null,
      "metadata": {
        "colab": {
          "base_uri": "https://localhost:8080/"
        },
        "id": "d755624c",
        "outputId": "833a0a1b-4cdd-4b77-d695-01c8d4477abf"
      },
      "outputs": [
        {
          "data": {
            "text/plain": [
              "array(['No', 'Yes'], dtype=object)"
            ]
          },
          "execution_count": 516,
          "metadata": {},
          "output_type": "execute_result"
        }
      ],
      "source": [
        "df[\"Class\"].unique()"
      ],
      "id": "d755624c"
    },
    {
      "cell_type": "code",
      "execution_count": null,
      "metadata": {
        "colab": {
          "base_uri": "https://localhost:8080/"
        },
        "id": "b8c24fd5",
        "outputId": "8521c598-c813-40c0-fb03-d2d8c3e792ae"
      },
      "outputs": [
        {
          "data": {
            "text/plain": [
              "Yes    728\n",
              "No     326\n",
              "Name: Class, dtype: int64"
            ]
          },
          "execution_count": 517,
          "metadata": {},
          "output_type": "execute_result"
        }
      ],
      "source": [
        "df[\"Class\"].value_counts()"
      ],
      "id": "b8c24fd5"
    },
    {
      "cell_type": "code",
      "execution_count": null,
      "metadata": {
        "colab": {
          "base_uri": "https://localhost:8080/",
          "height": 570
        },
        "id": "fb62f00e",
        "outputId": "708c1e31-255a-4e74-eb13-ae908086fe82"
      },
      "outputs": [
        {
          "data": {
            "image/png": "[encoded data removed]",
            "text/plain": [
              "<Figure size 1000x600 with 1 Axes>"
            ]
          },
          "metadata": {},
          "output_type": "display_data"
        }
      ],
      "source": [
        "plt.figure(figsize=(10,6))\n",
        "plt.rcParams[\"font.size\"]=20\n",
        "sns.countplot(x=\"Class\",data=df)\n",
        "plt.show()"
      ],
      "id": "fb62f00e"
    },
    {
      "cell_type": "code",
      "execution_count": null,
      "metadata": {
        "id": "51348eac"
      },
      "outputs": [],
      "source": [
        "df[\"Class\"].replace(to_replace=[\"No\",\"Yes\"],value=[0,1],inplace=True)"
      ],
      "id": "51348eac"
    },
    {
      "cell_type": "code",
      "execution_count": null,
      "metadata": {
        "colab": {
          "base_uri": "https://localhost:8080/",
          "height": 206
        },
        "id": "868b280f",
        "outputId": "95f5ef38-cd89-41e4-b4a7-55f2ceafec30"
      },
      "outputs": [
        {
          "data": {
            "text/html": [
              "\n",
              "  <div id=\"df-106fda12-e59d-4e28-bfe2-4ee5245f6617\">\n",
              "    <div class=\"colab-df-container\">\n",
              "      <div>\n",
              "<style scoped>\n",
              "    .dataframe tbody tr th:only-of-type {\n",
              "        vertical-align: middle;\n",
              "    }\n",
              "\n",
              "    .dataframe tbody tr th {\n",
              "        vertical-align: top;\n",
              "    }\n",
              "\n",
              "    .dataframe thead th {\n",
              "        text-align: right;\n",
              "    }\n",
              "</style>\n",
              "<table border=\"1\" class=\"dataframe\">\n",
              "  <thead>\n",
              "    <tr style=\"text-align: right;\">\n",
              "      <th></th>\n",
              "      <th>A1</th>\n",
              "      <th>A2</th>\n",
              "      <th>A3</th>\n",
              "      <th>A4</th>\n",
              "      <th>A5</th>\n",
              "      <th>A6</th>\n",
              "      <th>A7</th>\n",
              "      <th>A8</th>\n",
              "      <th>A9</th>\n",
              "      <th>A10</th>\n",
              "      <th>Age_Mons</th>\n",
              "      <th>Q_Score</th>\n",
              "      <th>Sex</th>\n",
              "      <th>Jaundice</th>\n",
              "      <th>Family_mem_with_ASD</th>\n",
              "      <th>Who completed the test</th>\n",
              "      <th>Class</th>\n",
              "    </tr>\n",
              "  </thead>\n",
              "  <tbody>\n",
              "    <tr>\n",
              "      <th>0</th>\n",
              "      <td>0</td>\n",
              "      <td>0</td>\n",
              "      <td>0</td>\n",
              "      <td>0</td>\n",
              "      <td>0</td>\n",
              "      <td>0</td>\n",
              "      <td>1</td>\n",
              "      <td>1</td>\n",
              "      <td>0</td>\n",
              "      <td>1</td>\n",
              "      <td>28</td>\n",
              "      <td>3</td>\n",
              "      <td>1</td>\n",
              "      <td>1</td>\n",
              "      <td>0</td>\n",
              "      <td>0</td>\n",
              "      <td>0</td>\n",
              "    </tr>\n",
              "    <tr>\n",
              "      <th>1</th>\n",
              "      <td>1</td>\n",
              "      <td>1</td>\n",
              "      <td>0</td>\n",
              "      <td>0</td>\n",
              "      <td>0</td>\n",
              "      <td>1</td>\n",
              "      <td>1</td>\n",
              "      <td>0</td>\n",
              "      <td>0</td>\n",
              "      <td>0</td>\n",
              "      <td>36</td>\n",
              "      <td>4</td>\n",
              "      <td>0</td>\n",
              "      <td>1</td>\n",
              "      <td>0</td>\n",
              "      <td>0</td>\n",
              "      <td>1</td>\n",
              "    </tr>\n",
              "    <tr>\n",
              "      <th>2</th>\n",
              "      <td>1</td>\n",
              "      <td>0</td>\n",
              "      <td>0</td>\n",
              "      <td>0</td>\n",
              "      <td>0</td>\n",
              "      <td>0</td>\n",
              "      <td>1</td>\n",
              "      <td>1</td>\n",
              "      <td>0</td>\n",
              "      <td>1</td>\n",
              "      <td>36</td>\n",
              "      <td>4</td>\n",
              "      <td>0</td>\n",
              "      <td>1</td>\n",
              "      <td>0</td>\n",
              "      <td>0</td>\n",
              "      <td>1</td>\n",
              "    </tr>\n",
              "    <tr>\n",
              "      <th>3</th>\n",
              "      <td>1</td>\n",
              "      <td>1</td>\n",
              "      <td>1</td>\n",
              "      <td>1</td>\n",
              "      <td>1</td>\n",
              "      <td>1</td>\n",
              "      <td>1</td>\n",
              "      <td>1</td>\n",
              "      <td>1</td>\n",
              "      <td>1</td>\n",
              "      <td>24</td>\n",
              "      <td>10</td>\n",
              "      <td>0</td>\n",
              "      <td>0</td>\n",
              "      <td>0</td>\n",
              "      <td>0</td>\n",
              "      <td>1</td>\n",
              "    </tr>\n",
              "    <tr>\n",
              "      <th>4</th>\n",
              "      <td>1</td>\n",
              "      <td>1</td>\n",
              "      <td>0</td>\n",
              "      <td>1</td>\n",
              "      <td>1</td>\n",
              "      <td>1</td>\n",
              "      <td>1</td>\n",
              "      <td>1</td>\n",
              "      <td>1</td>\n",
              "      <td>1</td>\n",
              "      <td>20</td>\n",
              "      <td>9</td>\n",
              "      <td>1</td>\n",
              "      <td>0</td>\n",
              "      <td>1</td>\n",
              "      <td>0</td>\n",
              "      <td>1</td>\n",
              "    </tr>\n",
              "  </tbody>\n",
              "</table>\n",
              "</div>\n",
              "      <button class=\"colab-df-convert\" onclick=\"convertToInteractive('df-106fda12-e59d-4e28-bfe2-4ee5245f6617')\"\n",
              "              title=\"Convert this dataframe to an interactive table.\"\n",
              "              style=\"display:none;\">\n",
              "        \n",
              "  <svg xmlns=\"http://www.w3.org/2000/svg\" height=\"24px\"viewBox=\"0 0 24 24\"\n",
              "       width=\"24px\">\n",
              "    <path d=\"M0 0h24v24H0V0z\" fill=\"none\"/>\n",
              "    <path d=\"M18.56 5.44l.94 2.06.94-2.06 2.06-.94-2.06-.94-.94-2.06-.94 2.06-2.06.94zm-11 1L8.5 8.5l.94-2.06 2.06-.94-2.06-.94L8.5 2.5l-.94 2.06-2.06.94zm10 10l.94 2.06.94-2.06 2.06-.94-2.06-.94-.94-2.06-.94 2.06-2.06.94z\"/><path d=\"M17.41 7.96l-1.37-1.37c-.4-.4-.92-.59-1.43-.59-.52 0-1.04.2-1.43.59L10.3 9.45l-7.72 7.72c-.78.78-.78 2.05 0 2.83L4 21.41c.39.39.9.59 1.41.59.51 0 1.02-.2 1.41-.59l7.78-7.78 2.81-2.81c.8-.78.8-2.07 0-2.86zM5.41 20L4 18.59l7.72-7.72 1.47 1.35L5.41 20z\"/>\n",
              "  </svg>\n",
              "      </button>\n",
              "      \n",
              "  <style>\n",
              "    .colab-df-container {\n",
              "      display:flex;\n",
              "      flex-wrap:wrap;\n",
              "      gap: 12px;\n",
              "    }\n",
              "\n",
              "    .colab-df-convert {\n",
              "      background-color: #E8F0FE;\n",
              "      border: none;\n",
              "      border-radius: 50%;\n",
              "      cursor: pointer;\n",
              "      display: none;\n",
              "      fill: #1967D2;\n",
              "      height: 32px;\n",
              "      padding: 0 0 0 0;\n",
              "      width: 32px;\n",
              "    }\n",
              "\n",
              "    .colab-df-convert:hover {\n",
              "      background-color: #E2EBFA;\n",
              "      box-shadow: 0px 1px 2px rgba(60, 64, 67, 0.3), 0px 1px 3px 1px rgba(60, 64, 67, 0.15);\n",
              "      fill: #174EA6;\n",
              "    }\n",
              "\n",
              "    [theme=dark] .colab-df-convert {\n",
              "      background-color: #3B4455;\n",
              "      fill: #D2E3FC;\n",
              "    }\n",
              "\n",
              "    [theme=dark] .colab-df-convert:hover {\n",
              "      background-color: #434B5C;\n",
              "      box-shadow: 0px 1px 3px 1px rgba(0, 0, 0, 0.15);\n",
              "      filter: drop-shadow(0px 1px 2px rgba(0, 0, 0, 0.3));\n",
              "      fill: #FFFFFF;\n",
              "    }\n",
              "  </style>\n",
              "\n",
              "      <script>\n",
              "        const buttonEl =\n",
              "          document.querySelector('#df-106fda12-e59d-4e28-bfe2-4ee5245f6617 button.colab-df-convert');\n",
              "        buttonEl.style.display =\n",
              "          google.colab.kernel.accessAllowed ? 'block' : 'none';\n",
              "\n",
              "        async function convertToInteractive(key) {\n",
              "          const element = document.querySelector('#df-106fda12-e59d-4e28-bfe2-4ee5245f6617');\n",
              "          const dataTable =\n",
              "            await google.colab.kernel.invokeFunction('convertToInteractive',\n",
              "                                                     [key], {});\n",
              "          if (!dataTable) return;\n",
              "\n",
              "          const docLinkHtml = 'Like what you see? Visit the ' +\n",
              "            '<a target=\"_blank\" href=https://colab.research.google.com/notebooks/data_table.ipynb>data table notebook</a>'\n",
              "            + ' to learn more about interactive tables.';\n",
              "          element.innerHTML = '';\n",
              "          dataTable['output_type'] = 'display_data';\n",
              "          await google.colab.output.renderOutput(dataTable, element);\n",
              "          const docLink = document.createElement('div');\n",
              "          docLink.innerHTML = docLinkHtml;\n",
              "          element.appendChild(docLink);\n",
              "        }\n",
              "      </script>\n",
              "    </div>\n",
              "  </div>\n",
              "  "
            ],
            "text/plain": [
              "   A1  A2  A3  A4  A5  A6  A7  A8  A9  A10  Age_Mons  Q_Score  Sex  Jaundice  \\\n",
              "0   0   0   0   0   0   0   1   1   0    1        28        3    1         1   \n",
              "1   1   1   0   0   0   1   1   0   0    0        36        4    0         1   \n",
              "2   1   0   0   0   0   0   1   1   0    1        36        4    0         1   \n",
              "3   1   1   1   1   1   1   1   1   1    1        24       10    0         0   \n",
              "4   1   1   0   1   1   1   1   1   1    1        20        9    1         0   \n",
              "\n",
              "   Family_mem_with_ASD  Who completed the test  Class  \n",
              "0                    0                       0      0  \n",
              "1                    0                       0      1  \n",
              "2                    0                       0      1  \n",
              "3                    0                       0      1  \n",
              "4                    1                       0      1  "
            ]
          },
          "execution_count": 520,
          "metadata": {},
          "output_type": "execute_result"
        }
      ],
      "source": [
        "df.head()"
      ],
      "id": "868b280f"
    },
    {
      "cell_type": "code",
      "execution_count": null,
      "metadata": {
        "colab": {
          "base_uri": "https://localhost:8080/"
        },
        "id": "17a670ed",
        "outputId": "a2d9d536-6d37-408c-80bf-6e0b0e9628da"
      },
      "outputs": [
        {
          "data": {
            "text/plain": [
              "A1                        0\n",
              "A2                        0\n",
              "A3                        0\n",
              "A4                        0\n",
              "A5                        0\n",
              "A6                        0\n",
              "A7                        0\n",
              "A8                        0\n",
              "A9                        0\n",
              "A10                       0\n",
              "Age_Mons                  0\n",
              "Q_Score                   0\n",
              "Sex                       0\n",
              "Jaundice                  0\n",
              "Family_mem_with_ASD       0\n",
              "Who completed the test    0\n",
              "Class                     0\n",
              "dtype: int64"
            ]
          },
          "execution_count": 521,
          "metadata": {},
          "output_type": "execute_result"
        }
      ],
      "source": [
        "df.isnull().sum()"
      ],
      "id": "17a670ed"
    },
    {
      "cell_type": "code",
      "execution_count": null,
      "metadata": {
        "colab": {
          "base_uri": "https://localhost:8080/"
        },
        "id": "ce723669",
        "outputId": "743fd3cf-4660-4896-c3f5-905aff85414e"
      },
      "outputs": [
        {
          "name": "stdout",
          "output_type": "stream",
          "text": [
            "<class 'pandas.core.frame.DataFrame'>\n",
            "RangeIndex: 1054 entries, 0 to 1053\n",
            "Data columns (total 17 columns):\n",
            " #   Column                  Non-Null Count  Dtype\n",
            "---  ------                  --------------  -----\n",
            " 0   A1                      1054 non-null   int64\n",
            " 1   A2                      1054 non-null   int64\n",
            " 2   A3                      1054 non-null   int64\n",
            " 3   A4                      1054 non-null   int64\n",
            " 4   A5                      1054 non-null   int64\n",
            " 5   A6                      1054 non-null   int64\n",
            " 6   A7                      1054 non-null   int64\n",
            " 7   A8                      1054 non-null   int64\n",
            " 8   A9                      1054 non-null   int64\n",
            " 9   A10                     1054 non-null   int64\n",
            " 10  Age_Mons                1054 non-null   int64\n",
            " 11  Q_Score                 1054 non-null   int64\n",
            " 12  Sex                     1054 non-null   int64\n",
            " 13  Jaundice                1054 non-null   int64\n",
            " 14  Family_mem_with_ASD     1054 non-null   int64\n",
            " 15  Who completed the test  1054 non-null   int64\n",
            " 16  Class                   1054 non-null   int64\n",
            "dtypes: int64(17)\n",
            "memory usage: 140.1 KB\n"
          ]
        }
      ],
      "source": [
        "df.info()"
      ],
      "id": "ce723669"
    },
    {
      "cell_type": "code",
      "execution_count": null,
      "metadata": {
        "id": "63d6df50"
      },
      "outputs": [],
      "source": [
        "X=df.drop(labels=\"Class\",axis=1)\n",
        "y=df[\"Class\"]"
      ],
      "id": "63d6df50"
    },
    {
      "cell_type": "code",
      "execution_count": null,
      "metadata": {
        "colab": {
          "base_uri": "https://localhost:8080/",
          "height": 206
        },
        "id": "c4e7872e",
        "outputId": "6620a075-2656-4f52-9e08-4dfca8d61145"
      },
      "outputs": [
        {
          "data": {
            "text/html": [
              "\n",
              "  <div id=\"df-09dbe4c5-9243-4f33-a73e-5cbcacd948ec\">\n",
              "    <div class=\"colab-df-container\">\n",
              "      <div>\n",
              "<style scoped>\n",
              "    .dataframe tbody tr th:only-of-type {\n",
              "        vertical-align: middle;\n",
              "    }\n",
              "\n",
              "    .dataframe tbody tr th {\n",
              "        vertical-align: top;\n",
              "    }\n",
              "\n",
              "    .dataframe thead th {\n",
              "        text-align: right;\n",
              "    }\n",
              "</style>\n",
              "<table border=\"1\" class=\"dataframe\">\n",
              "  <thead>\n",
              "    <tr style=\"text-align: right;\">\n",
              "      <th></th>\n",
              "      <th>A1</th>\n",
              "      <th>A2</th>\n",
              "      <th>A3</th>\n",
              "      <th>A4</th>\n",
              "      <th>A5</th>\n",
              "      <th>A6</th>\n",
              "      <th>A7</th>\n",
              "      <th>A8</th>\n",
              "      <th>A9</th>\n",
              "      <th>A10</th>\n",
              "      <th>Age_Mons</th>\n",
              "      <th>Q_Score</th>\n",
              "      <th>Sex</th>\n",
              "      <th>Jaundice</th>\n",
              "      <th>Family_mem_with_ASD</th>\n",
              "      <th>Who completed the test</th>\n",
              "    </tr>\n",
              "  </thead>\n",
              "  <tbody>\n",
              "    <tr>\n",
              "      <th>0</th>\n",
              "      <td>0</td>\n",
              "      <td>0</td>\n",
              "      <td>0</td>\n",
              "      <td>0</td>\n",
              "      <td>0</td>\n",
              "      <td>0</td>\n",
              "      <td>1</td>\n",
              "      <td>1</td>\n",
              "      <td>0</td>\n",
              "      <td>1</td>\n",
              "      <td>28</td>\n",
              "      <td>3</td>\n",
              "      <td>1</td>\n",
              "      <td>1</td>\n",
              "      <td>0</td>\n",
              "      <td>0</td>\n",
              "    </tr>\n",
              "    <tr>\n",
              "      <th>1</th>\n",
              "      <td>1</td>\n",
              "      <td>1</td>\n",
              "      <td>0</td>\n",
              "      <td>0</td>\n",
              "      <td>0</td>\n",
              "      <td>1</td>\n",
              "      <td>1</td>\n",
              "      <td>0</td>\n",
              "      <td>0</td>\n",
              "      <td>0</td>\n",
              "      <td>36</td>\n",
              "      <td>4</td>\n",
              "      <td>0</td>\n",
              "      <td>1</td>\n",
              "      <td>0</td>\n",
              "      <td>0</td>\n",
              "    </tr>\n",
              "    <tr>\n",
              "      <th>2</th>\n",
              "      <td>1</td>\n",
              "      <td>0</td>\n",
              "      <td>0</td>\n",
              "      <td>0</td>\n",
              "      <td>0</td>\n",
              "      <td>0</td>\n",
              "      <td>1</td>\n",
              "      <td>1</td>\n",
              "      <td>0</td>\n",
              "      <td>1</td>\n",
              "      <td>36</td>\n",
              "      <td>4</td>\n",
              "      <td>0</td>\n",
              "      <td>1</td>\n",
              "      <td>0</td>\n",
              "      <td>0</td>\n",
              "    </tr>\n",
              "    <tr>\n",
              "      <th>3</th>\n",
              "      <td>1</td>\n",
              "      <td>1</td>\n",
              "      <td>1</td>\n",
              "      <td>1</td>\n",
              "      <td>1</td>\n",
              "      <td>1</td>\n",
              "      <td>1</td>\n",
              "      <td>1</td>\n",
              "      <td>1</td>\n",
              "      <td>1</td>\n",
              "      <td>24</td>\n",
              "      <td>10</td>\n",
              "      <td>0</td>\n",
              "      <td>0</td>\n",
              "      <td>0</td>\n",
              "      <td>0</td>\n",
              "    </tr>\n",
              "    <tr>\n",
              "      <th>4</th>\n",
              "      <td>1</td>\n",
              "      <td>1</td>\n",
              "      <td>0</td>\n",
              "      <td>1</td>\n",
              "      <td>1</td>\n",
              "      <td>1</td>\n",
              "      <td>1</td>\n",
              "      <td>1</td>\n",
              "      <td>1</td>\n",
              "      <td>1</td>\n",
              "      <td>20</td>\n",
              "      <td>9</td>\n",
              "      <td>1</td>\n",
              "      <td>0</td>\n",
              "      <td>1</td>\n",
              "      <td>0</td>\n",
              "    </tr>\n",
              "  </tbody>\n",
              "</table>\n",
              "</div>\n",
              "      <button class=\"colab-df-convert\" onclick=\"convertToInteractive('df-09dbe4c5-9243-4f33-a73e-5cbcacd948ec')\"\n",
              "              title=\"Convert this dataframe to an interactive table.\"\n",
              "              style=\"display:none;\">\n",
              "        \n",
              "  <svg xmlns=\"http://www.w3.org/2000/svg\" height=\"24px\"viewBox=\"0 0 24 24\"\n",
              "       width=\"24px\">\n",
              "    <path d=\"M0 0h24v24H0V0z\" fill=\"none\"/>\n",
              "    <path d=\"M18.56 5.44l.94 2.06.94-2.06 2.06-.94-2.06-.94-.94-2.06-.94 2.06-2.06.94zm-11 1L8.5 8.5l.94-2.06 2.06-.94-2.06-.94L8.5 2.5l-.94 2.06-2.06.94zm10 10l.94 2.06.94-2.06 2.06-.94-2.06-.94-.94-2.06-.94 2.06-2.06.94z\"/><path d=\"M17.41 7.96l-1.37-1.37c-.4-.4-.92-.59-1.43-.59-.52 0-1.04.2-1.43.59L10.3 9.45l-7.72 7.72c-.78.78-.78 2.05 0 2.83L4 21.41c.39.39.9.59 1.41.59.51 0 1.02-.2 1.41-.59l7.78-7.78 2.81-2.81c.8-.78.8-2.07 0-2.86zM5.41 20L4 18.59l7.72-7.72 1.47 1.35L5.41 20z\"/>\n",
              "  </svg>\n",
              "      </button>\n",
              "      \n",
              "  <style>\n",
              "    .colab-df-container {\n",
              "      display:flex;\n",
              "      flex-wrap:wrap;\n",
              "      gap: 12px;\n",
              "    }\n",
              "\n",
              "    .colab-df-convert {\n",
              "      background-color: #E8F0FE;\n",
              "      border: none;\n",
              "      border-radius: 50%;\n",
              "      cursor: pointer;\n",
              "      display: none;\n",
              "      fill: #1967D2;\n",
              "      height: 32px;\n",
              "      padding: 0 0 0 0;\n",
              "      width: 32px;\n",
              "    }\n",
              "\n",
              "    .colab-df-convert:hover {\n",
              "      background-color: #E2EBFA;\n",
              "      box-shadow: 0px 1px 2px rgba(60, 64, 67, 0.3), 0px 1px 3px 1px rgba(60, 64, 67, 0.15);\n",
              "      fill: #174EA6;\n",
              "    }\n",
              "\n",
              "    [theme=dark] .colab-df-convert {\n",
              "      background-color: #3B4455;\n",
              "      fill: #D2E3FC;\n",
              "    }\n",
              "\n",
              "    [theme=dark] .colab-df-convert:hover {\n",
              "      background-color: #434B5C;\n",
              "      box-shadow: 0px 1px 3px 1px rgba(0, 0, 0, 0.15);\n",
              "      filter: drop-shadow(0px 1px 2px rgba(0, 0, 0, 0.3));\n",
              "      fill: #FFFFFF;\n",
              "    }\n",
              "  </style>\n",
              "\n",
              "      <script>\n",
              "        const buttonEl =\n",
              "          document.querySelector('#df-09dbe4c5-9243-4f33-a73e-5cbcacd948ec button.colab-df-convert');\n",
              "        buttonEl.style.display =\n",
              "          google.colab.kernel.accessAllowed ? 'block' : 'none';\n",
              "\n",
              "        async function convertToInteractive(key) {\n",
              "          const element = document.querySelector('#df-09dbe4c5-9243-4f33-a73e-5cbcacd948ec');\n",
              "          const dataTable =\n",
              "            await google.colab.kernel.invokeFunction('convertToInteractive',\n",
              "                                                     [key], {});\n",
              "          if (!dataTable) return;\n",
              "\n",
              "          const docLinkHtml = 'Like what you see? Visit the ' +\n",
              "            '<a target=\"_blank\" href=https://colab.research.google.com/notebooks/data_table.ipynb>data table notebook</a>'\n",
              "            + ' to learn more about interactive tables.';\n",
              "          element.innerHTML = '';\n",
              "          dataTable['output_type'] = 'display_data';\n",
              "          await google.colab.output.renderOutput(dataTable, element);\n",
              "          const docLink = document.createElement('div');\n",
              "          docLink.innerHTML = docLinkHtml;\n",
              "          element.appendChild(docLink);\n",
              "        }\n",
              "      </script>\n",
              "    </div>\n",
              "  </div>\n",
              "  "
            ],
            "text/plain": [
              "   A1  A2  A3  A4  A5  A6  A7  A8  A9  A10  Age_Mons  Q_Score  Sex  Jaundice  \\\n",
              "0   0   0   0   0   0   0   1   1   0    1        28        3    1         1   \n",
              "1   1   1   0   0   0   1   1   0   0    0        36        4    0         1   \n",
              "2   1   0   0   0   0   0   1   1   0    1        36        4    0         1   \n",
              "3   1   1   1   1   1   1   1   1   1    1        24       10    0         0   \n",
              "4   1   1   0   1   1   1   1   1   1    1        20        9    1         0   \n",
              "\n",
              "   Family_mem_with_ASD  Who completed the test  \n",
              "0                    0                       0  \n",
              "1                    0                       0  \n",
              "2                    0                       0  \n",
              "3                    0                       0  \n",
              "4                    1                       0  "
            ]
          },
          "execution_count": 524,
          "metadata": {},
          "output_type": "execute_result"
        }
      ],
      "source": [
        "X.head()"
      ],
      "id": "c4e7872e"
    },
    {
      "cell_type": "code",
      "execution_count": null,
      "metadata": {
        "colab": {
          "base_uri": "https://localhost:8080/"
        },
        "id": "d64d9582",
        "outputId": "af842ef6-9d4a-41c1-c92a-d7104501d7a1"
      },
      "outputs": [
        {
          "data": {
            "text/plain": [
              "0    0\n",
              "1    1\n",
              "2    1\n",
              "3    1\n",
              "4    1\n",
              "Name: Class, dtype: int64"
            ]
          },
          "execution_count": 525,
          "metadata": {},
          "output_type": "execute_result"
        }
      ],
      "source": [
        "y.head()"
      ],
      "id": "d64d9582"
    },
    {
      "cell_type": "code",
      "execution_count": null,
      "metadata": {
        "id": "75a69403"
      },
      "outputs": [],
      "source": [
        "X_train,X_test,y_train,y_test=train_test_split(X,y,test_size=0.2,random_state=42)"
      ],
      "id": "75a69403"
    },
    {
      "cell_type": "code",
      "execution_count": null,
      "metadata": {
        "colab": {
          "base_uri": "https://localhost:8080/"
        },
        "id": "5ebeaa61",
        "outputId": "585fcc7f-3b2f-4139-b851-3bd488291bf8"
      },
      "outputs": [
        {
          "name": "stdout",
          "output_type": "stream",
          "text": [
            "(843, 16) (211, 16) (843,) (211,)\n"
          ]
        }
      ],
      "source": [
        "print(X_train.shape,X_test.shape,y_train.shape,y_test.shape)"
      ],
      "id": "5ebeaa61"
    },
    {
      "cell_type": "markdown",
      "metadata": {
        "id": "37c04d83"
      },
      "source": [
        "## Model-1 Support Vector Classifier"
      ],
      "id": "37c04d83"
    },
    {
      "cell_type": "code",
      "execution_count": null,
      "metadata": {
        "colab": {
          "base_uri": "https://localhost:8080/",
          "height": 75
        },
        "id": "f72bf71b",
        "outputId": "2a069e4f-6595-4cb5-f424-e64cb6746335"
      },
      "outputs": [
        {
          "data": {
            "text/html": [
              "<style>#sk-container-id-16 {color: black;background-color: white;}#sk-container-id-16 pre{padding: 0;}#sk-container-id-16 div.sk-toggleable {background-color: white;}#sk-container-id-16 label.sk-toggleable__label {cursor: pointer;display: block;width: 100%;margin-bottom: 0;padding: 0.3em;box-sizing: border-box;text-align: center;}#sk-container-id-16 label.sk-toggleable__label-arrow:before {content: \"▸\";float: left;margin-right: 0.25em;color: #696969;}#sk-container-id-16 label.sk-toggleable__label-arrow:hover:before {color: black;}#sk-container-id-16 div.sk-estimator:hover label.sk-toggleable__label-arrow:before {color: black;}#sk-container-id-16 div.sk-toggleable__content {max-height: 0;max-width: 0;overflow: hidden;text-align: left;background-color: #f0f8ff;}#sk-container-id-16 div.sk-toggleable__content pre {margin: 0.2em;color: black;border-radius: 0.25em;background-color: #f0f8ff;}#sk-container-id-16 input.sk-toggleable__control:checked~div.sk-toggleable__content {max-height: 200px;max-width: 100%;overflow: auto;}#sk-container-id-16 input.sk-toggleable__control:checked~label.sk-toggleable__label-arrow:before {content: \"▾\";}#sk-container-id-16 div.sk-estimator input.sk-toggleable__control:checked~label.sk-toggleable__label {background-color: #d4ebff;}#sk-container-id-16 div.sk-label input.sk-toggleable__control:checked~label.sk-toggleable__label {background-color: #d4ebff;}#sk-container-id-16 input.sk-hidden--visually {border: 0;clip: rect(1px 1px 1px 1px);clip: rect(1px, 1px, 1px, 1px);height: 1px;margin: -1px;overflow: hidden;padding: 0;position: absolute;width: 1px;}#sk-container-id-16 div.sk-estimator {font-family: monospace;background-color: #f0f8ff;border: 1px dotted black;border-radius: 0.25em;box-sizing: border-box;margin-bottom: 0.5em;}#sk-container-id-16 div.sk-estimator:hover {background-color: #d4ebff;}#sk-container-id-16 div.sk-parallel-item::after {content: \"\";width: 100%;border-bottom: 1px solid gray;flex-grow: 1;}#sk-container-id-16 div.sk-label:hover label.sk-toggleable__label {background-color: #d4ebff;}#sk-container-id-16 div.sk-serial::before {content: \"\";position: absolute;border-left: 1px solid gray;box-sizing: border-box;top: 0;bottom: 0;left: 50%;z-index: 0;}#sk-container-id-16 div.sk-serial {display: flex;flex-direction: column;align-items: center;background-color: white;padding-right: 0.2em;padding-left: 0.2em;position: relative;}#sk-container-id-16 div.sk-item {position: relative;z-index: 1;}#sk-container-id-16 div.sk-parallel {display: flex;align-items: stretch;justify-content: center;background-color: white;position: relative;}#sk-container-id-16 div.sk-item::before, #sk-container-id-16 div.sk-parallel-item::before {content: \"\";position: absolute;border-left: 1px solid gray;box-sizing: border-box;top: 0;bottom: 0;left: 50%;z-index: -1;}#sk-container-id-16 div.sk-parallel-item {display: flex;flex-direction: column;z-index: 1;position: relative;background-color: white;}#sk-container-id-16 div.sk-parallel-item:first-child::after {align-self: flex-end;width: 50%;}#sk-container-id-16 div.sk-parallel-item:last-child::after {align-self: flex-start;width: 50%;}#sk-container-id-16 div.sk-parallel-item:only-child::after {width: 0;}#sk-container-id-16 div.sk-dashed-wrapped {border: 1px dashed gray;margin: 0 0.4em 0.5em 0.4em;box-sizing: border-box;padding-bottom: 0.4em;background-color: white;}#sk-container-id-16 div.sk-label label {font-family: monospace;font-weight: bold;display: inline-block;line-height: 1.2em;}#sk-container-id-16 div.sk-label-container {text-align: center;}#sk-container-id-16 div.sk-container {/* jupyter's `normalize.less` sets `[hidden] { display: none; }` but bootstrap.min.css set `[hidden] { display: none !important; }` so we also need the `!important` here to be able to override the default hidden behavior on the sphinx rendered scikit-learn.org. See: https://github.com/scikit-learn/scikit-learn/issues/21755 */display: inline-block !important;position: relative;}#sk-container-id-16 div.sk-text-repr-fallback {display: none;}</style><div id=\"sk-container-id-16\" class=\"sk-top-container\"><div class=\"sk-text-repr-fallback\"><pre>SVC(tol=3)</pre><b>In a Jupyter environment, please rerun this cell to show the HTML representation or trust the notebook. <br />On GitHub, the HTML representation is unable to render, please try loading this page with nbviewer.org.</b></div><div class=\"sk-container\" hidden><div class=\"sk-item\"><div class=\"sk-estimator sk-toggleable\"><input class=\"sk-toggleable__control sk-hidden--visually\" id=\"sk-estimator-id-16\" type=\"checkbox\" checked><label for=\"sk-estimator-id-16\" class=\"sk-toggleable__label sk-toggleable__label-arrow\">SVC</label><div class=\"sk-toggleable__content\"><pre>SVC(tol=3)</pre></div></div></div></div></div>"
            ],
            "text/plain": [
              "SVC(tol=3)"
            ]
          },
          "execution_count": 528,
          "metadata": {},
          "output_type": "execute_result"
        }
      ],
      "source": [
        "from sklearn.svm import SVC\n",
        "svc_model=SVC(tol=3)\n",
        "svc_model.fit(X_train,y_train)"
      ],
      "id": "f72bf71b"
    },
    {
      "cell_type": "code",
      "execution_count": null,
      "metadata": {
        "id": "feed0303"
      },
      "outputs": [],
      "source": [
        "svc_pred=svc_model.predict(X_test)"
      ],
      "id": "feed0303"
    },
    {
      "cell_type": "code",
      "execution_count": null,
      "metadata": {
        "colab": {
          "base_uri": "https://localhost:8080/"
        },
        "id": "a6f053fd",
        "outputId": "88dec7a4-d4c6-4bcf-a2e4-3b477821cc65"
      },
      "outputs": [
        {
          "name": "stdout",
          "output_type": "stream",
          "text": [
            "[1 1 1 1 1 1 1 1 1 1 1 1 1 1 1 1 1 1 1 1 1 1 1 1 1 1 1 1 1 1 1 1 1 1 1 1 1\n",
            " 1 1 1 1 1 1 1 1 1 1 1 1 1 1 1 1 1 1 1 1 1 1 1 1 1 1 1 1 1 1 1 1 1 1 1 1 1\n",
            " 1 1 1 1 1 1 1 1 1 1 1 1 1 1 1 1 1 1 1 1 1 1 1 1 1 1 1 1 1 1 1 1 1 1 1 1 1\n",
            " 1 1 1 1 1 1 1 1 1 1 1 1 1 1 1 1 1 1 1 1 1 1 1 1 1 1 1 1 1 1 1 1 1 1 1 1 1\n",
            " 1 1 1 1 1 1 1 1 1 1 1 1 1 1 1 1 1 1 1 1 1 1 1 1 1 1 1 1 1 1 1 1 1 1 1 1 1\n",
            " 1 1 1 1 1 1 1 1 1 1 1 1 1 1 1 1 1 1 1 1 1 1 1 1 1 1]\n"
          ]
        }
      ],
      "source": [
        "print(svc_pred)"
      ],
      "id": "a6f053fd"
    },
    {
      "cell_type": "code",
      "execution_count": null,
      "metadata": {
        "colab": {
          "base_uri": "https://localhost:8080/"
        },
        "id": "a9261f59",
        "outputId": "89ff4834-a502-484a-88fc-1560aad69ce7"
      },
      "outputs": [
        {
          "name": "stdout",
          "output_type": "stream",
          "text": [
            "SupportVectorClassifier model predicted 211 samples as AUTISM and 0 samples as NOT_AUTISM from 211 test samples.\n"
          ]
        }
      ],
      "source": [
        "Not_Autism=0\n",
        "Autism=0\n",
        "for predicted_label in svc_pred:\n",
        "    if predicted_label==0:\n",
        "        Not_Autism+=1\n",
        "    else:\n",
        "        Autism+=1\n",
        "print(f\"SupportVectorClassifier model predicted {Autism} samples as AUTISM and {Not_Autism} samples as NOT_AUTISM from {len(svc_pred)} test samples.\")"
      ],
      "id": "a9261f59"
    },
    {
      "cell_type": "markdown",
      "metadata": {
        "id": "f95492ac"
      },
      "source": [
        "## Result Analysis"
      ],
      "id": "f95492ac"
    },
    {
      "cell_type": "markdown",
      "metadata": {
        "id": "53665841"
      },
      "source": [
        "***Accuracy Score***"
      ],
      "id": "53665841"
    },
    {
      "cell_type": "code",
      "execution_count": null,
      "metadata": {
        "colab": {
          "base_uri": "https://localhost:8080/"
        },
        "id": "cb1def1e",
        "outputId": "4da29421-ea3c-45ae-f7ea-9d78ca803b57"
      },
      "outputs": [
        {
          "name": "stdout",
          "output_type": "stream",
          "text": [
            "SupportVectorClassifier Accuracy is 67.30\n"
          ]
        }
      ],
      "source": [
        "svc_accuracy=accuracy_score(y_true=y_test,y_pred=svc_pred)\n",
        "print(\"SupportVectorClassifier Accuracy is {:.2f}\".format(svc_accuracy*100))"
      ],
      "id": "cb1def1e"
    },
    {
      "cell_type": "markdown",
      "metadata": {
        "id": "ea34c4f6"
      },
      "source": [
        "***Classification Report***"
      ],
      "id": "ea34c4f6"
    },
    {
      "cell_type": "code",
      "execution_count": null,
      "metadata": {
        "colab": {
          "base_uri": "https://localhost:8080/"
        },
        "id": "ea6a8391",
        "outputId": "1ba149e7-a5c0-471e-ab4e-a2aa9d80a92d"
      },
      "outputs": [
        {
          "name": "stdout",
          "output_type": "stream",
          "text": [
            "              precision    recall  f1-score   support\n",
            "\n",
            "          No       0.00      0.00      0.00        69\n",
            "         Yes       0.67      1.00      0.80       142\n",
            "\n",
            "    accuracy                           0.67       211\n",
            "   macro avg       0.34      0.50      0.40       211\n",
            "weighted avg       0.45      0.67      0.54       211\n",
            "\n"
          ]
        }
      ],
      "source": [
        "print(classification_report(y_true=y_test,y_pred=svc_pred,target_names=[\"No\",\"Yes\"]))"
      ],
      "id": "ea6a8391"
    },
    {
      "cell_type": "markdown",
      "metadata": {
        "id": "b96feaed"
      },
      "source": [
        "***Confusion Matrix***"
      ],
      "id": "b96feaed"
    },
    {
      "cell_type": "code",
      "execution_count": null,
      "metadata": {
        "colab": {
          "base_uri": "https://localhost:8080/",
          "height": 459
        },
        "id": "731b371c",
        "outputId": "20d816dc-c690-46c5-8406-2f9e1feae323"
      },
      "outputs": [
        {
          "data": {
            "image/png": "[encoded data removed]",
            "text/plain": [
              "<Figure size 500x500 with 1 Axes>"
            ]
          },
          "metadata": {},
          "output_type": "display_data"
        }
      ],
      "source": [
        "plt.figure(figsize=(5,5))\n",
        "plt.rcParams[\"font.size\"]=20\n",
        "labels=[\"No\",\"Yes\"]\n",
        "sns.heatmap(data=confusion_matrix(y_true=y_test,y_pred=svc_pred),\n",
        "            cbar=False,\n",
        "            annot=True,\n",
        "            fmt=\"d\",\n",
        "            xticklabels=labels,\n",
        "            yticklabels=labels,\n",
        "            cmap=\"YlGnBu\",\n",
        "            linecolor=\"black\",\n",
        "            linewidths=0.2)\n",
        "plt.show()"
      ],
      "id": "731b371c"
    },
    {
      "cell_type": "markdown",
      "metadata": {
        "id": "d0a43acb"
      },
      "source": [
        "## Model Saving"
      ],
      "id": "d0a43acb"
    },
    {
      "cell_type": "code",
      "execution_count": null,
      "metadata": {
        "id": "4fc0eb78"
      },
      "outputs": [],
      "source": [
        "with open(file=\"SVM_model_toddler.pkl\",mode=\"wb\") as file:\n",
        "    pickle.dump(obj=svc_model,file=file)"
      ],
      "id": "4fc0eb78"
    },
    {
      "cell_type": "markdown",
      "metadata": {
        "id": "f0a84e4a"
      },
      "source": [
        "## Model-2 RandomForestClassifier"
      ],
      "id": "f0a84e4a"
    },
    {
      "cell_type": "code",
      "execution_count": null,
      "metadata": {
        "colab": {
          "base_uri": "https://localhost:8080/",
          "height": 92
        },
        "id": "78517d70",
        "outputId": "bd8d2639-b332-4bdb-cb87-91d25496529a"
      },
      "outputs": [
        {
          "data": {
            "text/html": [
              "<style>#sk-container-id-17 {color: black;background-color: white;}#sk-container-id-17 pre{padding: 0;}#sk-container-id-17 div.sk-toggleable {background-color: white;}#sk-container-id-17 label.sk-toggleable__label {cursor: pointer;display: block;width: 100%;margin-bottom: 0;padding: 0.3em;box-sizing: border-box;text-align: center;}#sk-container-id-17 label.sk-toggleable__label-arrow:before {content: \"▸\";float: left;margin-right: 0.25em;color: #696969;}#sk-container-id-17 label.sk-toggleable__label-arrow:hover:before {color: black;}#sk-container-id-17 div.sk-estimator:hover label.sk-toggleable__label-arrow:before {color: black;}#sk-container-id-17 div.sk-toggleable__content {max-height: 0;max-width: 0;overflow: hidden;text-align: left;background-color: #f0f8ff;}#sk-container-id-17 div.sk-toggleable__content pre {margin: 0.2em;color: black;border-radius: 0.25em;background-color: #f0f8ff;}#sk-container-id-17 input.sk-toggleable__control:checked~div.sk-toggleable__content {max-height: 200px;max-width: 100%;overflow: auto;}#sk-container-id-17 input.sk-toggleable__control:checked~label.sk-toggleable__label-arrow:before {content: \"▾\";}#sk-container-id-17 div.sk-estimator input.sk-toggleable__control:checked~label.sk-toggleable__label {background-color: #d4ebff;}#sk-container-id-17 div.sk-label input.sk-toggleable__control:checked~label.sk-toggleable__label {background-color: #d4ebff;}#sk-container-id-17 input.sk-hidden--visually {border: 0;clip: rect(1px 1px 1px 1px);clip: rect(1px, 1px, 1px, 1px);height: 1px;margin: -1px;overflow: hidden;padding: 0;position: absolute;width: 1px;}#sk-container-id-17 div.sk-estimator {font-family: monospace;background-color: #f0f8ff;border: 1px dotted black;border-radius: 0.25em;box-sizing: border-box;margin-bottom: 0.5em;}#sk-container-id-17 div.sk-estimator:hover {background-color: #d4ebff;}#sk-container-id-17 div.sk-parallel-item::after {content: \"\";width: 100%;border-bottom: 1px solid gray;flex-grow: 1;}#sk-container-id-17 div.sk-label:hover label.sk-toggleable__label {background-color: #d4ebff;}#sk-container-id-17 div.sk-serial::before {content: \"\";position: absolute;border-left: 1px solid gray;box-sizing: border-box;top: 0;bottom: 0;left: 50%;z-index: 0;}#sk-container-id-17 div.sk-serial {display: flex;flex-direction: column;align-items: center;background-color: white;padding-right: 0.2em;padding-left: 0.2em;position: relative;}#sk-container-id-17 div.sk-item {position: relative;z-index: 1;}#sk-container-id-17 div.sk-parallel {display: flex;align-items: stretch;justify-content: center;background-color: white;position: relative;}#sk-container-id-17 div.sk-item::before, #sk-container-id-17 div.sk-parallel-item::before {content: \"\";position: absolute;border-left: 1px solid gray;box-sizing: border-box;top: 0;bottom: 0;left: 50%;z-index: -1;}#sk-container-id-17 div.sk-parallel-item {display: flex;flex-direction: column;z-index: 1;position: relative;background-color: white;}#sk-container-id-17 div.sk-parallel-item:first-child::after {align-self: flex-end;width: 50%;}#sk-container-id-17 div.sk-parallel-item:last-child::after {align-self: flex-start;width: 50%;}#sk-container-id-17 div.sk-parallel-item:only-child::after {width: 0;}#sk-container-id-17 div.sk-dashed-wrapped {border: 1px dashed gray;margin: 0 0.4em 0.5em 0.4em;box-sizing: border-box;padding-bottom: 0.4em;background-color: white;}#sk-container-id-17 div.sk-label label {font-family: monospace;font-weight: bold;display: inline-block;line-height: 1.2em;}#sk-container-id-17 div.sk-label-container {text-align: center;}#sk-container-id-17 div.sk-container {/* jupyter's `normalize.less` sets `[hidden] { display: none; }` but bootstrap.min.css set `[hidden] { display: none !important; }` so we also need the `!important` here to be able to override the default hidden behavior on the sphinx rendered scikit-learn.org. See: https://github.com/scikit-learn/scikit-learn/issues/21755 */display: inline-block !important;position: relative;}#sk-container-id-17 div.sk-text-repr-fallback {display: none;}</style><div id=\"sk-container-id-17\" class=\"sk-top-container\"><div class=\"sk-text-repr-fallback\"><pre>RandomForestClassifier(min_samples_leaf=10, min_samples_split=10,\n",
              "                       n_estimators=1)</pre><b>In a Jupyter environment, please rerun this cell to show the HTML representation or trust the notebook. <br />On GitHub, the HTML representation is unable to render, please try loading this page with nbviewer.org.</b></div><div class=\"sk-container\" hidden><div class=\"sk-item\"><div class=\"sk-estimator sk-toggleable\"><input class=\"sk-toggleable__control sk-hidden--visually\" id=\"sk-estimator-id-17\" type=\"checkbox\" checked><label for=\"sk-estimator-id-17\" class=\"sk-toggleable__label sk-toggleable__label-arrow\">RandomForestClassifier</label><div class=\"sk-toggleable__content\"><pre>RandomForestClassifier(min_samples_leaf=10, min_samples_split=10,\n",
              "                       n_estimators=1)</pre></div></div></div></div></div>"
            ],
            "text/plain": [
              "RandomForestClassifier(min_samples_leaf=10, min_samples_split=10,\n",
              "                       n_estimators=1)"
            ]
          },
          "execution_count": 536,
          "metadata": {},
          "output_type": "execute_result"
        }
      ],
      "source": [
        "from sklearn.ensemble import RandomForestClassifier\n",
        "RF_model=RandomForestClassifier(n_estimators=1,min_samples_split=10,min_samples_leaf=10)\n",
        "RF_model.fit(X=X_train,y=y_train)"
      ],
      "id": "78517d70"
    },
    {
      "cell_type": "code",
      "execution_count": null,
      "metadata": {
        "id": "2e5d977c"
      },
      "outputs": [],
      "source": [
        "RF_pred=RF_model.predict(X=X_test)"
      ],
      "id": "2e5d977c"
    },
    {
      "cell_type": "code",
      "execution_count": null,
      "metadata": {
        "colab": {
          "base_uri": "https://localhost:8080/"
        },
        "id": "3915332c",
        "outputId": "7c65c15e-a0d4-4275-a087-d1051426c510"
      },
      "outputs": [
        {
          "name": "stdout",
          "output_type": "stream",
          "text": [
            "[1 0 0 1 1 0 1 0 1 0 1 0 0 0 1 1 1 1 1 1 1 0 1 1 0 1 1 1 1 1 1 0 1 1 1 1 1\n",
            " 1 1 1 0 1 1 1 0 0 1 0 1 1 1 1 0 1 1 1 0 1 0 1 1 0 0 1 0 1 1 1 1 1 1 1 1 1\n",
            " 1 0 1 1 1 0 1 1 0 1 1 1 1 0 1 0 0 1 1 1 1 1 1 1 1 1 1 0 1 1 1 1 1 0 0 0 1\n",
            " 1 1 1 1 1 0 1 0 0 0 0 1 0 0 1 0 1 1 1 0 1 0 1 0 1 1 1 1 1 0 1 0 1 0 0 1 1\n",
            " 1 1 1 1 1 1 1 1 1 0 1 0 1 1 1 0 0 1 1 1 1 1 0 0 1 1 1 1 1 0 1 1 1 1 1 0 0\n",
            " 1 1 1 1 1 0 1 0 0 0 1 0 1 1 1 0 0 0 1 1 1 0 1 1 0 0]\n"
          ]
        }
      ],
      "source": [
        "print(RF_pred)"
      ],
      "id": "3915332c"
    },
    {
      "cell_type": "code",
      "execution_count": null,
      "metadata": {
        "colab": {
          "base_uri": "https://localhost:8080/"
        },
        "id": "21088fac",
        "outputId": "4932e0dd-791a-4279-dc61-9e217dd77064"
      },
      "outputs": [
        {
          "name": "stdout",
          "output_type": "stream",
          "text": [
            "RandomForestClassifier model predicted 145 samples as AUTISM and 66 samples as NOT_AUTISM from 211 test samples.\n"
          ]
        }
      ],
      "source": [
        "Not_Autism=0\n",
        "Autism=0\n",
        "for predicted_label in RF_pred:\n",
        "    if predicted_label==0:\n",
        "        Not_Autism+=1\n",
        "    else:\n",
        "        Autism+=1\n",
        "print(f\"RandomForestClassifier model predicted {Autism} samples as AUTISM and {Not_Autism} samples as NOT_AUTISM from {len(RF_pred)} test samples.\")"
      ],
      "id": "21088fac"
    },
    {
      "cell_type": "markdown",
      "metadata": {
        "id": "e78f8a6a"
      },
      "source": [
        "## Result Analysis"
      ],
      "id": "e78f8a6a"
    },
    {
      "cell_type": "markdown",
      "metadata": {
        "id": "70f867d5"
      },
      "source": [
        "***Accuracy score***"
      ],
      "id": "70f867d5"
    },
    {
      "cell_type": "code",
      "execution_count": null,
      "metadata": {
        "colab": {
          "base_uri": "https://localhost:8080/"
        },
        "id": "164f4fc1",
        "outputId": "7d200c66-deca-46cc-bd7f-3c3b317ee858"
      },
      "outputs": [
        {
          "name": "stdout",
          "output_type": "stream",
          "text": [
            "RandomForestClassifier accuracy is 98.58\n"
          ]
        }
      ],
      "source": [
        "RF_accuracy=accuracy_score(y_true=y_test,y_pred=RF_pred)\n",
        "print(\"RandomForestClassifier accuracy is {:.2f}\".format(RF_accuracy*100))"
      ],
      "id": "164f4fc1"
    },
    {
      "cell_type": "markdown",
      "metadata": {
        "id": "c64a6913"
      },
      "source": [
        "***Classification report***"
      ],
      "id": "c64a6913"
    },
    {
      "cell_type": "code",
      "execution_count": null,
      "metadata": {
        "colab": {
          "base_uri": "https://localhost:8080/"
        },
        "id": "2554ee9e",
        "outputId": "b0df373b-bea5-4861-9f2c-88d9b279c86a"
      },
      "outputs": [
        {
          "name": "stdout",
          "output_type": "stream",
          "text": [
            "              precision    recall  f1-score   support\n",
            "\n",
            "          No       1.00      0.96      0.98        69\n",
            "         Yes       0.98      1.00      0.99       142\n",
            "\n",
            "    accuracy                           0.99       211\n",
            "   macro avg       0.99      0.98      0.98       211\n",
            "weighted avg       0.99      0.99      0.99       211\n",
            "\n"
          ]
        }
      ],
      "source": [
        "print(classification_report(y_true=y_test,y_pred=RF_pred,target_names=[\"No\",\"Yes\"]))"
      ],
      "id": "2554ee9e"
    },
    {
      "cell_type": "markdown",
      "metadata": {
        "id": "a806f014"
      },
      "source": [
        "***Confusion Matrix***"
      ],
      "id": "a806f014"
    },
    {
      "cell_type": "code",
      "execution_count": null,
      "metadata": {
        "colab": {
          "base_uri": "https://localhost:8080/",
          "height": 459
        },
        "id": "cf1d9926",
        "outputId": "f4d5ad1e-dd1e-495a-bc3d-65cf3d154371"
      },
      "outputs": [
        {
          "data": {
            "image/png": "[encoded data removed]",
            "text/plain": [
              "<Figure size 500x500 with 1 Axes>"
            ]
          },
          "metadata": {},
          "output_type": "display_data"
        }
      ],
      "source": [
        "plt.figure(figsize=(5,5))\n",
        "plt.rcParams[\"font.size\"]=20\n",
        "labels=[\"No\",\"Yes\"]\n",
        "sns.heatmap(data=confusion_matrix(y_true=y_test,y_pred=RF_pred),\n",
        "            cbar=False,\n",
        "            annot=True,\n",
        "            fmt=\"d\",\n",
        "            xticklabels=labels,\n",
        "            yticklabels=labels,\n",
        "            cmap=\"YlGnBu\",\n",
        "            linecolor=\"black\",\n",
        "            linewidths=0.2)\n",
        "plt.show()"
      ],
      "id": "cf1d9926"
    },
    {
      "cell_type": "code",
      "execution_count": null,
      "metadata": {
        "id": "58c59372"
      },
      "outputs": [],
      "source": [
        "with open(file=\"RF_model_toddler.pkl\",mode=\"wb\") as file:\n",
        "    pickle.dump(obj=RF_model,file=file)"
      ],
      "id": "58c59372"
    },
    {
      "cell_type": "markdown",
      "metadata": {
        "id": "41855ab1"
      },
      "source": [
        "## Model-3 ANN(Artificial Neural Network)"
      ],
      "id": "41855ab1"
    },
    {
      "cell_type": "code",
      "execution_count": null,
      "metadata": {
        "id": "f016eb94"
      },
      "outputs": [],
      "source": [
        "from tensorflow.keras import Sequential\n",
        "from tensorflow.keras.layers import Dense,Flatten\n",
        "from tensorflow.keras import optimizers"
      ],
      "id": "f016eb94"
    },
    {
      "cell_type": "code",
      "execution_count": null,
      "metadata": {
        "id": "45a6c8ff"
      },
      "outputs": [],
      "source": [
        "hidden_units=100\n",
        "hidden_layer_act='tanh'\n",
        "output_layer_act='sigmoid'\n",
        "no_epochs=10"
      ],
      "id": "45a6c8ff"
    },
    {
      "cell_type": "code",
      "execution_count": null,
      "metadata": {
        "id": "a5c485f9"
      },
      "outputs": [],
      "source": [
        "model = Sequential()\n",
        "model.add(Dense(hidden_units, input_dim=16, activation=hidden_layer_act))\n",
        "model.add(Dense(hidden_units, activation=hidden_layer_act))\n",
        "model.add(Dense(1, activation=output_layer_act))"
      ],
      "id": "a5c485f9"
    },
    {
      "cell_type": "code",
      "execution_count": null,
      "metadata": {
        "id": "2071ac24"
      },
      "outputs": [],
      "source": [
        "model.compile(loss='binary_crossentropy',optimizer=\"adam\", metrics=['accuracy'])"
      ],
      "id": "2071ac24"
    },
    {
      "cell_type": "code",
      "execution_count": null,
      "metadata": {
        "colab": {
          "base_uri": "https://localhost:8080/"
        },
        "id": "488fcfe5",
        "outputId": "efab07a8-3062-4dfb-bd92-6b19be3644c5"
      },
      "outputs": [
        {
          "name": "stdout",
          "output_type": "stream",
          "text": [
            "Model: \"sequential_6\"\n",
            "_________________________________________________________________\n",
            " Layer (type)                Output Shape              Param #   \n",
            "=================================================================\n",
            " dense_18 (Dense)            (None, 100)               1700      \n",
            "                                                                 \n",
            " dense_19 (Dense)            (None, 100)               10100     \n",
            "                                                                 \n",
            " dense_20 (Dense)            (None, 1)                 101       \n",
            "                                                                 \n",
            "=================================================================\n",
            "Total params: 11,901\n",
            "Trainable params: 11,901\n",
            "Non-trainable params: 0\n",
            "_________________________________________________________________\n"
          ]
        }
      ],
      "source": [
        "model.summary()"
      ],
      "id": "488fcfe5"
    },
    {
      "cell_type": "code",
      "execution_count": null,
      "metadata": {
        "colab": {
          "base_uri": "https://localhost:8080/"
        },
        "id": "9d754ecc",
        "outputId": "efa901ba-0a84-4a6f-bfac-5c5459a7edef"
      },
      "outputs": [
        {
          "name": "stdout",
          "output_type": "stream",
          "text": [
            "Epoch 1/10\n",
            "27/27 [==============================] - 1s 13ms/step - loss: 0.4736 - accuracy: 0.7734 - val_loss: 0.2627 - val_accuracy: 0.9384\n",
            "Epoch 2/10\n",
            "27/27 [==============================] - 0s 6ms/step - loss: 0.2094 - accuracy: 0.9419 - val_loss: 0.1430 - val_accuracy: 0.9716\n",
            "Epoch 3/10\n",
            "27/27 [==============================] - 0s 6ms/step - loss: 0.1377 - accuracy: 0.9620 - val_loss: 0.1160 - val_accuracy: 0.9573\n",
            "Epoch 4/10\n",
            "27/27 [==============================] - 0s 5ms/step - loss: 0.1102 - accuracy: 0.9561 - val_loss: 0.0798 - val_accuracy: 0.9810\n",
            "Epoch 5/10\n",
            "27/27 [==============================] - 0s 5ms/step - loss: 0.0821 - accuracy: 0.9822 - val_loss: 0.0661 - val_accuracy: 0.9810\n",
            "Epoch 6/10\n",
            "27/27 [==============================] - 0s 5ms/step - loss: 0.0690 - accuracy: 0.9810 - val_loss: 0.0641 - val_accuracy: 0.9763\n",
            "Epoch 7/10\n",
            "27/27 [==============================] - 0s 5ms/step - loss: 0.0527 - accuracy: 0.9893 - val_loss: 0.0514 - val_accuracy: 0.9810\n",
            "Epoch 8/10\n",
            "27/27 [==============================] - 0s 5ms/step - loss: 0.0465 - accuracy: 0.9905 - val_loss: 0.0464 - val_accuracy: 0.9858\n",
            "Epoch 9/10\n",
            "27/27 [==============================] - 0s 6ms/step - loss: 0.0387 - accuracy: 0.9964 - val_loss: 0.0406 - val_accuracy: 0.9810\n",
            "Epoch 10/10\n",
            "27/27 [==============================] - 0s 5ms/step - loss: 0.0322 - accuracy: 0.9976 - val_loss: 0.0380 - val_accuracy: 0.9858\n"
          ]
        }
      ],
      "source": [
        "history=model.fit(x=X_train,y=y_train,epochs=no_epochs, batch_size=32,validation_data=(X_test,y_test))"
      ],
      "id": "9d754ecc"
    },
    {
      "cell_type": "markdown",
      "metadata": {
        "id": "4cf903d6"
      },
      "source": [
        "## Model Accuracy and Loss Plot-Graphs"
      ],
      "id": "4cf903d6"
    },
    {
      "cell_type": "code",
      "execution_count": null,
      "metadata": {
        "colab": {
          "base_uri": "https://localhost:8080/",
          "height": 494
        },
        "id": "fc522e74",
        "outputId": "c9b06064-704d-40f1-a3ca-d193276b9877"
      },
      "outputs": [
        {
          "data": {
            "image/png": "[encoded data removed]",
            "text/plain": [
              "<Figure size 1000x500 with 1 Axes>"
            ]
          },
          "metadata": {},
          "output_type": "display_data"
        }
      ],
      "source": [
        "plt.figure(figsize=(10,5))\n",
        "plt.plot(history.history[\"accuracy\"])\n",
        "plt.plot(history.history[\"val_accuracy\"])\n",
        "plt.title(label=\"plot-graphs for accuracy and validated acccuracy\")\n",
        "plt.legend([\"Accuracy\",\"Val_accuracy\"])\n",
        "plt.show()"
      ],
      "id": "fc522e74"
    },
    {
      "cell_type": "code",
      "execution_count": null,
      "metadata": {
        "colab": {
          "base_uri": "https://localhost:8080/",
          "height": 494
        },
        "id": "12fea535",
        "outputId": "045ee6c0-b9ae-466f-9347-1d0725b64d1c"
      },
      "outputs": [
        {
          "data": {
            "image/png": "[encoded data removed]",
            "text/plain": [
              "<Figure size 1000x500 with 1 Axes>"
            ]
          },
          "metadata": {},
          "output_type": "display_data"
        }
      ],
      "source": [
        "plt.figure(figsize=(10,5))\n",
        "plt.plot(history.history[\"loss\"])\n",
        "plt.plot(history.history[\"val_loss\"])\n",
        "plt.title(label=\"plot-graphs for loss and validated loss\")\n",
        "plt.legend([\"Loss\",\"Val_Loss\"])\n",
        "plt.show()"
      ],
      "id": "12fea535"
    },
    {
      "cell_type": "markdown",
      "metadata": {
        "id": "c784454b"
      },
      "source": [
        "## Model Saving"
      ],
      "id": "c784454b"
    },
    {
      "cell_type": "code",
      "execution_count": null,
      "metadata": {
        "id": "a60287d7"
      },
      "outputs": [],
      "source": [
        "model.save(\"model/Toddler/ANN_model_toddler.h5\")"
      ],
      "id": "a60287d7"
    },
    {
      "cell_type": "code",
      "execution_count": null,
      "metadata": {
        "colab": {
          "base_uri": "https://localhost:8080/"
        },
        "id": "a77e7c43",
        "outputId": "8d02db8e-e187-465a-b942-dad743987304"
      },
      "outputs": [
        {
          "name": "stdout",
          "output_type": "stream",
          "text": [
            "22/22 [==============================] - 0s 1ms/step\n"
          ]
        }
      ],
      "source": [
        "ann_pred=model.predict(x=X_test,batch_size=10,verbose=1)"
      ],
      "id": "a77e7c43"
    },
    {
      "cell_type": "code",
      "execution_count": null,
      "metadata": {
        "colab": {
          "base_uri": "https://localhost:8080/"
        },
        "id": "c851b31c",
        "outputId": "6786690f-0638-41c7-9073-5f694dd95074"
      },
      "outputs": [
        {
          "name": "stdout",
          "output_type": "stream",
          "text": [
            "[[9.99707580e-01]\n",
            " [6.15600526e-01]\n",
            " [1.17862206e-02]\n",
            " [9.98986363e-01]\n",
            " [9.54440057e-01]\n",
            " [1.11952389e-03]\n",
            " [9.99916196e-01]\n",
            " [1.97126903e-02]\n",
            " [9.99921501e-01]\n",
            " [1.03102159e-03]\n",
            " [9.99714911e-01]\n",
            " [3.04919904e-05]\n",
            " [3.91950016e-05]\n",
            " [3.39213366e-05]\n",
            " [9.99760866e-01]\n",
            " [9.99684274e-01]\n",
            " [9.81199563e-01]\n",
            " [9.99715328e-01]\n",
            " [9.99874890e-01]\n",
            " [9.99806345e-01]\n",
            " [9.99918282e-01]\n",
            " [1.22038597e-04]\n",
            " [9.99802232e-01]\n",
            " [9.99697804e-01]\n",
            " [1.10076882e-01]\n",
            " [9.99903858e-01]\n",
            " [9.99475658e-01]\n",
            " [9.99333084e-01]\n",
            " [9.99544799e-01]\n",
            " [9.97198522e-01]\n",
            " [9.99885619e-01]\n",
            " [1.30062236e-03]\n",
            " [9.99927759e-01]\n",
            " [9.99877930e-01]\n",
            " [9.94781315e-01]\n",
            " [9.99512374e-01]\n",
            " [9.94778574e-01]\n",
            " [9.99645293e-01]\n",
            " [9.99719262e-01]\n",
            " [9.99779522e-01]\n",
            " [2.28489880e-02]\n",
            " [9.99937654e-01]\n",
            " [9.99174833e-01]\n",
            " [9.96530890e-01]\n",
            " [2.18697405e-05]\n",
            " [1.74374564e-03]\n",
            " [9.99689221e-01]\n",
            " [1.72009735e-04]\n",
            " [9.97732520e-01]\n",
            " [9.99563515e-01]\n",
            " [9.98914540e-01]\n",
            " [9.99418497e-01]\n",
            " [3.43224369e-02]\n",
            " [9.99785185e-01]\n",
            " [9.98205781e-01]\n",
            " [9.99422073e-01]\n",
            " [1.47757435e-03]\n",
            " [9.99825239e-01]\n",
            " [1.08578261e-02]\n",
            " [9.98101294e-01]\n",
            " [9.99759614e-01]\n",
            " [4.90668637e-04]\n",
            " [2.13987678e-02]\n",
            " [9.99691904e-01]\n",
            " [2.60179018e-04]\n",
            " [9.99612272e-01]\n",
            " [9.99373436e-01]\n",
            " [9.18626249e-01]\n",
            " [9.99534011e-01]\n",
            " [9.99823332e-01]\n",
            " [9.97401357e-01]\n",
            " [9.99937654e-01]\n",
            " [9.99900520e-01]\n",
            " [7.61542423e-03]\n",
            " [9.97576118e-01]\n",
            " [2.28224279e-04]\n",
            " [9.88504708e-01]\n",
            " [9.95517492e-01]\n",
            " [6.96898520e-01]\n",
            " [2.63336733e-05]\n",
            " [9.99332070e-01]\n",
            " [9.99758840e-01]\n",
            " [3.43224369e-02]\n",
            " [9.99770105e-01]\n",
            " [9.99925435e-01]\n",
            " [9.99726474e-01]\n",
            " [9.99380708e-01]\n",
            " [2.13598713e-01]\n",
            " [9.99798715e-01]\n",
            " [7.71526201e-03]\n",
            " [2.95269608e-01]\n",
            " [9.99236524e-01]\n",
            " [9.99852896e-01]\n",
            " [9.99897301e-01]\n",
            " [9.98205125e-01]\n",
            " [9.49245453e-01]\n",
            " [9.99717295e-01]\n",
            " [9.99642968e-01]\n",
            " [9.99385953e-01]\n",
            " [9.96645570e-01]\n",
            " [9.99335229e-01]\n",
            " [7.36297297e-05]\n",
            " [9.99691606e-01]\n",
            " [9.65441823e-01]\n",
            " [9.99678910e-01]\n",
            " [9.99931991e-01]\n",
            " [8.10579896e-01]\n",
            " [3.79811004e-02]\n",
            " [3.11592966e-03]\n",
            " [2.63336733e-05]\n",
            " [9.81177807e-01]\n",
            " [9.97427046e-01]\n",
            " [9.99467134e-01]\n",
            " [9.99789178e-01]\n",
            " [9.99913216e-01]\n",
            " [9.99484897e-01]\n",
            " [5.34084160e-03]\n",
            " [9.96904135e-01]\n",
            " [2.22384755e-04]\n",
            " [1.13632108e-04]\n",
            " [1.57363029e-04]\n",
            " [2.62133817e-05]\n",
            " [9.96175170e-01]\n",
            " [2.60179018e-04]\n",
            " [1.82984095e-05]\n",
            " [9.99753773e-01]\n",
            " [1.81485055e-04]\n",
            " [9.99812901e-01]\n",
            " [9.99850571e-01]\n",
            " [9.99597669e-01]\n",
            " [6.79994875e-04]\n",
            " [9.99170601e-01]\n",
            " [2.52231747e-01]\n",
            " [9.99883235e-01]\n",
            " [7.36297297e-05]\n",
            " [9.99731123e-01]\n",
            " [9.99894738e-01]\n",
            " [9.99841154e-01]\n",
            " [9.89950657e-01]\n",
            " [8.09437633e-01]\n",
            " [8.21565930e-03]\n",
            " [9.95997906e-01]\n",
            " [2.09766749e-05]\n",
            " [9.99937654e-01]\n",
            " [5.54352812e-03]\n",
            " [3.70082998e-05]\n",
            " [9.97084081e-01]\n",
            " [9.09177661e-01]\n",
            " [9.99586582e-01]\n",
            " [9.99857843e-01]\n",
            " [9.99852955e-01]\n",
            " [9.99900520e-01]\n",
            " [9.95347142e-01]\n",
            " [9.98938322e-01]\n",
            " [5.90011358e-01]\n",
            " [9.12840545e-01]\n",
            " [9.99375165e-01]\n",
            " [2.51782621e-04]\n",
            " [9.82576430e-01]\n",
            " [3.06791626e-05]\n",
            " [9.99931276e-01]\n",
            " [9.99465644e-01]\n",
            " [5.86859125e-04]\n",
            " [8.49309799e-05]\n",
            " [3.12101126e-01]\n",
            " [9.99829531e-01]\n",
            " [9.97675478e-01]\n",
            " [9.76785779e-01]\n",
            " [9.58854198e-01]\n",
            " [9.93597567e-01]\n",
            " [4.24492173e-02]\n",
            " [5.08513112e-05]\n",
            " [9.99913216e-01]\n",
            " [9.96708155e-01]\n",
            " [9.99877453e-01]\n",
            " [9.99563634e-01]\n",
            " [9.48785365e-01]\n",
            " [1.11952389e-03]\n",
            " [9.99897420e-01]\n",
            " [9.99344230e-01]\n",
            " [9.99563158e-01]\n",
            " [9.85406399e-01]\n",
            " [9.99913216e-01]\n",
            " [3.69222532e-03]\n",
            " [3.31549257e-01]\n",
            " [9.99825537e-01]\n",
            " [8.93792689e-01]\n",
            " [9.66742992e-01]\n",
            " [9.98853564e-01]\n",
            " [9.98439074e-01]\n",
            " [1.13632115e-04]\n",
            " [9.98431921e-01]\n",
            " [3.31265728e-05]\n",
            " [1.35677110e-04]\n",
            " [1.70571194e-03]\n",
            " [9.99887288e-01]\n",
            " [2.63336733e-05]\n",
            " [9.97624338e-01]\n",
            " [9.51903641e-01]\n",
            " [9.68666434e-01]\n",
            " [7.21643865e-01]\n",
            " [1.71645996e-04]\n",
            " [2.63336733e-05]\n",
            " [9.98832166e-01]\n",
            " [9.98013973e-01]\n",
            " [9.99709487e-01]\n",
            " [2.37977674e-05]\n",
            " [9.99814212e-01]\n",
            " [9.99903202e-01]\n",
            " [1.57363029e-04]\n",
            " [2.22384755e-04]]\n"
          ]
        }
      ],
      "source": [
        "print(ann_pred)"
      ],
      "id": "c851b31c"
    },
    {
      "cell_type": "code",
      "execution_count": null,
      "metadata": {
        "colab": {
          "background_save": true,
          "base_uri": "https://localhost:8080/"
        },
        "id": "f65b4aa0",
        "outputId": "55ff163e-79ca-4cb4-b44f-93c6df4c8e8f"
      },
      "outputs": [
        {
          "name": "stdout",
          "output_type": "stream",
          "text": [
            "[1, 1, 0, 1, 1, 0, 1, 0, 1, 0, 1, 0, 0, 0, 1, 1, 1, 1, 1, 1, 1, 0, 1, 1, 0, 1, 1, 1, 1, 1, 1, 0, 1, 1, 1, 1, 1, 1, 1, 1, 0, 1, 1, 1, 0, 0, 1, 0, 1, 1, 1, 1, 0, 1, 1, 1, 0, 1, 0, 1, 1, 0, 0, 1, 0, 1, 1, 1, 1, 1, 1, 1, 1, 0, 1, 0, 1, 1, 1, 0, 1, 1, 0, 1, 1, 1, 1, 0, 1, 0, 0, 1, 1, 1, 1, 1, 1, 1, 1, 1, 1, 0, 1, 1, 1, 1, 1, 0, 0, 0, 1, 1, 1, 1, 1, 1, 0, 1, 0, 0, 0, 0, 1, 0, 0, 1, 0, 1, 1, 1, 0, 1, 0, 1, 0, 1, 1, 1, 1, 1, 0, 1, 0, 1, 0, 0, 1, 1, 1, 1, 1, 1, 1, 1, 1, 1, 1, 0, 1, 0, 1, 1, 0, 0, 0, 1, 1, 1, 1, 1, 0, 0, 1, 1, 1, 1, 1, 0, 1, 1, 1, 1, 1, 0, 0, 1, 1, 1, 1, 1, 0, 1, 0, 0, 0, 1, 0, 1, 1, 1, 1, 0, 0, 1, 1, 1, 0, 1, 1, 0, 0]\n"
          ]
        }
      ],
      "source": [
        "rounded = [int(round(x[0])) for x in ann_pred]\n",
        "print(rounded)"
      ],
      "id": "f65b4aa0"
    },
    {
      "cell_type": "code",
      "execution_count": null,
      "metadata": {
        "id": "c562a413"
      },
      "outputs": [],
      "source": [
        "y_true=list(y_test)"
      ],
      "id": "c562a413"
    },
    {
      "cell_type": "code",
      "execution_count": null,
      "metadata": {
        "colab": {
          "background_save": true,
          "base_uri": "https://localhost:8080/"
        },
        "id": "85489a1e",
        "outputId": "e45c1ca1-c6ac-4ecc-f349-0aba43ae4d38"
      },
      "outputs": [
        {
          "name": "stdout",
          "output_type": "stream",
          "text": [
            "[1, 0, 0, 1, 1, 0, 1, 0, 1, 0, 1, 0, 0, 0, 1, 1, 1, 1, 1, 1, 1, 0, 1, 1, 0, 1, 1, 1, 1, 1, 1, 0, 1, 1, 1, 1, 1, 1, 1, 1, 0, 1, 1, 1, 0, 0, 1, 0, 1, 1, 1, 1, 0, 1, 1, 1, 0, 1, 0, 1, 1, 0, 0, 1, 0, 1, 1, 1, 1, 1, 1, 1, 1, 0, 1, 0, 1, 1, 1, 0, 1, 1, 0, 1, 1, 1, 1, 0, 1, 0, 0, 1, 1, 1, 1, 1, 1, 1, 1, 1, 1, 0, 1, 1, 1, 1, 1, 0, 0, 0, 1, 1, 1, 1, 1, 1, 0, 1, 0, 0, 0, 0, 1, 0, 0, 1, 0, 1, 1, 1, 0, 1, 0, 1, 0, 1, 1, 1, 1, 0, 0, 1, 0, 1, 0, 0, 1, 1, 1, 1, 1, 1, 1, 1, 1, 1, 1, 0, 1, 0, 1, 1, 0, 0, 0, 1, 1, 1, 1, 1, 0, 0, 1, 1, 1, 1, 1, 0, 1, 1, 1, 1, 1, 0, 0, 1, 1, 1, 1, 1, 0, 1, 0, 0, 0, 1, 0, 1, 1, 1, 0, 0, 0, 1, 1, 1, 0, 1, 1, 0, 0]\n"
          ]
        }
      ],
      "source": [
        "print(y_true)"
      ],
      "id": "85489a1e"
    },
    {
      "cell_type": "code",
      "execution_count": null,
      "metadata": {
        "colab": {
          "background_save": true,
          "base_uri": "https://localhost:8080/"
        },
        "id": "af1f38c1",
        "outputId": "c3595fd6-a4af-486c-e71a-0c7a432307b7"
      },
      "outputs": [
        {
          "name": "stdout",
          "output_type": "stream",
          "text": [
            "ArtificialNeuralNetwork model predicted 145 samples as AUTISM and 66 samples as NOT_AUTISM from 211 test samples.\n"
          ]
        }
      ],
      "source": [
        "Not_Autism=0\n",
        "Autism=0\n",
        "for predicted_label in rounded :\n",
        "    if predicted_label==0:\n",
        "        Not_Autism+=1\n",
        "    else:\n",
        "        Autism+=1\n",
        "print(f\"ArtificialNeuralNetwork model predicted {Autism} samples as AUTISM and {Not_Autism} samples as NOT_AUTISM from {len(rounded )} test samples.\")"
      ],
      "id": "af1f38c1"
    },
    {
      "cell_type": "markdown",
      "metadata": {
        "id": "e2dca5cb"
      },
      "source": [
        "## Result Analysis"
      ],
      "id": "e2dca5cb"
    },
    {
      "cell_type": "markdown",
      "metadata": {
        "id": "afc4c252"
      },
      "source": [
        "***Accuracy Score***"
      ],
      "id": "afc4c252"
    },
    {
      "cell_type": "code",
      "execution_count": null,
      "metadata": {
        "colab": {
          "background_save": true,
          "base_uri": "https://localhost:8080/"
        },
        "id": "c760635d",
        "outputId": "0c9385f7-a3c1-42b2-8b4a-1b47a8851b05"
      },
      "outputs": [
        {
          "name": "stdout",
          "output_type": "stream",
          "text": [
            "ANN Accuracy is 98.58\n"
          ]
        }
      ],
      "source": [
        "ann_accuracy=accuracy_score(y_true=y_true,y_pred=rounded)\n",
        "print(\"ANN Accuracy is {:.2f}\".format(ann_accuracy*100))"
      ],
      "id": "c760635d"
    },
    {
      "cell_type": "markdown",
      "metadata": {
        "id": "0709c812"
      },
      "source": [
        "## Accuracy Comparision for Toddler Dataset"
      ],
      "id": "0709c812"
    },
    {
      "cell_type": "code",
      "execution_count": null,
      "metadata": {
        "colab": {
          "base_uri": "https://localhost:8080/",
          "height": 494
        },
        "id": "f40c71b8",
        "outputId": "28235579-c536-4f54-b6e6-f9e45585f326"
      },
      "outputs": [
        {
          "data": {
            "image/png": "[encoded data removed]",
            "text/plain": [
              "<Figure size 1000x500 with 1 Axes>"
            ]
          },
          "metadata": {},
          "output_type": "display_data"
        }
      ],
      "source": [
        "data=[svc_accuracy,RF_accuracy,ann_accuracy]\n",
        "labels=[\"SVC\",\"RFC\",\"ANN\"]\n",
        "colors=[\"gold\",\"blue\",\"lime\"]\n",
        "plt.figure(figsize=(10,5))\n",
        "plt.grid()\n",
        "plt.bar(x=labels,height=data,color=colors)\n",
        "plt.title(label=\"models Accuracy Comparision for Toddler Dataset\")\n",
        "plt.show()"
      ],
      "id": "f40c71b8"
    },
    {
      "cell_type": "markdown",
      "metadata": {
        "id": "9_0gkzTb2xUT"
      },
      "source": [
        "##Comparartive Analysis"
      ],
      "id": "9_0gkzTb2xUT"
    },
    {
      "cell_type": "code",
      "execution_count": null,
      "metadata": {
        "colab": {
          "background_save": true
        },
        "id": "PqxhmtcLDiUk"
      },
      "outputs": [],
      "source": [
        "X_train,X_test,y_train,y_test=train_test_split(X,y,test_size=0.3,random_state=42)"
      ],
      "id": "PqxhmtcLDiUk"
    },
    {
      "cell_type": "code",
      "execution_count": null,
      "metadata": {
        "colab": {
          "background_save": true,
          "base_uri": "https://localhost:8080/"
        },
        "id": "5MpfWRAnDiUk",
        "outputId": "064462fc-e4b3-45aa-81bc-9a8719404d93"
      },
      "outputs": [
        {
          "name": "stdout",
          "output_type": "stream",
          "text": [
            "(737, 16) (317, 16) (737,) (317,)\n"
          ]
        }
      ],
      "source": [
        "print(X_train.shape,X_test.shape,y_train.shape,y_test.shape)"
      ],
      "id": "5MpfWRAnDiUk"
    },
    {
      "cell_type": "markdown",
      "metadata": {
        "id": "dPIi-Ju_DiUl"
      },
      "source": [
        "## Model-1 Support Vector Classifier"
      ],
      "id": "dPIi-Ju_DiUl"
    },
    {
      "cell_type": "code",
      "execution_count": null,
      "metadata": {
        "colab": {
          "base_uri": "https://localhost:8080/",
          "height": 75
        },
        "id": "ZfNesDe_DiUl",
        "outputId": "1c853649-66ef-4697-f545-dbd943c6763b"
      },
      "outputs": [
        {
          "data": {
            "text/html": [
              "<style>#sk-container-id-18 {color: black;background-color: white;}#sk-container-id-18 pre{padding: 0;}#sk-container-id-18 div.sk-toggleable {background-color: white;}#sk-container-id-18 label.sk-toggleable__label {cursor: pointer;display: block;width: 100%;margin-bottom: 0;padding: 0.3em;box-sizing: border-box;text-align: center;}#sk-container-id-18 label.sk-toggleable__label-arrow:before {content: \"▸\";float: left;margin-right: 0.25em;color: #696969;}#sk-container-id-18 label.sk-toggleable__label-arrow:hover:before {color: black;}#sk-container-id-18 div.sk-estimator:hover label.sk-toggleable__label-arrow:before {color: black;}#sk-container-id-18 div.sk-toggleable__content {max-height: 0;max-width: 0;overflow: hidden;text-align: left;background-color: #f0f8ff;}#sk-container-id-18 div.sk-toggleable__content pre {margin: 0.2em;color: black;border-radius: 0.25em;background-color: #f0f8ff;}#sk-container-id-18 input.sk-toggleable__control:checked~div.sk-toggleable__content {max-height: 200px;max-width: 100%;overflow: auto;}#sk-container-id-18 input.sk-toggleable__control:checked~label.sk-toggleable__label-arrow:before {content: \"▾\";}#sk-container-id-18 div.sk-estimator input.sk-toggleable__control:checked~label.sk-toggleable__label {background-color: #d4ebff;}#sk-container-id-18 div.sk-label input.sk-toggleable__control:checked~label.sk-toggleable__label {background-color: #d4ebff;}#sk-container-id-18 input.sk-hidden--visually {border: 0;clip: rect(1px 1px 1px 1px);clip: rect(1px, 1px, 1px, 1px);height: 1px;margin: -1px;overflow: hidden;padding: 0;position: absolute;width: 1px;}#sk-container-id-18 div.sk-estimator {font-family: monospace;background-color: #f0f8ff;border: 1px dotted black;border-radius: 0.25em;box-sizing: border-box;margin-bottom: 0.5em;}#sk-container-id-18 div.sk-estimator:hover {background-color: #d4ebff;}#sk-container-id-18 div.sk-parallel-item::after {content: \"\";width: 100%;border-bottom: 1px solid gray;flex-grow: 1;}#sk-container-id-18 div.sk-label:hover label.sk-toggleable__label {background-color: #d4ebff;}#sk-container-id-18 div.sk-serial::before {content: \"\";position: absolute;border-left: 1px solid gray;box-sizing: border-box;top: 0;bottom: 0;left: 50%;z-index: 0;}#sk-container-id-18 div.sk-serial {display: flex;flex-direction: column;align-items: center;background-color: white;padding-right: 0.2em;padding-left: 0.2em;position: relative;}#sk-container-id-18 div.sk-item {position: relative;z-index: 1;}#sk-container-id-18 div.sk-parallel {display: flex;align-items: stretch;justify-content: center;background-color: white;position: relative;}#sk-container-id-18 div.sk-item::before, #sk-container-id-18 div.sk-parallel-item::before {content: \"\";position: absolute;border-left: 1px solid gray;box-sizing: border-box;top: 0;bottom: 0;left: 50%;z-index: -1;}#sk-container-id-18 div.sk-parallel-item {display: flex;flex-direction: column;z-index: 1;position: relative;background-color: white;}#sk-container-id-18 div.sk-parallel-item:first-child::after {align-self: flex-end;width: 50%;}#sk-container-id-18 div.sk-parallel-item:last-child::after {align-self: flex-start;width: 50%;}#sk-container-id-18 div.sk-parallel-item:only-child::after {width: 0;}#sk-container-id-18 div.sk-dashed-wrapped {border: 1px dashed gray;margin: 0 0.4em 0.5em 0.4em;box-sizing: border-box;padding-bottom: 0.4em;background-color: white;}#sk-container-id-18 div.sk-label label {font-family: monospace;font-weight: bold;display: inline-block;line-height: 1.2em;}#sk-container-id-18 div.sk-label-container {text-align: center;}#sk-container-id-18 div.sk-container {/* jupyter's `normalize.less` sets `[hidden] { display: none; }` but bootstrap.min.css set `[hidden] { display: none !important; }` so we also need the `!important` here to be able to override the default hidden behavior on the sphinx rendered scikit-learn.org. See: https://github.com/scikit-learn/scikit-learn/issues/21755 */display: inline-block !important;position: relative;}#sk-container-id-18 div.sk-text-repr-fallback {display: none;}</style><div id=\"sk-container-id-18\" class=\"sk-top-container\"><div class=\"sk-text-repr-fallback\"><pre>SVC(tol=3)</pre><b>In a Jupyter environment, please rerun this cell to show the HTML representation or trust the notebook. <br />On GitHub, the HTML representation is unable to render, please try loading this page with nbviewer.org.</b></div><div class=\"sk-container\" hidden><div class=\"sk-item\"><div class=\"sk-estimator sk-toggleable\"><input class=\"sk-toggleable__control sk-hidden--visually\" id=\"sk-estimator-id-18\" type=\"checkbox\" checked><label for=\"sk-estimator-id-18\" class=\"sk-toggleable__label sk-toggleable__label-arrow\">SVC</label><div class=\"sk-toggleable__content\"><pre>SVC(tol=3)</pre></div></div></div></div></div>"
            ],
            "text/plain": [
              "SVC(tol=3)"
            ]
          },
          "execution_count": 563,
          "metadata": {},
          "output_type": "execute_result"
        }
      ],
      "source": [
        "from sklearn.svm import SVC\n",
        "svc_model=SVC(tol=3)\n",
        "svc_model.fit(X_train,y_train)"
      ],
      "id": "ZfNesDe_DiUl"
    },
    {
      "cell_type": "code",
      "execution_count": null,
      "metadata": {
        "id": "mR2dVTT7DiUs"
      },
      "outputs": [],
      "source": [
        "svc_pred=svc_model.predict(X_test)"
      ],
      "id": "mR2dVTT7DiUs"
    },
    {
      "cell_type": "code",
      "execution_count": null,
      "metadata": {
        "colab": {
          "base_uri": "https://localhost:8080/"
        },
        "id": "qmAKGi77DiUu",
        "outputId": "d0434e14-0d9a-4768-ec37-3ae1a852e391"
      },
      "outputs": [
        {
          "name": "stdout",
          "output_type": "stream",
          "text": [
            "[1 1 1 1 1 1 1 1 1 1 1 1 1 1 1 1 1 1 1 1 1 1 1 1 1 1 1 1 1 1 1 1 1 1 1 1 1\n",
            " 1 1 1 1 1 1 1 1 1 1 1 1 1 1 1 1 1 1 1 1 1 1 1 1 1 1 1 1 1 1 1 1 1 1 1 1 1\n",
            " 1 1 1 1 1 1 1 1 1 1 1 1 1 1 1 1 1 1 1 1 1 1 1 1 1 1 1 1 1 1 1 1 1 1 1 1 1\n",
            " 1 1 1 1 1 1 1 1 1 1 1 1 1 1 1 1 1 1 1 1 1 1 1 1 1 1 1 1 1 1 1 1 1 1 1 1 1\n",
            " 1 1 1 1 1 1 1 1 1 1 1 1 1 1 1 1 1 1 1 1 1 1 1 1 1 1 1 1 1 1 1 1 1 1 1 1 1\n",
            " 1 1 1 1 1 1 1 1 1 1 1 1 1 1 1 1 1 1 1 1 1 1 1 1 1 1 1 1 1 1 1 1 1 1 1 1 1\n",
            " 1 1 1 1 1 1 1 1 1 1 1 1 1 1 1 1 1 1 1 1 1 1 1 1 1 1 1 1 1 1 1 1 1 1 1 1 1\n",
            " 1 1 1 1 1 1 1 1 1 1 1 1 1 1 1 1 1 1 1 1 1 1 1 1 1 1 1 1 1 1 1 1 1 1 1 1 1\n",
            " 1 1 1 1 1 1 1 1 1 1 1 1 1 1 1 1 1 1 1 1 1]\n"
          ]
        }
      ],
      "source": [
        "print(svc_pred)"
      ],
      "id": "qmAKGi77DiUu"
    },
    {
      "cell_type": "code",
      "execution_count": null,
      "metadata": {
        "colab": {
          "base_uri": "https://localhost:8080/"
        },
        "id": "dcIM3hgIDiUv",
        "outputId": "cb2b2c4d-ba61-429f-93f2-cec9e145ce15"
      },
      "outputs": [
        {
          "name": "stdout",
          "output_type": "stream",
          "text": [
            "SupportVectorClassifier model predicted 317 samples as AUTISM and 0 samples as NOT_AUTISM from 317 test samples.\n"
          ]
        }
      ],
      "source": [
        "Not_Autism=0\n",
        "Autism=0\n",
        "for predicted_label in svc_pred:\n",
        "    if predicted_label==0:\n",
        "        Not_Autism+=1\n",
        "    else:\n",
        "        Autism+=1\n",
        "print(f\"SupportVectorClassifier model predicted {Autism} samples as AUTISM and {Not_Autism} samples as NOT_AUTISM from {len(svc_pred)} test samples.\")"
      ],
      "id": "dcIM3hgIDiUv"
    },
    {
      "cell_type": "markdown",
      "metadata": {
        "id": "Qb1L0E4rDiUv"
      },
      "source": [
        "## Result Analysis"
      ],
      "id": "Qb1L0E4rDiUv"
    },
    {
      "cell_type": "markdown",
      "metadata": {
        "id": "XXvFPNO1DiUw"
      },
      "source": [
        "***Accuracy Score***"
      ],
      "id": "XXvFPNO1DiUw"
    },
    {
      "cell_type": "code",
      "execution_count": null,
      "metadata": {
        "colab": {
          "base_uri": "https://localhost:8080/"
        },
        "id": "GLmCf4xmDiUx",
        "outputId": "59807e09-cc3f-463f-8dd7-1c448051a408"
      },
      "outputs": [
        {
          "name": "stdout",
          "output_type": "stream",
          "text": [
            "SupportVectorClassifier Accuracy is 67.30\n"
          ]
        }
      ],
      "source": [
        "svc_accuracy2=accuracy_score(y_true=y_test,y_pred=svc_pred)\n",
        "print(\"SupportVectorClassifier Accuracy is {:.2f}\".format(svc_accuracy*100))"
      ],
      "id": "GLmCf4xmDiUx"
    },
    {
      "cell_type": "markdown",
      "metadata": {
        "id": "LDAJyOLfDiUx"
      },
      "source": [
        "***Classification Report***"
      ],
      "id": "LDAJyOLfDiUx"
    },
    {
      "cell_type": "code",
      "execution_count": null,
      "metadata": {
        "colab": {
          "base_uri": "https://localhost:8080/"
        },
        "id": "O5Cn7uCoDiUy",
        "outputId": "6a9c32ac-c7ba-4db4-e6a7-d4ba7b2e4d59"
      },
      "outputs": [
        {
          "name": "stdout",
          "output_type": "stream",
          "text": [
            "              precision    recall  f1-score   support\n",
            "\n",
            "          No       0.00      0.00      0.00        98\n",
            "         Yes       0.69      1.00      0.82       219\n",
            "\n",
            "    accuracy                           0.69       317\n",
            "   macro avg       0.35      0.50      0.41       317\n",
            "weighted avg       0.48      0.69      0.56       317\n",
            "\n"
          ]
        }
      ],
      "source": [
        "print(classification_report(y_true=y_test,y_pred=svc_pred,target_names=[\"No\",\"Yes\"]))"
      ],
      "id": "O5Cn7uCoDiUy"
    },
    {
      "cell_type": "markdown",
      "metadata": {
        "id": "3sjOCLE0DiUy"
      },
      "source": [
        "***Confusion Matrix***"
      ],
      "id": "3sjOCLE0DiUy"
    },
    {
      "cell_type": "code",
      "execution_count": null,
      "metadata": {
        "colab": {
          "base_uri": "https://localhost:8080/",
          "height": 459
        },
        "id": "kvau_N3sDiUz",
        "outputId": "565996da-4a7d-41cd-dfbe-44040f3e86a4"
      },
      "outputs": [
        {
          "data": {
            "image/png": "[encoded data removed]",
            "text/plain": [
              "<Figure size 500x500 with 1 Axes>"
            ]
          },
          "metadata": {},
          "output_type": "display_data"
        }
      ],
      "source": [
        "plt.figure(figsize=(5,5))\n",
        "plt.rcParams[\"font.size\"]=20\n",
        "labels=[\"No\",\"Yes\"]\n",
        "sns.heatmap(data=confusion_matrix(y_true=y_test,y_pred=svc_pred),\n",
        "            cbar=False,\n",
        "            annot=True,\n",
        "            fmt=\"d\",\n",
        "            xticklabels=labels,\n",
        "            yticklabels=labels,\n",
        "            cmap=\"YlGnBu\",\n",
        "            linecolor=\"black\",\n",
        "            linewidths=0.2)\n",
        "plt.show()"
      ],
      "id": "kvau_N3sDiUz"
    },
    {
      "cell_type": "markdown",
      "metadata": {
        "id": "joTgqq-0DiUz"
      },
      "source": [
        "## Model Saving"
      ],
      "id": "joTgqq-0DiUz"
    },
    {
      "cell_type": "code",
      "execution_count": null,
      "metadata": {
        "id": "EuWFOUPgDiU0"
      },
      "outputs": [],
      "source": [
        "with open(file=\"model/Toddler/SVM_model_toddler.pkl\",mode=\"wb\") as file:\n",
        "    pickle.dump(obj=svc_model,file=file)"
      ],
      "id": "EuWFOUPgDiU0"
    },
    {
      "cell_type": "markdown",
      "metadata": {
        "id": "gY2T8gL_DiU0"
      },
      "source": [
        "## Model-2 RandomForestClassifier"
      ],
      "id": "gY2T8gL_DiU0"
    },
    {
      "cell_type": "code",
      "execution_count": null,
      "metadata": {
        "colab": {
          "base_uri": "https://localhost:8080/",
          "height": 92
        },
        "id": "4-GFiMhlDiU1",
        "outputId": "f6f1c84a-1823-4450-e000-3502e043c135"
      },
      "outputs": [
        {
          "data": {
            "text/html": [
              "<style>#sk-container-id-19 {color: black;background-color: white;}#sk-container-id-19 pre{padding: 0;}#sk-container-id-19 div.sk-toggleable {background-color: white;}#sk-container-id-19 label.sk-toggleable__label {cursor: pointer;display: block;width: 100%;margin-bottom: 0;padding: 0.3em;box-sizing: border-box;text-align: center;}#sk-container-id-19 label.sk-toggleable__label-arrow:before {content: \"▸\";float: left;margin-right: 0.25em;color: #696969;}#sk-container-id-19 label.sk-toggleable__label-arrow:hover:before {color: black;}#sk-container-id-19 div.sk-estimator:hover label.sk-toggleable__label-arrow:before {color: black;}#sk-container-id-19 div.sk-toggleable__content {max-height: 0;max-width: 0;overflow: hidden;text-align: left;background-color: #f0f8ff;}#sk-container-id-19 div.sk-toggleable__content pre {margin: 0.2em;color: black;border-radius: 0.25em;background-color: #f0f8ff;}#sk-container-id-19 input.sk-toggleable__control:checked~div.sk-toggleable__content {max-height: 200px;max-width: 100%;overflow: auto;}#sk-container-id-19 input.sk-toggleable__control:checked~label.sk-toggleable__label-arrow:before {content: \"▾\";}#sk-container-id-19 div.sk-estimator input.sk-toggleable__control:checked~label.sk-toggleable__label {background-color: #d4ebff;}#sk-container-id-19 div.sk-label input.sk-toggleable__control:checked~label.sk-toggleable__label {background-color: #d4ebff;}#sk-container-id-19 input.sk-hidden--visually {border: 0;clip: rect(1px 1px 1px 1px);clip: rect(1px, 1px, 1px, 1px);height: 1px;margin: -1px;overflow: hidden;padding: 0;position: absolute;width: 1px;}#sk-container-id-19 div.sk-estimator {font-family: monospace;background-color: #f0f8ff;border: 1px dotted black;border-radius: 0.25em;box-sizing: border-box;margin-bottom: 0.5em;}#sk-container-id-19 div.sk-estimator:hover {background-color: #d4ebff;}#sk-container-id-19 div.sk-parallel-item::after {content: \"\";width: 100%;border-bottom: 1px solid gray;flex-grow: 1;}#sk-container-id-19 div.sk-label:hover label.sk-toggleable__label {background-color: #d4ebff;}#sk-container-id-19 div.sk-serial::before {content: \"\";position: absolute;border-left: 1px solid gray;box-sizing: border-box;top: 0;bottom: 0;left: 50%;z-index: 0;}#sk-container-id-19 div.sk-serial {display: flex;flex-direction: column;align-items: center;background-color: white;padding-right: 0.2em;padding-left: 0.2em;position: relative;}#sk-container-id-19 div.sk-item {position: relative;z-index: 1;}#sk-container-id-19 div.sk-parallel {display: flex;align-items: stretch;justify-content: center;background-color: white;position: relative;}#sk-container-id-19 div.sk-item::before, #sk-container-id-19 div.sk-parallel-item::before {content: \"\";position: absolute;border-left: 1px solid gray;box-sizing: border-box;top: 0;bottom: 0;left: 50%;z-index: -1;}#sk-container-id-19 div.sk-parallel-item {display: flex;flex-direction: column;z-index: 1;position: relative;background-color: white;}#sk-container-id-19 div.sk-parallel-item:first-child::after {align-self: flex-end;width: 50%;}#sk-container-id-19 div.sk-parallel-item:last-child::after {align-self: flex-start;width: 50%;}#sk-container-id-19 div.sk-parallel-item:only-child::after {width: 0;}#sk-container-id-19 div.sk-dashed-wrapped {border: 1px dashed gray;margin: 0 0.4em 0.5em 0.4em;box-sizing: border-box;padding-bottom: 0.4em;background-color: white;}#sk-container-id-19 div.sk-label label {font-family: monospace;font-weight: bold;display: inline-block;line-height: 1.2em;}#sk-container-id-19 div.sk-label-container {text-align: center;}#sk-container-id-19 div.sk-container {/* jupyter's `normalize.less` sets `[hidden] { display: none; }` but bootstrap.min.css set `[hidden] { display: none !important; }` so we also need the `!important` here to be able to override the default hidden behavior on the sphinx rendered scikit-learn.org. See: https://github.com/scikit-learn/scikit-learn/issues/21755 */display: inline-block !important;position: relative;}#sk-container-id-19 div.sk-text-repr-fallback {display: none;}</style><div id=\"sk-container-id-19\" class=\"sk-top-container\"><div class=\"sk-text-repr-fallback\"><pre>RandomForestClassifier(min_samples_leaf=10, min_samples_split=10,\n",
              "                       n_estimators=1)</pre><b>In a Jupyter environment, please rerun this cell to show the HTML representation or trust the notebook. <br />On GitHub, the HTML representation is unable to render, please try loading this page with nbviewer.org.</b></div><div class=\"sk-container\" hidden><div class=\"sk-item\"><div class=\"sk-estimator sk-toggleable\"><input class=\"sk-toggleable__control sk-hidden--visually\" id=\"sk-estimator-id-19\" type=\"checkbox\" checked><label for=\"sk-estimator-id-19\" class=\"sk-toggleable__label sk-toggleable__label-arrow\">RandomForestClassifier</label><div class=\"sk-toggleable__content\"><pre>RandomForestClassifier(min_samples_leaf=10, min_samples_split=10,\n",
              "                       n_estimators=1)</pre></div></div></div></div></div>"
            ],
            "text/plain": [
              "RandomForestClassifier(min_samples_leaf=10, min_samples_split=10,\n",
              "                       n_estimators=1)"
            ]
          },
          "execution_count": 571,
          "metadata": {},
          "output_type": "execute_result"
        }
      ],
      "source": [
        "from sklearn.ensemble import RandomForestClassifier\n",
        "RF_model=RandomForestClassifier(n_estimators=1,min_samples_split=10,min_samples_leaf=10)\n",
        "RF_model.fit(X=X_train,y=y_train)"
      ],
      "id": "4-GFiMhlDiU1"
    },
    {
      "cell_type": "code",
      "execution_count": null,
      "metadata": {
        "id": "cVA1VCmUDiU1"
      },
      "outputs": [],
      "source": [
        "RF_pred=RF_model.predict(X=X_test)"
      ],
      "id": "cVA1VCmUDiU1"
    },
    {
      "cell_type": "code",
      "execution_count": null,
      "metadata": {
        "colab": {
          "base_uri": "https://localhost:8080/"
        },
        "id": "5yoh8ZZTDiU2",
        "outputId": "0565dd6f-3917-434f-f893-c750e9acbb70"
      },
      "outputs": [
        {
          "name": "stdout",
          "output_type": "stream",
          "text": [
            "[1 0 0 1 1 0 1 0 1 0 1 0 0 0 1 1 1 1 1 1 1 0 1 1 0 1 1 1 1 1 1 0 1 1 1 1 1\n",
            " 1 1 1 0 1 1 1 0 0 1 0 1 1 1 1 0 1 1 1 0 1 0 1 1 0 0 1 0 1 1 1 1 1 1 1 1 0\n",
            " 1 0 1 1 1 0 1 1 0 1 1 1 1 0 1 0 0 1 1 1 1 1 1 1 1 1 1 0 1 1 1 1 1 0 0 0 1\n",
            " 1 1 1 1 1 0 1 0 0 0 0 1 0 0 1 0 1 1 1 0 1 0 1 0 1 1 1 1 0 0 1 0 1 0 0 1 1\n",
            " 1 1 1 1 1 1 1 1 1 0 1 0 1 1 0 0 0 1 1 1 1 1 0 0 1 1 1 1 1 0 1 1 1 1 1 0 0\n",
            " 1 1 1 1 1 0 1 0 0 0 1 0 1 1 1 0 0 0 1 1 1 0 1 1 0 0 1 1 1 1 1 1 1 1 1 1 1\n",
            " 0 1 0 1 1 1 1 0 0 1 1 1 1 0 1 1 1 1 1 1 1 1 0 0 1 1 1 0 1 1 0 0 1 1 1 0 1\n",
            " 1 0 1 1 1 1 1 1 1 1 0 0 0 0 1 1 1 1 1 1 0 1 0 1 1 1 0 0 0 1 1 1 1 1 1 1 1\n",
            " 1 1 0 0 0 1 1 0 1 0 1 0 1 1 1 1 1 1 1 1 1]\n"
          ]
        }
      ],
      "source": [
        "print(RF_pred)"
      ],
      "id": "5yoh8ZZTDiU2"
    },
    {
      "cell_type": "code",
      "execution_count": null,
      "metadata": {
        "colab": {
          "base_uri": "https://localhost:8080/"
        },
        "id": "6z8RarfBDiU3",
        "outputId": "ce7bc1cc-b711-40e5-b9b9-54dfe1155137"
      },
      "outputs": [
        {
          "name": "stdout",
          "output_type": "stream",
          "text": [
            "RandomForestClassifier model predicted 221 samples as AUTISM and 96 samples as NOT_AUTISM from 317 test samples.\n"
          ]
        }
      ],
      "source": [
        "Not_Autism=0\n",
        "Autism=0\n",
        "for predicted_label in RF_pred:\n",
        "    if predicted_label==0:\n",
        "        Not_Autism+=1\n",
        "    else:\n",
        "        Autism+=1\n",
        "print(f\"RandomForestClassifier model predicted {Autism} samples as AUTISM and {Not_Autism} samples as NOT_AUTISM from {len(RF_pred)} test samples.\")"
      ],
      "id": "6z8RarfBDiU3"
    },
    {
      "cell_type": "markdown",
      "metadata": {
        "id": "sNF6Bhm1DiU3"
      },
      "source": [
        "## Result Analysis"
      ],
      "id": "sNF6Bhm1DiU3"
    },
    {
      "cell_type": "markdown",
      "metadata": {
        "id": "GPcLi27uDiU4"
      },
      "source": [
        "***Accuracy score***"
      ],
      "id": "GPcLi27uDiU4"
    },
    {
      "cell_type": "code",
      "execution_count": null,
      "metadata": {
        "colab": {
          "base_uri": "https://localhost:8080/"
        },
        "id": "NYjocC3_DiU4",
        "outputId": "327e3fa1-11d9-4f31-e6b2-a8ab1d7b6bab"
      },
      "outputs": [
        {
          "name": "stdout",
          "output_type": "stream",
          "text": [
            "RandomForestClassifier accuracy is 98.58\n"
          ]
        }
      ],
      "source": [
        "RF_accuracy2=accuracy_score(y_true=y_test,y_pred=RF_pred)\n",
        "print(\"RandomForestClassifier accuracy is {:.2f}\".format(RF_accuracy*100))"
      ],
      "id": "NYjocC3_DiU4"
    },
    {
      "cell_type": "markdown",
      "metadata": {
        "id": "UAJ_m0BwDiU5"
      },
      "source": [
        "***Classification report***"
      ],
      "id": "UAJ_m0BwDiU5"
    },
    {
      "cell_type": "code",
      "execution_count": null,
      "metadata": {
        "colab": {
          "base_uri": "https://localhost:8080/"
        },
        "id": "ABRM6Gd4DiU5",
        "outputId": "95f45096-2ec6-4532-a0f9-156a8ce821dc"
      },
      "outputs": [
        {
          "name": "stdout",
          "output_type": "stream",
          "text": [
            "              precision    recall  f1-score   support\n",
            "\n",
            "          No       1.00      0.98      0.99        98\n",
            "         Yes       0.99      1.00      1.00       219\n",
            "\n",
            "    accuracy                           0.99       317\n",
            "   macro avg       1.00      0.99      0.99       317\n",
            "weighted avg       0.99      0.99      0.99       317\n",
            "\n"
          ]
        }
      ],
      "source": [
        "print(classification_report(y_true=y_test,y_pred=RF_pred,target_names=[\"No\",\"Yes\"]))"
      ],
      "id": "ABRM6Gd4DiU5"
    },
    {
      "cell_type": "markdown",
      "metadata": {
        "id": "ctbl1xV6DiU5"
      },
      "source": [
        "***Confusion Matrix***"
      ],
      "id": "ctbl1xV6DiU5"
    },
    {
      "cell_type": "code",
      "execution_count": null,
      "metadata": {
        "colab": {
          "base_uri": "https://localhost:8080/",
          "height": 459
        },
        "id": "WtBZ7c61DiU6",
        "outputId": "125d403b-200e-47e8-811f-82611d0df2a7"
      },
      "outputs": [
        {
          "data": {
            "image/png": "[encoded data removed]",
            "text/plain": [
              "<Figure size 500x500 with 1 Axes>"
            ]
          },
          "metadata": {},
          "output_type": "display_data"
        }
      ],
      "source": [
        "plt.figure(figsize=(5,5))\n",
        "plt.rcParams[\"font.size\"]=20\n",
        "labels=[\"No\",\"Yes\"]\n",
        "sns.heatmap(data=confusion_matrix(y_true=y_test,y_pred=RF_pred),\n",
        "            cbar=False,\n",
        "            annot=True,\n",
        "            fmt=\"d\",\n",
        "            xticklabels=labels,\n",
        "            yticklabels=labels,\n",
        "            cmap=\"YlGnBu\",\n",
        "            linecolor=\"black\",\n",
        "            linewidths=0.2)\n",
        "plt.show()"
      ],
      "id": "WtBZ7c61DiU6"
    },
    {
      "cell_type": "code",
      "execution_count": null,
      "metadata": {
        "id": "W8gN8B7kDiU6"
      },
      "outputs": [],
      "source": [
        "with open(file=\"model/Toddler/RF_model_toddler.pkl\",mode=\"wb\") as file:\n",
        "    pickle.dump(obj=RF_model,file=file)"
      ],
      "id": "W8gN8B7kDiU6"
    },
    {
      "cell_type": "markdown",
      "metadata": {
        "id": "tCIFh9qHDiU6"
      },
      "source": [
        "## Model-3 ANN(Artificial Neural Network)"
      ],
      "id": "tCIFh9qHDiU6"
    },
    {
      "cell_type": "code",
      "execution_count": null,
      "metadata": {
        "id": "st1OP2qbDiU7"
      },
      "outputs": [],
      "source": [
        "from tensorflow.keras import Sequential\n",
        "from tensorflow.keras.layers import Dense,Flatten\n",
        "from tensorflow.keras import optimizers"
      ],
      "id": "st1OP2qbDiU7"
    },
    {
      "cell_type": "code",
      "execution_count": null,
      "metadata": {
        "id": "RhM7jYXMDiU7"
      },
      "outputs": [],
      "source": [
        "hidden_units=100\n",
        "hidden_layer_act='tanh'\n",
        "output_layer_act='sigmoid'\n",
        "no_epochs=10"
      ],
      "id": "RhM7jYXMDiU7"
    },
    {
      "cell_type": "code",
      "execution_count": null,
      "metadata": {
        "id": "1BfyQKl9DiU8"
      },
      "outputs": [],
      "source": [
        "model = Sequential()\n",
        "model.add(Dense(hidden_units, input_dim=16, activation=hidden_layer_act))\n",
        "model.add(Dense(hidden_units, activation=hidden_layer_act))\n",
        "model.add(Dense(1, activation=output_layer_act))"
      ],
      "id": "1BfyQKl9DiU8"
    },
    {
      "cell_type": "code",
      "execution_count": null,
      "metadata": {
        "id": "GGsrc50ADiU8"
      },
      "outputs": [],
      "source": [
        "model.compile(loss='binary_crossentropy',optimizer=\"adam\", metrics=['accuracy'])"
      ],
      "id": "GGsrc50ADiU8"
    },
    {
      "cell_type": "code",
      "execution_count": null,
      "metadata": {
        "colab": {
          "base_uri": "https://localhost:8080/"
        },
        "id": "g1ofwVRfDiU9",
        "outputId": "7ded2562-644b-44ef-efe3-e05e587f5e2a"
      },
      "outputs": [
        {
          "name": "stdout",
          "output_type": "stream",
          "text": [
            "Model: \"sequential_7\"\n",
            "_________________________________________________________________\n",
            " Layer (type)                Output Shape              Param #   \n",
            "=================================================================\n",
            " dense_21 (Dense)            (None, 100)               1700      \n",
            "                                                                 \n",
            " dense_22 (Dense)            (None, 100)               10100     \n",
            "                                                                 \n",
            " dense_23 (Dense)            (None, 1)                 101       \n",
            "                                                                 \n",
            "=================================================================\n",
            "Total params: 11,901\n",
            "Trainable params: 11,901\n",
            "Non-trainable params: 0\n",
            "_________________________________________________________________\n"
          ]
        }
      ],
      "source": [
        "model.summary()"
      ],
      "id": "g1ofwVRfDiU9"
    },
    {
      "cell_type": "code",
      "execution_count": null,
      "metadata": {
        "colab": {
          "base_uri": "https://localhost:8080/"
        },
        "id": "K0TpVO-NDiU9",
        "outputId": "ee07244c-f1c6-4fea-8bff-70198a306a5f"
      },
      "outputs": [
        {
          "name": "stdout",
          "output_type": "stream",
          "text": [
            "Epoch 1/10\n",
            "24/24 [==============================] - 1s 11ms/step - loss: 0.5986 - accuracy: 0.7286 - val_loss: 0.3583 - val_accuracy: 0.8896\n",
            "Epoch 2/10\n",
            "24/24 [==============================] - 0s 4ms/step - loss: 0.2829 - accuracy: 0.9077 - val_loss: 0.1994 - val_accuracy: 0.9432\n",
            "Epoch 3/10\n",
            "24/24 [==============================] - 0s 4ms/step - loss: 0.1778 - accuracy: 0.9376 - val_loss: 0.1324 - val_accuracy: 0.9653\n",
            "Epoch 4/10\n",
            "24/24 [==============================] - 0s 4ms/step - loss: 0.1340 - accuracy: 0.9552 - val_loss: 0.1041 - val_accuracy: 0.9716\n",
            "Epoch 5/10\n",
            "24/24 [==============================] - 0s 4ms/step - loss: 0.1106 - accuracy: 0.9593 - val_loss: 0.1062 - val_accuracy: 0.9558\n",
            "Epoch 6/10\n",
            "24/24 [==============================] - 0s 4ms/step - loss: 0.0882 - accuracy: 0.9688 - val_loss: 0.0779 - val_accuracy: 0.9748\n",
            "Epoch 7/10\n",
            "24/24 [==============================] - 0s 4ms/step - loss: 0.0684 - accuracy: 0.9864 - val_loss: 0.0663 - val_accuracy: 0.9748\n",
            "Epoch 8/10\n",
            "24/24 [==============================] - 0s 4ms/step - loss: 0.0610 - accuracy: 0.9864 - val_loss: 0.0587 - val_accuracy: 0.9811\n",
            "Epoch 9/10\n",
            "24/24 [==============================] - 0s 4ms/step - loss: 0.0539 - accuracy: 0.9878 - val_loss: 0.0653 - val_accuracy: 0.9779\n",
            "Epoch 10/10\n",
            "24/24 [==============================] - 0s 3ms/step - loss: 0.0476 - accuracy: 0.9905 - val_loss: 0.0485 - val_accuracy: 0.9811\n"
          ]
        }
      ],
      "source": [
        "history=model.fit(x=X_train,y=y_train,epochs=no_epochs, batch_size=32,validation_data=(X_test,y_test))"
      ],
      "id": "K0TpVO-NDiU9"
    },
    {
      "cell_type": "markdown",
      "metadata": {
        "id": "T9pFp0-5DiU-"
      },
      "source": [
        "## Model Accuracy and Loss Plot-Graphs"
      ],
      "id": "T9pFp0-5DiU-"
    },
    {
      "cell_type": "code",
      "execution_count": null,
      "metadata": {
        "colab": {
          "base_uri": "https://localhost:8080/",
          "height": 494
        },
        "id": "qapn66jBDiU-",
        "outputId": "980cd1a0-be77-48ac-e8d7-2f0c125d8c14"
      },
      "outputs": [
        {
          "data": {
            "image/png": "[encoded data removed]",
            "text/plain": [
              "<Figure size 1000x500 with 1 Axes>"
            ]
          },
          "metadata": {},
          "output_type": "display_data"
        }
      ],
      "source": [
        "plt.figure(figsize=(10,5))\n",
        "plt.plot(history.history[\"accuracy\"])\n",
        "plt.plot(history.history[\"val_accuracy\"])\n",
        "plt.title(label=\"plot-graphs for accuracy and validated acccuracy\")\n",
        "plt.legend([\"Accuracy\",\"Val_accuracy\"])\n",
        "plt.show()"
      ],
      "id": "qapn66jBDiU-"
    },
    {
      "cell_type": "code",
      "execution_count": null,
      "metadata": {
        "colab": {
          "base_uri": "https://localhost:8080/",
          "height": 494
        },
        "id": "2ycDgyptDiU-",
        "outputId": "91009efa-a4ae-4476-b91d-424fa24049e4"
      },
      "outputs": [
        {
          "data": {
            "image/png": "[encoded data removed]",
            "text/plain": [
              "<Figure size 1000x500 with 1 Axes>"
            ]
          },
          "metadata": {},
          "output_type": "display_data"
        }
      ],
      "source": [
        "plt.figure(figsize=(10,5))\n",
        "plt.plot(history.history[\"loss\"])\n",
        "plt.plot(history.history[\"val_loss\"])\n",
        "plt.title(label=\"plot-graphs for loss and validated loss\")\n",
        "plt.legend([\"Loss\",\"Val_Loss\"])\n",
        "plt.show()"
      ],
      "id": "2ycDgyptDiU-"
    },
    {
      "cell_type": "markdown",
      "metadata": {
        "id": "b9au4m6ADiU_"
      },
      "source": [
        "## Model Saving"
      ],
      "id": "b9au4m6ADiU_"
    },
    {
      "cell_type": "code",
      "execution_count": null,
      "metadata": {
        "id": "zX8GkDD8DiU_"
      },
      "outputs": [],
      "source": [
        "model.save(\"model/Toddler/ANN_model_toddler.h5\")"
      ],
      "id": "zX8GkDD8DiU_"
    },
    {
      "cell_type": "code",
      "execution_count": null,
      "metadata": {
        "colab": {
          "base_uri": "https://localhost:8080/"
        },
        "id": "Ybo6KOa-DiU_",
        "outputId": "d470c57d-eafb-4d8b-d85e-c682ffd30ee8"
      },
      "outputs": [
        {
          "name": "stdout",
          "output_type": "stream",
          "text": [
            "32/32 [==============================] - 0s 1ms/step\n"
          ]
        }
      ],
      "source": [
        "ann_pred=model.predict(x=X_test,batch_size=10,verbose=1)"
      ],
      "id": "Ybo6KOa-DiU_"
    },
    {
      "cell_type": "code",
      "execution_count": null,
      "metadata": {
        "colab": {
          "base_uri": "https://localhost:8080/"
        },
        "id": "xq9754-8DiVA",
        "outputId": "1756533d-99b9-4051-edce-89642931ac0a"
      },
      "outputs": [
        {
          "name": "stdout",
          "output_type": "stream",
          "text": [
            "[[9.98349488e-01]\n",
            " [5.65399408e-01]\n",
            " [2.43493114e-02]\n",
            " [9.94968891e-01]\n",
            " [9.17813420e-01]\n",
            " [2.77960161e-03]\n",
            " [9.99536932e-01]\n",
            " [5.07120676e-02]\n",
            " [9.99594390e-01]\n",
            " [1.55056501e-03]\n",
            " [9.98556674e-01]\n",
            " [1.28378699e-04]\n",
            " [1.87614336e-04]\n",
            " [1.12240523e-04]\n",
            " [9.98989046e-01]\n",
            " [9.99090493e-01]\n",
            " [9.50530291e-01]\n",
            " [9.98675108e-01]\n",
            " [9.99318779e-01]\n",
            " [9.99285519e-01]\n",
            " [9.99546707e-01]\n",
            " [2.89453223e-04]\n",
            " [9.99163389e-01]\n",
            " [9.98285830e-01]\n",
            " [8.39430615e-02]\n",
            " [9.99494553e-01]\n",
            " [9.96552706e-01]\n",
            " [9.96502459e-01]\n",
            " [9.98428345e-01]\n",
            " [9.91775692e-01]\n",
            " [9.99319077e-01]\n",
            " [1.91433972e-03]\n",
            " [9.99603152e-01]\n",
            " [9.99532700e-01]\n",
            " [9.75813568e-01]\n",
            " [9.98289764e-01]\n",
            " [9.80367839e-01]\n",
            " [9.98668849e-01]\n",
            " [9.98993337e-01]\n",
            " [9.99153733e-01]\n",
            " [3.22969109e-02]\n",
            " [9.99658763e-01]\n",
            " [9.97602105e-01]\n",
            " [9.86926615e-01]\n",
            " [6.04731213e-05]\n",
            " [3.21524334e-03]\n",
            " [9.98619378e-01]\n",
            " [5.43327013e-04]\n",
            " [9.92298484e-01]\n",
            " [9.98189151e-01]\n",
            " [9.93771732e-01]\n",
            " [9.97313201e-01]\n",
            " [7.88570717e-02]\n",
            " [9.99092042e-01]\n",
            " [9.95310903e-01]\n",
            " [9.97056842e-01]\n",
            " [1.76853349e-03]\n",
            " [9.98983502e-01]\n",
            " [1.72707736e-02]\n",
            " [9.93099451e-01]\n",
            " [9.98943627e-01]\n",
            " [2.29641795e-03]\n",
            " [6.64279088e-02]\n",
            " [9.98531640e-01]\n",
            " [1.06585026e-03]\n",
            " [9.98088896e-01]\n",
            " [9.97661829e-01]\n",
            " [7.46092200e-01]\n",
            " [9.98779893e-01]\n",
            " [9.99180734e-01]\n",
            " [9.88099694e-01]\n",
            " [9.99658763e-01]\n",
            " [9.99513388e-01]\n",
            " [9.12325829e-03]\n",
            " [9.92785692e-01]\n",
            " [6.84258121e-04]\n",
            " [9.72808003e-01]\n",
            " [9.88077343e-01]\n",
            " [4.03476983e-01]\n",
            " [7.45088255e-05]\n",
            " [9.97284114e-01]\n",
            " [9.99167502e-01]\n",
            " [7.88570717e-02]\n",
            " [9.98908460e-01]\n",
            " [9.99636471e-01]\n",
            " [9.98728991e-01]\n",
            " [9.97596502e-01]\n",
            " [1.01282865e-01]\n",
            " [9.99018490e-01]\n",
            " [1.30878463e-02]\n",
            " [2.19336808e-01]\n",
            " [9.95267987e-01]\n",
            " [9.99204695e-01]\n",
            " [9.99489307e-01]\n",
            " [9.92336035e-01]\n",
            " [8.78349364e-01]\n",
            " [9.98895764e-01]\n",
            " [9.98679399e-01]\n",
            " [9.97123182e-01]\n",
            " [9.88293469e-01]\n",
            " [9.98270631e-01]\n",
            " [1.40528762e-04]\n",
            " [9.98838544e-01]\n",
            " [9.22448695e-01]\n",
            " [9.98480916e-01]\n",
            " [9.99657571e-01]\n",
            " [7.10107207e-01]\n",
            " [2.97564939e-02]\n",
            " [3.85485264e-03]\n",
            " [7.45088255e-05]\n",
            " [9.26425278e-01]\n",
            " [9.88217056e-01]\n",
            " [9.98149157e-01]\n",
            " [9.98874545e-01]\n",
            " [9.99557614e-01]\n",
            " [9.98473167e-01]\n",
            " [8.41634348e-03]\n",
            " [9.91733909e-01]\n",
            " [5.13286504e-04]\n",
            " [2.43979594e-04]\n",
            " [4.58562456e-04]\n",
            " [9.05330744e-05]\n",
            " [9.84039962e-01]\n",
            " [1.06585026e-03]\n",
            " [6.17564583e-05]\n",
            " [9.98705268e-01]\n",
            " [5.99456660e-04]\n",
            " [9.99275744e-01]\n",
            " [9.99263763e-01]\n",
            " [9.97662663e-01]\n",
            " [1.73513778e-03]\n",
            " [9.96132553e-01]\n",
            " [2.02032536e-01]\n",
            " [9.99457896e-01]\n",
            " [1.40528762e-04]\n",
            " [9.98328984e-01]\n",
            " [9.99428391e-01]\n",
            " [9.99156892e-01]\n",
            " [9.74165440e-01]\n",
            " [8.08154106e-01]\n",
            " [1.53339617e-02]\n",
            " [9.81642485e-01]\n",
            " [8.64629546e-05]\n",
            " [9.99658763e-01]\n",
            " [7.46638328e-03]\n",
            " [1.74488756e-04]\n",
            " [9.89655733e-01]\n",
            " [8.07099164e-01]\n",
            " [9.98506665e-01]\n",
            " [9.99234974e-01]\n",
            " [9.99478221e-01]\n",
            " [9.99513388e-01]\n",
            " [9.80696201e-01]\n",
            " [9.95882511e-01]\n",
            " [4.81448114e-01]\n",
            " [7.84883976e-01]\n",
            " [9.96633291e-01]\n",
            " [9.08490561e-04]\n",
            " [9.43230391e-01]\n",
            " [1.04365179e-04]\n",
            " [9.99666095e-01]\n",
            " [9.97484028e-01]\n",
            " [1.57829199e-03]\n",
            " [1.85080629e-04]\n",
            " [2.45373428e-01]\n",
            " [9.99123812e-01]\n",
            " [9.89508867e-01]\n",
            " [9.49371040e-01]\n",
            " [8.78371954e-01]\n",
            " [9.70438480e-01]\n",
            " [5.00586517e-02]\n",
            " [1.39759824e-04]\n",
            " [9.99557614e-01]\n",
            " [9.93668795e-01]\n",
            " [9.99426425e-01]\n",
            " [9.98525262e-01]\n",
            " [8.62568140e-01]\n",
            " [2.77960161e-03]\n",
            " [9.99555826e-01]\n",
            " [9.97325599e-01]\n",
            " [9.98506248e-01]\n",
            " [9.78554010e-01]\n",
            " [9.99557614e-01]\n",
            " [5.48217818e-03]\n",
            " [2.22459421e-01]\n",
            " [9.99011934e-01]\n",
            " [7.59954393e-01]\n",
            " [9.20345068e-01]\n",
            " [9.94932055e-01]\n",
            " [9.95312750e-01]\n",
            " [2.43979594e-04]\n",
            " [9.94637489e-01]\n",
            " [1.07884422e-04]\n",
            " [3.47197813e-04]\n",
            " [3.16136237e-03]\n",
            " [9.99443293e-01]\n",
            " [7.45088255e-05]\n",
            " [9.91787612e-01]\n",
            " [8.97980154e-01]\n",
            " [9.52983022e-01]\n",
            " [7.38562942e-01]\n",
            " [4.70810744e-04]\n",
            " [7.45088255e-05]\n",
            " [9.92242754e-01]\n",
            " [9.90576565e-01]\n",
            " [9.99190748e-01]\n",
            " [7.23689445e-05]\n",
            " [9.99235511e-01]\n",
            " [9.99510407e-01]\n",
            " [4.58562427e-04]\n",
            " [5.13286504e-04]\n",
            " [9.94795680e-01]\n",
            " [9.80864346e-01]\n",
            " [9.95965481e-01]\n",
            " [9.67772186e-01]\n",
            " [9.97582018e-01]\n",
            " [9.98694301e-01]\n",
            " [9.99390364e-01]\n",
            " [9.90686297e-01]\n",
            " [9.99576688e-01]\n",
            " [9.99398649e-01]\n",
            " [9.99040842e-01]\n",
            " [5.35962172e-02]\n",
            " [9.99658763e-01]\n",
            " [3.12976330e-03]\n",
            " [9.99145746e-01]\n",
            " [8.31037521e-01]\n",
            " [9.54941332e-01]\n",
            " [9.97389853e-01]\n",
            " [1.76853349e-03]\n",
            " [5.43327013e-04]\n",
            " [9.23369110e-01]\n",
            " [8.89463842e-01]\n",
            " [9.99249756e-01]\n",
            " [7.48207033e-01]\n",
            " [1.26110055e-04]\n",
            " [9.98906732e-01]\n",
            " [9.98236060e-01]\n",
            " [9.99658763e-01]\n",
            " [9.92892385e-01]\n",
            " [9.99541163e-01]\n",
            " [8.49573255e-01]\n",
            " [9.99557614e-01]\n",
            " [9.99487519e-01]\n",
            " [5.99456660e-04]\n",
            " [3.25139059e-04]\n",
            " [8.37996602e-01]\n",
            " [9.99078810e-01]\n",
            " [9.99319315e-01]\n",
            " [2.06839666e-01]\n",
            " [9.98953462e-01]\n",
            " [5.72310761e-02]\n",
            " [8.72967094e-02]\n",
            " [1.91433972e-03]\n",
            " [9.99575019e-01]\n",
            " [8.20229053e-01]\n",
            " [9.98678267e-01]\n",
            " [2.21046401e-04]\n",
            " [9.99373198e-01]\n",
            " [9.22793508e-01]\n",
            " [6.67422950e-01]\n",
            " [9.99636471e-01]\n",
            " [9.99063253e-01]\n",
            " [9.98902082e-01]\n",
            " [9.98660564e-01]\n",
            " [9.02703166e-01]\n",
            " [9.99657273e-01]\n",
            " [9.95329320e-01]\n",
            " [9.98149157e-01]\n",
            " [7.09101805e-05]\n",
            " [8.97736847e-02]\n",
            " [1.21089339e-04]\n",
            " [1.42718724e-04]\n",
            " [9.99332964e-01]\n",
            " [9.98999059e-01]\n",
            " [9.99434173e-01]\n",
            " [9.99382317e-01]\n",
            " [5.93508720e-01]\n",
            " [9.99265909e-01]\n",
            " [4.30362672e-01]\n",
            " [9.98187006e-01]\n",
            " [1.43697917e-01]\n",
            " [9.98976231e-01]\n",
            " [9.99467790e-01]\n",
            " [9.86457646e-01]\n",
            " [6.07558154e-03]\n",
            " [3.91337206e-04]\n",
            " [1.06021697e-02]\n",
            " [9.55092192e-01]\n",
            " [9.90313053e-01]\n",
            " [9.99220848e-01]\n",
            " [9.99472201e-01]\n",
            " [9.99604166e-01]\n",
            " [1.74120460e-02]\n",
            " [9.99356329e-01]\n",
            " [9.92785692e-01]\n",
            " [9.98620152e-01]\n",
            " [9.90879238e-01]\n",
            " [1.28378684e-04]\n",
            " [2.49077217e-03]\n",
            " [3.66590083e-01]\n",
            " [9.99085486e-01]\n",
            " [9.87856328e-01]\n",
            " [4.32696342e-02]\n",
            " [8.65958929e-01]\n",
            " [7.45088255e-05]\n",
            " [9.96475518e-01]\n",
            " [7.45088255e-05]\n",
            " [9.99386549e-01]\n",
            " [9.97616112e-01]\n",
            " [9.96855557e-01]\n",
            " [9.99294400e-01]\n",
            " [9.98827279e-01]\n",
            " [9.99053180e-01]\n",
            " [9.97392297e-01]\n",
            " [9.99557614e-01]\n",
            " [9.99096870e-01]]\n"
          ]
        }
      ],
      "source": [
        "print(ann_pred)"
      ],
      "id": "xq9754-8DiVA"
    },
    {
      "cell_type": "code",
      "execution_count": null,
      "metadata": {
        "colab": {
          "base_uri": "https://localhost:8080/"
        },
        "id": "-08At76YDiVA",
        "outputId": "f52deafe-6df8-4577-c134-df9439dc738d"
      },
      "outputs": [
        {
          "name": "stdout",
          "output_type": "stream",
          "text": [
            "[1, 1, 0, 1, 1, 0, 1, 0, 1, 0, 1, 0, 0, 0, 1, 1, 1, 1, 1, 1, 1, 0, 1, 1, 0, 1, 1, 1, 1, 1, 1, 0, 1, 1, 1, 1, 1, 1, 1, 1, 0, 1, 1, 1, 0, 0, 1, 0, 1, 1, 1, 1, 0, 1, 1, 1, 0, 1, 0, 1, 1, 0, 0, 1, 0, 1, 1, 1, 1, 1, 1, 1, 1, 0, 1, 0, 1, 1, 0, 0, 1, 1, 0, 1, 1, 1, 1, 0, 1, 0, 0, 1, 1, 1, 1, 1, 1, 1, 1, 1, 1, 0, 1, 1, 1, 1, 1, 0, 0, 0, 1, 1, 1, 1, 1, 1, 0, 1, 0, 0, 0, 0, 1, 0, 0, 1, 0, 1, 1, 1, 0, 1, 0, 1, 0, 1, 1, 1, 1, 1, 0, 1, 0, 1, 0, 0, 1, 1, 1, 1, 1, 1, 1, 1, 0, 1, 1, 0, 1, 0, 1, 1, 0, 0, 0, 1, 1, 1, 1, 1, 0, 0, 1, 1, 1, 1, 1, 0, 1, 1, 1, 1, 1, 0, 0, 1, 1, 1, 1, 1, 0, 1, 0, 0, 0, 1, 0, 1, 1, 1, 1, 0, 0, 1, 1, 1, 0, 1, 1, 0, 0, 1, 1, 1, 1, 1, 1, 1, 1, 1, 1, 1, 0, 1, 0, 1, 1, 1, 1, 0, 0, 1, 1, 1, 1, 0, 1, 1, 1, 1, 1, 1, 1, 1, 0, 0, 1, 1, 1, 0, 1, 0, 0, 0, 1, 1, 1, 0, 1, 1, 1, 1, 1, 1, 1, 1, 1, 1, 1, 0, 0, 0, 0, 1, 1, 1, 1, 1, 1, 0, 1, 0, 1, 1, 1, 0, 0, 0, 1, 1, 1, 1, 1, 0, 1, 1, 1, 1, 0, 0, 0, 1, 1, 0, 1, 0, 1, 0, 1, 1, 1, 1, 1, 1, 1, 1, 1]\n"
          ]
        }
      ],
      "source": [
        "rounded = [int(round(x[0])) for x in ann_pred]\n",
        "print(rounded)"
      ],
      "id": "-08At76YDiVA"
    },
    {
      "cell_type": "code",
      "execution_count": null,
      "metadata": {
        "id": "UP5q8E31DiVA"
      },
      "outputs": [],
      "source": [
        "y_true=list(y_test)"
      ],
      "id": "UP5q8E31DiVA"
    },
    {
      "cell_type": "code",
      "execution_count": null,
      "metadata": {
        "colab": {
          "base_uri": "https://localhost:8080/"
        },
        "id": "cY9FJ2tGDiVB",
        "outputId": "5937b5db-e9e9-4754-d55f-61decfe4b4a9"
      },
      "outputs": [
        {
          "name": "stdout",
          "output_type": "stream",
          "text": [
            "[1, 0, 0, 1, 1, 0, 1, 0, 1, 0, 1, 0, 0, 0, 1, 1, 1, 1, 1, 1, 1, 0, 1, 1, 0, 1, 1, 1, 1, 1, 1, 0, 1, 1, 1, 1, 1, 1, 1, 1, 0, 1, 1, 1, 0, 0, 1, 0, 1, 1, 1, 1, 0, 1, 1, 1, 0, 1, 0, 1, 1, 0, 0, 1, 0, 1, 1, 1, 1, 1, 1, 1, 1, 0, 1, 0, 1, 1, 1, 0, 1, 1, 0, 1, 1, 1, 1, 0, 1, 0, 0, 1, 1, 1, 1, 1, 1, 1, 1, 1, 1, 0, 1, 1, 1, 1, 1, 0, 0, 0, 1, 1, 1, 1, 1, 1, 0, 1, 0, 0, 0, 0, 1, 0, 0, 1, 0, 1, 1, 1, 0, 1, 0, 1, 0, 1, 1, 1, 1, 0, 0, 1, 0, 1, 0, 0, 1, 1, 1, 1, 1, 1, 1, 1, 1, 1, 1, 0, 1, 0, 1, 1, 0, 0, 0, 1, 1, 1, 1, 1, 0, 0, 1, 1, 1, 1, 1, 0, 1, 1, 1, 1, 1, 0, 0, 1, 1, 1, 1, 1, 0, 1, 0, 0, 0, 1, 0, 1, 1, 1, 0, 0, 0, 1, 1, 1, 0, 1, 1, 0, 0, 1, 1, 1, 1, 1, 1, 1, 1, 1, 1, 1, 0, 1, 0, 1, 1, 1, 1, 0, 0, 1, 1, 1, 1, 0, 1, 1, 1, 1, 1, 1, 1, 1, 0, 0, 1, 1, 1, 0, 1, 0, 0, 0, 1, 1, 1, 0, 1, 1, 0, 1, 1, 1, 1, 1, 1, 1, 1, 0, 0, 0, 0, 1, 1, 1, 1, 1, 1, 0, 1, 0, 1, 1, 1, 0, 0, 0, 1, 1, 1, 1, 1, 0, 1, 1, 1, 1, 0, 0, 0, 1, 1, 0, 1, 0, 1, 0, 1, 1, 1, 1, 1, 1, 1, 1, 1]\n"
          ]
        }
      ],
      "source": [
        "print(y_true)"
      ],
      "id": "cY9FJ2tGDiVB"
    },
    {
      "cell_type": "code",
      "execution_count": null,
      "metadata": {
        "colab": {
          "base_uri": "https://localhost:8080/"
        },
        "id": "ntv3S3QxDiVB",
        "outputId": "62d0bb6f-4556-4471-a531-18642e1b465c"
      },
      "outputs": [
        {
          "name": "stdout",
          "output_type": "stream",
          "text": [
            "ArtificialNeuralNetwork model predicted 221 samples as AUTISM and 96 samples as NOT_AUTISM from 317 test samples.\n"
          ]
        }
      ],
      "source": [
        "Not_Autism=0\n",
        "Autism=0\n",
        "for predicted_label in rounded :\n",
        "    if predicted_label==0:\n",
        "        Not_Autism+=1\n",
        "    else:\n",
        "        Autism+=1\n",
        "print(f\"ArtificialNeuralNetwork model predicted {Autism} samples as AUTISM and {Not_Autism} samples as NOT_AUTISM from {len(rounded )} test samples.\")"
      ],
      "id": "ntv3S3QxDiVB"
    },
    {
      "cell_type": "markdown",
      "metadata": {
        "id": "zi_5ca2HDiVB"
      },
      "source": [
        "## Result Analysis"
      ],
      "id": "zi_5ca2HDiVB"
    },
    {
      "cell_type": "markdown",
      "metadata": {
        "id": "iFhWHHyADiVC"
      },
      "source": [
        "***Accuracy Score***"
      ],
      "id": "iFhWHHyADiVC"
    },
    {
      "cell_type": "code",
      "execution_count": null,
      "metadata": {
        "colab": {
          "base_uri": "https://localhost:8080/"
        },
        "id": "Gyi4df6ODiVC",
        "outputId": "730cc360-4b16-4a71-cb5c-67f05ea33075"
      },
      "outputs": [
        {
          "name": "stdout",
          "output_type": "stream",
          "text": [
            "ANN Accuracy is 98.58\n"
          ]
        }
      ],
      "source": [
        "ann_accuracy2=accuracy_score(y_true=y_true,y_pred=rounded)\n",
        "print(\"ANN Accuracy is {:.2f}\".format(ann_accuracy*100))"
      ],
      "id": "Gyi4df6ODiVC"
    },
    {
      "cell_type": "markdown",
      "metadata": {
        "id": "_i3FZmWuDiVC"
      },
      "source": [
        "## Accuracy Comparision for Toddler Dataset"
      ],
      "id": "_i3FZmWuDiVC"
    },
    {
      "cell_type": "code",
      "execution_count": null,
      "metadata": {
        "colab": {
          "base_uri": "https://localhost:8080/",
          "height": 494
        },
        "id": "Cpl7MgngDiVC",
        "outputId": "1f3a63ef-8322-4f5d-e012-0dc88e3cd55e"
      },
      "outputs": [
        {
          "data": {
            "image/png": "[encoded data removed]",
            "text/plain": [
              "<Figure size 1000x500 with 1 Axes>"
            ]
          },
          "metadata": {},
          "output_type": "display_data"
        }
      ],
      "source": [
        "data=[svc_accuracy,RF_accuracy,ann_accuracy]\n",
        "labels=[\"SVC\",\"RFC\",\"ANN\"]\n",
        "colors=[\"gold\",\"blue\",\"lime\"]\n",
        "plt.figure(figsize=(10,5))\n",
        "plt.grid()\n",
        "plt.bar(x=labels,height=data,color=colors)\n",
        "plt.title(label=\"Accuracy Comparision for Toddler Dataset\")\n",
        "plt.show()"
      ],
      "id": "Cpl7MgngDiVC"
    },
    {
      "cell_type": "markdown",
      "metadata": {
        "id": "icpkN7WUHHCC"
      },
      "source": [
        "## Accuracy Comparision for different test size of Toddler Dataset"
      ],
      "id": "icpkN7WUHHCC"
    },
    {
      "cell_type": "code",
      "execution_count": 598,
      "metadata": {
        "colab": {
          "base_uri": "https://localhost:8080/",
          "height": 494
        },
        "id": "ffUQZWaYHB3o",
        "outputId": "9210a457-4fdc-4221-8342-e571a89dd8c1"
      },
      "outputs": [
        {
          "output_type": "display_data",
          "data": {
            "text/plain": [
              "<Figure size 1000x500 with 1 Axes>"
            ],
            "image/png": "[encoded data removed]"
          },
          "metadata": {}
        }
      ],
      "source": [
        "data=[svc_accuracy,svc_accuracy2,RF_accuracy,RF_accuracy2,ann_accuracy,ann_accuracy2]\n",
        "labels=[\"SVC\",\"SVC2\",\"RFC\",\"RFC2\",\"ANN\",\"ANN2\"]\n",
        "colors=[\"gold\",\"blue\",\"lime\"]\n",
        "plt.figure(figsize=(10,5))\n",
        "plt.grid()\n",
        "plt.bar(x=labels,height=data,color=colors)\n",
        "plt.title(label=\"Accuracy Comparision for Comparative Analysis\")\n",
        "plt.show()"
      ],
      "id": "ffUQZWaYHB3o"
    },
    {
      "cell_type": "code",
      "execution_count": null,
      "metadata": {
        "colab": {
          "base_uri": "https://localhost:8080/"
        },
        "id": "Zhfb_62aDiVD",
        "outputId": "916e0640-e877-4617-e873-55f5d179911f"
      },
      "outputs": [
        {
          "name": "stdout",
          "output_type": "stream",
          "text": [
            "Middle aged adults with autism are 2.6 times more likely to be diagnosed with Alzheimer's disease\n"
          ]
        }
      ],
      "source": [
        "print(\"Middle aged adults with autism are 2.6 times more likely to be diagnosed with Alzheimer's disease\")"
      ],
      "id": "Zhfb_62aDiVD"
    }
  ],
  "metadata": {
    "colab": {
      "provenance": []
    },
    "kernelspec": {
      "display_name": "Python 3 (ipykernel)",
      "language": "python",
      "name": "python3"
    },
    "language_info": {
      "codemirror_mode": {
        "name": "ipython",
        "version": 3
      },
      "file_extension": ".py",
      "mimetype": "text/x-python",
      "name": "python",
      "nbconvert_exporter": "python",
      "pygments_lexer": "ipython3",
      "version": "3.9.7"
    }
  },
  "nbformat": 4,
  "nbformat_minor": 5
}