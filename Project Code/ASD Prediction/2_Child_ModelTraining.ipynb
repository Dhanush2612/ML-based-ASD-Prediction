{
  "cells": [
    {
      "cell_type": "markdown",
      "id": "66bd4201",
      "metadata": {
        "id": "66bd4201"
      },
      "source": [
        "## Import Libraries"
      ]
    },
    {
      "cell_type": "code",
      "execution_count": 124,
      "id": "927a4ecf",
      "metadata": {
        "id": "927a4ecf"
      },
      "outputs": [],
      "source": [
        "import warnings\n",
        "warnings.filterwarnings(\"always\")\n",
        "warnings.filterwarnings(\"ignore\")"
      ]
    },
    {
      "cell_type": "code",
      "execution_count": 125,
      "id": "5ee925e1",
      "metadata": {
        "id": "5ee925e1"
      },
      "outputs": [],
      "source": [
        "import os\n",
        "import pandas as pd\n",
        "import numpy as np\n",
        "import matplotlib.pyplot as plt\n",
        "%matplotlib inline\n",
        "import seaborn as sns\n",
        "from sklearn.model_selection import train_test_split\n",
        "from sklearn.metrics import accuracy_score,classification_report,confusion_matrix\n",
        "import pickle\n",
        "pd.set_option(\"display.max_columns\",None)"
      ]
    },
    {
      "cell_type": "markdown",
      "id": "fa9dec07",
      "metadata": {
        "id": "fa9dec07"
      },
      "source": [
        "## Data Loading"
      ]
    },
    {
      "cell_type": "code",
      "execution_count": 126,
      "id": "5bd68ff3",
      "metadata": {
        "id": "5bd68ff3",
        "colab": {
          "base_uri": "https://localhost:8080/"
        },
        "outputId": "57c1c3da-c241-436b-f688-e1e2b40cd3f3"
      },
      "outputs": [
        {
          "output_type": "execute_result",
          "data": {
            "text/plain": [
              "['.config',\n",
              " 'SVM_model_Child.pkl',\n",
              " 'RF_model_Child.pkl',\n",
              " 'Child.csv',\n",
              " 'Toddler.csv',\n",
              " 'ANN_model_Child.h5',\n",
              " 'sample_data']"
            ]
          },
          "metadata": {},
          "execution_count": 126
        }
      ],
      "source": [
        "os.listdir()"
      ]
    },
    {
      "cell_type": "code",
      "execution_count": 127,
      "id": "e4d0fd0e",
      "metadata": {
        "id": "e4d0fd0e"
      },
      "outputs": [],
      "source": [
        "df=pd.read_csv(filepath_or_buffer=\"Child.csv\")"
      ]
    },
    {
      "cell_type": "code",
      "execution_count": 128,
      "id": "a151bec4",
      "metadata": {
        "id": "a151bec4",
        "colab": {
          "base_uri": "https://localhost:8080/",
          "height": 357
        },
        "outputId": "96f8b70a-5c56-4769-ae28-62d0558dae20"
      },
      "outputs": [
        {
          "output_type": "execute_result",
          "data": {
            "text/plain": [
              "   id  A1_Score  A2_Score  A3_Score  A4_Score  A5_Score  A6_Score  A7_Score  \\\n",
              "0   1         1         1         0         0         1         1         0   \n",
              "1   2         1         1         0         0         1         1         0   \n",
              "2   3         1         1         0         0         0         1         1   \n",
              "3   4         0         1         0         0         1         1         0   \n",
              "4   5         1         1         1         1         1         1         1   \n",
              "\n",
              "   A8_Score  A9_Score  A10_Score age gender        ethnicity jundice austim  \\\n",
              "0         1         0          0   6      m           Others      no     no   \n",
              "1         1         0          0   6      m  Middle Eastern       no     no   \n",
              "2         1         0          0   6      m                ?      no     no   \n",
              "3         0         0          1   5      f                ?     yes     no   \n",
              "4         1         1          1   5      m           Others     yes     no   \n",
              "\n",
              "   contry_of_res used_app_before  result    age_desc relation Class/ASD  \n",
              "0         Jordan              no       5  4-11 years   Parent        NO  \n",
              "1         Jordan              no       5  4-11 years   Parent        NO  \n",
              "2         Jordan             yes       5  4-11 years        ?        NO  \n",
              "3         Jordan              no       4  4-11 years        ?        NO  \n",
              "4  United States              no      10  4-11 years   Parent       YES  "
            ],
            "text/html": [
              "\n",
              "  <div id=\"df-e36bd674-4255-4727-8edd-668c27eafedc\">\n",
              "    <div class=\"colab-df-container\">\n",
              "      <div>\n",
              "<style scoped>\n",
              "    .dataframe tbody tr th:only-of-type {\n",
              "        vertical-align: middle;\n",
              "    }\n",
              "\n",
              "    .dataframe tbody tr th {\n",
              "        vertical-align: top;\n",
              "    }\n",
              "\n",
              "    .dataframe thead th {\n",
              "        text-align: right;\n",
              "    }\n",
              "</style>\n",
              "<table border=\"1\" class=\"dataframe\">\n",
              "  <thead>\n",
              "    <tr style=\"text-align: right;\">\n",
              "      <th></th>\n",
              "      <th>id</th>\n",
              "      <th>A1_Score</th>\n",
              "      <th>A2_Score</th>\n",
              "      <th>A3_Score</th>\n",
              "      <th>A4_Score</th>\n",
              "      <th>A5_Score</th>\n",
              "      <th>A6_Score</th>\n",
              "      <th>A7_Score</th>\n",
              "      <th>A8_Score</th>\n",
              "      <th>A9_Score</th>\n",
              "      <th>A10_Score</th>\n",
              "      <th>age</th>\n",
              "      <th>gender</th>\n",
              "      <th>ethnicity</th>\n",
              "      <th>jundice</th>\n",
              "      <th>austim</th>\n",
              "      <th>contry_of_res</th>\n",
              "      <th>used_app_before</th>\n",
              "      <th>result</th>\n",
              "      <th>age_desc</th>\n",
              "      <th>relation</th>\n",
              "      <th>Class/ASD</th>\n",
              "    </tr>\n",
              "  </thead>\n",
              "  <tbody>\n",
              "    <tr>\n",
              "      <th>0</th>\n",
              "      <td>1</td>\n",
              "      <td>1</td>\n",
              "      <td>1</td>\n",
              "      <td>0</td>\n",
              "      <td>0</td>\n",
              "      <td>1</td>\n",
              "      <td>1</td>\n",
              "      <td>0</td>\n",
              "      <td>1</td>\n",
              "      <td>0</td>\n",
              "      <td>0</td>\n",
              "      <td>6</td>\n",
              "      <td>m</td>\n",
              "      <td>Others</td>\n",
              "      <td>no</td>\n",
              "      <td>no</td>\n",
              "      <td>Jordan</td>\n",
              "      <td>no</td>\n",
              "      <td>5</td>\n",
              "      <td>4-11 years</td>\n",
              "      <td>Parent</td>\n",
              "      <td>NO</td>\n",
              "    </tr>\n",
              "    <tr>\n",
              "      <th>1</th>\n",
              "      <td>2</td>\n",
              "      <td>1</td>\n",
              "      <td>1</td>\n",
              "      <td>0</td>\n",
              "      <td>0</td>\n",
              "      <td>1</td>\n",
              "      <td>1</td>\n",
              "      <td>0</td>\n",
              "      <td>1</td>\n",
              "      <td>0</td>\n",
              "      <td>0</td>\n",
              "      <td>6</td>\n",
              "      <td>m</td>\n",
              "      <td>Middle Eastern</td>\n",
              "      <td>no</td>\n",
              "      <td>no</td>\n",
              "      <td>Jordan</td>\n",
              "      <td>no</td>\n",
              "      <td>5</td>\n",
              "      <td>4-11 years</td>\n",
              "      <td>Parent</td>\n",
              "      <td>NO</td>\n",
              "    </tr>\n",
              "    <tr>\n",
              "      <th>2</th>\n",
              "      <td>3</td>\n",
              "      <td>1</td>\n",
              "      <td>1</td>\n",
              "      <td>0</td>\n",
              "      <td>0</td>\n",
              "      <td>0</td>\n",
              "      <td>1</td>\n",
              "      <td>1</td>\n",
              "      <td>1</td>\n",
              "      <td>0</td>\n",
              "      <td>0</td>\n",
              "      <td>6</td>\n",
              "      <td>m</td>\n",
              "      <td>?</td>\n",
              "      <td>no</td>\n",
              "      <td>no</td>\n",
              "      <td>Jordan</td>\n",
              "      <td>yes</td>\n",
              "      <td>5</td>\n",
              "      <td>4-11 years</td>\n",
              "      <td>?</td>\n",
              "      <td>NO</td>\n",
              "    </tr>\n",
              "    <tr>\n",
              "      <th>3</th>\n",
              "      <td>4</td>\n",
              "      <td>0</td>\n",
              "      <td>1</td>\n",
              "      <td>0</td>\n",
              "      <td>0</td>\n",
              "      <td>1</td>\n",
              "      <td>1</td>\n",
              "      <td>0</td>\n",
              "      <td>0</td>\n",
              "      <td>0</td>\n",
              "      <td>1</td>\n",
              "      <td>5</td>\n",
              "      <td>f</td>\n",
              "      <td>?</td>\n",
              "      <td>yes</td>\n",
              "      <td>no</td>\n",
              "      <td>Jordan</td>\n",
              "      <td>no</td>\n",
              "      <td>4</td>\n",
              "      <td>4-11 years</td>\n",
              "      <td>?</td>\n",
              "      <td>NO</td>\n",
              "    </tr>\n",
              "    <tr>\n",
              "      <th>4</th>\n",
              "      <td>5</td>\n",
              "      <td>1</td>\n",
              "      <td>1</td>\n",
              "      <td>1</td>\n",
              "      <td>1</td>\n",
              "      <td>1</td>\n",
              "      <td>1</td>\n",
              "      <td>1</td>\n",
              "      <td>1</td>\n",
              "      <td>1</td>\n",
              "      <td>1</td>\n",
              "      <td>5</td>\n",
              "      <td>m</td>\n",
              "      <td>Others</td>\n",
              "      <td>yes</td>\n",
              "      <td>no</td>\n",
              "      <td>United States</td>\n",
              "      <td>no</td>\n",
              "      <td>10</td>\n",
              "      <td>4-11 years</td>\n",
              "      <td>Parent</td>\n",
              "      <td>YES</td>\n",
              "    </tr>\n",
              "  </tbody>\n",
              "</table>\n",
              "</div>\n",
              "      <button class=\"colab-df-convert\" onclick=\"convertToInteractive('df-e36bd674-4255-4727-8edd-668c27eafedc')\"\n",
              "              title=\"Convert this dataframe to an interactive table.\"\n",
              "              style=\"display:none;\">\n",
              "        \n",
              "  <svg xmlns=\"http://www.w3.org/2000/svg\" height=\"24px\"viewBox=\"0 0 24 24\"\n",
              "       width=\"24px\">\n",
              "    <path d=\"M0 0h24v24H0V0z\" fill=\"none\"/>\n",
              "    <path d=\"M18.56 5.44l.94 2.06.94-2.06 2.06-.94-2.06-.94-.94-2.06-.94 2.06-2.06.94zm-11 1L8.5 8.5l.94-2.06 2.06-.94-2.06-.94L8.5 2.5l-.94 2.06-2.06.94zm10 10l.94 2.06.94-2.06 2.06-.94-2.06-.94-.94-2.06-.94 2.06-2.06.94z\"/><path d=\"M17.41 7.96l-1.37-1.37c-.4-.4-.92-.59-1.43-.59-.52 0-1.04.2-1.43.59L10.3 9.45l-7.72 7.72c-.78.78-.78 2.05 0 2.83L4 21.41c.39.39.9.59 1.41.59.51 0 1.02-.2 1.41-.59l7.78-7.78 2.81-2.81c.8-.78.8-2.07 0-2.86zM5.41 20L4 18.59l7.72-7.72 1.47 1.35L5.41 20z\"/>\n",
              "  </svg>\n",
              "      </button>\n",
              "      \n",
              "  <style>\n",
              "    .colab-df-container {\n",
              "      display:flex;\n",
              "      flex-wrap:wrap;\n",
              "      gap: 12px;\n",
              "    }\n",
              "\n",
              "    .colab-df-convert {\n",
              "      background-color: #E8F0FE;\n",
              "      border: none;\n",
              "      border-radius: 50%;\n",
              "      cursor: pointer;\n",
              "      display: none;\n",
              "      fill: #1967D2;\n",
              "      height: 32px;\n",
              "      padding: 0 0 0 0;\n",
              "      width: 32px;\n",
              "    }\n",
              "\n",
              "    .colab-df-convert:hover {\n",
              "      background-color: #E2EBFA;\n",
              "      box-shadow: 0px 1px 2px rgba(60, 64, 67, 0.3), 0px 1px 3px 1px rgba(60, 64, 67, 0.15);\n",
              "      fill: #174EA6;\n",
              "    }\n",
              "\n",
              "    [theme=dark] .colab-df-convert {\n",
              "      background-color: #3B4455;\n",
              "      fill: #D2E3FC;\n",
              "    }\n",
              "\n",
              "    [theme=dark] .colab-df-convert:hover {\n",
              "      background-color: #434B5C;\n",
              "      box-shadow: 0px 1px 3px 1px rgba(0, 0, 0, 0.15);\n",
              "      filter: drop-shadow(0px 1px 2px rgba(0, 0, 0, 0.3));\n",
              "      fill: #FFFFFF;\n",
              "    }\n",
              "  </style>\n",
              "\n",
              "      <script>\n",
              "        const buttonEl =\n",
              "          document.querySelector('#df-e36bd674-4255-4727-8edd-668c27eafedc button.colab-df-convert');\n",
              "        buttonEl.style.display =\n",
              "          google.colab.kernel.accessAllowed ? 'block' : 'none';\n",
              "\n",
              "        async function convertToInteractive(key) {\n",
              "          const element = document.querySelector('#df-e36bd674-4255-4727-8edd-668c27eafedc');\n",
              "          const dataTable =\n",
              "            await google.colab.kernel.invokeFunction('convertToInteractive',\n",
              "                                                     [key], {});\n",
              "          if (!dataTable) return;\n",
              "\n",
              "          const docLinkHtml = 'Like what you see? Visit the ' +\n",
              "            '<a target=\"_blank\" href=https://colab.research.google.com/notebooks/data_table.ipynb>data table notebook</a>'\n",
              "            + ' to learn more about interactive tables.';\n",
              "          element.innerHTML = '';\n",
              "          dataTable['output_type'] = 'display_data';\n",
              "          await google.colab.output.renderOutput(dataTable, element);\n",
              "          const docLink = document.createElement('div');\n",
              "          docLink.innerHTML = docLinkHtml;\n",
              "          element.appendChild(docLink);\n",
              "        }\n",
              "      </script>\n",
              "    </div>\n",
              "  </div>\n",
              "  "
            ]
          },
          "metadata": {},
          "execution_count": 128
        }
      ],
      "source": [
        "df.head()"
      ]
    },
    {
      "cell_type": "code",
      "execution_count": 129,
      "id": "3f7fed6a",
      "metadata": {
        "id": "3f7fed6a",
        "colab": {
          "base_uri": "https://localhost:8080/"
        },
        "outputId": "3b8934e4-385a-4653-a0af-306e5670cb81"
      },
      "outputs": [
        {
          "output_type": "stream",
          "name": "stdout",
          "text": [
            "(1168, 22)\n"
          ]
        }
      ],
      "source": [
        "print(df.shape)"
      ]
    },
    {
      "cell_type": "markdown",
      "id": "e6cf5736",
      "metadata": {
        "id": "e6cf5736"
      },
      "source": [
        "## Data Preprocessing"
      ]
    },
    {
      "cell_type": "code",
      "execution_count": 130,
      "id": "68caa7cc",
      "metadata": {
        "id": "68caa7cc",
        "colab": {
          "base_uri": "https://localhost:8080/"
        },
        "outputId": "a5875c2e-f6dd-408e-e162-45558b61d999"
      },
      "outputs": [
        {
          "output_type": "stream",
          "name": "stdout",
          "text": [
            "Index(['id', 'A1_Score', 'A2_Score', 'A3_Score', 'A4_Score', 'A5_Score',\n",
            "       'A6_Score', 'A7_Score', 'A8_Score', 'A9_Score', 'A10_Score', 'age',\n",
            "       'gender', 'ethnicity', 'jundice', 'austim', 'contry_of_res',\n",
            "       'used_app_before', 'result', 'age_desc', 'relation', 'Class/ASD'],\n",
            "      dtype='object')\n"
          ]
        }
      ],
      "source": [
        "print(df.columns)"
      ]
    },
    {
      "cell_type": "markdown",
      "id": "5dff3dca",
      "metadata": {
        "id": "5dff3dca"
      },
      "source": [
        "***dropping unwanted columns***"
      ]
    },
    {
      "cell_type": "code",
      "execution_count": 131,
      "id": "d23fcfd7",
      "metadata": {
        "id": "d23fcfd7"
      },
      "outputs": [],
      "source": [
        "df=df.drop(labels=[\"id\",\"ethnicity\",\"contry_of_res\",\"used_app_before\",\"austim\",\"age_desc\"],axis=1)"
      ]
    },
    {
      "cell_type": "code",
      "execution_count": 132,
      "id": "d462c2a6",
      "metadata": {
        "id": "d462c2a6",
        "colab": {
          "base_uri": "https://localhost:8080/",
          "height": 206
        },
        "outputId": "995586a1-4509-4873-f076-bb241ec6cc7c"
      },
      "outputs": [
        {
          "output_type": "execute_result",
          "data": {
            "text/plain": [
              "   A1_Score  A2_Score  A3_Score  A4_Score  A5_Score  A6_Score  A7_Score  \\\n",
              "0         1         1         0         0         1         1         0   \n",
              "1         1         1         0         0         1         1         0   \n",
              "2         1         1         0         0         0         1         1   \n",
              "3         0         1         0         0         1         1         0   \n",
              "4         1         1         1         1         1         1         1   \n",
              "\n",
              "   A8_Score  A9_Score  A10_Score age gender jundice  result relation Class/ASD  \n",
              "0         1         0          0   6      m      no       5   Parent        NO  \n",
              "1         1         0          0   6      m      no       5   Parent        NO  \n",
              "2         1         0          0   6      m      no       5        ?        NO  \n",
              "3         0         0          1   5      f     yes       4        ?        NO  \n",
              "4         1         1          1   5      m     yes      10   Parent       YES  "
            ],
            "text/html": [
              "\n",
              "  <div id=\"df-2075adff-3ef1-4a7c-9ea6-70e9b93c3cb9\">\n",
              "    <div class=\"colab-df-container\">\n",
              "      <div>\n",
              "<style scoped>\n",
              "    .dataframe tbody tr th:only-of-type {\n",
              "        vertical-align: middle;\n",
              "    }\n",
              "\n",
              "    .dataframe tbody tr th {\n",
              "        vertical-align: top;\n",
              "    }\n",
              "\n",
              "    .dataframe thead th {\n",
              "        text-align: right;\n",
              "    }\n",
              "</style>\n",
              "<table border=\"1\" class=\"dataframe\">\n",
              "  <thead>\n",
              "    <tr style=\"text-align: right;\">\n",
              "      <th></th>\n",
              "      <th>A1_Score</th>\n",
              "      <th>A2_Score</th>\n",
              "      <th>A3_Score</th>\n",
              "      <th>A4_Score</th>\n",
              "      <th>A5_Score</th>\n",
              "      <th>A6_Score</th>\n",
              "      <th>A7_Score</th>\n",
              "      <th>A8_Score</th>\n",
              "      <th>A9_Score</th>\n",
              "      <th>A10_Score</th>\n",
              "      <th>age</th>\n",
              "      <th>gender</th>\n",
              "      <th>jundice</th>\n",
              "      <th>result</th>\n",
              "      <th>relation</th>\n",
              "      <th>Class/ASD</th>\n",
              "    </tr>\n",
              "  </thead>\n",
              "  <tbody>\n",
              "    <tr>\n",
              "      <th>0</th>\n",
              "      <td>1</td>\n",
              "      <td>1</td>\n",
              "      <td>0</td>\n",
              "      <td>0</td>\n",
              "      <td>1</td>\n",
              "      <td>1</td>\n",
              "      <td>0</td>\n",
              "      <td>1</td>\n",
              "      <td>0</td>\n",
              "      <td>0</td>\n",
              "      <td>6</td>\n",
              "      <td>m</td>\n",
              "      <td>no</td>\n",
              "      <td>5</td>\n",
              "      <td>Parent</td>\n",
              "      <td>NO</td>\n",
              "    </tr>\n",
              "    <tr>\n",
              "      <th>1</th>\n",
              "      <td>1</td>\n",
              "      <td>1</td>\n",
              "      <td>0</td>\n",
              "      <td>0</td>\n",
              "      <td>1</td>\n",
              "      <td>1</td>\n",
              "      <td>0</td>\n",
              "      <td>1</td>\n",
              "      <td>0</td>\n",
              "      <td>0</td>\n",
              "      <td>6</td>\n",
              "      <td>m</td>\n",
              "      <td>no</td>\n",
              "      <td>5</td>\n",
              "      <td>Parent</td>\n",
              "      <td>NO</td>\n",
              "    </tr>\n",
              "    <tr>\n",
              "      <th>2</th>\n",
              "      <td>1</td>\n",
              "      <td>1</td>\n",
              "      <td>0</td>\n",
              "      <td>0</td>\n",
              "      <td>0</td>\n",
              "      <td>1</td>\n",
              "      <td>1</td>\n",
              "      <td>1</td>\n",
              "      <td>0</td>\n",
              "      <td>0</td>\n",
              "      <td>6</td>\n",
              "      <td>m</td>\n",
              "      <td>no</td>\n",
              "      <td>5</td>\n",
              "      <td>?</td>\n",
              "      <td>NO</td>\n",
              "    </tr>\n",
              "    <tr>\n",
              "      <th>3</th>\n",
              "      <td>0</td>\n",
              "      <td>1</td>\n",
              "      <td>0</td>\n",
              "      <td>0</td>\n",
              "      <td>1</td>\n",
              "      <td>1</td>\n",
              "      <td>0</td>\n",
              "      <td>0</td>\n",
              "      <td>0</td>\n",
              "      <td>1</td>\n",
              "      <td>5</td>\n",
              "      <td>f</td>\n",
              "      <td>yes</td>\n",
              "      <td>4</td>\n",
              "      <td>?</td>\n",
              "      <td>NO</td>\n",
              "    </tr>\n",
              "    <tr>\n",
              "      <th>4</th>\n",
              "      <td>1</td>\n",
              "      <td>1</td>\n",
              "      <td>1</td>\n",
              "      <td>1</td>\n",
              "      <td>1</td>\n",
              "      <td>1</td>\n",
              "      <td>1</td>\n",
              "      <td>1</td>\n",
              "      <td>1</td>\n",
              "      <td>1</td>\n",
              "      <td>5</td>\n",
              "      <td>m</td>\n",
              "      <td>yes</td>\n",
              "      <td>10</td>\n",
              "      <td>Parent</td>\n",
              "      <td>YES</td>\n",
              "    </tr>\n",
              "  </tbody>\n",
              "</table>\n",
              "</div>\n",
              "      <button class=\"colab-df-convert\" onclick=\"convertToInteractive('df-2075adff-3ef1-4a7c-9ea6-70e9b93c3cb9')\"\n",
              "              title=\"Convert this dataframe to an interactive table.\"\n",
              "              style=\"display:none;\">\n",
              "        \n",
              "  <svg xmlns=\"http://www.w3.org/2000/svg\" height=\"24px\"viewBox=\"0 0 24 24\"\n",
              "       width=\"24px\">\n",
              "    <path d=\"M0 0h24v24H0V0z\" fill=\"none\"/>\n",
              "    <path d=\"M18.56 5.44l.94 2.06.94-2.06 2.06-.94-2.06-.94-.94-2.06-.94 2.06-2.06.94zm-11 1L8.5 8.5l.94-2.06 2.06-.94-2.06-.94L8.5 2.5l-.94 2.06-2.06.94zm10 10l.94 2.06.94-2.06 2.06-.94-2.06-.94-.94-2.06-.94 2.06-2.06.94z\"/><path d=\"M17.41 7.96l-1.37-1.37c-.4-.4-.92-.59-1.43-.59-.52 0-1.04.2-1.43.59L10.3 9.45l-7.72 7.72c-.78.78-.78 2.05 0 2.83L4 21.41c.39.39.9.59 1.41.59.51 0 1.02-.2 1.41-.59l7.78-7.78 2.81-2.81c.8-.78.8-2.07 0-2.86zM5.41 20L4 18.59l7.72-7.72 1.47 1.35L5.41 20z\"/>\n",
              "  </svg>\n",
              "      </button>\n",
              "      \n",
              "  <style>\n",
              "    .colab-df-container {\n",
              "      display:flex;\n",
              "      flex-wrap:wrap;\n",
              "      gap: 12px;\n",
              "    }\n",
              "\n",
              "    .colab-df-convert {\n",
              "      background-color: #E8F0FE;\n",
              "      border: none;\n",
              "      border-radius: 50%;\n",
              "      cursor: pointer;\n",
              "      display: none;\n",
              "      fill: #1967D2;\n",
              "      height: 32px;\n",
              "      padding: 0 0 0 0;\n",
              "      width: 32px;\n",
              "    }\n",
              "\n",
              "    .colab-df-convert:hover {\n",
              "      background-color: #E2EBFA;\n",
              "      box-shadow: 0px 1px 2px rgba(60, 64, 67, 0.3), 0px 1px 3px 1px rgba(60, 64, 67, 0.15);\n",
              "      fill: #174EA6;\n",
              "    }\n",
              "\n",
              "    [theme=dark] .colab-df-convert {\n",
              "      background-color: #3B4455;\n",
              "      fill: #D2E3FC;\n",
              "    }\n",
              "\n",
              "    [theme=dark] .colab-df-convert:hover {\n",
              "      background-color: #434B5C;\n",
              "      box-shadow: 0px 1px 3px 1px rgba(0, 0, 0, 0.15);\n",
              "      filter: drop-shadow(0px 1px 2px rgba(0, 0, 0, 0.3));\n",
              "      fill: #FFFFFF;\n",
              "    }\n",
              "  </style>\n",
              "\n",
              "      <script>\n",
              "        const buttonEl =\n",
              "          document.querySelector('#df-2075adff-3ef1-4a7c-9ea6-70e9b93c3cb9 button.colab-df-convert');\n",
              "        buttonEl.style.display =\n",
              "          google.colab.kernel.accessAllowed ? 'block' : 'none';\n",
              "\n",
              "        async function convertToInteractive(key) {\n",
              "          const element = document.querySelector('#df-2075adff-3ef1-4a7c-9ea6-70e9b93c3cb9');\n",
              "          const dataTable =\n",
              "            await google.colab.kernel.invokeFunction('convertToInteractive',\n",
              "                                                     [key], {});\n",
              "          if (!dataTable) return;\n",
              "\n",
              "          const docLinkHtml = 'Like what you see? Visit the ' +\n",
              "            '<a target=\"_blank\" href=https://colab.research.google.com/notebooks/data_table.ipynb>data table notebook</a>'\n",
              "            + ' to learn more about interactive tables.';\n",
              "          element.innerHTML = '';\n",
              "          dataTable['output_type'] = 'display_data';\n",
              "          await google.colab.output.renderOutput(dataTable, element);\n",
              "          const docLink = document.createElement('div');\n",
              "          docLink.innerHTML = docLinkHtml;\n",
              "          element.appendChild(docLink);\n",
              "        }\n",
              "      </script>\n",
              "    </div>\n",
              "  </div>\n",
              "  "
            ]
          },
          "metadata": {},
          "execution_count": 132
        }
      ],
      "source": [
        "df.head()"
      ]
    },
    {
      "cell_type": "markdown",
      "id": "0f4ef19d",
      "metadata": {
        "id": "0f4ef19d"
      },
      "source": [
        "***renaming the columns***"
      ]
    },
    {
      "cell_type": "code",
      "execution_count": 133,
      "id": "558d9194",
      "metadata": {
        "id": "558d9194"
      },
      "outputs": [],
      "source": [
        "df=df.rename(columns={\"Class/ASD\":\"Class\"})"
      ]
    },
    {
      "cell_type": "code",
      "execution_count": 134,
      "id": "be4650ec",
      "metadata": {
        "id": "be4650ec",
        "colab": {
          "base_uri": "https://localhost:8080/",
          "height": 206
        },
        "outputId": "5bb439ac-866d-4fd6-8d54-a0ac45cc7a02"
      },
      "outputs": [
        {
          "output_type": "execute_result",
          "data": {
            "text/plain": [
              "   A1_Score  A2_Score  A3_Score  A4_Score  A5_Score  A6_Score  A7_Score  \\\n",
              "0         1         1         0         0         1         1         0   \n",
              "1         1         1         0         0         1         1         0   \n",
              "2         1         1         0         0         0         1         1   \n",
              "3         0         1         0         0         1         1         0   \n",
              "4         1         1         1         1         1         1         1   \n",
              "\n",
              "   A8_Score  A9_Score  A10_Score age gender jundice  result relation Class  \n",
              "0         1         0          0   6      m      no       5   Parent    NO  \n",
              "1         1         0          0   6      m      no       5   Parent    NO  \n",
              "2         1         0          0   6      m      no       5        ?    NO  \n",
              "3         0         0          1   5      f     yes       4        ?    NO  \n",
              "4         1         1          1   5      m     yes      10   Parent   YES  "
            ],
            "text/html": [
              "\n",
              "  <div id=\"df-b967eb34-6bd1-4973-b95d-a160ce42d092\">\n",
              "    <div class=\"colab-df-container\">\n",
              "      <div>\n",
              "<style scoped>\n",
              "    .dataframe tbody tr th:only-of-type {\n",
              "        vertical-align: middle;\n",
              "    }\n",
              "\n",
              "    .dataframe tbody tr th {\n",
              "        vertical-align: top;\n",
              "    }\n",
              "\n",
              "    .dataframe thead th {\n",
              "        text-align: right;\n",
              "    }\n",
              "</style>\n",
              "<table border=\"1\" class=\"dataframe\">\n",
              "  <thead>\n",
              "    <tr style=\"text-align: right;\">\n",
              "      <th></th>\n",
              "      <th>A1_Score</th>\n",
              "      <th>A2_Score</th>\n",
              "      <th>A3_Score</th>\n",
              "      <th>A4_Score</th>\n",
              "      <th>A5_Score</th>\n",
              "      <th>A6_Score</th>\n",
              "      <th>A7_Score</th>\n",
              "      <th>A8_Score</th>\n",
              "      <th>A9_Score</th>\n",
              "      <th>A10_Score</th>\n",
              "      <th>age</th>\n",
              "      <th>gender</th>\n",
              "      <th>jundice</th>\n",
              "      <th>result</th>\n",
              "      <th>relation</th>\n",
              "      <th>Class</th>\n",
              "    </tr>\n",
              "  </thead>\n",
              "  <tbody>\n",
              "    <tr>\n",
              "      <th>0</th>\n",
              "      <td>1</td>\n",
              "      <td>1</td>\n",
              "      <td>0</td>\n",
              "      <td>0</td>\n",
              "      <td>1</td>\n",
              "      <td>1</td>\n",
              "      <td>0</td>\n",
              "      <td>1</td>\n",
              "      <td>0</td>\n",
              "      <td>0</td>\n",
              "      <td>6</td>\n",
              "      <td>m</td>\n",
              "      <td>no</td>\n",
              "      <td>5</td>\n",
              "      <td>Parent</td>\n",
              "      <td>NO</td>\n",
              "    </tr>\n",
              "    <tr>\n",
              "      <th>1</th>\n",
              "      <td>1</td>\n",
              "      <td>1</td>\n",
              "      <td>0</td>\n",
              "      <td>0</td>\n",
              "      <td>1</td>\n",
              "      <td>1</td>\n",
              "      <td>0</td>\n",
              "      <td>1</td>\n",
              "      <td>0</td>\n",
              "      <td>0</td>\n",
              "      <td>6</td>\n",
              "      <td>m</td>\n",
              "      <td>no</td>\n",
              "      <td>5</td>\n",
              "      <td>Parent</td>\n",
              "      <td>NO</td>\n",
              "    </tr>\n",
              "    <tr>\n",
              "      <th>2</th>\n",
              "      <td>1</td>\n",
              "      <td>1</td>\n",
              "      <td>0</td>\n",
              "      <td>0</td>\n",
              "      <td>0</td>\n",
              "      <td>1</td>\n",
              "      <td>1</td>\n",
              "      <td>1</td>\n",
              "      <td>0</td>\n",
              "      <td>0</td>\n",
              "      <td>6</td>\n",
              "      <td>m</td>\n",
              "      <td>no</td>\n",
              "      <td>5</td>\n",
              "      <td>?</td>\n",
              "      <td>NO</td>\n",
              "    </tr>\n",
              "    <tr>\n",
              "      <th>3</th>\n",
              "      <td>0</td>\n",
              "      <td>1</td>\n",
              "      <td>0</td>\n",
              "      <td>0</td>\n",
              "      <td>1</td>\n",
              "      <td>1</td>\n",
              "      <td>0</td>\n",
              "      <td>0</td>\n",
              "      <td>0</td>\n",
              "      <td>1</td>\n",
              "      <td>5</td>\n",
              "      <td>f</td>\n",
              "      <td>yes</td>\n",
              "      <td>4</td>\n",
              "      <td>?</td>\n",
              "      <td>NO</td>\n",
              "    </tr>\n",
              "    <tr>\n",
              "      <th>4</th>\n",
              "      <td>1</td>\n",
              "      <td>1</td>\n",
              "      <td>1</td>\n",
              "      <td>1</td>\n",
              "      <td>1</td>\n",
              "      <td>1</td>\n",
              "      <td>1</td>\n",
              "      <td>1</td>\n",
              "      <td>1</td>\n",
              "      <td>1</td>\n",
              "      <td>5</td>\n",
              "      <td>m</td>\n",
              "      <td>yes</td>\n",
              "      <td>10</td>\n",
              "      <td>Parent</td>\n",
              "      <td>YES</td>\n",
              "    </tr>\n",
              "  </tbody>\n",
              "</table>\n",
              "</div>\n",
              "      <button class=\"colab-df-convert\" onclick=\"convertToInteractive('df-b967eb34-6bd1-4973-b95d-a160ce42d092')\"\n",
              "              title=\"Convert this dataframe to an interactive table.\"\n",
              "              style=\"display:none;\">\n",
              "        \n",
              "  <svg xmlns=\"http://www.w3.org/2000/svg\" height=\"24px\"viewBox=\"0 0 24 24\"\n",
              "       width=\"24px\">\n",
              "    <path d=\"M0 0h24v24H0V0z\" fill=\"none\"/>\n",
              "    <path d=\"M18.56 5.44l.94 2.06.94-2.06 2.06-.94-2.06-.94-.94-2.06-.94 2.06-2.06.94zm-11 1L8.5 8.5l.94-2.06 2.06-.94-2.06-.94L8.5 2.5l-.94 2.06-2.06.94zm10 10l.94 2.06.94-2.06 2.06-.94-2.06-.94-.94-2.06-.94 2.06-2.06.94z\"/><path d=\"M17.41 7.96l-1.37-1.37c-.4-.4-.92-.59-1.43-.59-.52 0-1.04.2-1.43.59L10.3 9.45l-7.72 7.72c-.78.78-.78 2.05 0 2.83L4 21.41c.39.39.9.59 1.41.59.51 0 1.02-.2 1.41-.59l7.78-7.78 2.81-2.81c.8-.78.8-2.07 0-2.86zM5.41 20L4 18.59l7.72-7.72 1.47 1.35L5.41 20z\"/>\n",
              "  </svg>\n",
              "      </button>\n",
              "      \n",
              "  <style>\n",
              "    .colab-df-container {\n",
              "      display:flex;\n",
              "      flex-wrap:wrap;\n",
              "      gap: 12px;\n",
              "    }\n",
              "\n",
              "    .colab-df-convert {\n",
              "      background-color: #E8F0FE;\n",
              "      border: none;\n",
              "      border-radius: 50%;\n",
              "      cursor: pointer;\n",
              "      display: none;\n",
              "      fill: #1967D2;\n",
              "      height: 32px;\n",
              "      padding: 0 0 0 0;\n",
              "      width: 32px;\n",
              "    }\n",
              "\n",
              "    .colab-df-convert:hover {\n",
              "      background-color: #E2EBFA;\n",
              "      box-shadow: 0px 1px 2px rgba(60, 64, 67, 0.3), 0px 1px 3px 1px rgba(60, 64, 67, 0.15);\n",
              "      fill: #174EA6;\n",
              "    }\n",
              "\n",
              "    [theme=dark] .colab-df-convert {\n",
              "      background-color: #3B4455;\n",
              "      fill: #D2E3FC;\n",
              "    }\n",
              "\n",
              "    [theme=dark] .colab-df-convert:hover {\n",
              "      background-color: #434B5C;\n",
              "      box-shadow: 0px 1px 3px 1px rgba(0, 0, 0, 0.15);\n",
              "      filter: drop-shadow(0px 1px 2px rgba(0, 0, 0, 0.3));\n",
              "      fill: #FFFFFF;\n",
              "    }\n",
              "  </style>\n",
              "\n",
              "      <script>\n",
              "        const buttonEl =\n",
              "          document.querySelector('#df-b967eb34-6bd1-4973-b95d-a160ce42d092 button.colab-df-convert');\n",
              "        buttonEl.style.display =\n",
              "          google.colab.kernel.accessAllowed ? 'block' : 'none';\n",
              "\n",
              "        async function convertToInteractive(key) {\n",
              "          const element = document.querySelector('#df-b967eb34-6bd1-4973-b95d-a160ce42d092');\n",
              "          const dataTable =\n",
              "            await google.colab.kernel.invokeFunction('convertToInteractive',\n",
              "                                                     [key], {});\n",
              "          if (!dataTable) return;\n",
              "\n",
              "          const docLinkHtml = 'Like what you see? Visit the ' +\n",
              "            '<a target=\"_blank\" href=https://colab.research.google.com/notebooks/data_table.ipynb>data table notebook</a>'\n",
              "            + ' to learn more about interactive tables.';\n",
              "          element.innerHTML = '';\n",
              "          dataTable['output_type'] = 'display_data';\n",
              "          await google.colab.output.renderOutput(dataTable, element);\n",
              "          const docLink = document.createElement('div');\n",
              "          docLink.innerHTML = docLinkHtml;\n",
              "          element.appendChild(docLink);\n",
              "        }\n",
              "      </script>\n",
              "    </div>\n",
              "  </div>\n",
              "  "
            ]
          },
          "metadata": {},
          "execution_count": 134
        }
      ],
      "source": [
        "df.head()"
      ]
    },
    {
      "cell_type": "markdown",
      "id": "946c07fa",
      "metadata": {
        "id": "946c07fa"
      },
      "source": [
        "***Visualizing Age Column***"
      ]
    },
    {
      "cell_type": "code",
      "execution_count": 135,
      "id": "4018b673",
      "metadata": {
        "id": "4018b673",
        "colab": {
          "base_uri": "https://localhost:8080/",
          "height": 647
        },
        "outputId": "11957df8-e248-4555-f4c9-90bebfe1f26e"
      },
      "outputs": [
        {
          "output_type": "display_data",
          "data": {
            "text/plain": [
              "<Figure size 1500x700 with 1 Axes>"
            ],
            "image/png": "[encoded data removed]"
          },
          "metadata": {}
        }
      ],
      "source": [
        "plt.figure(figsize=(15,7))\n",
        "plt.rcParams[\"font.size\"]=20\n",
        "sns.countplot(x=\"age\",data=df)\n",
        "plt.show()"
      ]
    },
    {
      "cell_type": "markdown",
      "id": "5bc38d8a",
      "metadata": {
        "id": "5bc38d8a"
      },
      "source": [
        "***Visualizing gender Column***"
      ]
    },
    {
      "cell_type": "code",
      "execution_count": 136,
      "id": "fddbfae6",
      "metadata": {
        "id": "fddbfae6",
        "colab": {
          "base_uri": "https://localhost:8080/"
        },
        "outputId": "15e12851-5acb-48a3-9118-85cf883f1c64"
      },
      "outputs": [
        {
          "output_type": "execute_result",
          "data": {
            "text/plain": [
              "m    832\n",
              "f    336\n",
              "Name: gender, dtype: int64"
            ]
          },
          "metadata": {},
          "execution_count": 136
        }
      ],
      "source": [
        "df[\"gender\"].value_counts()"
      ]
    },
    {
      "cell_type": "code",
      "execution_count": 137,
      "id": "123cb733",
      "metadata": {
        "id": "123cb733",
        "colab": {
          "base_uri": "https://localhost:8080/",
          "height": 613
        },
        "outputId": "1bf610f7-990a-423d-b4e7-9ea0cda648de"
      },
      "outputs": [
        {
          "output_type": "display_data",
          "data": {
            "text/plain": [
              "<Figure size 1000x700 with 1 Axes>"
            ],
            "image/png": "[encoded data removed]"
          },
          "metadata": {}
        }
      ],
      "source": [
        "plt.figure(figsize=(10,7))\n",
        "plt.rcParams[\"font.size\"]=20\n",
        "plt.bar(x=[\"Male\",\"Female\"],height=df[\"gender\"].value_counts(),color=[\"orange\",\"red\"])\n",
        "plt.show()"
      ]
    },
    {
      "cell_type": "code",
      "execution_count": 138,
      "id": "94960d67",
      "metadata": {
        "id": "94960d67"
      },
      "outputs": [],
      "source": [
        "df[\"gender\"].replace(to_replace=[\"m\",\"f\"],value=[0,1],inplace=True)"
      ]
    },
    {
      "cell_type": "code",
      "execution_count": 139,
      "id": "99425396",
      "metadata": {
        "id": "99425396",
        "colab": {
          "base_uri": "https://localhost:8080/",
          "height": 206
        },
        "outputId": "3e668ec4-8e3f-4ab4-97b9-a0501b26f422"
      },
      "outputs": [
        {
          "output_type": "execute_result",
          "data": {
            "text/plain": [
              "   A1_Score  A2_Score  A3_Score  A4_Score  A5_Score  A6_Score  A7_Score  \\\n",
              "0         1         1         0         0         1         1         0   \n",
              "1         1         1         0         0         1         1         0   \n",
              "2         1         1         0         0         0         1         1   \n",
              "3         0         1         0         0         1         1         0   \n",
              "4         1         1         1         1         1         1         1   \n",
              "\n",
              "   A8_Score  A9_Score  A10_Score age  gender jundice  result relation Class  \n",
              "0         1         0          0   6       0      no       5   Parent    NO  \n",
              "1         1         0          0   6       0      no       5   Parent    NO  \n",
              "2         1         0          0   6       0      no       5        ?    NO  \n",
              "3         0         0          1   5       1     yes       4        ?    NO  \n",
              "4         1         1          1   5       0     yes      10   Parent   YES  "
            ],
            "text/html": [
              "\n",
              "  <div id=\"df-050c2ee8-4bdf-4400-9138-f9ba2358fb7f\">\n",
              "    <div class=\"colab-df-container\">\n",
              "      <div>\n",
              "<style scoped>\n",
              "    .dataframe tbody tr th:only-of-type {\n",
              "        vertical-align: middle;\n",
              "    }\n",
              "\n",
              "    .dataframe tbody tr th {\n",
              "        vertical-align: top;\n",
              "    }\n",
              "\n",
              "    .dataframe thead th {\n",
              "        text-align: right;\n",
              "    }\n",
              "</style>\n",
              "<table border=\"1\" class=\"dataframe\">\n",
              "  <thead>\n",
              "    <tr style=\"text-align: right;\">\n",
              "      <th></th>\n",
              "      <th>A1_Score</th>\n",
              "      <th>A2_Score</th>\n",
              "      <th>A3_Score</th>\n",
              "      <th>A4_Score</th>\n",
              "      <th>A5_Score</th>\n",
              "      <th>A6_Score</th>\n",
              "      <th>A7_Score</th>\n",
              "      <th>A8_Score</th>\n",
              "      <th>A9_Score</th>\n",
              "      <th>A10_Score</th>\n",
              "      <th>age</th>\n",
              "      <th>gender</th>\n",
              "      <th>jundice</th>\n",
              "      <th>result</th>\n",
              "      <th>relation</th>\n",
              "      <th>Class</th>\n",
              "    </tr>\n",
              "  </thead>\n",
              "  <tbody>\n",
              "    <tr>\n",
              "      <th>0</th>\n",
              "      <td>1</td>\n",
              "      <td>1</td>\n",
              "      <td>0</td>\n",
              "      <td>0</td>\n",
              "      <td>1</td>\n",
              "      <td>1</td>\n",
              "      <td>0</td>\n",
              "      <td>1</td>\n",
              "      <td>0</td>\n",
              "      <td>0</td>\n",
              "      <td>6</td>\n",
              "      <td>0</td>\n",
              "      <td>no</td>\n",
              "      <td>5</td>\n",
              "      <td>Parent</td>\n",
              "      <td>NO</td>\n",
              "    </tr>\n",
              "    <tr>\n",
              "      <th>1</th>\n",
              "      <td>1</td>\n",
              "      <td>1</td>\n",
              "      <td>0</td>\n",
              "      <td>0</td>\n",
              "      <td>1</td>\n",
              "      <td>1</td>\n",
              "      <td>0</td>\n",
              "      <td>1</td>\n",
              "      <td>0</td>\n",
              "      <td>0</td>\n",
              "      <td>6</td>\n",
              "      <td>0</td>\n",
              "      <td>no</td>\n",
              "      <td>5</td>\n",
              "      <td>Parent</td>\n",
              "      <td>NO</td>\n",
              "    </tr>\n",
              "    <tr>\n",
              "      <th>2</th>\n",
              "      <td>1</td>\n",
              "      <td>1</td>\n",
              "      <td>0</td>\n",
              "      <td>0</td>\n",
              "      <td>0</td>\n",
              "      <td>1</td>\n",
              "      <td>1</td>\n",
              "      <td>1</td>\n",
              "      <td>0</td>\n",
              "      <td>0</td>\n",
              "      <td>6</td>\n",
              "      <td>0</td>\n",
              "      <td>no</td>\n",
              "      <td>5</td>\n",
              "      <td>?</td>\n",
              "      <td>NO</td>\n",
              "    </tr>\n",
              "    <tr>\n",
              "      <th>3</th>\n",
              "      <td>0</td>\n",
              "      <td>1</td>\n",
              "      <td>0</td>\n",
              "      <td>0</td>\n",
              "      <td>1</td>\n",
              "      <td>1</td>\n",
              "      <td>0</td>\n",
              "      <td>0</td>\n",
              "      <td>0</td>\n",
              "      <td>1</td>\n",
              "      <td>5</td>\n",
              "      <td>1</td>\n",
              "      <td>yes</td>\n",
              "      <td>4</td>\n",
              "      <td>?</td>\n",
              "      <td>NO</td>\n",
              "    </tr>\n",
              "    <tr>\n",
              "      <th>4</th>\n",
              "      <td>1</td>\n",
              "      <td>1</td>\n",
              "      <td>1</td>\n",
              "      <td>1</td>\n",
              "      <td>1</td>\n",
              "      <td>1</td>\n",
              "      <td>1</td>\n",
              "      <td>1</td>\n",
              "      <td>1</td>\n",
              "      <td>1</td>\n",
              "      <td>5</td>\n",
              "      <td>0</td>\n",
              "      <td>yes</td>\n",
              "      <td>10</td>\n",
              "      <td>Parent</td>\n",
              "      <td>YES</td>\n",
              "    </tr>\n",
              "  </tbody>\n",
              "</table>\n",
              "</div>\n",
              "      <button class=\"colab-df-convert\" onclick=\"convertToInteractive('df-050c2ee8-4bdf-4400-9138-f9ba2358fb7f')\"\n",
              "              title=\"Convert this dataframe to an interactive table.\"\n",
              "              style=\"display:none;\">\n",
              "        \n",
              "  <svg xmlns=\"http://www.w3.org/2000/svg\" height=\"24px\"viewBox=\"0 0 24 24\"\n",
              "       width=\"24px\">\n",
              "    <path d=\"M0 0h24v24H0V0z\" fill=\"none\"/>\n",
              "    <path d=\"M18.56 5.44l.94 2.06.94-2.06 2.06-.94-2.06-.94-.94-2.06-.94 2.06-2.06.94zm-11 1L8.5 8.5l.94-2.06 2.06-.94-2.06-.94L8.5 2.5l-.94 2.06-2.06.94zm10 10l.94 2.06.94-2.06 2.06-.94-2.06-.94-.94-2.06-.94 2.06-2.06.94z\"/><path d=\"M17.41 7.96l-1.37-1.37c-.4-.4-.92-.59-1.43-.59-.52 0-1.04.2-1.43.59L10.3 9.45l-7.72 7.72c-.78.78-.78 2.05 0 2.83L4 21.41c.39.39.9.59 1.41.59.51 0 1.02-.2 1.41-.59l7.78-7.78 2.81-2.81c.8-.78.8-2.07 0-2.86zM5.41 20L4 18.59l7.72-7.72 1.47 1.35L5.41 20z\"/>\n",
              "  </svg>\n",
              "      </button>\n",
              "      \n",
              "  <style>\n",
              "    .colab-df-container {\n",
              "      display:flex;\n",
              "      flex-wrap:wrap;\n",
              "      gap: 12px;\n",
              "    }\n",
              "\n",
              "    .colab-df-convert {\n",
              "      background-color: #E8F0FE;\n",
              "      border: none;\n",
              "      border-radius: 50%;\n",
              "      cursor: pointer;\n",
              "      display: none;\n",
              "      fill: #1967D2;\n",
              "      height: 32px;\n",
              "      padding: 0 0 0 0;\n",
              "      width: 32px;\n",
              "    }\n",
              "\n",
              "    .colab-df-convert:hover {\n",
              "      background-color: #E2EBFA;\n",
              "      box-shadow: 0px 1px 2px rgba(60, 64, 67, 0.3), 0px 1px 3px 1px rgba(60, 64, 67, 0.15);\n",
              "      fill: #174EA6;\n",
              "    }\n",
              "\n",
              "    [theme=dark] .colab-df-convert {\n",
              "      background-color: #3B4455;\n",
              "      fill: #D2E3FC;\n",
              "    }\n",
              "\n",
              "    [theme=dark] .colab-df-convert:hover {\n",
              "      background-color: #434B5C;\n",
              "      box-shadow: 0px 1px 3px 1px rgba(0, 0, 0, 0.15);\n",
              "      filter: drop-shadow(0px 1px 2px rgba(0, 0, 0, 0.3));\n",
              "      fill: #FFFFFF;\n",
              "    }\n",
              "  </style>\n",
              "\n",
              "      <script>\n",
              "        const buttonEl =\n",
              "          document.querySelector('#df-050c2ee8-4bdf-4400-9138-f9ba2358fb7f button.colab-df-convert');\n",
              "        buttonEl.style.display =\n",
              "          google.colab.kernel.accessAllowed ? 'block' : 'none';\n",
              "\n",
              "        async function convertToInteractive(key) {\n",
              "          const element = document.querySelector('#df-050c2ee8-4bdf-4400-9138-f9ba2358fb7f');\n",
              "          const dataTable =\n",
              "            await google.colab.kernel.invokeFunction('convertToInteractive',\n",
              "                                                     [key], {});\n",
              "          if (!dataTable) return;\n",
              "\n",
              "          const docLinkHtml = 'Like what you see? Visit the ' +\n",
              "            '<a target=\"_blank\" href=https://colab.research.google.com/notebooks/data_table.ipynb>data table notebook</a>'\n",
              "            + ' to learn more about interactive tables.';\n",
              "          element.innerHTML = '';\n",
              "          dataTable['output_type'] = 'display_data';\n",
              "          await google.colab.output.renderOutput(dataTable, element);\n",
              "          const docLink = document.createElement('div');\n",
              "          docLink.innerHTML = docLinkHtml;\n",
              "          element.appendChild(docLink);\n",
              "        }\n",
              "      </script>\n",
              "    </div>\n",
              "  </div>\n",
              "  "
            ]
          },
          "metadata": {},
          "execution_count": 139
        }
      ],
      "source": [
        "df.head()"
      ]
    },
    {
      "cell_type": "markdown",
      "id": "7757b5cb",
      "metadata": {
        "id": "7757b5cb"
      },
      "source": [
        "***Visualizing jundice***"
      ]
    },
    {
      "cell_type": "code",
      "execution_count": 140,
      "id": "f582c2e2",
      "metadata": {
        "id": "f582c2e2",
        "colab": {
          "base_uri": "https://localhost:8080/"
        },
        "outputId": "5b8bb84a-6049-43e4-b461-0b4087b78a5e"
      },
      "outputs": [
        {
          "output_type": "execute_result",
          "data": {
            "text/plain": [
              "array(['no', 'yes'], dtype=object)"
            ]
          },
          "metadata": {},
          "execution_count": 140
        }
      ],
      "source": [
        "df[\"jundice\"].unique()"
      ]
    },
    {
      "cell_type": "code",
      "execution_count": 141,
      "id": "f1af852c",
      "metadata": {
        "id": "f1af852c",
        "colab": {
          "base_uri": "https://localhost:8080/"
        },
        "outputId": "835ef8ec-90b9-475f-beec-ba2fdb16cf1e"
      },
      "outputs": [
        {
          "output_type": "execute_result",
          "data": {
            "text/plain": [
              "no     848\n",
              "yes    320\n",
              "Name: jundice, dtype: int64"
            ]
          },
          "metadata": {},
          "execution_count": 141
        }
      ],
      "source": [
        "df[\"jundice\"].value_counts()"
      ]
    },
    {
      "cell_type": "code",
      "execution_count": 142,
      "id": "e42a16ff",
      "metadata": {
        "id": "e42a16ff",
        "colab": {
          "base_uri": "https://localhost:8080/",
          "height": 499
        },
        "outputId": "fd6e65ab-a953-40e9-c830-2d452d8d765f"
      },
      "outputs": [
        {
          "output_type": "display_data",
          "data": {
            "text/plain": [
              "<Figure size 1000x600 with 1 Axes>"
            ],
            "image/png": "[encoded data removed]"
          },
          "metadata": {}
        }
      ],
      "source": [
        "plt.figure(figsize=(10,6))\n",
        "plt.rcParams[\"font.size\"]=20\n",
        "plt.pie(x=df[\"jundice\"].value_counts(),labels=[\"No\",\"Yes\"],colors=[\"darkgray\",\"lightgray\"],autopct=\"%.2f\")\n",
        "plt.show()"
      ]
    },
    {
      "cell_type": "code",
      "execution_count": 143,
      "id": "07935482",
      "metadata": {
        "id": "07935482"
      },
      "outputs": [],
      "source": [
        "df[\"jundice\"].replace(to_replace=[\"no\",\"yes\"],value=[0,1],inplace=True)"
      ]
    },
    {
      "cell_type": "code",
      "execution_count": 144,
      "id": "141f0129",
      "metadata": {
        "id": "141f0129",
        "colab": {
          "base_uri": "https://localhost:8080/",
          "height": 206
        },
        "outputId": "c168e140-2a9c-47c9-a8f4-38793186ef99"
      },
      "outputs": [
        {
          "output_type": "execute_result",
          "data": {
            "text/plain": [
              "   A1_Score  A2_Score  A3_Score  A4_Score  A5_Score  A6_Score  A7_Score  \\\n",
              "0         1         1         0         0         1         1         0   \n",
              "1         1         1         0         0         1         1         0   \n",
              "2         1         1         0         0         0         1         1   \n",
              "3         0         1         0         0         1         1         0   \n",
              "4         1         1         1         1         1         1         1   \n",
              "\n",
              "   A8_Score  A9_Score  A10_Score age  gender  jundice  result relation Class  \n",
              "0         1         0          0   6       0        0       5   Parent    NO  \n",
              "1         1         0          0   6       0        0       5   Parent    NO  \n",
              "2         1         0          0   6       0        0       5        ?    NO  \n",
              "3         0         0          1   5       1        1       4        ?    NO  \n",
              "4         1         1          1   5       0        1      10   Parent   YES  "
            ],
            "text/html": [
              "\n",
              "  <div id=\"df-8de22da7-81f5-4d67-adee-6c6fe651822d\">\n",
              "    <div class=\"colab-df-container\">\n",
              "      <div>\n",
              "<style scoped>\n",
              "    .dataframe tbody tr th:only-of-type {\n",
              "        vertical-align: middle;\n",
              "    }\n",
              "\n",
              "    .dataframe tbody tr th {\n",
              "        vertical-align: top;\n",
              "    }\n",
              "\n",
              "    .dataframe thead th {\n",
              "        text-align: right;\n",
              "    }\n",
              "</style>\n",
              "<table border=\"1\" class=\"dataframe\">\n",
              "  <thead>\n",
              "    <tr style=\"text-align: right;\">\n",
              "      <th></th>\n",
              "      <th>A1_Score</th>\n",
              "      <th>A2_Score</th>\n",
              "      <th>A3_Score</th>\n",
              "      <th>A4_Score</th>\n",
              "      <th>A5_Score</th>\n",
              "      <th>A6_Score</th>\n",
              "      <th>A7_Score</th>\n",
              "      <th>A8_Score</th>\n",
              "      <th>A9_Score</th>\n",
              "      <th>A10_Score</th>\n",
              "      <th>age</th>\n",
              "      <th>gender</th>\n",
              "      <th>jundice</th>\n",
              "      <th>result</th>\n",
              "      <th>relation</th>\n",
              "      <th>Class</th>\n",
              "    </tr>\n",
              "  </thead>\n",
              "  <tbody>\n",
              "    <tr>\n",
              "      <th>0</th>\n",
              "      <td>1</td>\n",
              "      <td>1</td>\n",
              "      <td>0</td>\n",
              "      <td>0</td>\n",
              "      <td>1</td>\n",
              "      <td>1</td>\n",
              "      <td>0</td>\n",
              "      <td>1</td>\n",
              "      <td>0</td>\n",
              "      <td>0</td>\n",
              "      <td>6</td>\n",
              "      <td>0</td>\n",
              "      <td>0</td>\n",
              "      <td>5</td>\n",
              "      <td>Parent</td>\n",
              "      <td>NO</td>\n",
              "    </tr>\n",
              "    <tr>\n",
              "      <th>1</th>\n",
              "      <td>1</td>\n",
              "      <td>1</td>\n",
              "      <td>0</td>\n",
              "      <td>0</td>\n",
              "      <td>1</td>\n",
              "      <td>1</td>\n",
              "      <td>0</td>\n",
              "      <td>1</td>\n",
              "      <td>0</td>\n",
              "      <td>0</td>\n",
              "      <td>6</td>\n",
              "      <td>0</td>\n",
              "      <td>0</td>\n",
              "      <td>5</td>\n",
              "      <td>Parent</td>\n",
              "      <td>NO</td>\n",
              "    </tr>\n",
              "    <tr>\n",
              "      <th>2</th>\n",
              "      <td>1</td>\n",
              "      <td>1</td>\n",
              "      <td>0</td>\n",
              "      <td>0</td>\n",
              "      <td>0</td>\n",
              "      <td>1</td>\n",
              "      <td>1</td>\n",
              "      <td>1</td>\n",
              "      <td>0</td>\n",
              "      <td>0</td>\n",
              "      <td>6</td>\n",
              "      <td>0</td>\n",
              "      <td>0</td>\n",
              "      <td>5</td>\n",
              "      <td>?</td>\n",
              "      <td>NO</td>\n",
              "    </tr>\n",
              "    <tr>\n",
              "      <th>3</th>\n",
              "      <td>0</td>\n",
              "      <td>1</td>\n",
              "      <td>0</td>\n",
              "      <td>0</td>\n",
              "      <td>1</td>\n",
              "      <td>1</td>\n",
              "      <td>0</td>\n",
              "      <td>0</td>\n",
              "      <td>0</td>\n",
              "      <td>1</td>\n",
              "      <td>5</td>\n",
              "      <td>1</td>\n",
              "      <td>1</td>\n",
              "      <td>4</td>\n",
              "      <td>?</td>\n",
              "      <td>NO</td>\n",
              "    </tr>\n",
              "    <tr>\n",
              "      <th>4</th>\n",
              "      <td>1</td>\n",
              "      <td>1</td>\n",
              "      <td>1</td>\n",
              "      <td>1</td>\n",
              "      <td>1</td>\n",
              "      <td>1</td>\n",
              "      <td>1</td>\n",
              "      <td>1</td>\n",
              "      <td>1</td>\n",
              "      <td>1</td>\n",
              "      <td>5</td>\n",
              "      <td>0</td>\n",
              "      <td>1</td>\n",
              "      <td>10</td>\n",
              "      <td>Parent</td>\n",
              "      <td>YES</td>\n",
              "    </tr>\n",
              "  </tbody>\n",
              "</table>\n",
              "</div>\n",
              "      <button class=\"colab-df-convert\" onclick=\"convertToInteractive('df-8de22da7-81f5-4d67-adee-6c6fe651822d')\"\n",
              "              title=\"Convert this dataframe to an interactive table.\"\n",
              "              style=\"display:none;\">\n",
              "        \n",
              "  <svg xmlns=\"http://www.w3.org/2000/svg\" height=\"24px\"viewBox=\"0 0 24 24\"\n",
              "       width=\"24px\">\n",
              "    <path d=\"M0 0h24v24H0V0z\" fill=\"none\"/>\n",
              "    <path d=\"M18.56 5.44l.94 2.06.94-2.06 2.06-.94-2.06-.94-.94-2.06-.94 2.06-2.06.94zm-11 1L8.5 8.5l.94-2.06 2.06-.94-2.06-.94L8.5 2.5l-.94 2.06-2.06.94zm10 10l.94 2.06.94-2.06 2.06-.94-2.06-.94-.94-2.06-.94 2.06-2.06.94z\"/><path d=\"M17.41 7.96l-1.37-1.37c-.4-.4-.92-.59-1.43-.59-.52 0-1.04.2-1.43.59L10.3 9.45l-7.72 7.72c-.78.78-.78 2.05 0 2.83L4 21.41c.39.39.9.59 1.41.59.51 0 1.02-.2 1.41-.59l7.78-7.78 2.81-2.81c.8-.78.8-2.07 0-2.86zM5.41 20L4 18.59l7.72-7.72 1.47 1.35L5.41 20z\"/>\n",
              "  </svg>\n",
              "      </button>\n",
              "      \n",
              "  <style>\n",
              "    .colab-df-container {\n",
              "      display:flex;\n",
              "      flex-wrap:wrap;\n",
              "      gap: 12px;\n",
              "    }\n",
              "\n",
              "    .colab-df-convert {\n",
              "      background-color: #E8F0FE;\n",
              "      border: none;\n",
              "      border-radius: 50%;\n",
              "      cursor: pointer;\n",
              "      display: none;\n",
              "      fill: #1967D2;\n",
              "      height: 32px;\n",
              "      padding: 0 0 0 0;\n",
              "      width: 32px;\n",
              "    }\n",
              "\n",
              "    .colab-df-convert:hover {\n",
              "      background-color: #E2EBFA;\n",
              "      box-shadow: 0px 1px 2px rgba(60, 64, 67, 0.3), 0px 1px 3px 1px rgba(60, 64, 67, 0.15);\n",
              "      fill: #174EA6;\n",
              "    }\n",
              "\n",
              "    [theme=dark] .colab-df-convert {\n",
              "      background-color: #3B4455;\n",
              "      fill: #D2E3FC;\n",
              "    }\n",
              "\n",
              "    [theme=dark] .colab-df-convert:hover {\n",
              "      background-color: #434B5C;\n",
              "      box-shadow: 0px 1px 3px 1px rgba(0, 0, 0, 0.15);\n",
              "      filter: drop-shadow(0px 1px 2px rgba(0, 0, 0, 0.3));\n",
              "      fill: #FFFFFF;\n",
              "    }\n",
              "  </style>\n",
              "\n",
              "      <script>\n",
              "        const buttonEl =\n",
              "          document.querySelector('#df-8de22da7-81f5-4d67-adee-6c6fe651822d button.colab-df-convert');\n",
              "        buttonEl.style.display =\n",
              "          google.colab.kernel.accessAllowed ? 'block' : 'none';\n",
              "\n",
              "        async function convertToInteractive(key) {\n",
              "          const element = document.querySelector('#df-8de22da7-81f5-4d67-adee-6c6fe651822d');\n",
              "          const dataTable =\n",
              "            await google.colab.kernel.invokeFunction('convertToInteractive',\n",
              "                                                     [key], {});\n",
              "          if (!dataTable) return;\n",
              "\n",
              "          const docLinkHtml = 'Like what you see? Visit the ' +\n",
              "            '<a target=\"_blank\" href=https://colab.research.google.com/notebooks/data_table.ipynb>data table notebook</a>'\n",
              "            + ' to learn more about interactive tables.';\n",
              "          element.innerHTML = '';\n",
              "          dataTable['output_type'] = 'display_data';\n",
              "          await google.colab.output.renderOutput(dataTable, element);\n",
              "          const docLink = document.createElement('div');\n",
              "          docLink.innerHTML = docLinkHtml;\n",
              "          element.appendChild(docLink);\n",
              "        }\n",
              "      </script>\n",
              "    </div>\n",
              "  </div>\n",
              "  "
            ]
          },
          "metadata": {},
          "execution_count": 144
        }
      ],
      "source": [
        "df.head()"
      ]
    },
    {
      "cell_type": "markdown",
      "id": "ae574409",
      "metadata": {
        "id": "ae574409"
      },
      "source": [
        "***Visualizing result column***"
      ]
    },
    {
      "cell_type": "code",
      "execution_count": 145,
      "id": "66060947",
      "metadata": {
        "id": "66060947"
      },
      "outputs": [],
      "source": [
        "pos_result=df[df[\"result\"]>=5]\n",
        "neg_result=df[df[\"result\"]<5]"
      ]
    },
    {
      "cell_type": "code",
      "execution_count": 146,
      "id": "08125856",
      "metadata": {
        "id": "08125856",
        "colab": {
          "base_uri": "https://localhost:8080/"
        },
        "outputId": "e742548b-af32-480a-92c1-8458b10f2eb9"
      },
      "outputs": [
        {
          "output_type": "stream",
          "name": "stdout",
          "text": [
            "positive results count is 888\n",
            "negative results count is 280\n"
          ]
        }
      ],
      "source": [
        "print(\"positive results count is {}\".format(len(pos_result)))\n",
        "print(\"negative results count is {}\".format(len(neg_result)))"
      ]
    },
    {
      "cell_type": "code",
      "execution_count": 147,
      "id": "89c7b5e3",
      "metadata": {
        "id": "89c7b5e3",
        "colab": {
          "base_uri": "https://localhost:8080/",
          "height": 536
        },
        "outputId": "a68fa76c-638a-4501-ad26-e7995eec2805"
      },
      "outputs": [
        {
          "output_type": "display_data",
          "data": {
            "text/plain": [
              "<Figure size 1000x600 with 1 Axes>"
            ],
            "image/png": "[encoded data removed]"
          },
          "metadata": {}
        }
      ],
      "source": [
        "plt.figure(figsize=(10,6))\n",
        "plt.rcParams[\"font.size\"]=20\n",
        "plt.barh(y=[\"Positive\",\"Negative\"],width=[len(pos_result),len(neg_result)],color=[\"khaki\",\"olive\"])\n",
        "plt.show()"
      ]
    },
    {
      "cell_type": "markdown",
      "id": "b2593bc6",
      "metadata": {
        "id": "b2593bc6"
      },
      "source": [
        "***visualizing Who completed the test column***"
      ]
    },
    {
      "cell_type": "code",
      "execution_count": 148,
      "id": "81f1c205",
      "metadata": {
        "id": "81f1c205",
        "colab": {
          "base_uri": "https://localhost:8080/"
        },
        "outputId": "c68c87a2-8fcc-4bcd-997c-0d351ee03dcc"
      },
      "outputs": [
        {
          "output_type": "execute_result",
          "data": {
            "text/plain": [
              "array(['Parent', '?', 'Self', 'Relative', 'Health care professional',\n",
              "       'self'], dtype=object)"
            ]
          },
          "metadata": {},
          "execution_count": 148
        }
      ],
      "source": [
        "df[\"relation\"].unique()"
      ]
    },
    {
      "cell_type": "code",
      "execution_count": 149,
      "id": "e4fb4310",
      "metadata": {
        "id": "e4fb4310",
        "colab": {
          "base_uri": "https://localhost:8080/"
        },
        "outputId": "0c1df55a-bf75-4fd9-eea6-f1f6fa968c43"
      },
      "outputs": [
        {
          "output_type": "execute_result",
          "data": {
            "text/plain": [
              "Parent                      856\n",
              "?                           172\n",
              "Relative                     68\n",
              "Health care professional     52\n",
              "Self                         16\n",
              "self                          4\n",
              "Name: relation, dtype: int64"
            ]
          },
          "metadata": {},
          "execution_count": 149
        }
      ],
      "source": [
        "df[\"relation\"].value_counts()"
      ]
    },
    {
      "cell_type": "code",
      "execution_count": 150,
      "id": "8ba83afc",
      "metadata": {
        "id": "8ba83afc"
      },
      "outputs": [],
      "source": [
        "df[\"relation\"].replace(to_replace=[\"?\",\"self\"],value=[\"Parent\",\"Self\"],inplace=True)"
      ]
    },
    {
      "cell_type": "code",
      "execution_count": 151,
      "id": "52f2fce4",
      "metadata": {
        "id": "52f2fce4",
        "colab": {
          "base_uri": "https://localhost:8080/"
        },
        "outputId": "e4d0fe7b-1ad0-4ade-c1cf-4b74405e6039"
      },
      "outputs": [
        {
          "output_type": "execute_result",
          "data": {
            "text/plain": [
              "Parent                      1028\n",
              "Relative                      68\n",
              "Health care professional      52\n",
              "Self                          20\n",
              "Name: relation, dtype: int64"
            ]
          },
          "metadata": {},
          "execution_count": 151
        }
      ],
      "source": [
        "df[\"relation\"].value_counts()"
      ]
    },
    {
      "cell_type": "code",
      "execution_count": 152,
      "id": "9255cd21",
      "metadata": {
        "id": "9255cd21"
      },
      "outputs": [],
      "source": [
        "df[\"relation\"].replace(to_replace=[\"Parent\",\"Relative\",\"Health care professional\",\"Self\"],value=[0,1,2,3],inplace=True)"
      ]
    },
    {
      "cell_type": "code",
      "execution_count": 153,
      "id": "0e380bf3",
      "metadata": {
        "id": "0e380bf3",
        "colab": {
          "base_uri": "https://localhost:8080/",
          "height": 206
        },
        "outputId": "c937c1cd-e7de-4c4a-c50f-857c0caf5530"
      },
      "outputs": [
        {
          "output_type": "execute_result",
          "data": {
            "text/plain": [
              "   A1_Score  A2_Score  A3_Score  A4_Score  A5_Score  A6_Score  A7_Score  \\\n",
              "0         1         1         0         0         1         1         0   \n",
              "1         1         1         0         0         1         1         0   \n",
              "2         1         1         0         0         0         1         1   \n",
              "3         0         1         0         0         1         1         0   \n",
              "4         1         1         1         1         1         1         1   \n",
              "\n",
              "   A8_Score  A9_Score  A10_Score age  gender  jundice  result  relation Class  \n",
              "0         1         0          0   6       0        0       5         0    NO  \n",
              "1         1         0          0   6       0        0       5         0    NO  \n",
              "2         1         0          0   6       0        0       5         0    NO  \n",
              "3         0         0          1   5       1        1       4         0    NO  \n",
              "4         1         1          1   5       0        1      10         0   YES  "
            ],
            "text/html": [
              "\n",
              "  <div id=\"df-e2d6d0df-83ae-4163-9bde-f83fc2aad651\">\n",
              "    <div class=\"colab-df-container\">\n",
              "      <div>\n",
              "<style scoped>\n",
              "    .dataframe tbody tr th:only-of-type {\n",
              "        vertical-align: middle;\n",
              "    }\n",
              "\n",
              "    .dataframe tbody tr th {\n",
              "        vertical-align: top;\n",
              "    }\n",
              "\n",
              "    .dataframe thead th {\n",
              "        text-align: right;\n",
              "    }\n",
              "</style>\n",
              "<table border=\"1\" class=\"dataframe\">\n",
              "  <thead>\n",
              "    <tr style=\"text-align: right;\">\n",
              "      <th></th>\n",
              "      <th>A1_Score</th>\n",
              "      <th>A2_Score</th>\n",
              "      <th>A3_Score</th>\n",
              "      <th>A4_Score</th>\n",
              "      <th>A5_Score</th>\n",
              "      <th>A6_Score</th>\n",
              "      <th>A7_Score</th>\n",
              "      <th>A8_Score</th>\n",
              "      <th>A9_Score</th>\n",
              "      <th>A10_Score</th>\n",
              "      <th>age</th>\n",
              "      <th>gender</th>\n",
              "      <th>jundice</th>\n",
              "      <th>result</th>\n",
              "      <th>relation</th>\n",
              "      <th>Class</th>\n",
              "    </tr>\n",
              "  </thead>\n",
              "  <tbody>\n",
              "    <tr>\n",
              "      <th>0</th>\n",
              "      <td>1</td>\n",
              "      <td>1</td>\n",
              "      <td>0</td>\n",
              "      <td>0</td>\n",
              "      <td>1</td>\n",
              "      <td>1</td>\n",
              "      <td>0</td>\n",
              "      <td>1</td>\n",
              "      <td>0</td>\n",
              "      <td>0</td>\n",
              "      <td>6</td>\n",
              "      <td>0</td>\n",
              "      <td>0</td>\n",
              "      <td>5</td>\n",
              "      <td>0</td>\n",
              "      <td>NO</td>\n",
              "    </tr>\n",
              "    <tr>\n",
              "      <th>1</th>\n",
              "      <td>1</td>\n",
              "      <td>1</td>\n",
              "      <td>0</td>\n",
              "      <td>0</td>\n",
              "      <td>1</td>\n",
              "      <td>1</td>\n",
              "      <td>0</td>\n",
              "      <td>1</td>\n",
              "      <td>0</td>\n",
              "      <td>0</td>\n",
              "      <td>6</td>\n",
              "      <td>0</td>\n",
              "      <td>0</td>\n",
              "      <td>5</td>\n",
              "      <td>0</td>\n",
              "      <td>NO</td>\n",
              "    </tr>\n",
              "    <tr>\n",
              "      <th>2</th>\n",
              "      <td>1</td>\n",
              "      <td>1</td>\n",
              "      <td>0</td>\n",
              "      <td>0</td>\n",
              "      <td>0</td>\n",
              "      <td>1</td>\n",
              "      <td>1</td>\n",
              "      <td>1</td>\n",
              "      <td>0</td>\n",
              "      <td>0</td>\n",
              "      <td>6</td>\n",
              "      <td>0</td>\n",
              "      <td>0</td>\n",
              "      <td>5</td>\n",
              "      <td>0</td>\n",
              "      <td>NO</td>\n",
              "    </tr>\n",
              "    <tr>\n",
              "      <th>3</th>\n",
              "      <td>0</td>\n",
              "      <td>1</td>\n",
              "      <td>0</td>\n",
              "      <td>0</td>\n",
              "      <td>1</td>\n",
              "      <td>1</td>\n",
              "      <td>0</td>\n",
              "      <td>0</td>\n",
              "      <td>0</td>\n",
              "      <td>1</td>\n",
              "      <td>5</td>\n",
              "      <td>1</td>\n",
              "      <td>1</td>\n",
              "      <td>4</td>\n",
              "      <td>0</td>\n",
              "      <td>NO</td>\n",
              "    </tr>\n",
              "    <tr>\n",
              "      <th>4</th>\n",
              "      <td>1</td>\n",
              "      <td>1</td>\n",
              "      <td>1</td>\n",
              "      <td>1</td>\n",
              "      <td>1</td>\n",
              "      <td>1</td>\n",
              "      <td>1</td>\n",
              "      <td>1</td>\n",
              "      <td>1</td>\n",
              "      <td>1</td>\n",
              "      <td>5</td>\n",
              "      <td>0</td>\n",
              "      <td>1</td>\n",
              "      <td>10</td>\n",
              "      <td>0</td>\n",
              "      <td>YES</td>\n",
              "    </tr>\n",
              "  </tbody>\n",
              "</table>\n",
              "</div>\n",
              "      <button class=\"colab-df-convert\" onclick=\"convertToInteractive('df-e2d6d0df-83ae-4163-9bde-f83fc2aad651')\"\n",
              "              title=\"Convert this dataframe to an interactive table.\"\n",
              "              style=\"display:none;\">\n",
              "        \n",
              "  <svg xmlns=\"http://www.w3.org/2000/svg\" height=\"24px\"viewBox=\"0 0 24 24\"\n",
              "       width=\"24px\">\n",
              "    <path d=\"M0 0h24v24H0V0z\" fill=\"none\"/>\n",
              "    <path d=\"M18.56 5.44l.94 2.06.94-2.06 2.06-.94-2.06-.94-.94-2.06-.94 2.06-2.06.94zm-11 1L8.5 8.5l.94-2.06 2.06-.94-2.06-.94L8.5 2.5l-.94 2.06-2.06.94zm10 10l.94 2.06.94-2.06 2.06-.94-2.06-.94-.94-2.06-.94 2.06-2.06.94z\"/><path d=\"M17.41 7.96l-1.37-1.37c-.4-.4-.92-.59-1.43-.59-.52 0-1.04.2-1.43.59L10.3 9.45l-7.72 7.72c-.78.78-.78 2.05 0 2.83L4 21.41c.39.39.9.59 1.41.59.51 0 1.02-.2 1.41-.59l7.78-7.78 2.81-2.81c.8-.78.8-2.07 0-2.86zM5.41 20L4 18.59l7.72-7.72 1.47 1.35L5.41 20z\"/>\n",
              "  </svg>\n",
              "      </button>\n",
              "      \n",
              "  <style>\n",
              "    .colab-df-container {\n",
              "      display:flex;\n",
              "      flex-wrap:wrap;\n",
              "      gap: 12px;\n",
              "    }\n",
              "\n",
              "    .colab-df-convert {\n",
              "      background-color: #E8F0FE;\n",
              "      border: none;\n",
              "      border-radius: 50%;\n",
              "      cursor: pointer;\n",
              "      display: none;\n",
              "      fill: #1967D2;\n",
              "      height: 32px;\n",
              "      padding: 0 0 0 0;\n",
              "      width: 32px;\n",
              "    }\n",
              "\n",
              "    .colab-df-convert:hover {\n",
              "      background-color: #E2EBFA;\n",
              "      box-shadow: 0px 1px 2px rgba(60, 64, 67, 0.3), 0px 1px 3px 1px rgba(60, 64, 67, 0.15);\n",
              "      fill: #174EA6;\n",
              "    }\n",
              "\n",
              "    [theme=dark] .colab-df-convert {\n",
              "      background-color: #3B4455;\n",
              "      fill: #D2E3FC;\n",
              "    }\n",
              "\n",
              "    [theme=dark] .colab-df-convert:hover {\n",
              "      background-color: #434B5C;\n",
              "      box-shadow: 0px 1px 3px 1px rgba(0, 0, 0, 0.15);\n",
              "      filter: drop-shadow(0px 1px 2px rgba(0, 0, 0, 0.3));\n",
              "      fill: #FFFFFF;\n",
              "    }\n",
              "  </style>\n",
              "\n",
              "      <script>\n",
              "        const buttonEl =\n",
              "          document.querySelector('#df-e2d6d0df-83ae-4163-9bde-f83fc2aad651 button.colab-df-convert');\n",
              "        buttonEl.style.display =\n",
              "          google.colab.kernel.accessAllowed ? 'block' : 'none';\n",
              "\n",
              "        async function convertToInteractive(key) {\n",
              "          const element = document.querySelector('#df-e2d6d0df-83ae-4163-9bde-f83fc2aad651');\n",
              "          const dataTable =\n",
              "            await google.colab.kernel.invokeFunction('convertToInteractive',\n",
              "                                                     [key], {});\n",
              "          if (!dataTable) return;\n",
              "\n",
              "          const docLinkHtml = 'Like what you see? Visit the ' +\n",
              "            '<a target=\"_blank\" href=https://colab.research.google.com/notebooks/data_table.ipynb>data table notebook</a>'\n",
              "            + ' to learn more about interactive tables.';\n",
              "          element.innerHTML = '';\n",
              "          dataTable['output_type'] = 'display_data';\n",
              "          await google.colab.output.renderOutput(dataTable, element);\n",
              "          const docLink = document.createElement('div');\n",
              "          docLink.innerHTML = docLinkHtml;\n",
              "          element.appendChild(docLink);\n",
              "        }\n",
              "      </script>\n",
              "    </div>\n",
              "  </div>\n",
              "  "
            ]
          },
          "metadata": {},
          "execution_count": 153
        }
      ],
      "source": [
        "df.head()"
      ]
    },
    {
      "cell_type": "code",
      "execution_count": 154,
      "id": "4bb1c2c8",
      "metadata": {
        "id": "4bb1c2c8",
        "colab": {
          "base_uri": "https://localhost:8080/",
          "height": 522
        },
        "outputId": "11dbe16e-5d58-4fd3-9092-abdc67565820"
      },
      "outputs": [
        {
          "output_type": "display_data",
          "data": {
            "text/plain": [
              "<Figure size 1000x600 with 1 Axes>"
            ],
            "image/png": "[encoded data removed]"
          },
          "metadata": {}
        }
      ],
      "source": [
        "plt.figure(figsize=(10,6))\n",
        "plt.rcParams[\"font.size\"]=10\n",
        "plt.bar(x=[\"Parent\",\"Relative\",\"Health care professional\",\"Self\"],height=df[\"relation\"].value_counts(),color=[\"firebrick\",\"maroon\",\"darkred\",\"red\"])\n",
        "plt.show()"
      ]
    },
    {
      "cell_type": "markdown",
      "id": "f468b14e",
      "metadata": {
        "id": "f468b14e"
      },
      "source": [
        "***Analyzing and Visualizing Class column***"
      ]
    },
    {
      "cell_type": "code",
      "execution_count": 155,
      "id": "d755624c",
      "metadata": {
        "id": "d755624c",
        "colab": {
          "base_uri": "https://localhost:8080/"
        },
        "outputId": "24765727-142c-4fc4-8eab-656da0eec83c"
      },
      "outputs": [
        {
          "output_type": "execute_result",
          "data": {
            "text/plain": [
              "array(['NO', 'YES'], dtype=object)"
            ]
          },
          "metadata": {},
          "execution_count": 155
        }
      ],
      "source": [
        "df[\"Class\"].unique()"
      ]
    },
    {
      "cell_type": "code",
      "execution_count": 156,
      "id": "b8c24fd5",
      "metadata": {
        "id": "b8c24fd5",
        "colab": {
          "base_uri": "https://localhost:8080/"
        },
        "outputId": "6f54fadb-ee16-4423-e28a-3e60bfd89511"
      },
      "outputs": [
        {
          "output_type": "execute_result",
          "data": {
            "text/plain": [
              "NO     604\n",
              "YES    564\n",
              "Name: Class, dtype: int64"
            ]
          },
          "metadata": {},
          "execution_count": 156
        }
      ],
      "source": [
        "df[\"Class\"].value_counts()"
      ]
    },
    {
      "cell_type": "code",
      "execution_count": 157,
      "id": "fb62f00e",
      "metadata": {
        "id": "fb62f00e",
        "colab": {
          "base_uri": "https://localhost:8080/",
          "height": 570
        },
        "outputId": "a15c35d0-3ff1-4f68-dd4e-50d4d1ffe9fb"
      },
      "outputs": [
        {
          "output_type": "display_data",
          "data": {
            "text/plain": [
              "<Figure size 1000x600 with 1 Axes>"
            ],
            "image/png": "[encoded data removed]"
          },
          "metadata": {}
        }
      ],
      "source": [
        "plt.figure(figsize=(10,6))\n",
        "plt.rcParams[\"font.size\"]=20\n",
        "sns.countplot(x=\"Class\",data=df)\n",
        "plt.show()"
      ]
    },
    {
      "cell_type": "code",
      "execution_count": 158,
      "id": "51348eac",
      "metadata": {
        "id": "51348eac"
      },
      "outputs": [],
      "source": [
        "df[\"Class\"].replace(to_replace=[\"NO\",\"YES\"],value=[0,1],inplace=True)"
      ]
    },
    {
      "cell_type": "code",
      "execution_count": 159,
      "id": "868b280f",
      "metadata": {
        "id": "868b280f",
        "colab": {
          "base_uri": "https://localhost:8080/",
          "height": 206
        },
        "outputId": "b8519bc2-3d1b-41dd-c65a-8a40a4516ac5"
      },
      "outputs": [
        {
          "output_type": "execute_result",
          "data": {
            "text/plain": [
              "   A1_Score  A2_Score  A3_Score  A4_Score  A5_Score  A6_Score  A7_Score  \\\n",
              "0         1         1         0         0         1         1         0   \n",
              "1         1         1         0         0         1         1         0   \n",
              "2         1         1         0         0         0         1         1   \n",
              "3         0         1         0         0         1         1         0   \n",
              "4         1         1         1         1         1         1         1   \n",
              "\n",
              "   A8_Score  A9_Score  A10_Score age  gender  jundice  result  relation  Class  \n",
              "0         1         0          0   6       0        0       5         0      0  \n",
              "1         1         0          0   6       0        0       5         0      0  \n",
              "2         1         0          0   6       0        0       5         0      0  \n",
              "3         0         0          1   5       1        1       4         0      0  \n",
              "4         1         1          1   5       0        1      10         0      1  "
            ],
            "text/html": [
              "\n",
              "  <div id=\"df-6bdeb2ad-efdb-45d4-ba81-2a5552caacb9\">\n",
              "    <div class=\"colab-df-container\">\n",
              "      <div>\n",
              "<style scoped>\n",
              "    .dataframe tbody tr th:only-of-type {\n",
              "        vertical-align: middle;\n",
              "    }\n",
              "\n",
              "    .dataframe tbody tr th {\n",
              "        vertical-align: top;\n",
              "    }\n",
              "\n",
              "    .dataframe thead th {\n",
              "        text-align: right;\n",
              "    }\n",
              "</style>\n",
              "<table border=\"1\" class=\"dataframe\">\n",
              "  <thead>\n",
              "    <tr style=\"text-align: right;\">\n",
              "      <th></th>\n",
              "      <th>A1_Score</th>\n",
              "      <th>A2_Score</th>\n",
              "      <th>A3_Score</th>\n",
              "      <th>A4_Score</th>\n",
              "      <th>A5_Score</th>\n",
              "      <th>A6_Score</th>\n",
              "      <th>A7_Score</th>\n",
              "      <th>A8_Score</th>\n",
              "      <th>A9_Score</th>\n",
              "      <th>A10_Score</th>\n",
              "      <th>age</th>\n",
              "      <th>gender</th>\n",
              "      <th>jundice</th>\n",
              "      <th>result</th>\n",
              "      <th>relation</th>\n",
              "      <th>Class</th>\n",
              "    </tr>\n",
              "  </thead>\n",
              "  <tbody>\n",
              "    <tr>\n",
              "      <th>0</th>\n",
              "      <td>1</td>\n",
              "      <td>1</td>\n",
              "      <td>0</td>\n",
              "      <td>0</td>\n",
              "      <td>1</td>\n",
              "      <td>1</td>\n",
              "      <td>0</td>\n",
              "      <td>1</td>\n",
              "      <td>0</td>\n",
              "      <td>0</td>\n",
              "      <td>6</td>\n",
              "      <td>0</td>\n",
              "      <td>0</td>\n",
              "      <td>5</td>\n",
              "      <td>0</td>\n",
              "      <td>0</td>\n",
              "    </tr>\n",
              "    <tr>\n",
              "      <th>1</th>\n",
              "      <td>1</td>\n",
              "      <td>1</td>\n",
              "      <td>0</td>\n",
              "      <td>0</td>\n",
              "      <td>1</td>\n",
              "      <td>1</td>\n",
              "      <td>0</td>\n",
              "      <td>1</td>\n",
              "      <td>0</td>\n",
              "      <td>0</td>\n",
              "      <td>6</td>\n",
              "      <td>0</td>\n",
              "      <td>0</td>\n",
              "      <td>5</td>\n",
              "      <td>0</td>\n",
              "      <td>0</td>\n",
              "    </tr>\n",
              "    <tr>\n",
              "      <th>2</th>\n",
              "      <td>1</td>\n",
              "      <td>1</td>\n",
              "      <td>0</td>\n",
              "      <td>0</td>\n",
              "      <td>0</td>\n",
              "      <td>1</td>\n",
              "      <td>1</td>\n",
              "      <td>1</td>\n",
              "      <td>0</td>\n",
              "      <td>0</td>\n",
              "      <td>6</td>\n",
              "      <td>0</td>\n",
              "      <td>0</td>\n",
              "      <td>5</td>\n",
              "      <td>0</td>\n",
              "      <td>0</td>\n",
              "    </tr>\n",
              "    <tr>\n",
              "      <th>3</th>\n",
              "      <td>0</td>\n",
              "      <td>1</td>\n",
              "      <td>0</td>\n",
              "      <td>0</td>\n",
              "      <td>1</td>\n",
              "      <td>1</td>\n",
              "      <td>0</td>\n",
              "      <td>0</td>\n",
              "      <td>0</td>\n",
              "      <td>1</td>\n",
              "      <td>5</td>\n",
              "      <td>1</td>\n",
              "      <td>1</td>\n",
              "      <td>4</td>\n",
              "      <td>0</td>\n",
              "      <td>0</td>\n",
              "    </tr>\n",
              "    <tr>\n",
              "      <th>4</th>\n",
              "      <td>1</td>\n",
              "      <td>1</td>\n",
              "      <td>1</td>\n",
              "      <td>1</td>\n",
              "      <td>1</td>\n",
              "      <td>1</td>\n",
              "      <td>1</td>\n",
              "      <td>1</td>\n",
              "      <td>1</td>\n",
              "      <td>1</td>\n",
              "      <td>5</td>\n",
              "      <td>0</td>\n",
              "      <td>1</td>\n",
              "      <td>10</td>\n",
              "      <td>0</td>\n",
              "      <td>1</td>\n",
              "    </tr>\n",
              "  </tbody>\n",
              "</table>\n",
              "</div>\n",
              "      <button class=\"colab-df-convert\" onclick=\"convertToInteractive('df-6bdeb2ad-efdb-45d4-ba81-2a5552caacb9')\"\n",
              "              title=\"Convert this dataframe to an interactive table.\"\n",
              "              style=\"display:none;\">\n",
              "        \n",
              "  <svg xmlns=\"http://www.w3.org/2000/svg\" height=\"24px\"viewBox=\"0 0 24 24\"\n",
              "       width=\"24px\">\n",
              "    <path d=\"M0 0h24v24H0V0z\" fill=\"none\"/>\n",
              "    <path d=\"M18.56 5.44l.94 2.06.94-2.06 2.06-.94-2.06-.94-.94-2.06-.94 2.06-2.06.94zm-11 1L8.5 8.5l.94-2.06 2.06-.94-2.06-.94L8.5 2.5l-.94 2.06-2.06.94zm10 10l.94 2.06.94-2.06 2.06-.94-2.06-.94-.94-2.06-.94 2.06-2.06.94z\"/><path d=\"M17.41 7.96l-1.37-1.37c-.4-.4-.92-.59-1.43-.59-.52 0-1.04.2-1.43.59L10.3 9.45l-7.72 7.72c-.78.78-.78 2.05 0 2.83L4 21.41c.39.39.9.59 1.41.59.51 0 1.02-.2 1.41-.59l7.78-7.78 2.81-2.81c.8-.78.8-2.07 0-2.86zM5.41 20L4 18.59l7.72-7.72 1.47 1.35L5.41 20z\"/>\n",
              "  </svg>\n",
              "      </button>\n",
              "      \n",
              "  <style>\n",
              "    .colab-df-container {\n",
              "      display:flex;\n",
              "      flex-wrap:wrap;\n",
              "      gap: 12px;\n",
              "    }\n",
              "\n",
              "    .colab-df-convert {\n",
              "      background-color: #E8F0FE;\n",
              "      border: none;\n",
              "      border-radius: 50%;\n",
              "      cursor: pointer;\n",
              "      display: none;\n",
              "      fill: #1967D2;\n",
              "      height: 32px;\n",
              "      padding: 0 0 0 0;\n",
              "      width: 32px;\n",
              "    }\n",
              "\n",
              "    .colab-df-convert:hover {\n",
              "      background-color: #E2EBFA;\n",
              "      box-shadow: 0px 1px 2px rgba(60, 64, 67, 0.3), 0px 1px 3px 1px rgba(60, 64, 67, 0.15);\n",
              "      fill: #174EA6;\n",
              "    }\n",
              "\n",
              "    [theme=dark] .colab-df-convert {\n",
              "      background-color: #3B4455;\n",
              "      fill: #D2E3FC;\n",
              "    }\n",
              "\n",
              "    [theme=dark] .colab-df-convert:hover {\n",
              "      background-color: #434B5C;\n",
              "      box-shadow: 0px 1px 3px 1px rgba(0, 0, 0, 0.15);\n",
              "      filter: drop-shadow(0px 1px 2px rgba(0, 0, 0, 0.3));\n",
              "      fill: #FFFFFF;\n",
              "    }\n",
              "  </style>\n",
              "\n",
              "      <script>\n",
              "        const buttonEl =\n",
              "          document.querySelector('#df-6bdeb2ad-efdb-45d4-ba81-2a5552caacb9 button.colab-df-convert');\n",
              "        buttonEl.style.display =\n",
              "          google.colab.kernel.accessAllowed ? 'block' : 'none';\n",
              "\n",
              "        async function convertToInteractive(key) {\n",
              "          const element = document.querySelector('#df-6bdeb2ad-efdb-45d4-ba81-2a5552caacb9');\n",
              "          const dataTable =\n",
              "            await google.colab.kernel.invokeFunction('convertToInteractive',\n",
              "                                                     [key], {});\n",
              "          if (!dataTable) return;\n",
              "\n",
              "          const docLinkHtml = 'Like what you see? Visit the ' +\n",
              "            '<a target=\"_blank\" href=https://colab.research.google.com/notebooks/data_table.ipynb>data table notebook</a>'\n",
              "            + ' to learn more about interactive tables.';\n",
              "          element.innerHTML = '';\n",
              "          dataTable['output_type'] = 'display_data';\n",
              "          await google.colab.output.renderOutput(dataTable, element);\n",
              "          const docLink = document.createElement('div');\n",
              "          docLink.innerHTML = docLinkHtml;\n",
              "          element.appendChild(docLink);\n",
              "        }\n",
              "      </script>\n",
              "    </div>\n",
              "  </div>\n",
              "  "
            ]
          },
          "metadata": {},
          "execution_count": 159
        }
      ],
      "source": [
        "df.head()"
      ]
    },
    {
      "cell_type": "code",
      "execution_count": 160,
      "id": "17a670ed",
      "metadata": {
        "id": "17a670ed",
        "colab": {
          "base_uri": "https://localhost:8080/"
        },
        "outputId": "555f0ff8-6971-443c-e090-4feb14d265ea"
      },
      "outputs": [
        {
          "output_type": "execute_result",
          "data": {
            "text/plain": [
              "A1_Score     0\n",
              "A2_Score     0\n",
              "A3_Score     0\n",
              "A4_Score     0\n",
              "A5_Score     0\n",
              "A6_Score     0\n",
              "A7_Score     0\n",
              "A8_Score     0\n",
              "A9_Score     0\n",
              "A10_Score    0\n",
              "age          0\n",
              "gender       0\n",
              "jundice      0\n",
              "result       0\n",
              "relation     0\n",
              "Class        0\n",
              "dtype: int64"
            ]
          },
          "metadata": {},
          "execution_count": 160
        }
      ],
      "source": [
        "df.isnull().sum()"
      ]
    },
    {
      "cell_type": "code",
      "execution_count": 161,
      "id": "ce723669",
      "metadata": {
        "id": "ce723669",
        "colab": {
          "base_uri": "https://localhost:8080/"
        },
        "outputId": "b11ab4a7-ce45-4f22-da98-d56755c32721"
      },
      "outputs": [
        {
          "output_type": "stream",
          "name": "stdout",
          "text": [
            "<class 'pandas.core.frame.DataFrame'>\n",
            "RangeIndex: 1168 entries, 0 to 1167\n",
            "Data columns (total 16 columns):\n",
            " #   Column     Non-Null Count  Dtype \n",
            "---  ------     --------------  ----- \n",
            " 0   A1_Score   1168 non-null   int64 \n",
            " 1   A2_Score   1168 non-null   int64 \n",
            " 2   A3_Score   1168 non-null   int64 \n",
            " 3   A4_Score   1168 non-null   int64 \n",
            " 4   A5_Score   1168 non-null   int64 \n",
            " 5   A6_Score   1168 non-null   int64 \n",
            " 6   A7_Score   1168 non-null   int64 \n",
            " 7   A8_Score   1168 non-null   int64 \n",
            " 8   A9_Score   1168 non-null   int64 \n",
            " 9   A10_Score  1168 non-null   int64 \n",
            " 10  age        1168 non-null   object\n",
            " 11  gender     1168 non-null   int64 \n",
            " 12  jundice    1168 non-null   int64 \n",
            " 13  result     1168 non-null   int64 \n",
            " 14  relation   1168 non-null   int64 \n",
            " 15  Class      1168 non-null   int64 \n",
            "dtypes: int64(15), object(1)\n",
            "memory usage: 146.1+ KB\n"
          ]
        }
      ],
      "source": [
        "df.info()"
      ]
    },
    {
      "cell_type": "code",
      "execution_count": 162,
      "id": "d588a9aa",
      "metadata": {
        "id": "d588a9aa",
        "colab": {
          "base_uri": "https://localhost:8080/"
        },
        "outputId": "e6e060b4-406b-43f9-c375-3ce77bd9bfcc"
      },
      "outputs": [
        {
          "output_type": "execute_result",
          "data": {
            "text/plain": [
              "array(['6', '5', '4', '11', '10', '8', '7', '9', '?'], dtype=object)"
            ]
          },
          "metadata": {},
          "execution_count": 162
        }
      ],
      "source": [
        "df[\"age\"].unique()"
      ]
    },
    {
      "cell_type": "code",
      "execution_count": 163,
      "id": "3d71ba6e",
      "metadata": {
        "id": "3d71ba6e"
      },
      "outputs": [],
      "source": [
        "df[\"age\"].replace(to_replace=\"?\",value=\"11\",inplace=True)"
      ]
    },
    {
      "cell_type": "code",
      "execution_count": 164,
      "id": "eaff96b9",
      "metadata": {
        "id": "eaff96b9",
        "colab": {
          "base_uri": "https://localhost:8080/"
        },
        "outputId": "2b21d3f3-b38b-4eff-8ed0-35e35c65f3b9"
      },
      "outputs": [
        {
          "output_type": "execute_result",
          "data": {
            "text/plain": [
              "array(['6', '5', '4', '11', '10', '8', '7', '9'], dtype=object)"
            ]
          },
          "metadata": {},
          "execution_count": 164
        }
      ],
      "source": [
        "df[\"age\"].unique()"
      ]
    },
    {
      "cell_type": "code",
      "execution_count": 165,
      "id": "1e11b86f",
      "metadata": {
        "id": "1e11b86f",
        "colab": {
          "base_uri": "https://localhost:8080/"
        },
        "outputId": "3d277c8b-7a8a-446e-d326-c12a17453a10"
      },
      "outputs": [
        {
          "output_type": "stream",
          "name": "stdout",
          "text": [
            "<class 'pandas.core.frame.DataFrame'>\n",
            "RangeIndex: 1168 entries, 0 to 1167\n",
            "Data columns (total 16 columns):\n",
            " #   Column     Non-Null Count  Dtype \n",
            "---  ------     --------------  ----- \n",
            " 0   A1_Score   1168 non-null   int64 \n",
            " 1   A2_Score   1168 non-null   int64 \n",
            " 2   A3_Score   1168 non-null   int64 \n",
            " 3   A4_Score   1168 non-null   int64 \n",
            " 4   A5_Score   1168 non-null   int64 \n",
            " 5   A6_Score   1168 non-null   int64 \n",
            " 6   A7_Score   1168 non-null   int64 \n",
            " 7   A8_Score   1168 non-null   int64 \n",
            " 8   A9_Score   1168 non-null   int64 \n",
            " 9   A10_Score  1168 non-null   int64 \n",
            " 10  age        1168 non-null   object\n",
            " 11  gender     1168 non-null   int64 \n",
            " 12  jundice    1168 non-null   int64 \n",
            " 13  result     1168 non-null   int64 \n",
            " 14  relation   1168 non-null   int64 \n",
            " 15  Class      1168 non-null   int64 \n",
            "dtypes: int64(15), object(1)\n",
            "memory usage: 146.1+ KB\n"
          ]
        }
      ],
      "source": [
        "df.info()"
      ]
    },
    {
      "cell_type": "code",
      "execution_count": 166,
      "id": "60dc91d1",
      "metadata": {
        "id": "60dc91d1"
      },
      "outputs": [],
      "source": [
        "df[\"age\"]=df[\"age\"].astype(dtype=\"int64\")"
      ]
    },
    {
      "cell_type": "code",
      "execution_count": 167,
      "id": "89016e7b",
      "metadata": {
        "id": "89016e7b",
        "colab": {
          "base_uri": "https://localhost:8080/"
        },
        "outputId": "05904e01-1844-4c55-c6dc-0ac194b7334f"
      },
      "outputs": [
        {
          "output_type": "stream",
          "name": "stdout",
          "text": [
            "<class 'pandas.core.frame.DataFrame'>\n",
            "RangeIndex: 1168 entries, 0 to 1167\n",
            "Data columns (total 16 columns):\n",
            " #   Column     Non-Null Count  Dtype\n",
            "---  ------     --------------  -----\n",
            " 0   A1_Score   1168 non-null   int64\n",
            " 1   A2_Score   1168 non-null   int64\n",
            " 2   A3_Score   1168 non-null   int64\n",
            " 3   A4_Score   1168 non-null   int64\n",
            " 4   A5_Score   1168 non-null   int64\n",
            " 5   A6_Score   1168 non-null   int64\n",
            " 6   A7_Score   1168 non-null   int64\n",
            " 7   A8_Score   1168 non-null   int64\n",
            " 8   A9_Score   1168 non-null   int64\n",
            " 9   A10_Score  1168 non-null   int64\n",
            " 10  age        1168 non-null   int64\n",
            " 11  gender     1168 non-null   int64\n",
            " 12  jundice    1168 non-null   int64\n",
            " 13  result     1168 non-null   int64\n",
            " 14  relation   1168 non-null   int64\n",
            " 15  Class      1168 non-null   int64\n",
            "dtypes: int64(16)\n",
            "memory usage: 146.1 KB\n"
          ]
        }
      ],
      "source": [
        "df.info()"
      ]
    },
    {
      "cell_type": "code",
      "execution_count": 168,
      "id": "63d6df50",
      "metadata": {
        "id": "63d6df50"
      },
      "outputs": [],
      "source": [
        "X=df.drop(labels=\"Class\",axis=1)\n",
        "y=df[\"Class\"]"
      ]
    },
    {
      "cell_type": "code",
      "execution_count": 169,
      "id": "c4e7872e",
      "metadata": {
        "id": "c4e7872e",
        "colab": {
          "base_uri": "https://localhost:8080/",
          "height": 206
        },
        "outputId": "da5ea3f7-cd1d-4c2e-a1eb-ca40260b2e7c"
      },
      "outputs": [
        {
          "output_type": "execute_result",
          "data": {
            "text/plain": [
              "   A1_Score  A2_Score  A3_Score  A4_Score  A5_Score  A6_Score  A7_Score  \\\n",
              "0         1         1         0         0         1         1         0   \n",
              "1         1         1         0         0         1         1         0   \n",
              "2         1         1         0         0         0         1         1   \n",
              "3         0         1         0         0         1         1         0   \n",
              "4         1         1         1         1         1         1         1   \n",
              "\n",
              "   A8_Score  A9_Score  A10_Score  age  gender  jundice  result  relation  \n",
              "0         1         0          0    6       0        0       5         0  \n",
              "1         1         0          0    6       0        0       5         0  \n",
              "2         1         0          0    6       0        0       5         0  \n",
              "3         0         0          1    5       1        1       4         0  \n",
              "4         1         1          1    5       0        1      10         0  "
            ],
            "text/html": [
              "\n",
              "  <div id=\"df-501a6f60-80c0-4be9-a716-145e33b53e6d\">\n",
              "    <div class=\"colab-df-container\">\n",
              "      <div>\n",
              "<style scoped>\n",
              "    .dataframe tbody tr th:only-of-type {\n",
              "        vertical-align: middle;\n",
              "    }\n",
              "\n",
              "    .dataframe tbody tr th {\n",
              "        vertical-align: top;\n",
              "    }\n",
              "\n",
              "    .dataframe thead th {\n",
              "        text-align: right;\n",
              "    }\n",
              "</style>\n",
              "<table border=\"1\" class=\"dataframe\">\n",
              "  <thead>\n",
              "    <tr style=\"text-align: right;\">\n",
              "      <th></th>\n",
              "      <th>A1_Score</th>\n",
              "      <th>A2_Score</th>\n",
              "      <th>A3_Score</th>\n",
              "      <th>A4_Score</th>\n",
              "      <th>A5_Score</th>\n",
              "      <th>A6_Score</th>\n",
              "      <th>A7_Score</th>\n",
              "      <th>A8_Score</th>\n",
              "      <th>A9_Score</th>\n",
              "      <th>A10_Score</th>\n",
              "      <th>age</th>\n",
              "      <th>gender</th>\n",
              "      <th>jundice</th>\n",
              "      <th>result</th>\n",
              "      <th>relation</th>\n",
              "    </tr>\n",
              "  </thead>\n",
              "  <tbody>\n",
              "    <tr>\n",
              "      <th>0</th>\n",
              "      <td>1</td>\n",
              "      <td>1</td>\n",
              "      <td>0</td>\n",
              "      <td>0</td>\n",
              "      <td>1</td>\n",
              "      <td>1</td>\n",
              "      <td>0</td>\n",
              "      <td>1</td>\n",
              "      <td>0</td>\n",
              "      <td>0</td>\n",
              "      <td>6</td>\n",
              "      <td>0</td>\n",
              "      <td>0</td>\n",
              "      <td>5</td>\n",
              "      <td>0</td>\n",
              "    </tr>\n",
              "    <tr>\n",
              "      <th>1</th>\n",
              "      <td>1</td>\n",
              "      <td>1</td>\n",
              "      <td>0</td>\n",
              "      <td>0</td>\n",
              "      <td>1</td>\n",
              "      <td>1</td>\n",
              "      <td>0</td>\n",
              "      <td>1</td>\n",
              "      <td>0</td>\n",
              "      <td>0</td>\n",
              "      <td>6</td>\n",
              "      <td>0</td>\n",
              "      <td>0</td>\n",
              "      <td>5</td>\n",
              "      <td>0</td>\n",
              "    </tr>\n",
              "    <tr>\n",
              "      <th>2</th>\n",
              "      <td>1</td>\n",
              "      <td>1</td>\n",
              "      <td>0</td>\n",
              "      <td>0</td>\n",
              "      <td>0</td>\n",
              "      <td>1</td>\n",
              "      <td>1</td>\n",
              "      <td>1</td>\n",
              "      <td>0</td>\n",
              "      <td>0</td>\n",
              "      <td>6</td>\n",
              "      <td>0</td>\n",
              "      <td>0</td>\n",
              "      <td>5</td>\n",
              "      <td>0</td>\n",
              "    </tr>\n",
              "    <tr>\n",
              "      <th>3</th>\n",
              "      <td>0</td>\n",
              "      <td>1</td>\n",
              "      <td>0</td>\n",
              "      <td>0</td>\n",
              "      <td>1</td>\n",
              "      <td>1</td>\n",
              "      <td>0</td>\n",
              "      <td>0</td>\n",
              "      <td>0</td>\n",
              "      <td>1</td>\n",
              "      <td>5</td>\n",
              "      <td>1</td>\n",
              "      <td>1</td>\n",
              "      <td>4</td>\n",
              "      <td>0</td>\n",
              "    </tr>\n",
              "    <tr>\n",
              "      <th>4</th>\n",
              "      <td>1</td>\n",
              "      <td>1</td>\n",
              "      <td>1</td>\n",
              "      <td>1</td>\n",
              "      <td>1</td>\n",
              "      <td>1</td>\n",
              "      <td>1</td>\n",
              "      <td>1</td>\n",
              "      <td>1</td>\n",
              "      <td>1</td>\n",
              "      <td>5</td>\n",
              "      <td>0</td>\n",
              "      <td>1</td>\n",
              "      <td>10</td>\n",
              "      <td>0</td>\n",
              "    </tr>\n",
              "  </tbody>\n",
              "</table>\n",
              "</div>\n",
              "      <button class=\"colab-df-convert\" onclick=\"convertToInteractive('df-501a6f60-80c0-4be9-a716-145e33b53e6d')\"\n",
              "              title=\"Convert this dataframe to an interactive table.\"\n",
              "              style=\"display:none;\">\n",
              "        \n",
              "  <svg xmlns=\"http://www.w3.org/2000/svg\" height=\"24px\"viewBox=\"0 0 24 24\"\n",
              "       width=\"24px\">\n",
              "    <path d=\"M0 0h24v24H0V0z\" fill=\"none\"/>\n",
              "    <path d=\"M18.56 5.44l.94 2.06.94-2.06 2.06-.94-2.06-.94-.94-2.06-.94 2.06-2.06.94zm-11 1L8.5 8.5l.94-2.06 2.06-.94-2.06-.94L8.5 2.5l-.94 2.06-2.06.94zm10 10l.94 2.06.94-2.06 2.06-.94-2.06-.94-.94-2.06-.94 2.06-2.06.94z\"/><path d=\"M17.41 7.96l-1.37-1.37c-.4-.4-.92-.59-1.43-.59-.52 0-1.04.2-1.43.59L10.3 9.45l-7.72 7.72c-.78.78-.78 2.05 0 2.83L4 21.41c.39.39.9.59 1.41.59.51 0 1.02-.2 1.41-.59l7.78-7.78 2.81-2.81c.8-.78.8-2.07 0-2.86zM5.41 20L4 18.59l7.72-7.72 1.47 1.35L5.41 20z\"/>\n",
              "  </svg>\n",
              "      </button>\n",
              "      \n",
              "  <style>\n",
              "    .colab-df-container {\n",
              "      display:flex;\n",
              "      flex-wrap:wrap;\n",
              "      gap: 12px;\n",
              "    }\n",
              "\n",
              "    .colab-df-convert {\n",
              "      background-color: #E8F0FE;\n",
              "      border: none;\n",
              "      border-radius: 50%;\n",
              "      cursor: pointer;\n",
              "      display: none;\n",
              "      fill: #1967D2;\n",
              "      height: 32px;\n",
              "      padding: 0 0 0 0;\n",
              "      width: 32px;\n",
              "    }\n",
              "\n",
              "    .colab-df-convert:hover {\n",
              "      background-color: #E2EBFA;\n",
              "      box-shadow: 0px 1px 2px rgba(60, 64, 67, 0.3), 0px 1px 3px 1px rgba(60, 64, 67, 0.15);\n",
              "      fill: #174EA6;\n",
              "    }\n",
              "\n",
              "    [theme=dark] .colab-df-convert {\n",
              "      background-color: #3B4455;\n",
              "      fill: #D2E3FC;\n",
              "    }\n",
              "\n",
              "    [theme=dark] .colab-df-convert:hover {\n",
              "      background-color: #434B5C;\n",
              "      box-shadow: 0px 1px 3px 1px rgba(0, 0, 0, 0.15);\n",
              "      filter: drop-shadow(0px 1px 2px rgba(0, 0, 0, 0.3));\n",
              "      fill: #FFFFFF;\n",
              "    }\n",
              "  </style>\n",
              "\n",
              "      <script>\n",
              "        const buttonEl =\n",
              "          document.querySelector('#df-501a6f60-80c0-4be9-a716-145e33b53e6d button.colab-df-convert');\n",
              "        buttonEl.style.display =\n",
              "          google.colab.kernel.accessAllowed ? 'block' : 'none';\n",
              "\n",
              "        async function convertToInteractive(key) {\n",
              "          const element = document.querySelector('#df-501a6f60-80c0-4be9-a716-145e33b53e6d');\n",
              "          const dataTable =\n",
              "            await google.colab.kernel.invokeFunction('convertToInteractive',\n",
              "                                                     [key], {});\n",
              "          if (!dataTable) return;\n",
              "\n",
              "          const docLinkHtml = 'Like what you see? Visit the ' +\n",
              "            '<a target=\"_blank\" href=https://colab.research.google.com/notebooks/data_table.ipynb>data table notebook</a>'\n",
              "            + ' to learn more about interactive tables.';\n",
              "          element.innerHTML = '';\n",
              "          dataTable['output_type'] = 'display_data';\n",
              "          await google.colab.output.renderOutput(dataTable, element);\n",
              "          const docLink = document.createElement('div');\n",
              "          docLink.innerHTML = docLinkHtml;\n",
              "          element.appendChild(docLink);\n",
              "        }\n",
              "      </script>\n",
              "    </div>\n",
              "  </div>\n",
              "  "
            ]
          },
          "metadata": {},
          "execution_count": 169
        }
      ],
      "source": [
        "X.head()"
      ]
    },
    {
      "cell_type": "code",
      "execution_count": 170,
      "id": "d64d9582",
      "metadata": {
        "id": "d64d9582",
        "colab": {
          "base_uri": "https://localhost:8080/"
        },
        "outputId": "615cec42-935e-43ea-d48c-8ecec710d7f4"
      },
      "outputs": [
        {
          "output_type": "execute_result",
          "data": {
            "text/plain": [
              "0    0\n",
              "1    0\n",
              "2    0\n",
              "3    0\n",
              "4    1\n",
              "Name: Class, dtype: int64"
            ]
          },
          "metadata": {},
          "execution_count": 170
        }
      ],
      "source": [
        "y.head()"
      ]
    },
    {
      "cell_type": "code",
      "execution_count": 171,
      "id": "75a69403",
      "metadata": {
        "id": "75a69403"
      },
      "outputs": [],
      "source": [
        "X_train,X_test,y_train,y_test=train_test_split(X,y,test_size=0.2,random_state=42)"
      ]
    },
    {
      "cell_type": "code",
      "execution_count": 172,
      "id": "5ebeaa61",
      "metadata": {
        "id": "5ebeaa61",
        "colab": {
          "base_uri": "https://localhost:8080/"
        },
        "outputId": "8443c2eb-7898-48cb-9ffb-8da390984900"
      },
      "outputs": [
        {
          "output_type": "stream",
          "name": "stdout",
          "text": [
            "(934, 15) (234, 15) (934,) (234,)\n"
          ]
        }
      ],
      "source": [
        "print(X_train.shape,X_test.shape,y_train.shape,y_test.shape)"
      ]
    },
    {
      "cell_type": "markdown",
      "id": "37c04d83",
      "metadata": {
        "id": "37c04d83"
      },
      "source": [
        "## Model-1 Support Vector Classifier"
      ]
    },
    {
      "cell_type": "code",
      "execution_count": 173,
      "id": "f72bf71b",
      "metadata": {
        "id": "f72bf71b",
        "colab": {
          "base_uri": "https://localhost:8080/",
          "height": 75
        },
        "outputId": "38ba2265-5f9f-4420-e7c9-bec7dc4e64fb"
      },
      "outputs": [
        {
          "output_type": "execute_result",
          "data": {
            "text/plain": [
              "SVC(kernel='linear', tol=50)"
            ],
            "text/html": [
              "<style>#sk-container-id-5 {color: black;background-color: white;}#sk-container-id-5 pre{padding: 0;}#sk-container-id-5 div.sk-toggleable {background-color: white;}#sk-container-id-5 label.sk-toggleable__label {cursor: pointer;display: block;width: 100%;margin-bottom: 0;padding: 0.3em;box-sizing: border-box;text-align: center;}#sk-container-id-5 label.sk-toggleable__label-arrow:before {content: \"▸\";float: left;margin-right: 0.25em;color: #696969;}#sk-container-id-5 label.sk-toggleable__label-arrow:hover:before {color: black;}#sk-container-id-5 div.sk-estimator:hover label.sk-toggleable__label-arrow:before {color: black;}#sk-container-id-5 div.sk-toggleable__content {max-height: 0;max-width: 0;overflow: hidden;text-align: left;background-color: #f0f8ff;}#sk-container-id-5 div.sk-toggleable__content pre {margin: 0.2em;color: black;border-radius: 0.25em;background-color: #f0f8ff;}#sk-container-id-5 input.sk-toggleable__control:checked~div.sk-toggleable__content {max-height: 200px;max-width: 100%;overflow: auto;}#sk-container-id-5 input.sk-toggleable__control:checked~label.sk-toggleable__label-arrow:before {content: \"▾\";}#sk-container-id-5 div.sk-estimator input.sk-toggleable__control:checked~label.sk-toggleable__label {background-color: #d4ebff;}#sk-container-id-5 div.sk-label input.sk-toggleable__control:checked~label.sk-toggleable__label {background-color: #d4ebff;}#sk-container-id-5 input.sk-hidden--visually {border: 0;clip: rect(1px 1px 1px 1px);clip: rect(1px, 1px, 1px, 1px);height: 1px;margin: -1px;overflow: hidden;padding: 0;position: absolute;width: 1px;}#sk-container-id-5 div.sk-estimator {font-family: monospace;background-color: #f0f8ff;border: 1px dotted black;border-radius: 0.25em;box-sizing: border-box;margin-bottom: 0.5em;}#sk-container-id-5 div.sk-estimator:hover {background-color: #d4ebff;}#sk-container-id-5 div.sk-parallel-item::after {content: \"\";width: 100%;border-bottom: 1px solid gray;flex-grow: 1;}#sk-container-id-5 div.sk-label:hover label.sk-toggleable__label {background-color: #d4ebff;}#sk-container-id-5 div.sk-serial::before {content: \"\";position: absolute;border-left: 1px solid gray;box-sizing: border-box;top: 0;bottom: 0;left: 50%;z-index: 0;}#sk-container-id-5 div.sk-serial {display: flex;flex-direction: column;align-items: center;background-color: white;padding-right: 0.2em;padding-left: 0.2em;position: relative;}#sk-container-id-5 div.sk-item {position: relative;z-index: 1;}#sk-container-id-5 div.sk-parallel {display: flex;align-items: stretch;justify-content: center;background-color: white;position: relative;}#sk-container-id-5 div.sk-item::before, #sk-container-id-5 div.sk-parallel-item::before {content: \"\";position: absolute;border-left: 1px solid gray;box-sizing: border-box;top: 0;bottom: 0;left: 50%;z-index: -1;}#sk-container-id-5 div.sk-parallel-item {display: flex;flex-direction: column;z-index: 1;position: relative;background-color: white;}#sk-container-id-5 div.sk-parallel-item:first-child::after {align-self: flex-end;width: 50%;}#sk-container-id-5 div.sk-parallel-item:last-child::after {align-self: flex-start;width: 50%;}#sk-container-id-5 div.sk-parallel-item:only-child::after {width: 0;}#sk-container-id-5 div.sk-dashed-wrapped {border: 1px dashed gray;margin: 0 0.4em 0.5em 0.4em;box-sizing: border-box;padding-bottom: 0.4em;background-color: white;}#sk-container-id-5 div.sk-label label {font-family: monospace;font-weight: bold;display: inline-block;line-height: 1.2em;}#sk-container-id-5 div.sk-label-container {text-align: center;}#sk-container-id-5 div.sk-container {/* jupyter's `normalize.less` sets `[hidden] { display: none; }` but bootstrap.min.css set `[hidden] { display: none !important; }` so we also need the `!important` here to be able to override the default hidden behavior on the sphinx rendered scikit-learn.org. See: https://github.com/scikit-learn/scikit-learn/issues/21755 */display: inline-block !important;position: relative;}#sk-container-id-5 div.sk-text-repr-fallback {display: none;}</style><div id=\"sk-container-id-5\" class=\"sk-top-container\"><div class=\"sk-text-repr-fallback\"><pre>SVC(kernel=&#x27;linear&#x27;, tol=50)</pre><b>In a Jupyter environment, please rerun this cell to show the HTML representation or trust the notebook. <br />On GitHub, the HTML representation is unable to render, please try loading this page with nbviewer.org.</b></div><div class=\"sk-container\" hidden><div class=\"sk-item\"><div class=\"sk-estimator sk-toggleable\"><input class=\"sk-toggleable__control sk-hidden--visually\" id=\"sk-estimator-id-5\" type=\"checkbox\" checked><label for=\"sk-estimator-id-5\" class=\"sk-toggleable__label sk-toggleable__label-arrow\">SVC</label><div class=\"sk-toggleable__content\"><pre>SVC(kernel=&#x27;linear&#x27;, tol=50)</pre></div></div></div></div></div>"
            ]
          },
          "metadata": {},
          "execution_count": 173
        }
      ],
      "source": [
        "from sklearn.svm import SVC\n",
        "svc_model=SVC(tol=50,kernel='linear')\n",
        "svc_model.fit(X_train,y_train)"
      ]
    },
    {
      "cell_type": "code",
      "execution_count": 174,
      "id": "feed0303",
      "metadata": {
        "id": "feed0303"
      },
      "outputs": [],
      "source": [
        "svc_pred=svc_model.predict(X_test)"
      ]
    },
    {
      "cell_type": "code",
      "execution_count": 175,
      "id": "a6f053fd",
      "metadata": {
        "id": "a6f053fd",
        "colab": {
          "base_uri": "https://localhost:8080/"
        },
        "outputId": "aa262c44-1747-4454-fbd2-0796c0018627"
      },
      "outputs": [
        {
          "output_type": "stream",
          "name": "stdout",
          "text": [
            "[1 1 1 1 1 1 1 1 1 1 1 1 1 1 1 1 1 1 1 1 1 1 1 1 1 1 1 1 1 1 1 1 1 1 1 1 1\n",
            " 1 1 1 1 1 1 1 1 1 1 1 1 1 1 1 1 1 1 1 1 1 1 1 1 1 1 1 1 1 1 1 1 1 1 1 1 1\n",
            " 1 1 1 1 1 1 1 1 1 1 1 1 1 1 1 1 1 1 1 1 1 1 1 1 1 1 1 1 1 1 1 1 1 1 1 1 1\n",
            " 1 1 1 1 1 1 1 1 1 1 1 1 1 1 1 1 1 1 1 1 1 1 1 1 1 1 1 1 1 1 1 1 1 1 1 1 1\n",
            " 1 1 1 1 1 1 1 1 1 1 1 1 1 1 1 1 1 1 1 1 1 1 1 1 1 1 1 1 1 1 1 1 1 1 1 1 1\n",
            " 1 1 1 1 1 1 1 1 1 1 1 1 1 1 1 1 1 1 1 1 1 1 1 1 1 1 1 1 1 1 1 1 1 1 1 1 1\n",
            " 1 1 1 1 1 1 1 1 1 1 1 1]\n"
          ]
        }
      ],
      "source": [
        "print(svc_pred)"
      ]
    },
    {
      "cell_type": "code",
      "execution_count": 176,
      "id": "5707b939",
      "metadata": {
        "id": "5707b939",
        "colab": {
          "base_uri": "https://localhost:8080/"
        },
        "outputId": "a478670c-fff7-4965-b09a-a05a6aa124b7"
      },
      "outputs": [
        {
          "output_type": "stream",
          "name": "stdout",
          "text": [
            "SupportVectorClassifier model predicted 234 samples as AUTISM and 0 samples as NOT_AUTISM from 234 test samples.\n"
          ]
        }
      ],
      "source": [
        "Not_Autism=0\n",
        "Autism=0\n",
        "for predicted_label in svc_pred:\n",
        "    if predicted_label==0:\n",
        "        Not_Autism+=1\n",
        "    else:\n",
        "        Autism+=1\n",
        "print(f\"SupportVectorClassifier model predicted {Autism} samples as AUTISM and {Not_Autism} samples as NOT_AUTISM from {len(svc_pred)} test samples.\")"
      ]
    },
    {
      "cell_type": "markdown",
      "id": "f95492ac",
      "metadata": {
        "id": "f95492ac"
      },
      "source": [
        "## Result Analysis"
      ]
    },
    {
      "cell_type": "markdown",
      "id": "53665841",
      "metadata": {
        "id": "53665841"
      },
      "source": [
        "***Accuracy Score***"
      ]
    },
    {
      "cell_type": "code",
      "execution_count": 177,
      "id": "cb1def1e",
      "metadata": {
        "id": "cb1def1e",
        "colab": {
          "base_uri": "https://localhost:8080/"
        },
        "outputId": "9d99b216-bd9a-4e87-d226-485b2e4d6070"
      },
      "outputs": [
        {
          "output_type": "stream",
          "name": "stdout",
          "text": [
            "SupportVectorClassifier Accuracy is 41.45\n"
          ]
        }
      ],
      "source": [
        "svc_accuracy=accuracy_score(y_true=y_test,y_pred=svc_pred)\n",
        "print(\"SupportVectorClassifier Accuracy is {:.2f}\".format(svc_accuracy*100))"
      ]
    },
    {
      "cell_type": "markdown",
      "id": "ea34c4f6",
      "metadata": {
        "id": "ea34c4f6"
      },
      "source": [
        "***Classification Report***"
      ]
    },
    {
      "cell_type": "code",
      "execution_count": 178,
      "id": "ea6a8391",
      "metadata": {
        "id": "ea6a8391",
        "colab": {
          "base_uri": "https://localhost:8080/"
        },
        "outputId": "ac1f915c-ea83-4009-f7a0-7963edda32e8"
      },
      "outputs": [
        {
          "output_type": "stream",
          "name": "stdout",
          "text": [
            "              precision    recall  f1-score   support\n",
            "\n",
            "          No       0.00      0.00      0.00       137\n",
            "         Yes       0.41      1.00      0.59        97\n",
            "\n",
            "    accuracy                           0.41       234\n",
            "   macro avg       0.21      0.50      0.29       234\n",
            "weighted avg       0.17      0.41      0.24       234\n",
            "\n"
          ]
        }
      ],
      "source": [
        "print(classification_report(y_true=y_test,y_pred=svc_pred,target_names=[\"No\",\"Yes\"]))"
      ]
    },
    {
      "cell_type": "markdown",
      "id": "b96feaed",
      "metadata": {
        "id": "b96feaed"
      },
      "source": [
        "***Confusion Matrix***"
      ]
    },
    {
      "cell_type": "code",
      "execution_count": 179,
      "id": "731b371c",
      "metadata": {
        "id": "731b371c",
        "colab": {
          "base_uri": "https://localhost:8080/",
          "height": 459
        },
        "outputId": "141f7716-d2ab-447a-85c3-485f3574754b"
      },
      "outputs": [
        {
          "output_type": "display_data",
          "data": {
            "text/plain": [
              "<Figure size 500x500 with 1 Axes>"
            ],
            "image/png": "[encoded data removed]"
          },
          "metadata": {}
        }
      ],
      "source": [
        "plt.figure(figsize=(5,5))\n",
        "plt.rcParams[\"font.size\"]=20\n",
        "labels=[\"No\",\"Yes\"]\n",
        "sns.heatmap(data=confusion_matrix(y_true=y_test,y_pred=svc_pred),\n",
        "            cbar=False,\n",
        "            annot=True,\n",
        "            fmt=\"d\",\n",
        "            xticklabels=labels,\n",
        "            yticklabels=labels,\n",
        "            cmap=\"YlGnBu\",\n",
        "            linecolor=\"black\",\n",
        "            linewidths=0.2)\n",
        "plt.show()"
      ]
    },
    {
      "cell_type": "markdown",
      "id": "d0a43acb",
      "metadata": {
        "id": "d0a43acb"
      },
      "source": [
        "## Model Saving"
      ]
    },
    {
      "cell_type": "code",
      "execution_count": 180,
      "id": "4fc0eb78",
      "metadata": {
        "id": "4fc0eb78"
      },
      "outputs": [],
      "source": [
        "with open(file=\"SVM_model_Child.pkl\",mode=\"wb\") as file:\n",
        "    pickle.dump(obj=svc_model,file=file)"
      ]
    },
    {
      "cell_type": "markdown",
      "id": "cdb62f0b",
      "metadata": {
        "id": "cdb62f0b"
      },
      "source": [
        "## Model-2 RandomForestClassifier"
      ]
    },
    {
      "cell_type": "code",
      "execution_count": 181,
      "id": "f61741c0",
      "metadata": {
        "id": "f61741c0",
        "colab": {
          "base_uri": "https://localhost:8080/",
          "height": 92
        },
        "outputId": "991ecc24-1fef-43d5-9133-f209c8bde76d"
      },
      "outputs": [
        {
          "output_type": "execute_result",
          "data": {
            "text/plain": [
              "RandomForestClassifier(min_samples_leaf=20, min_samples_split=20,\n",
              "                       n_estimators=1)"
            ],
            "text/html": [
              "<style>#sk-container-id-6 {color: black;background-color: white;}#sk-container-id-6 pre{padding: 0;}#sk-container-id-6 div.sk-toggleable {background-color: white;}#sk-container-id-6 label.sk-toggleable__label {cursor: pointer;display: block;width: 100%;margin-bottom: 0;padding: 0.3em;box-sizing: border-box;text-align: center;}#sk-container-id-6 label.sk-toggleable__label-arrow:before {content: \"▸\";float: left;margin-right: 0.25em;color: #696969;}#sk-container-id-6 label.sk-toggleable__label-arrow:hover:before {color: black;}#sk-container-id-6 div.sk-estimator:hover label.sk-toggleable__label-arrow:before {color: black;}#sk-container-id-6 div.sk-toggleable__content {max-height: 0;max-width: 0;overflow: hidden;text-align: left;background-color: #f0f8ff;}#sk-container-id-6 div.sk-toggleable__content pre {margin: 0.2em;color: black;border-radius: 0.25em;background-color: #f0f8ff;}#sk-container-id-6 input.sk-toggleable__control:checked~div.sk-toggleable__content {max-height: 200px;max-width: 100%;overflow: auto;}#sk-container-id-6 input.sk-toggleable__control:checked~label.sk-toggleable__label-arrow:before {content: \"▾\";}#sk-container-id-6 div.sk-estimator input.sk-toggleable__control:checked~label.sk-toggleable__label {background-color: #d4ebff;}#sk-container-id-6 div.sk-label input.sk-toggleable__control:checked~label.sk-toggleable__label {background-color: #d4ebff;}#sk-container-id-6 input.sk-hidden--visually {border: 0;clip: rect(1px 1px 1px 1px);clip: rect(1px, 1px, 1px, 1px);height: 1px;margin: -1px;overflow: hidden;padding: 0;position: absolute;width: 1px;}#sk-container-id-6 div.sk-estimator {font-family: monospace;background-color: #f0f8ff;border: 1px dotted black;border-radius: 0.25em;box-sizing: border-box;margin-bottom: 0.5em;}#sk-container-id-6 div.sk-estimator:hover {background-color: #d4ebff;}#sk-container-id-6 div.sk-parallel-item::after {content: \"\";width: 100%;border-bottom: 1px solid gray;flex-grow: 1;}#sk-container-id-6 div.sk-label:hover label.sk-toggleable__label {background-color: #d4ebff;}#sk-container-id-6 div.sk-serial::before {content: \"\";position: absolute;border-left: 1px solid gray;box-sizing: border-box;top: 0;bottom: 0;left: 50%;z-index: 0;}#sk-container-id-6 div.sk-serial {display: flex;flex-direction: column;align-items: center;background-color: white;padding-right: 0.2em;padding-left: 0.2em;position: relative;}#sk-container-id-6 div.sk-item {position: relative;z-index: 1;}#sk-container-id-6 div.sk-parallel {display: flex;align-items: stretch;justify-content: center;background-color: white;position: relative;}#sk-container-id-6 div.sk-item::before, #sk-container-id-6 div.sk-parallel-item::before {content: \"\";position: absolute;border-left: 1px solid gray;box-sizing: border-box;top: 0;bottom: 0;left: 50%;z-index: -1;}#sk-container-id-6 div.sk-parallel-item {display: flex;flex-direction: column;z-index: 1;position: relative;background-color: white;}#sk-container-id-6 div.sk-parallel-item:first-child::after {align-self: flex-end;width: 50%;}#sk-container-id-6 div.sk-parallel-item:last-child::after {align-self: flex-start;width: 50%;}#sk-container-id-6 div.sk-parallel-item:only-child::after {width: 0;}#sk-container-id-6 div.sk-dashed-wrapped {border: 1px dashed gray;margin: 0 0.4em 0.5em 0.4em;box-sizing: border-box;padding-bottom: 0.4em;background-color: white;}#sk-container-id-6 div.sk-label label {font-family: monospace;font-weight: bold;display: inline-block;line-height: 1.2em;}#sk-container-id-6 div.sk-label-container {text-align: center;}#sk-container-id-6 div.sk-container {/* jupyter's `normalize.less` sets `[hidden] { display: none; }` but bootstrap.min.css set `[hidden] { display: none !important; }` so we also need the `!important` here to be able to override the default hidden behavior on the sphinx rendered scikit-learn.org. See: https://github.com/scikit-learn/scikit-learn/issues/21755 */display: inline-block !important;position: relative;}#sk-container-id-6 div.sk-text-repr-fallback {display: none;}</style><div id=\"sk-container-id-6\" class=\"sk-top-container\"><div class=\"sk-text-repr-fallback\"><pre>RandomForestClassifier(min_samples_leaf=20, min_samples_split=20,\n",
              "                       n_estimators=1)</pre><b>In a Jupyter environment, please rerun this cell to show the HTML representation or trust the notebook. <br />On GitHub, the HTML representation is unable to render, please try loading this page with nbviewer.org.</b></div><div class=\"sk-container\" hidden><div class=\"sk-item\"><div class=\"sk-estimator sk-toggleable\"><input class=\"sk-toggleable__control sk-hidden--visually\" id=\"sk-estimator-id-6\" type=\"checkbox\" checked><label for=\"sk-estimator-id-6\" class=\"sk-toggleable__label sk-toggleable__label-arrow\">RandomForestClassifier</label><div class=\"sk-toggleable__content\"><pre>RandomForestClassifier(min_samples_leaf=20, min_samples_split=20,\n",
              "                       n_estimators=1)</pre></div></div></div></div></div>"
            ]
          },
          "metadata": {},
          "execution_count": 181
        }
      ],
      "source": [
        "from sklearn.ensemble import RandomForestClassifier\n",
        "RF_model=RandomForestClassifier(n_estimators=1,min_samples_split=20,min_samples_leaf=20)\n",
        "RF_model.fit(X=X_train,y=y_train)"
      ]
    },
    {
      "cell_type": "code",
      "execution_count": 182,
      "id": "5f85fd3c",
      "metadata": {
        "id": "5f85fd3c"
      },
      "outputs": [],
      "source": [
        "RF_pred=RF_model.predict(X=X_test)"
      ]
    },
    {
      "cell_type": "code",
      "execution_count": 183,
      "id": "4a04e916",
      "metadata": {
        "id": "4a04e916",
        "colab": {
          "base_uri": "https://localhost:8080/"
        },
        "outputId": "165aac89-dd96-4236-d823-fa29d4cf911c"
      },
      "outputs": [
        {
          "output_type": "stream",
          "name": "stdout",
          "text": [
            "[0 0 1 0 0 0 1 1 1 0 0 0 0 1 1 0 0 1 0 1 0 0 0 0 0 0 0 0 0 1 0 1 1 1 0 1 0\n",
            " 1 0 1 1 0 0 0 0 0 0 1 1 0 1 1 0 0 1 0 1 1 1 1 1 0 1 0 1 1 1 1 1 0 0 0 0 1\n",
            " 1 1 1 0 0 1 0 1 1 0 0 0 1 0 1 0 0 0 1 1 1 0 0 1 0 0 0 0 0 0 1 0 0 1 1 1 0\n",
            " 0 0 1 0 0 1 0 0 0 0 0 1 0 0 0 1 0 0 0 0 1 1 0 0 0 1 1 1 1 0 0 1 0 0 1 1 0\n",
            " 0 0 1 1 1 0 0 1 0 0 1 0 0 1 1 0 1 1 0 1 1 0 0 0 1 0 1 1 0 0 0 1 0 1 0 1 0\n",
            " 0 1 1 0 1 0 0 0 0 1 1 0 0 0 0 1 1 0 0 0 1 0 0 1 1 1 0 1 0 1 0 1 1 0 0 0 0\n",
            " 1 0 1 1 0 1 1 0 1 0 1 0]\n"
          ]
        }
      ],
      "source": [
        "print(RF_pred)"
      ]
    },
    {
      "cell_type": "code",
      "execution_count": 184,
      "id": "57014554",
      "metadata": {
        "id": "57014554",
        "colab": {
          "base_uri": "https://localhost:8080/"
        },
        "outputId": "64620e12-d3da-4a47-a216-0328b3071b2b"
      },
      "outputs": [
        {
          "output_type": "stream",
          "name": "stdout",
          "text": [
            "RandomForestClassifier model predicted 101 samples as AUTISM and 133 samples as NOT_AUTISM from 234 test samples.\n"
          ]
        }
      ],
      "source": [
        "Not_Autism=0\n",
        "Autism=0\n",
        "for predicted_label in RF_pred:\n",
        "    if predicted_label==0:\n",
        "        Not_Autism+=1\n",
        "    else:\n",
        "        Autism+=1\n",
        "print(f\"RandomForestClassifier model predicted {Autism} samples as AUTISM and {Not_Autism} samples as NOT_AUTISM from {len(RF_pred)} test samples.\")"
      ]
    },
    {
      "cell_type": "markdown",
      "id": "d6ac9810",
      "metadata": {
        "id": "d6ac9810"
      },
      "source": [
        "### Result Analysis"
      ]
    },
    {
      "cell_type": "markdown",
      "id": "c0178d95",
      "metadata": {
        "id": "c0178d95"
      },
      "source": [
        "***Accuracy Score***"
      ]
    },
    {
      "cell_type": "code",
      "execution_count": 185,
      "id": "2bc4e64d",
      "metadata": {
        "id": "2bc4e64d",
        "colab": {
          "base_uri": "https://localhost:8080/"
        },
        "outputId": "d65c014a-caa7-4219-e9ca-63745cb8e653"
      },
      "outputs": [
        {
          "output_type": "stream",
          "name": "stdout",
          "text": [
            "RandomForestClassifier accuracy is 86.32\n"
          ]
        }
      ],
      "source": [
        "RF_accuracy=accuracy_score(y_true=y_test,y_pred=RF_pred)\n",
        "print(\"RandomForestClassifier accuracy is {:.2f}\".format(RF_accuracy*100))"
      ]
    },
    {
      "cell_type": "markdown",
      "id": "1b348c19",
      "metadata": {
        "id": "1b348c19"
      },
      "source": [
        "***Classification Report***"
      ]
    },
    {
      "cell_type": "code",
      "execution_count": 186,
      "id": "4264bbdb",
      "metadata": {
        "id": "4264bbdb",
        "colab": {
          "base_uri": "https://localhost:8080/"
        },
        "outputId": "f8a2f47a-b27d-4a4a-fa78-ad07dab6dcbb"
      },
      "outputs": [
        {
          "output_type": "stream",
          "name": "stdout",
          "text": [
            "              precision    recall  f1-score   support\n",
            "\n",
            "          No       0.89      0.87      0.88       137\n",
            "         Yes       0.82      0.86      0.84        97\n",
            "\n",
            "    accuracy                           0.86       234\n",
            "   macro avg       0.86      0.86      0.86       234\n",
            "weighted avg       0.86      0.86      0.86       234\n",
            "\n"
          ]
        }
      ],
      "source": [
        "print(classification_report(y_true=y_test,y_pred=RF_pred,target_names=[\"No\",\"Yes\"]))"
      ]
    },
    {
      "cell_type": "markdown",
      "id": "af114e6d",
      "metadata": {
        "id": "af114e6d"
      },
      "source": [
        "***Confusion Matrix***"
      ]
    },
    {
      "cell_type": "code",
      "execution_count": 187,
      "id": "66ed578c",
      "metadata": {
        "id": "66ed578c",
        "colab": {
          "base_uri": "https://localhost:8080/",
          "height": 459
        },
        "outputId": "08094ae1-0595-4346-9892-88133f1b5852"
      },
      "outputs": [
        {
          "output_type": "display_data",
          "data": {
            "text/plain": [
              "<Figure size 500x500 with 1 Axes>"
            ],
            "image/png": "[encoded data removed]"
          },
          "metadata": {}
        }
      ],
      "source": [
        "plt.figure(figsize=(5,5))\n",
        "plt.rcParams[\"font.size\"]=20\n",
        "labels=[\"No\",\"Yes\"]\n",
        "sns.heatmap(data=confusion_matrix(y_true=y_test,y_pred=RF_pred),\n",
        "            cbar=False,\n",
        "            annot=True,\n",
        "            fmt=\"d\",\n",
        "            xticklabels=labels,\n",
        "            yticklabels=labels,\n",
        "            cmap=\"YlGnBu\",\n",
        "            linecolor=\"black\",\n",
        "            linewidths=0.2)\n",
        "plt.show()"
      ]
    },
    {
      "cell_type": "code",
      "execution_count": 188,
      "id": "779270f2",
      "metadata": {
        "id": "779270f2"
      },
      "outputs": [],
      "source": [
        "with open(file=\"RF_model_Child.pkl\",mode=\"wb\") as file:\n",
        "    pickle.dump(obj=RF_model,file=file)"
      ]
    },
    {
      "cell_type": "markdown",
      "id": "41855ab1",
      "metadata": {
        "id": "41855ab1"
      },
      "source": [
        "## Model-3 ANN(Artificial Neural Network)"
      ]
    },
    {
      "cell_type": "code",
      "execution_count": 189,
      "id": "f016eb94",
      "metadata": {
        "id": "f016eb94"
      },
      "outputs": [],
      "source": [
        "from tensorflow.keras import Sequential\n",
        "from tensorflow.keras.layers import Dense,Flatten\n",
        "from tensorflow.keras import optimizers"
      ]
    },
    {
      "cell_type": "code",
      "execution_count": 190,
      "id": "45a6c8ff",
      "metadata": {
        "id": "45a6c8ff"
      },
      "outputs": [],
      "source": [
        "hidden_units=100\n",
        "hidden_layer_act='tanh'\n",
        "output_layer_act='sigmoid'\n",
        "no_epochs=20"
      ]
    },
    {
      "cell_type": "code",
      "execution_count": 191,
      "id": "a5c485f9",
      "metadata": {
        "id": "a5c485f9"
      },
      "outputs": [],
      "source": [
        "model = Sequential()\n",
        "model.add(Dense(hidden_units, input_dim=15, activation=hidden_layer_act))\n",
        "model.add(Dense(hidden_units, activation=hidden_layer_act))\n",
        "model.add(Dense(1, activation=output_layer_act))"
      ]
    },
    {
      "cell_type": "code",
      "execution_count": 192,
      "id": "2071ac24",
      "metadata": {
        "id": "2071ac24"
      },
      "outputs": [],
      "source": [
        "model.compile(loss='binary_crossentropy',optimizer=\"adam\", metrics=['accuracy'])"
      ]
    },
    {
      "cell_type": "code",
      "execution_count": 193,
      "id": "488fcfe5",
      "metadata": {
        "id": "488fcfe5",
        "colab": {
          "base_uri": "https://localhost:8080/"
        },
        "outputId": "25977df5-bae3-471f-fbc6-3c53a87e0608"
      },
      "outputs": [
        {
          "output_type": "stream",
          "name": "stdout",
          "text": [
            "Model: \"sequential_2\"\n",
            "_________________________________________________________________\n",
            " Layer (type)                Output Shape              Param #   \n",
            "=================================================================\n",
            " dense_6 (Dense)             (None, 100)               1600      \n",
            "                                                                 \n",
            " dense_7 (Dense)             (None, 100)               10100     \n",
            "                                                                 \n",
            " dense_8 (Dense)             (None, 1)                 101       \n",
            "                                                                 \n",
            "=================================================================\n",
            "Total params: 11,801\n",
            "Trainable params: 11,801\n",
            "Non-trainable params: 0\n",
            "_________________________________________________________________\n"
          ]
        }
      ],
      "source": [
        "model.summary()"
      ]
    },
    {
      "cell_type": "code",
      "execution_count": 194,
      "id": "9d754ecc",
      "metadata": {
        "id": "9d754ecc",
        "colab": {
          "base_uri": "https://localhost:8080/"
        },
        "outputId": "52ada903-d5c7-440a-f256-0b1486d7664c"
      },
      "outputs": [
        {
          "output_type": "stream",
          "name": "stdout",
          "text": [
            "Epoch 1/20\n",
            "8/8 [==============================] - 1s 34ms/step - loss: 0.6211 - accuracy: 0.6916 - val_loss: 0.4891 - val_accuracy: 0.8034\n",
            "Epoch 2/20\n",
            "8/8 [==============================] - 0s 10ms/step - loss: 0.4537 - accuracy: 0.7923 - val_loss: 0.3934 - val_accuracy: 0.8248\n",
            "Epoch 3/20\n",
            "8/8 [==============================] - 0s 8ms/step - loss: 0.3914 - accuracy: 0.8212 - val_loss: 0.3473 - val_accuracy: 0.8632\n",
            "Epoch 4/20\n",
            "8/8 [==============================] - 0s 8ms/step - loss: 0.3415 - accuracy: 0.8555 - val_loss: 0.3062 - val_accuracy: 0.8889\n",
            "Epoch 5/20\n",
            "8/8 [==============================] - 0s 10ms/step - loss: 0.2995 - accuracy: 0.8897 - val_loss: 0.2689 - val_accuracy: 0.9017\n",
            "Epoch 6/20\n",
            "8/8 [==============================] - 0s 12ms/step - loss: 0.2622 - accuracy: 0.9090 - val_loss: 0.2456 - val_accuracy: 0.9017\n",
            "Epoch 7/20\n",
            "8/8 [==============================] - 0s 9ms/step - loss: 0.2342 - accuracy: 0.9208 - val_loss: 0.2200 - val_accuracy: 0.9103\n",
            "Epoch 8/20\n",
            "8/8 [==============================] - 0s 7ms/step - loss: 0.2104 - accuracy: 0.9293 - val_loss: 0.2071 - val_accuracy: 0.9145\n",
            "Epoch 9/20\n",
            "8/8 [==============================] - 0s 7ms/step - loss: 0.1886 - accuracy: 0.9368 - val_loss: 0.1855 - val_accuracy: 0.9316\n",
            "Epoch 10/20\n",
            "8/8 [==============================] - 0s 7ms/step - loss: 0.1702 - accuracy: 0.9475 - val_loss: 0.1708 - val_accuracy: 0.9359\n",
            "Epoch 11/20\n",
            "8/8 [==============================] - 0s 10ms/step - loss: 0.1561 - accuracy: 0.9540 - val_loss: 0.1558 - val_accuracy: 0.9487\n",
            "Epoch 12/20\n",
            "8/8 [==============================] - 0s 10ms/step - loss: 0.1413 - accuracy: 0.9529 - val_loss: 0.1504 - val_accuracy: 0.9444\n",
            "Epoch 13/20\n",
            "8/8 [==============================] - 0s 11ms/step - loss: 0.1281 - accuracy: 0.9668 - val_loss: 0.1310 - val_accuracy: 0.9573\n",
            "Epoch 14/20\n",
            "8/8 [==============================] - 0s 8ms/step - loss: 0.1177 - accuracy: 0.9807 - val_loss: 0.1211 - val_accuracy: 0.9615\n",
            "Epoch 15/20\n",
            "8/8 [==============================] - 0s 11ms/step - loss: 0.1151 - accuracy: 0.9668 - val_loss: 0.1131 - val_accuracy: 0.9786\n",
            "Epoch 16/20\n",
            "8/8 [==============================] - 0s 10ms/step - loss: 0.1055 - accuracy: 0.9786 - val_loss: 0.1219 - val_accuracy: 0.9658\n",
            "Epoch 17/20\n",
            "8/8 [==============================] - 0s 10ms/step - loss: 0.0957 - accuracy: 0.9829 - val_loss: 0.0978 - val_accuracy: 0.9786\n",
            "Epoch 18/20\n",
            "8/8 [==============================] - 0s 10ms/step - loss: 0.0901 - accuracy: 0.9818 - val_loss: 0.0927 - val_accuracy: 0.9658\n",
            "Epoch 19/20\n",
            "8/8 [==============================] - 0s 9ms/step - loss: 0.0814 - accuracy: 0.9882 - val_loss: 0.0867 - val_accuracy: 0.9872\n",
            "Epoch 20/20\n",
            "8/8 [==============================] - 0s 9ms/step - loss: 0.0768 - accuracy: 0.9925 - val_loss: 0.0860 - val_accuracy: 0.9786\n"
          ]
        }
      ],
      "source": [
        "history=model.fit(x=X_train,y=y_train,epochs=no_epochs, batch_size=128,validation_data=(X_test,y_test))"
      ]
    },
    {
      "cell_type": "markdown",
      "id": "4cf903d6",
      "metadata": {
        "id": "4cf903d6"
      },
      "source": [
        "## Model Accuracy and Loss Plot-Graphs"
      ]
    },
    {
      "cell_type": "code",
      "execution_count": 195,
      "id": "fc522e74",
      "metadata": {
        "id": "fc522e74",
        "colab": {
          "base_uri": "https://localhost:8080/",
          "height": 494
        },
        "outputId": "fff1422e-2dd5-4f4a-b1db-0fe709ce9f1e"
      },
      "outputs": [
        {
          "output_type": "display_data",
          "data": {
            "text/plain": [
              "<Figure size 1000x500 with 1 Axes>"
            ],
            "image/png": "[encoded data removed]"
          },
          "metadata": {}
        }
      ],
      "source": [
        "plt.figure(figsize=(10,5))\n",
        "plt.plot(history.history[\"accuracy\"])\n",
        "plt.plot(history.history[\"val_accuracy\"])\n",
        "plt.title(label=\"plot-graphs for accuracy and validated acccuracy\")\n",
        "plt.legend([\"Accuracy\",\"Val_accuracy\"])\n",
        "plt.show()"
      ]
    },
    {
      "cell_type": "code",
      "execution_count": 196,
      "id": "12fea535",
      "metadata": {
        "id": "12fea535",
        "colab": {
          "base_uri": "https://localhost:8080/",
          "height": 494
        },
        "outputId": "d70785ca-0896-4c24-f1ba-a8e9c211fbc8"
      },
      "outputs": [
        {
          "output_type": "display_data",
          "data": {
            "text/plain": [
              "<Figure size 1000x500 with 1 Axes>"
            ],
            "image/png": "[encoded data removed]"
          },
          "metadata": {}
        }
      ],
      "source": [
        "plt.figure(figsize=(10,5))\n",
        "plt.plot(history.history[\"loss\"])\n",
        "plt.plot(history.history[\"val_loss\"])\n",
        "plt.title(label=\"plot-graphs for loss and validated loss\")\n",
        "plt.legend([\"Loss\",\"Val_Loss\"])\n",
        "plt.show()"
      ]
    },
    {
      "cell_type": "markdown",
      "id": "c784454b",
      "metadata": {
        "id": "c784454b"
      },
      "source": [
        "## Model Saving"
      ]
    },
    {
      "cell_type": "code",
      "execution_count": 197,
      "id": "a60287d7",
      "metadata": {
        "id": "a60287d7"
      },
      "outputs": [],
      "source": [
        "model.save(\"ANN_model_Child.h5\")"
      ]
    },
    {
      "cell_type": "code",
      "execution_count": 198,
      "id": "a77e7c43",
      "metadata": {
        "id": "a77e7c43",
        "colab": {
          "base_uri": "https://localhost:8080/"
        },
        "outputId": "b7c340b6-60e8-4d74-8c23-0a3999c52d68"
      },
      "outputs": [
        {
          "output_type": "stream",
          "name": "stdout",
          "text": [
            "24/24 [==============================] - 0s 2ms/step\n"
          ]
        }
      ],
      "source": [
        "ann_pred=model.predict(x=X_test,batch_size=10,verbose=1)"
      ]
    },
    {
      "cell_type": "code",
      "execution_count": 199,
      "id": "c851b31c",
      "metadata": {
        "id": "c851b31c",
        "colab": {
          "base_uri": "https://localhost:8080/"
        },
        "outputId": "907546ac-1625-4448-d804-a5f606cfa106"
      },
      "outputs": [
        {
          "output_type": "stream",
          "name": "stdout",
          "text": [
            "[[9.56611991e-01]\n",
            " [2.91441053e-01]\n",
            " [9.68173742e-01]\n",
            " [8.47903043e-02]\n",
            " [9.94606912e-01]\n",
            " [3.67037894e-04]\n",
            " [9.04860675e-01]\n",
            " [8.57839063e-02]\n",
            " [9.45265114e-01]\n",
            " [2.91635748e-04]\n",
            " [1.75561551e-02]\n",
            " [6.70942524e-03]\n",
            " [9.82841448e-05]\n",
            " [9.75918055e-01]\n",
            " [5.13483246e-04]\n",
            " [1.99460756e-05]\n",
            " [3.82903590e-06]\n",
            " [9.99078631e-01]\n",
            " [1.27902720e-02]\n",
            " [9.99078631e-01]\n",
            " [3.15790892e-01]\n",
            " [9.96139765e-01]\n",
            " [3.80618572e-02]\n",
            " [8.27928185e-02]\n",
            " [2.21004505e-02]\n",
            " [1.90124899e-01]\n",
            " [1.18924054e-05]\n",
            " [9.77654517e-01]\n",
            " [9.93113041e-01]\n",
            " [6.22593284e-01]\n",
            " [2.11197155e-04]\n",
            " [9.97967005e-01]\n",
            " [9.87495601e-01]\n",
            " [7.88355708e-01]\n",
            " [7.80013943e-05]\n",
            " [8.70628178e-01]\n",
            " [2.25381613e-01]\n",
            " [5.13483246e-04]\n",
            " [1.88038219e-04]\n",
            " [9.50029075e-01]\n",
            " [6.36360824e-01]\n",
            " [1.99460756e-05]\n",
            " [9.93113041e-01]\n",
            " [6.50381902e-04]\n",
            " [7.53577380e-03]\n",
            " [3.50235382e-06]\n",
            " [8.47903043e-02]\n",
            " [9.35677767e-01]\n",
            " [9.99579132e-01]\n",
            " [6.87285885e-03]\n",
            " [1.08084701e-01]\n",
            " [9.97509003e-01]\n",
            " [8.47903043e-02]\n",
            " [1.78312545e-03]\n",
            " [9.92834866e-01]\n",
            " [6.07731799e-03]\n",
            " [9.45265114e-01]\n",
            " [1.09676579e-02]\n",
            " [9.93035316e-01]\n",
            " [6.68505073e-01]\n",
            " [9.95849013e-01]\n",
            " [8.58001351e-01]\n",
            " [9.96321142e-01]\n",
            " [6.87285885e-03]\n",
            " [9.97967005e-01]\n",
            " [9.45265114e-01]\n",
            " [9.92834866e-01]\n",
            " [7.14935541e-01]\n",
            " [8.34185123e-01]\n",
            " [9.05287713e-02]\n",
            " [7.66123906e-02]\n",
            " [7.03981161e-01]\n",
            " [2.21004505e-02]\n",
            " [9.57568049e-01]\n",
            " [9.95503664e-01]\n",
            " [9.80525196e-01]\n",
            " [9.40644979e-01]\n",
            " [2.40394838e-05]\n",
            " [1.10913441e-03]\n",
            " [9.99545813e-01]\n",
            " [3.02422472e-04]\n",
            " [9.98431861e-01]\n",
            " [9.87186790e-01]\n",
            " [1.94516331e-01]\n",
            " [2.68554315e-02]\n",
            " [9.11270440e-01]\n",
            " [9.88319159e-01]\n",
            " [3.15790892e-01]\n",
            " [9.95849013e-01]\n",
            " [3.05478752e-05]\n",
            " [7.00569572e-03]\n",
            " [7.37262017e-05]\n",
            " [8.45891774e-01]\n",
            " [1.81919605e-01]\n",
            " [9.77113664e-01]\n",
            " [3.77862278e-04]\n",
            " [2.91441053e-01]\n",
            " [9.97603774e-01]\n",
            " [3.20448466e-02]\n",
            " [1.94516331e-01]\n",
            " [7.29344087e-04]\n",
            " [1.78103708e-03]\n",
            " [4.62426573e-01]\n",
            " [1.47361460e-03]\n",
            " [7.68486261e-01]\n",
            " [3.13748652e-03]\n",
            " [3.20448466e-02]\n",
            " [9.53833852e-03]\n",
            " [9.97748375e-01]\n",
            " [9.99435961e-01]\n",
            " [3.05478752e-05]\n",
            " [1.28408195e-02]\n",
            " [1.85491875e-01]\n",
            " [9.96728539e-01]\n",
            " [9.16271806e-02]\n",
            " [3.50235382e-06]\n",
            " [9.57568049e-01]\n",
            " [2.83336733e-03]\n",
            " [7.64610741e-06]\n",
            " [1.73600502e-02]\n",
            " [1.00185272e-04]\n",
            " [7.80013943e-05]\n",
            " [1.81919605e-01]\n",
            " [3.51890945e-03]\n",
            " [5.29193676e-05]\n",
            " [4.35564369e-01]\n",
            " [9.99377012e-01]\n",
            " [2.67653316e-02]\n",
            " [3.53598036e-03]\n",
            " [9.75873053e-01]\n",
            " [6.50381902e-04]\n",
            " [9.96772230e-01]\n",
            " [9.99522507e-01]\n",
            " [4.98707232e-04]\n",
            " [5.32684088e-01]\n",
            " [1.91229936e-02]\n",
            " [9.99444783e-01]\n",
            " [2.63789669e-02]\n",
            " [9.88621056e-01]\n",
            " [9.88969088e-01]\n",
            " [3.77862278e-04]\n",
            " [2.83336733e-03]\n",
            " [1.98593829e-03]\n",
            " [2.23743711e-02]\n",
            " [9.96278250e-04]\n",
            " [9.65000033e-01]\n",
            " [9.99579132e-01]\n",
            " [1.11160260e-02]\n",
            " [2.49482200e-01]\n",
            " [1.91229936e-02]\n",
            " [2.63789669e-02]\n",
            " [9.77138877e-01]\n",
            " [1.08084701e-01]\n",
            " [8.55968520e-03]\n",
            " [3.05478752e-05]\n",
            " [9.88429964e-01]\n",
            " [3.20448466e-02]\n",
            " [1.00185272e-04]\n",
            " [9.78775084e-01]\n",
            " [6.78432889e-06]\n",
            " [1.82768673e-01]\n",
            " [6.99573457e-01]\n",
            " [9.69182312e-01]\n",
            " [2.52493232e-01]\n",
            " [9.97389138e-01]\n",
            " [9.04860675e-01]\n",
            " [9.77654517e-01]\n",
            " [9.98127043e-01]\n",
            " [1.08084701e-01]\n",
            " [2.68554315e-02]\n",
            " [2.12110847e-01]\n",
            " [2.18527726e-04]\n",
            " [9.99435961e-01]\n",
            " [9.96139765e-01]\n",
            " [9.65000033e-01]\n",
            " [1.08084701e-01]\n",
            " [5.81602938e-03]\n",
            " [1.25610066e-04]\n",
            " [1.57441515e-02]\n",
            " [1.98593829e-03]\n",
            " [5.11579156e-01]\n",
            " [9.98013675e-01]\n",
            " [5.31805120e-03]\n",
            " [9.99579132e-01]\n",
            " [5.56694329e-01]\n",
            " [2.39348844e-01]\n",
            " [9.93422985e-01]\n",
            " [6.22593284e-01]\n",
            " [9.56620624e-06]\n",
            " [8.54171693e-01]\n",
            " [9.86029506e-01]\n",
            " [2.54717600e-02]\n",
            " [1.27902720e-02]\n",
            " [2.40394838e-05]\n",
            " [6.99573457e-01]\n",
            " [9.08445597e-01]\n",
            " [8.27928185e-02]\n",
            " [2.91635748e-04]\n",
            " [3.21994573e-01]\n",
            " [4.10498530e-02]\n",
            " [8.67200315e-01]\n",
            " [8.95169199e-01]\n",
            " [7.66123906e-02]\n",
            " [3.50235382e-06]\n",
            " [1.04647002e-03]\n",
            " [9.99480903e-01]\n",
            " [9.97357130e-01]\n",
            " [4.06563222e-01]\n",
            " [9.53833852e-03]\n",
            " [9.96933162e-01]\n",
            " [9.98870611e-01]\n",
            " [1.38894160e-04]\n",
            " [9.95849013e-01]\n",
            " [6.07836992e-02]\n",
            " [7.88355708e-01]\n",
            " [6.28682028e-06]\n",
            " [9.97469723e-01]\n",
            " [9.99435961e-01]\n",
            " [2.91441053e-01]\n",
            " [7.01043755e-03]\n",
            " [6.28682028e-06]\n",
            " [7.03981161e-01]\n",
            " [9.79401231e-01]\n",
            " [9.56678331e-01]\n",
            " [7.25997332e-03]\n",
            " [9.97269213e-01]\n",
            " [1.04647002e-03]\n",
            " [9.86340523e-01]\n",
            " [9.97967005e-01]\n",
            " [1.00185265e-04]\n",
            " [3.63442957e-01]\n",
            " [1.92832462e-02]\n",
            " [9.76163566e-01]\n",
            " [1.00185265e-04]]\n"
          ]
        }
      ],
      "source": [
        "print(ann_pred)"
      ]
    },
    {
      "cell_type": "code",
      "execution_count": 200,
      "id": "f65b4aa0",
      "metadata": {
        "id": "f65b4aa0",
        "colab": {
          "base_uri": "https://localhost:8080/"
        },
        "outputId": "3335573c-3209-4b02-d927-ab74500ac838"
      },
      "outputs": [
        {
          "output_type": "stream",
          "name": "stdout",
          "text": [
            "[1, 0, 1, 0, 1, 0, 1, 0, 1, 0, 0, 0, 0, 1, 0, 0, 0, 1, 0, 1, 0, 1, 0, 0, 0, 0, 0, 1, 1, 1, 0, 1, 1, 1, 0, 1, 0, 0, 0, 1, 1, 0, 1, 0, 0, 0, 0, 1, 1, 0, 0, 1, 0, 0, 1, 0, 1, 0, 1, 1, 1, 1, 1, 0, 1, 1, 1, 1, 1, 0, 0, 1, 0, 1, 1, 1, 1, 0, 0, 1, 0, 1, 1, 0, 0, 1, 1, 0, 1, 0, 0, 0, 1, 0, 1, 0, 0, 1, 0, 0, 0, 0, 0, 0, 1, 0, 0, 0, 1, 1, 0, 0, 0, 1, 0, 0, 1, 0, 0, 0, 0, 0, 0, 0, 0, 0, 1, 0, 0, 1, 0, 1, 1, 0, 1, 0, 1, 0, 1, 1, 0, 0, 0, 0, 0, 1, 1, 0, 0, 0, 0, 1, 0, 0, 0, 1, 0, 0, 1, 0, 0, 1, 1, 0, 1, 1, 1, 1, 0, 0, 0, 0, 1, 1, 1, 0, 0, 0, 0, 0, 1, 1, 0, 1, 1, 0, 1, 1, 0, 1, 1, 0, 0, 0, 1, 1, 0, 0, 0, 0, 1, 1, 0, 0, 0, 1, 1, 0, 0, 1, 1, 0, 1, 0, 1, 0, 1, 1, 0, 0, 0, 1, 1, 1, 0, 1, 0, 1, 1, 0, 0, 0, 1, 0]\n"
          ]
        }
      ],
      "source": [
        "rounded = [int(round(x[0])) for x in ann_pred]\n",
        "print(rounded)"
      ]
    },
    {
      "cell_type": "code",
      "execution_count": 201,
      "id": "c562a413",
      "metadata": {
        "id": "c562a413"
      },
      "outputs": [],
      "source": [
        "y_true=list(y_test)"
      ]
    },
    {
      "cell_type": "code",
      "execution_count": 202,
      "id": "85489a1e",
      "metadata": {
        "id": "85489a1e",
        "colab": {
          "base_uri": "https://localhost:8080/"
        },
        "outputId": "d5dd080d-99d3-4ea4-8326-d6e925a48a55"
      },
      "outputs": [
        {
          "output_type": "stream",
          "name": "stdout",
          "text": [
            "[1, 0, 1, 0, 1, 0, 1, 0, 1, 0, 0, 0, 0, 1, 0, 0, 0, 1, 0, 1, 0, 1, 0, 0, 0, 0, 0, 1, 1, 1, 0, 1, 1, 1, 0, 1, 0, 0, 0, 1, 1, 0, 1, 0, 0, 0, 0, 1, 1, 0, 0, 1, 0, 0, 1, 0, 1, 0, 1, 1, 1, 1, 1, 0, 1, 1, 1, 1, 1, 0, 0, 0, 0, 1, 1, 1, 1, 0, 0, 1, 0, 1, 1, 0, 0, 1, 1, 0, 1, 0, 0, 0, 1, 0, 1, 0, 0, 1, 0, 0, 0, 0, 0, 0, 1, 0, 0, 0, 1, 1, 0, 0, 0, 1, 0, 0, 1, 0, 0, 0, 0, 0, 0, 0, 0, 0, 1, 0, 0, 1, 0, 1, 1, 0, 0, 0, 1, 0, 1, 1, 0, 0, 0, 0, 0, 1, 1, 0, 0, 0, 0, 1, 0, 0, 0, 1, 0, 0, 1, 0, 0, 1, 1, 0, 1, 1, 1, 1, 0, 0, 0, 0, 1, 1, 1, 0, 0, 0, 0, 0, 0, 1, 0, 1, 0, 0, 1, 1, 0, 1, 1, 0, 0, 0, 1, 1, 0, 0, 0, 0, 1, 1, 0, 0, 0, 1, 1, 0, 0, 1, 1, 0, 1, 0, 1, 0, 1, 1, 0, 0, 0, 0, 1, 1, 0, 1, 0, 1, 1, 0, 0, 0, 1, 0]\n"
          ]
        }
      ],
      "source": [
        "print(y_true)"
      ]
    },
    {
      "cell_type": "code",
      "execution_count": 203,
      "id": "2727ef0d",
      "metadata": {
        "id": "2727ef0d",
        "colab": {
          "base_uri": "https://localhost:8080/"
        },
        "outputId": "be567972-3cc7-4ca0-972a-70bb9781f554"
      },
      "outputs": [
        {
          "output_type": "stream",
          "name": "stdout",
          "text": [
            "ArtificialNeuralNetwork model predicted 102 samples as AUTISM and 132 samples as NOT_AUTISM from 234 test samples.\n"
          ]
        }
      ],
      "source": [
        "Not_Autism=0\n",
        "Autism=0\n",
        "for predicted_label in rounded :\n",
        "    if predicted_label==0:\n",
        "        Not_Autism+=1\n",
        "    else:\n",
        "        Autism+=1\n",
        "print(f\"ArtificialNeuralNetwork model predicted {Autism} samples as AUTISM and {Not_Autism} samples as NOT_AUTISM from {len(rounded )} test samples.\")"
      ]
    },
    {
      "cell_type": "markdown",
      "id": "e2dca5cb",
      "metadata": {
        "id": "e2dca5cb"
      },
      "source": [
        "## Result Analysis"
      ]
    },
    {
      "cell_type": "markdown",
      "id": "afc4c252",
      "metadata": {
        "id": "afc4c252"
      },
      "source": [
        "***Accuracy Score***"
      ]
    },
    {
      "cell_type": "code",
      "execution_count": 204,
      "id": "c760635d",
      "metadata": {
        "id": "c760635d",
        "colab": {
          "base_uri": "https://localhost:8080/"
        },
        "outputId": "98d7b839-5fe5-4b2f-f81a-1d8b1610e75c"
      },
      "outputs": [
        {
          "output_type": "stream",
          "name": "stdout",
          "text": [
            "ANN Accuracy is 97.86\n"
          ]
        }
      ],
      "source": [
        "ann_accuracy=accuracy_score(y_true=y_true,y_pred=rounded)\n",
        "print(\"ANN Accuracy is {:.2f}\".format(ann_accuracy*100))"
      ]
    },
    {
      "cell_type": "markdown",
      "id": "9dc76a58",
      "metadata": {
        "id": "9dc76a58"
      },
      "source": [
        "***Classification Report***"
      ]
    },
    {
      "cell_type": "code",
      "execution_count": 205,
      "id": "a5aaaa86",
      "metadata": {
        "id": "a5aaaa86",
        "colab": {
          "base_uri": "https://localhost:8080/"
        },
        "outputId": "e5bd3358-ee84-4d2b-c00f-4a797025115b"
      },
      "outputs": [
        {
          "output_type": "stream",
          "name": "stdout",
          "text": [
            "              precision    recall  f1-score   support\n",
            "\n",
            "          No       1.00      0.96      0.98       137\n",
            "         Yes       0.95      1.00      0.97        97\n",
            "\n",
            "    accuracy                           0.98       234\n",
            "   macro avg       0.98      0.98      0.98       234\n",
            "weighted avg       0.98      0.98      0.98       234\n",
            "\n"
          ]
        }
      ],
      "source": [
        "print(classification_report(y_true=y_true,y_pred=rounded,target_names=[\"No\",\"Yes\"]))"
      ]
    },
    {
      "cell_type": "markdown",
      "id": "d1f9cd4c",
      "metadata": {
        "id": "d1f9cd4c"
      },
      "source": [
        "***Confusion Matrix***"
      ]
    },
    {
      "cell_type": "code",
      "execution_count": 206,
      "id": "7d6c800a",
      "metadata": {
        "id": "7d6c800a",
        "colab": {
          "base_uri": "https://localhost:8080/",
          "height": 459
        },
        "outputId": "72af5696-576d-48cf-f032-e81eff7c2598"
      },
      "outputs": [
        {
          "output_type": "display_data",
          "data": {
            "text/plain": [
              "<Figure size 500x500 with 1 Axes>"
            ],
            "image/png": "[encoded data removed]"
          },
          "metadata": {}
        }
      ],
      "source": [
        "plt.figure(figsize=(5,5))\n",
        "plt.rcParams[\"font.size\"]=20\n",
        "labels=[\"No\",\"Yes\"]\n",
        "sns.heatmap(data=confusion_matrix(y_true=y_true,y_pred=rounded),\n",
        "            cbar=False,\n",
        "            annot=True,\n",
        "            fmt=\"d\",\n",
        "            xticklabels=labels,\n",
        "            yticklabels=labels,\n",
        "            cmap=\"YlGnBu\",\n",
        "            linecolor=\"black\",\n",
        "            linewidths=0.2)\n",
        "plt.show()"
      ]
    },
    {
      "cell_type": "markdown",
      "id": "0709c812",
      "metadata": {
        "id": "0709c812"
      },
      "source": [
        "## Accuracy Comparision for Toddler Dataset"
      ]
    },
    {
      "cell_type": "code",
      "execution_count": 207,
      "id": "aba03b79",
      "metadata": {
        "id": "aba03b79",
        "colab": {
          "base_uri": "https://localhost:8080/",
          "height": 648
        },
        "outputId": "d2d5fee9-6772-4b70-9fa1-3f7fd51ca55c"
      },
      "outputs": [
        {
          "output_type": "display_data",
          "data": {
            "text/plain": [
              "<Figure size 1000x700 with 1 Axes>"
            ],
            "image/png": "[encoded data removed]"
          },
          "metadata": {}
        }
      ],
      "source": [
        "data=[svc_accuracy,RF_accuracy,ann_accuracy]\n",
        "labels=[\"SVC\",\"RFC\",\"ANN\"]\n",
        "colors=[\"yellow\",\"lawngreen\",\"teal\"]\n",
        "plt.figure(figsize=(10,7))\n",
        "plt.grid()\n",
        "plt.bar(x=labels,height=data,color=colors)\n",
        "plt.title(label=\"models Accuracy Comparision for Child Dataset\")\n",
        "plt.show()"
      ]
    },
    {
      "cell_type": "markdown",
      "source": [
        "##Comparartive Analysis"
      ],
      "metadata": {
        "id": "85gb08ou3uaM"
      },
      "id": "85gb08ou3uaM"
    },
    {
      "cell_type": "code",
      "execution_count": 208,
      "metadata": {
        "id": "x9ERqRItW48k"
      },
      "outputs": [],
      "source": [
        "X_train,X_test,y_train,y_test=train_test_split(X,y,test_size=0.3,random_state=42)"
      ],
      "id": "x9ERqRItW48k"
    },
    {
      "cell_type": "code",
      "execution_count": 209,
      "metadata": {
        "id": "2n20v1TvW48k",
        "colab": {
          "base_uri": "https://localhost:8080/"
        },
        "outputId": "4e9d55ec-1c93-4860-adfa-64dca97deb0f"
      },
      "outputs": [
        {
          "output_type": "stream",
          "name": "stdout",
          "text": [
            "(817, 15) (351, 15) (817,) (351,)\n"
          ]
        }
      ],
      "source": [
        "print(X_train.shape,X_test.shape,y_train.shape,y_test.shape)"
      ],
      "id": "2n20v1TvW48k"
    },
    {
      "cell_type": "markdown",
      "metadata": {
        "id": "H7JxC_RJW48k"
      },
      "source": [
        "## Model-1 Support Vector Classifier"
      ],
      "id": "H7JxC_RJW48k"
    },
    {
      "cell_type": "code",
      "execution_count": 210,
      "metadata": {
        "id": "aAswrEitW48k",
        "colab": {
          "base_uri": "https://localhost:8080/",
          "height": 75
        },
        "outputId": "a757f979-a1b7-4314-eb14-44411a5120d5"
      },
      "outputs": [
        {
          "output_type": "execute_result",
          "data": {
            "text/plain": [
              "SVC(kernel='linear', tol=50)"
            ],
            "text/html": [
              "<style>#sk-container-id-7 {color: black;background-color: white;}#sk-container-id-7 pre{padding: 0;}#sk-container-id-7 div.sk-toggleable {background-color: white;}#sk-container-id-7 label.sk-toggleable__label {cursor: pointer;display: block;width: 100%;margin-bottom: 0;padding: 0.3em;box-sizing: border-box;text-align: center;}#sk-container-id-7 label.sk-toggleable__label-arrow:before {content: \"▸\";float: left;margin-right: 0.25em;color: #696969;}#sk-container-id-7 label.sk-toggleable__label-arrow:hover:before {color: black;}#sk-container-id-7 div.sk-estimator:hover label.sk-toggleable__label-arrow:before {color: black;}#sk-container-id-7 div.sk-toggleable__content {max-height: 0;max-width: 0;overflow: hidden;text-align: left;background-color: #f0f8ff;}#sk-container-id-7 div.sk-toggleable__content pre {margin: 0.2em;color: black;border-radius: 0.25em;background-color: #f0f8ff;}#sk-container-id-7 input.sk-toggleable__control:checked~div.sk-toggleable__content {max-height: 200px;max-width: 100%;overflow: auto;}#sk-container-id-7 input.sk-toggleable__control:checked~label.sk-toggleable__label-arrow:before {content: \"▾\";}#sk-container-id-7 div.sk-estimator input.sk-toggleable__control:checked~label.sk-toggleable__label {background-color: #d4ebff;}#sk-container-id-7 div.sk-label input.sk-toggleable__control:checked~label.sk-toggleable__label {background-color: #d4ebff;}#sk-container-id-7 input.sk-hidden--visually {border: 0;clip: rect(1px 1px 1px 1px);clip: rect(1px, 1px, 1px, 1px);height: 1px;margin: -1px;overflow: hidden;padding: 0;position: absolute;width: 1px;}#sk-container-id-7 div.sk-estimator {font-family: monospace;background-color: #f0f8ff;border: 1px dotted black;border-radius: 0.25em;box-sizing: border-box;margin-bottom: 0.5em;}#sk-container-id-7 div.sk-estimator:hover {background-color: #d4ebff;}#sk-container-id-7 div.sk-parallel-item::after {content: \"\";width: 100%;border-bottom: 1px solid gray;flex-grow: 1;}#sk-container-id-7 div.sk-label:hover label.sk-toggleable__label {background-color: #d4ebff;}#sk-container-id-7 div.sk-serial::before {content: \"\";position: absolute;border-left: 1px solid gray;box-sizing: border-box;top: 0;bottom: 0;left: 50%;z-index: 0;}#sk-container-id-7 div.sk-serial {display: flex;flex-direction: column;align-items: center;background-color: white;padding-right: 0.2em;padding-left: 0.2em;position: relative;}#sk-container-id-7 div.sk-item {position: relative;z-index: 1;}#sk-container-id-7 div.sk-parallel {display: flex;align-items: stretch;justify-content: center;background-color: white;position: relative;}#sk-container-id-7 div.sk-item::before, #sk-container-id-7 div.sk-parallel-item::before {content: \"\";position: absolute;border-left: 1px solid gray;box-sizing: border-box;top: 0;bottom: 0;left: 50%;z-index: -1;}#sk-container-id-7 div.sk-parallel-item {display: flex;flex-direction: column;z-index: 1;position: relative;background-color: white;}#sk-container-id-7 div.sk-parallel-item:first-child::after {align-self: flex-end;width: 50%;}#sk-container-id-7 div.sk-parallel-item:last-child::after {align-self: flex-start;width: 50%;}#sk-container-id-7 div.sk-parallel-item:only-child::after {width: 0;}#sk-container-id-7 div.sk-dashed-wrapped {border: 1px dashed gray;margin: 0 0.4em 0.5em 0.4em;box-sizing: border-box;padding-bottom: 0.4em;background-color: white;}#sk-container-id-7 div.sk-label label {font-family: monospace;font-weight: bold;display: inline-block;line-height: 1.2em;}#sk-container-id-7 div.sk-label-container {text-align: center;}#sk-container-id-7 div.sk-container {/* jupyter's `normalize.less` sets `[hidden] { display: none; }` but bootstrap.min.css set `[hidden] { display: none !important; }` so we also need the `!important` here to be able to override the default hidden behavior on the sphinx rendered scikit-learn.org. See: https://github.com/scikit-learn/scikit-learn/issues/21755 */display: inline-block !important;position: relative;}#sk-container-id-7 div.sk-text-repr-fallback {display: none;}</style><div id=\"sk-container-id-7\" class=\"sk-top-container\"><div class=\"sk-text-repr-fallback\"><pre>SVC(kernel=&#x27;linear&#x27;, tol=50)</pre><b>In a Jupyter environment, please rerun this cell to show the HTML representation or trust the notebook. <br />On GitHub, the HTML representation is unable to render, please try loading this page with nbviewer.org.</b></div><div class=\"sk-container\" hidden><div class=\"sk-item\"><div class=\"sk-estimator sk-toggleable\"><input class=\"sk-toggleable__control sk-hidden--visually\" id=\"sk-estimator-id-7\" type=\"checkbox\" checked><label for=\"sk-estimator-id-7\" class=\"sk-toggleable__label sk-toggleable__label-arrow\">SVC</label><div class=\"sk-toggleable__content\"><pre>SVC(kernel=&#x27;linear&#x27;, tol=50)</pre></div></div></div></div></div>"
            ]
          },
          "metadata": {},
          "execution_count": 210
        }
      ],
      "source": [
        "from sklearn.svm import SVC\n",
        "svc_model=SVC(tol=50,kernel='linear')\n",
        "svc_model.fit(X_train,y_train)"
      ],
      "id": "aAswrEitW48k"
    },
    {
      "cell_type": "code",
      "execution_count": 211,
      "metadata": {
        "id": "6p6fFzATW48l"
      },
      "outputs": [],
      "source": [
        "svc_pred=svc_model.predict(X_test)"
      ],
      "id": "6p6fFzATW48l"
    },
    {
      "cell_type": "code",
      "execution_count": 212,
      "metadata": {
        "id": "eLqTh6JlW48l",
        "colab": {
          "base_uri": "https://localhost:8080/"
        },
        "outputId": "5357cdea-8974-464e-ba4a-352480febf17"
      },
      "outputs": [
        {
          "output_type": "stream",
          "name": "stdout",
          "text": [
            "[1 1 1 1 1 1 1 1 1 1 1 1 1 1 1 1 1 1 1 1 1 1 1 1 1 1 1 1 1 1 1 1 1 1 1 1 1\n",
            " 1 1 1 1 1 1 1 1 1 1 1 1 1 1 1 1 1 1 1 1 1 1 1 1 1 1 1 1 1 1 1 1 1 1 1 1 1\n",
            " 1 1 1 1 1 1 1 1 1 1 1 1 1 1 1 1 1 1 1 1 1 1 1 1 1 1 1 1 1 1 1 1 1 1 1 1 1\n",
            " 1 1 1 1 1 1 1 1 1 1 1 1 1 1 1 1 1 1 1 1 1 1 1 1 1 1 1 1 1 1 1 1 1 1 1 1 1\n",
            " 1 1 1 1 1 1 1 1 1 1 1 1 1 1 1 1 1 1 1 1 1 1 1 1 1 1 1 1 1 1 1 1 1 1 1 1 1\n",
            " 1 1 1 1 1 1 1 1 1 1 1 1 1 1 1 1 1 1 1 1 1 1 1 1 1 1 1 1 1 1 1 1 1 1 1 1 1\n",
            " 1 1 1 1 1 1 1 1 1 1 1 1 1 1 1 1 1 1 1 1 1 1 1 1 1 1 1 1 1 1 1 1 1 1 1 1 1\n",
            " 1 1 1 1 1 1 1 1 1 1 1 1 1 1 1 1 1 1 1 1 1 1 1 1 1 1 1 1 1 1 1 1 1 1 1 1 1\n",
            " 1 1 1 1 1 1 1 1 1 1 1 1 1 1 1 1 1 1 1 1 1 1 1 1 1 1 1 1 1 1 1 1 1 1 1 1 1\n",
            " 1 1 1 1 1 1 1 1 1 1 1 1 1 1 1 1 1 1]\n"
          ]
        }
      ],
      "source": [
        "print(svc_pred)"
      ],
      "id": "eLqTh6JlW48l"
    },
    {
      "cell_type": "code",
      "execution_count": 213,
      "metadata": {
        "id": "dQUt6oDLW48l",
        "colab": {
          "base_uri": "https://localhost:8080/"
        },
        "outputId": "e038ad11-796e-4e59-a98d-a30a05991449"
      },
      "outputs": [
        {
          "output_type": "stream",
          "name": "stdout",
          "text": [
            "SupportVectorClassifier model predicted 351 samples as AUTISM and 0 samples as NOT_AUTISM from 351 test samples.\n"
          ]
        }
      ],
      "source": [
        "Not_Autism=0\n",
        "Autism=0\n",
        "for predicted_label in svc_pred:\n",
        "    if predicted_label==0:\n",
        "        Not_Autism+=1\n",
        "    else:\n",
        "        Autism+=1\n",
        "print(f\"SupportVectorClassifier model predicted {Autism} samples as AUTISM and {Not_Autism} samples as NOT_AUTISM from {len(svc_pred)} test samples.\")"
      ],
      "id": "dQUt6oDLW48l"
    },
    {
      "cell_type": "markdown",
      "metadata": {
        "id": "N2XWoL8yW48l"
      },
      "source": [
        "## Result Analysis"
      ],
      "id": "N2XWoL8yW48l"
    },
    {
      "cell_type": "markdown",
      "metadata": {
        "id": "ABCFrbu4W48l"
      },
      "source": [
        "***Accuracy Score***"
      ],
      "id": "ABCFrbu4W48l"
    },
    {
      "cell_type": "code",
      "execution_count": 214,
      "metadata": {
        "id": "dBU8gSlLW48l",
        "colab": {
          "base_uri": "https://localhost:8080/"
        },
        "outputId": "bc56dcb5-d755-4fc1-910d-fc95935ed731"
      },
      "outputs": [
        {
          "output_type": "stream",
          "name": "stdout",
          "text": [
            "SupportVectorClassifier Accuracy is 41.45\n"
          ]
        }
      ],
      "source": [
        "svc_accuracy2=accuracy_score(y_true=y_test,y_pred=svc_pred)\n",
        "print(\"SupportVectorClassifier Accuracy is {:.2f}\".format(svc_accuracy*100))"
      ],
      "id": "dBU8gSlLW48l"
    },
    {
      "cell_type": "markdown",
      "metadata": {
        "id": "sgrJciFOW48l"
      },
      "source": [
        "***Classification Report***"
      ],
      "id": "sgrJciFOW48l"
    },
    {
      "cell_type": "code",
      "execution_count": 215,
      "metadata": {
        "id": "SWrvxPrNW48l",
        "colab": {
          "base_uri": "https://localhost:8080/"
        },
        "outputId": "d44acea1-d071-4368-d716-1215318cc33d"
      },
      "outputs": [
        {
          "output_type": "stream",
          "name": "stdout",
          "text": [
            "              precision    recall  f1-score   support\n",
            "\n",
            "          No       0.00      0.00      0.00       196\n",
            "         Yes       0.44      1.00      0.61       155\n",
            "\n",
            "    accuracy                           0.44       351\n",
            "   macro avg       0.22      0.50      0.31       351\n",
            "weighted avg       0.20      0.44      0.27       351\n",
            "\n"
          ]
        }
      ],
      "source": [
        "print(classification_report(y_true=y_test,y_pred=svc_pred,target_names=[\"No\",\"Yes\"]))"
      ],
      "id": "SWrvxPrNW48l"
    },
    {
      "cell_type": "markdown",
      "metadata": {
        "id": "H0pvTkwSW48m"
      },
      "source": [
        "***Confusion Matrix***"
      ],
      "id": "H0pvTkwSW48m"
    },
    {
      "cell_type": "code",
      "execution_count": 216,
      "metadata": {
        "id": "RzBI5FhiW48m",
        "colab": {
          "base_uri": "https://localhost:8080/",
          "height": 459
        },
        "outputId": "a92af794-b43f-49b6-d73b-e0b4882b7102"
      },
      "outputs": [
        {
          "output_type": "display_data",
          "data": {
            "text/plain": [
              "<Figure size 500x500 with 1 Axes>"
            ],
            "image/png": "[encoded data removed]"
          },
          "metadata": {}
        }
      ],
      "source": [
        "plt.figure(figsize=(5,5))\n",
        "plt.rcParams[\"font.size\"]=20\n",
        "labels=[\"No\",\"Yes\"]\n",
        "sns.heatmap(data=confusion_matrix(y_true=y_test,y_pred=svc_pred),\n",
        "            cbar=False,\n",
        "            annot=True,\n",
        "            fmt=\"d\",\n",
        "            xticklabels=labels,\n",
        "            yticklabels=labels,\n",
        "            cmap=\"YlGnBu\",\n",
        "            linecolor=\"black\",\n",
        "            linewidths=0.2)\n",
        "plt.show()"
      ],
      "id": "RzBI5FhiW48m"
    },
    {
      "cell_type": "markdown",
      "metadata": {
        "id": "4zpndulsW48m"
      },
      "source": [
        "## Model Saving"
      ],
      "id": "4zpndulsW48m"
    },
    {
      "cell_type": "code",
      "execution_count": 217,
      "metadata": {
        "id": "44fWRuhNW48m"
      },
      "outputs": [],
      "source": [
        "with open(file=\"SVM_model_Child.pkl\",mode=\"wb\") as file:\n",
        "    pickle.dump(obj=svc_model,file=file)"
      ],
      "id": "44fWRuhNW48m"
    },
    {
      "cell_type": "markdown",
      "metadata": {
        "id": "F7yJyvPfW48m"
      },
      "source": [
        "## Model-2 RandomForestClassifier"
      ],
      "id": "F7yJyvPfW48m"
    },
    {
      "cell_type": "code",
      "execution_count": 218,
      "metadata": {
        "id": "dbJl7bEaW48m",
        "colab": {
          "base_uri": "https://localhost:8080/",
          "height": 92
        },
        "outputId": "e5c920dc-d9f9-4591-a7de-f920609863ae"
      },
      "outputs": [
        {
          "output_type": "execute_result",
          "data": {
            "text/plain": [
              "RandomForestClassifier(min_samples_leaf=20, min_samples_split=20,\n",
              "                       n_estimators=1)"
            ],
            "text/html": [
              "<style>#sk-container-id-8 {color: black;background-color: white;}#sk-container-id-8 pre{padding: 0;}#sk-container-id-8 div.sk-toggleable {background-color: white;}#sk-container-id-8 label.sk-toggleable__label {cursor: pointer;display: block;width: 100%;margin-bottom: 0;padding: 0.3em;box-sizing: border-box;text-align: center;}#sk-container-id-8 label.sk-toggleable__label-arrow:before {content: \"▸\";float: left;margin-right: 0.25em;color: #696969;}#sk-container-id-8 label.sk-toggleable__label-arrow:hover:before {color: black;}#sk-container-id-8 div.sk-estimator:hover label.sk-toggleable__label-arrow:before {color: black;}#sk-container-id-8 div.sk-toggleable__content {max-height: 0;max-width: 0;overflow: hidden;text-align: left;background-color: #f0f8ff;}#sk-container-id-8 div.sk-toggleable__content pre {margin: 0.2em;color: black;border-radius: 0.25em;background-color: #f0f8ff;}#sk-container-id-8 input.sk-toggleable__control:checked~div.sk-toggleable__content {max-height: 200px;max-width: 100%;overflow: auto;}#sk-container-id-8 input.sk-toggleable__control:checked~label.sk-toggleable__label-arrow:before {content: \"▾\";}#sk-container-id-8 div.sk-estimator input.sk-toggleable__control:checked~label.sk-toggleable__label {background-color: #d4ebff;}#sk-container-id-8 div.sk-label input.sk-toggleable__control:checked~label.sk-toggleable__label {background-color: #d4ebff;}#sk-container-id-8 input.sk-hidden--visually {border: 0;clip: rect(1px 1px 1px 1px);clip: rect(1px, 1px, 1px, 1px);height: 1px;margin: -1px;overflow: hidden;padding: 0;position: absolute;width: 1px;}#sk-container-id-8 div.sk-estimator {font-family: monospace;background-color: #f0f8ff;border: 1px dotted black;border-radius: 0.25em;box-sizing: border-box;margin-bottom: 0.5em;}#sk-container-id-8 div.sk-estimator:hover {background-color: #d4ebff;}#sk-container-id-8 div.sk-parallel-item::after {content: \"\";width: 100%;border-bottom: 1px solid gray;flex-grow: 1;}#sk-container-id-8 div.sk-label:hover label.sk-toggleable__label {background-color: #d4ebff;}#sk-container-id-8 div.sk-serial::before {content: \"\";position: absolute;border-left: 1px solid gray;box-sizing: border-box;top: 0;bottom: 0;left: 50%;z-index: 0;}#sk-container-id-8 div.sk-serial {display: flex;flex-direction: column;align-items: center;background-color: white;padding-right: 0.2em;padding-left: 0.2em;position: relative;}#sk-container-id-8 div.sk-item {position: relative;z-index: 1;}#sk-container-id-8 div.sk-parallel {display: flex;align-items: stretch;justify-content: center;background-color: white;position: relative;}#sk-container-id-8 div.sk-item::before, #sk-container-id-8 div.sk-parallel-item::before {content: \"\";position: absolute;border-left: 1px solid gray;box-sizing: border-box;top: 0;bottom: 0;left: 50%;z-index: -1;}#sk-container-id-8 div.sk-parallel-item {display: flex;flex-direction: column;z-index: 1;position: relative;background-color: white;}#sk-container-id-8 div.sk-parallel-item:first-child::after {align-self: flex-end;width: 50%;}#sk-container-id-8 div.sk-parallel-item:last-child::after {align-self: flex-start;width: 50%;}#sk-container-id-8 div.sk-parallel-item:only-child::after {width: 0;}#sk-container-id-8 div.sk-dashed-wrapped {border: 1px dashed gray;margin: 0 0.4em 0.5em 0.4em;box-sizing: border-box;padding-bottom: 0.4em;background-color: white;}#sk-container-id-8 div.sk-label label {font-family: monospace;font-weight: bold;display: inline-block;line-height: 1.2em;}#sk-container-id-8 div.sk-label-container {text-align: center;}#sk-container-id-8 div.sk-container {/* jupyter's `normalize.less` sets `[hidden] { display: none; }` but bootstrap.min.css set `[hidden] { display: none !important; }` so we also need the `!important` here to be able to override the default hidden behavior on the sphinx rendered scikit-learn.org. See: https://github.com/scikit-learn/scikit-learn/issues/21755 */display: inline-block !important;position: relative;}#sk-container-id-8 div.sk-text-repr-fallback {display: none;}</style><div id=\"sk-container-id-8\" class=\"sk-top-container\"><div class=\"sk-text-repr-fallback\"><pre>RandomForestClassifier(min_samples_leaf=20, min_samples_split=20,\n",
              "                       n_estimators=1)</pre><b>In a Jupyter environment, please rerun this cell to show the HTML representation or trust the notebook. <br />On GitHub, the HTML representation is unable to render, please try loading this page with nbviewer.org.</b></div><div class=\"sk-container\" hidden><div class=\"sk-item\"><div class=\"sk-estimator sk-toggleable\"><input class=\"sk-toggleable__control sk-hidden--visually\" id=\"sk-estimator-id-8\" type=\"checkbox\" checked><label for=\"sk-estimator-id-8\" class=\"sk-toggleable__label sk-toggleable__label-arrow\">RandomForestClassifier</label><div class=\"sk-toggleable__content\"><pre>RandomForestClassifier(min_samples_leaf=20, min_samples_split=20,\n",
              "                       n_estimators=1)</pre></div></div></div></div></div>"
            ]
          },
          "metadata": {},
          "execution_count": 218
        }
      ],
      "source": [
        "from sklearn.ensemble import RandomForestClassifier\n",
        "RF_model=RandomForestClassifier(n_estimators=1,min_samples_split=20,min_samples_leaf=20)\n",
        "RF_model.fit(X=X_train,y=y_train)"
      ],
      "id": "dbJl7bEaW48m"
    },
    {
      "cell_type": "code",
      "execution_count": 219,
      "metadata": {
        "id": "6qdjMsfPW48m"
      },
      "outputs": [],
      "source": [
        "RF_pred=RF_model.predict(X=X_test)"
      ],
      "id": "6qdjMsfPW48m"
    },
    {
      "cell_type": "code",
      "execution_count": 220,
      "metadata": {
        "id": "Vz0qPdZSW48n",
        "colab": {
          "base_uri": "https://localhost:8080/"
        },
        "outputId": "6438203b-a601-4077-cc68-2c7b1fc67ee7"
      },
      "outputs": [
        {
          "output_type": "stream",
          "name": "stdout",
          "text": [
            "[0 0 0 0 0 0 1 0 1 0 1 0 0 1 0 0 0 1 0 1 0 0 1 0 0 0 0 1 0 1 0 1 1 1 0 1 1\n",
            " 0 0 1 1 0 0 0 0 0 0 1 1 0 0 1 0 0 1 0 1 1 1 1 1 0 1 0 1 1 1 1 0 0 0 1 0 1\n",
            " 1 1 1 0 0 1 0 1 1 0 0 0 1 0 1 0 0 0 1 1 1 0 0 1 0 0 0 0 0 0 0 0 0 0 1 1 0\n",
            " 0 0 1 0 0 1 0 0 0 0 0 1 0 0 0 1 0 0 0 0 1 1 0 0 0 1 1 1 1 0 0 0 0 0 1 1 0\n",
            " 0 0 1 1 0 0 0 1 0 0 1 0 0 1 1 1 1 1 1 1 0 0 0 0 1 0 1 0 0 0 0 0 0 1 0 1 1\n",
            " 1 1 1 0 1 0 1 0 0 1 0 0 0 0 0 0 0 0 0 0 1 1 1 0 1 1 0 1 1 1 0 1 1 0 0 0 1\n",
            " 1 1 0 1 0 1 1 0 1 0 1 0 0 1 1 0 0 0 1 1 1 1 1 1 0 1 0 1 0 0 0 0 1 1 0 0 0\n",
            " 0 1 0 0 0 0 1 1 0 1 1 1 0 1 0 0 1 0 1 1 1 1 0 1 0 0 1 0 1 0 1 1 0 1 0 0 0\n",
            " 0 1 0 0 0 0 0 1 0 0 0 1 0 0 0 1 1 1 0 0 1 1 0 1 1 1 0 0 0 0 0 0 0 1 1 0 0\n",
            " 0 1 0 0 1 1 1 1 1 1 0 1 0 1 1 0 0 1]\n"
          ]
        }
      ],
      "source": [
        "print(RF_pred)"
      ],
      "id": "Vz0qPdZSW48n"
    },
    {
      "cell_type": "code",
      "execution_count": 221,
      "metadata": {
        "id": "hLyo20klW48n",
        "colab": {
          "base_uri": "https://localhost:8080/"
        },
        "outputId": "a13eec42-eac5-4639-95c3-f3a742565079"
      },
      "outputs": [
        {
          "output_type": "stream",
          "name": "stdout",
          "text": [
            "RandomForestClassifier model predicted 152 samples as AUTISM and 199 samples as NOT_AUTISM from 351 test samples.\n"
          ]
        }
      ],
      "source": [
        "Not_Autism=0\n",
        "Autism=0\n",
        "for predicted_label in RF_pred:\n",
        "    if predicted_label==0:\n",
        "        Not_Autism+=1\n",
        "    else:\n",
        "        Autism+=1\n",
        "print(f\"RandomForestClassifier model predicted {Autism} samples as AUTISM and {Not_Autism} samples as NOT_AUTISM from {len(RF_pred)} test samples.\")"
      ],
      "id": "hLyo20klW48n"
    },
    {
      "cell_type": "markdown",
      "metadata": {
        "id": "AMyMLIdeW48n"
      },
      "source": [
        "### Result Analysis"
      ],
      "id": "AMyMLIdeW48n"
    },
    {
      "cell_type": "markdown",
      "metadata": {
        "id": "So3KbTE0W48n"
      },
      "source": [
        "***Accuracy Score***"
      ],
      "id": "So3KbTE0W48n"
    },
    {
      "cell_type": "code",
      "execution_count": 222,
      "metadata": {
        "id": "w5u_DF5dW48n",
        "colab": {
          "base_uri": "https://localhost:8080/"
        },
        "outputId": "de7a5cb5-ccaa-43e9-b628-aa30a3e58fb1"
      },
      "outputs": [
        {
          "output_type": "stream",
          "name": "stdout",
          "text": [
            "RandomForestClassifier accuracy is 86.32\n"
          ]
        }
      ],
      "source": [
        "RF_accuracy2=accuracy_score(y_true=y_test,y_pred=RF_pred)\n",
        "print(\"RandomForestClassifier accuracy is {:.2f}\".format(RF_accuracy*100))"
      ],
      "id": "w5u_DF5dW48n"
    },
    {
      "cell_type": "markdown",
      "metadata": {
        "id": "Sd1iEI_mW48n"
      },
      "source": [
        "***Classification Report***"
      ],
      "id": "Sd1iEI_mW48n"
    },
    {
      "cell_type": "code",
      "execution_count": 223,
      "metadata": {
        "id": "uh3812dUW48o",
        "colab": {
          "base_uri": "https://localhost:8080/"
        },
        "outputId": "16523521-6279-4155-b328-86c22c70439d"
      },
      "outputs": [
        {
          "output_type": "stream",
          "name": "stdout",
          "text": [
            "              precision    recall  f1-score   support\n",
            "\n",
            "          No       0.85      0.86      0.86       196\n",
            "         Yes       0.82      0.81      0.81       155\n",
            "\n",
            "    accuracy                           0.84       351\n",
            "   macro avg       0.84      0.83      0.84       351\n",
            "weighted avg       0.84      0.84      0.84       351\n",
            "\n"
          ]
        }
      ],
      "source": [
        "print(classification_report(y_true=y_test,y_pred=RF_pred,target_names=[\"No\",\"Yes\"]))"
      ],
      "id": "uh3812dUW48o"
    },
    {
      "cell_type": "markdown",
      "metadata": {
        "id": "kU7oCPD1W48o"
      },
      "source": [
        "***Confusion Matrix***"
      ],
      "id": "kU7oCPD1W48o"
    },
    {
      "cell_type": "code",
      "execution_count": 224,
      "metadata": {
        "id": "2UKkH40gW48o",
        "colab": {
          "base_uri": "https://localhost:8080/",
          "height": 459
        },
        "outputId": "b2dc00fa-a074-4424-ee19-386f0a830660"
      },
      "outputs": [
        {
          "output_type": "display_data",
          "data": {
            "text/plain": [
              "<Figure size 500x500 with 1 Axes>"
            ],
            "image/png": "[encoded data removed]"
          },
          "metadata": {}
        }
      ],
      "source": [
        "plt.figure(figsize=(5,5))\n",
        "plt.rcParams[\"font.size\"]=20\n",
        "labels=[\"No\",\"Yes\"]\n",
        "sns.heatmap(data=confusion_matrix(y_true=y_test,y_pred=RF_pred),\n",
        "            cbar=False,\n",
        "            annot=True,\n",
        "            fmt=\"d\",\n",
        "            xticklabels=labels,\n",
        "            yticklabels=labels,\n",
        "            cmap=\"YlGnBu\",\n",
        "            linecolor=\"black\",\n",
        "            linewidths=0.2)\n",
        "plt.show()"
      ],
      "id": "2UKkH40gW48o"
    },
    {
      "cell_type": "code",
      "execution_count": 225,
      "metadata": {
        "id": "kg6SdVgSW48o"
      },
      "outputs": [],
      "source": [
        "with open(file=\"RF_model_Child.pkl\",mode=\"wb\") as file:\n",
        "    pickle.dump(obj=RF_model,file=file)"
      ],
      "id": "kg6SdVgSW48o"
    },
    {
      "cell_type": "markdown",
      "metadata": {
        "id": "W5xP8Q6KW48o"
      },
      "source": [
        "## Model-3 ANN(Artificial Neural Network)"
      ],
      "id": "W5xP8Q6KW48o"
    },
    {
      "cell_type": "code",
      "execution_count": 226,
      "metadata": {
        "id": "FMaA8loqW48o"
      },
      "outputs": [],
      "source": [
        "from tensorflow.keras import Sequential\n",
        "from tensorflow.keras.layers import Dense,Flatten\n",
        "from tensorflow.keras import optimizers"
      ],
      "id": "FMaA8loqW48o"
    },
    {
      "cell_type": "code",
      "execution_count": 227,
      "metadata": {
        "id": "kFn4EYNpW48o"
      },
      "outputs": [],
      "source": [
        "hidden_units=100\n",
        "hidden_layer_act='tanh'\n",
        "output_layer_act='sigmoid'\n",
        "no_epochs=20"
      ],
      "id": "kFn4EYNpW48o"
    },
    {
      "cell_type": "code",
      "execution_count": 228,
      "metadata": {
        "id": "YF156sp9W48p"
      },
      "outputs": [],
      "source": [
        "model = Sequential()\n",
        "model.add(Dense(hidden_units, input_dim=15, activation=hidden_layer_act))\n",
        "model.add(Dense(hidden_units, activation=hidden_layer_act))\n",
        "model.add(Dense(1, activation=output_layer_act))"
      ],
      "id": "YF156sp9W48p"
    },
    {
      "cell_type": "code",
      "execution_count": 229,
      "metadata": {
        "id": "D9a4SykUW48p"
      },
      "outputs": [],
      "source": [
        "model.compile(loss='binary_crossentropy',optimizer=\"adam\", metrics=['accuracy'])"
      ],
      "id": "D9a4SykUW48p"
    },
    {
      "cell_type": "code",
      "execution_count": 230,
      "metadata": {
        "id": "HrdrICDjW48p",
        "colab": {
          "base_uri": "https://localhost:8080/"
        },
        "outputId": "aa58aece-11ff-423b-a1e4-a836e5e52013"
      },
      "outputs": [
        {
          "output_type": "stream",
          "name": "stdout",
          "text": [
            "Model: \"sequential_3\"\n",
            "_________________________________________________________________\n",
            " Layer (type)                Output Shape              Param #   \n",
            "=================================================================\n",
            " dense_9 (Dense)             (None, 100)               1600      \n",
            "                                                                 \n",
            " dense_10 (Dense)            (None, 100)               10100     \n",
            "                                                                 \n",
            " dense_11 (Dense)            (None, 1)                 101       \n",
            "                                                                 \n",
            "=================================================================\n",
            "Total params: 11,801\n",
            "Trainable params: 11,801\n",
            "Non-trainable params: 0\n",
            "_________________________________________________________________\n"
          ]
        }
      ],
      "source": [
        "model.summary()"
      ],
      "id": "HrdrICDjW48p"
    },
    {
      "cell_type": "code",
      "execution_count": 231,
      "metadata": {
        "id": "ElB--bhpW48p",
        "colab": {
          "base_uri": "https://localhost:8080/"
        },
        "outputId": "2101b9ae-5db3-42fb-bbdf-13a7c77256a4"
      },
      "outputs": [
        {
          "output_type": "stream",
          "name": "stdout",
          "text": [
            "Epoch 1/20\n",
            "7/7 [==============================] - 1s 44ms/step - loss: 0.6370 - accuracy: 0.6034 - val_loss: 0.5142 - val_accuracy: 0.7692\n",
            "Epoch 2/20\n",
            "7/7 [==============================] - 0s 11ms/step - loss: 0.4968 - accuracy: 0.7760 - val_loss: 0.4470 - val_accuracy: 0.7493\n",
            "Epoch 3/20\n",
            "7/7 [==============================] - 0s 12ms/step - loss: 0.4405 - accuracy: 0.7528 - val_loss: 0.3941 - val_accuracy: 0.8205\n",
            "Epoch 4/20\n",
            "7/7 [==============================] - 0s 12ms/step - loss: 0.3883 - accuracy: 0.8237 - val_loss: 0.3574 - val_accuracy: 0.8519\n",
            "Epoch 5/20\n",
            "7/7 [==============================] - 0s 14ms/step - loss: 0.3416 - accuracy: 0.8592 - val_loss: 0.3286 - val_accuracy: 0.8803\n",
            "Epoch 6/20\n",
            "7/7 [==============================] - 0s 16ms/step - loss: 0.3092 - accuracy: 0.8837 - val_loss: 0.3028 - val_accuracy: 0.8860\n",
            "Epoch 7/20\n",
            "7/7 [==============================] - 0s 15ms/step - loss: 0.2817 - accuracy: 0.8972 - val_loss: 0.2818 - val_accuracy: 0.8889\n",
            "Epoch 8/20\n",
            "7/7 [==============================] - 0s 13ms/step - loss: 0.2556 - accuracy: 0.9094 - val_loss: 0.2644 - val_accuracy: 0.8917\n",
            "Epoch 9/20\n",
            "7/7 [==============================] - 0s 17ms/step - loss: 0.2343 - accuracy: 0.9131 - val_loss: 0.2462 - val_accuracy: 0.9031\n",
            "Epoch 10/20\n",
            "7/7 [==============================] - 0s 16ms/step - loss: 0.2160 - accuracy: 0.9266 - val_loss: 0.2291 - val_accuracy: 0.9145\n",
            "Epoch 11/20\n",
            "7/7 [==============================] - 0s 15ms/step - loss: 0.1987 - accuracy: 0.9412 - val_loss: 0.2165 - val_accuracy: 0.9174\n",
            "Epoch 12/20\n",
            "7/7 [==============================] - 0s 14ms/step - loss: 0.1844 - accuracy: 0.9388 - val_loss: 0.2000 - val_accuracy: 0.9231\n",
            "Epoch 13/20\n",
            "7/7 [==============================] - 0s 18ms/step - loss: 0.1726 - accuracy: 0.9449 - val_loss: 0.1991 - val_accuracy: 0.9231\n",
            "Epoch 14/20\n",
            "7/7 [==============================] - 0s 14ms/step - loss: 0.1635 - accuracy: 0.9486 - val_loss: 0.1797 - val_accuracy: 0.9316\n",
            "Epoch 15/20\n",
            "7/7 [==============================] - 0s 15ms/step - loss: 0.1493 - accuracy: 0.9510 - val_loss: 0.1647 - val_accuracy: 0.9345\n",
            "Epoch 16/20\n",
            "7/7 [==============================] - 0s 15ms/step - loss: 0.1384 - accuracy: 0.9547 - val_loss: 0.1657 - val_accuracy: 0.9459\n",
            "Epoch 17/20\n",
            "7/7 [==============================] - 0s 14ms/step - loss: 0.1313 - accuracy: 0.9572 - val_loss: 0.1458 - val_accuracy: 0.9402\n",
            "Epoch 18/20\n",
            "7/7 [==============================] - 0s 15ms/step - loss: 0.1202 - accuracy: 0.9645 - val_loss: 0.1436 - val_accuracy: 0.9459\n",
            "Epoch 19/20\n",
            "7/7 [==============================] - 0s 15ms/step - loss: 0.1144 - accuracy: 0.9657 - val_loss: 0.1285 - val_accuracy: 0.9487\n",
            "Epoch 20/20\n",
            "7/7 [==============================] - 0s 14ms/step - loss: 0.1077 - accuracy: 0.9682 - val_loss: 0.1281 - val_accuracy: 0.9573\n"
          ]
        }
      ],
      "source": [
        "history=model.fit(x=X_train,y=y_train,epochs=no_epochs, batch_size=128,validation_data=(X_test,y_test))"
      ],
      "id": "ElB--bhpW48p"
    },
    {
      "cell_type": "markdown",
      "metadata": {
        "id": "8S9uTmwrW48p"
      },
      "source": [
        "## Model Accuracy and Loss Plot-Graphs"
      ],
      "id": "8S9uTmwrW48p"
    },
    {
      "cell_type": "code",
      "execution_count": 232,
      "metadata": {
        "id": "EWVlb0H3W48p",
        "colab": {
          "base_uri": "https://localhost:8080/",
          "height": 494
        },
        "outputId": "b126fe0a-3278-4360-8c2f-88c848b7f5ec"
      },
      "outputs": [
        {
          "output_type": "display_data",
          "data": {
            "text/plain": [
              "<Figure size 1000x500 with 1 Axes>"
            ],
            "image/png": "[encoded data removed]"
          },
          "metadata": {}
        }
      ],
      "source": [
        "plt.figure(figsize=(10,5))\n",
        "plt.plot(history.history[\"accuracy\"])\n",
        "plt.plot(history.history[\"val_accuracy\"])\n",
        "plt.title(label=\"plot-graphs for accuracy and validated acccuracy\")\n",
        "plt.legend([\"Accuracy\",\"Val_accuracy\"])\n",
        "plt.show()"
      ],
      "id": "EWVlb0H3W48p"
    },
    {
      "cell_type": "code",
      "execution_count": 233,
      "metadata": {
        "id": "aCk5DFxiW48p",
        "colab": {
          "base_uri": "https://localhost:8080/",
          "height": 494
        },
        "outputId": "2fd4e110-82d4-489e-8931-522eb4125fc2"
      },
      "outputs": [
        {
          "output_type": "display_data",
          "data": {
            "text/plain": [
              "<Figure size 1000x500 with 1 Axes>"
            ],
            "image/png": "[encoded data removed]"
          },
          "metadata": {}
        }
      ],
      "source": [
        "plt.figure(figsize=(10,5))\n",
        "plt.plot(history.history[\"loss\"])\n",
        "plt.plot(history.history[\"val_loss\"])\n",
        "plt.title(label=\"plot-graphs for loss and validated loss\")\n",
        "plt.legend([\"Loss\",\"Val_Loss\"])\n",
        "plt.show()"
      ],
      "id": "aCk5DFxiW48p"
    },
    {
      "cell_type": "markdown",
      "metadata": {
        "id": "CGOaREnmW48q"
      },
      "source": [
        "## Model Saving"
      ],
      "id": "CGOaREnmW48q"
    },
    {
      "cell_type": "code",
      "execution_count": 234,
      "metadata": {
        "id": "U0WQTmmuW48q"
      },
      "outputs": [],
      "source": [
        "model.save(\"ANN_model_Child.h5\")"
      ],
      "id": "U0WQTmmuW48q"
    },
    {
      "cell_type": "code",
      "execution_count": 235,
      "metadata": {
        "id": "OnyCHuYWW48q",
        "colab": {
          "base_uri": "https://localhost:8080/"
        },
        "outputId": "5ae77f0a-26f3-4eca-dfdf-3d98a43ba621"
      },
      "outputs": [
        {
          "output_type": "stream",
          "name": "stdout",
          "text": [
            "36/36 [==============================] - 0s 1ms/step\n"
          ]
        }
      ],
      "source": [
        "ann_pred=model.predict(x=X_test,batch_size=10,verbose=1)"
      ],
      "id": "OnyCHuYWW48q"
    },
    {
      "cell_type": "code",
      "execution_count": 236,
      "metadata": {
        "id": "DOL05szWW48q",
        "colab": {
          "base_uri": "https://localhost:8080/"
        },
        "outputId": "87452b59-3762-4aa6-b20a-14a1054b0ac7"
      },
      "outputs": [
        {
          "output_type": "stream",
          "name": "stdout",
          "text": [
            "[[9.27536488e-01]\n",
            " [4.05531973e-01]\n",
            " [9.56868768e-01]\n",
            " [1.20225094e-01]\n",
            " [9.85433400e-01]\n",
            " [2.02926947e-03]\n",
            " [8.98801088e-01]\n",
            " [9.28417593e-02]\n",
            " [9.31762874e-01]\n",
            " [1.22272875e-03]\n",
            " [7.02306405e-02]\n",
            " [1.17820827e-02]\n",
            " [4.26208251e-04]\n",
            " [9.48747993e-01]\n",
            " [2.02716235e-03]\n",
            " [9.24007836e-05]\n",
            " [1.73524641e-05]\n",
            " [9.95216548e-01]\n",
            " [2.05036644e-02]\n",
            " [9.95216548e-01]\n",
            " [5.80331624e-01]\n",
            " [9.89069045e-01]\n",
            " [7.97129944e-02]\n",
            " [1.23164125e-01]\n",
            " [3.12674008e-02]\n",
            " [1.72417223e-01]\n",
            " [2.40049158e-05]\n",
            " [9.49683368e-01]\n",
            " [9.84179914e-01]\n",
            " [6.07446611e-01]\n",
            " [6.57328754e-04]\n",
            " [9.92414415e-01]\n",
            " [9.69022930e-01]\n",
            " [7.06193388e-01]\n",
            " [3.41907959e-04]\n",
            " [8.50410998e-01]\n",
            " [2.49910310e-01]\n",
            " [2.02716235e-03]\n",
            " [5.02171984e-04]\n",
            " [9.31775570e-01]\n",
            " [5.51446676e-01]\n",
            " [9.24007836e-05]\n",
            " [9.84179914e-01]\n",
            " [2.70688161e-03]\n",
            " [1.12220673e-02]\n",
            " [1.53416077e-05]\n",
            " [1.20225094e-01]\n",
            " [8.73421371e-01]\n",
            " [9.97922063e-01]\n",
            " [2.47615501e-02]\n",
            " [1.91269219e-01]\n",
            " [9.93288696e-01]\n",
            " [1.20225094e-01]\n",
            " [8.42394307e-03]\n",
            " [9.78155792e-01]\n",
            " [2.61767432e-02]\n",
            " [9.31762874e-01]\n",
            " [2.34181937e-02]\n",
            " [9.68130350e-01]\n",
            " [5.47807992e-01]\n",
            " [9.84147370e-01]\n",
            " [7.78908908e-01]\n",
            " [9.89888310e-01]\n",
            " [2.47615520e-02]\n",
            " [9.92414415e-01]\n",
            " [9.31762874e-01]\n",
            " [9.78155792e-01]\n",
            " [6.41011357e-01]\n",
            " [8.23539734e-01]\n",
            " [1.26398325e-01]\n",
            " [1.23038515e-01]\n",
            " [8.07905912e-01]\n",
            " [3.12674008e-02]\n",
            " [9.52541649e-01]\n",
            " [9.79501367e-01]\n",
            " [9.59094465e-01]\n",
            " [9.27047849e-01]\n",
            " [4.77950962e-05]\n",
            " [2.91440985e-03]\n",
            " [9.97675300e-01]\n",
            " [6.98049087e-04]\n",
            " [9.94807839e-01]\n",
            " [9.76542413e-01]\n",
            " [1.99342519e-01]\n",
            " [5.80919869e-02]\n",
            " [7.58292496e-01]\n",
            " [9.65704381e-01]\n",
            " [5.80331624e-01]\n",
            " [9.84147370e-01]\n",
            " [1.31908833e-04]\n",
            " [1.06473658e-02]\n",
            " [4.31459339e-04]\n",
            " [7.99472868e-01]\n",
            " [1.76990911e-01]\n",
            " [9.67590868e-01]\n",
            " [1.48097274e-03]\n",
            " [4.05531973e-01]\n",
            " [9.89353836e-01]\n",
            " [4.65536453e-02]\n",
            " [1.99342519e-01]\n",
            " [4.19419445e-03]\n",
            " [4.46195761e-03]\n",
            " [5.34344316e-01]\n",
            " [4.06851200e-03]\n",
            " [6.51648104e-01]\n",
            " [8.12022202e-03]\n",
            " [4.65536490e-02]\n",
            " [1.68009698e-02]\n",
            " [9.90749836e-01]\n",
            " [9.97289360e-01]\n",
            " [1.31908833e-04]\n",
            " [3.35058831e-02]\n",
            " [2.24627018e-01]\n",
            " [9.87815261e-01]\n",
            " [1.91649675e-01]\n",
            " [1.53416077e-05]\n",
            " [9.52541649e-01]\n",
            " [7.93467928e-03]\n",
            " [3.59806436e-05]\n",
            " [6.76530823e-02]\n",
            " [3.60966864e-04]\n",
            " [3.41907959e-04]\n",
            " [1.76990911e-01]\n",
            " [8.22311081e-03]\n",
            " [2.08186189e-04]\n",
            " [4.45356011e-01]\n",
            " [9.97139692e-01]\n",
            " [4.92396429e-02]\n",
            " [3.33507881e-02]\n",
            " [9.59568381e-01]\n",
            " [2.70688161e-03]\n",
            " [9.87341225e-01]\n",
            " [9.97378945e-01]\n",
            " [1.25163328e-03]\n",
            " [4.92968440e-01]\n",
            " [8.46278891e-02]\n",
            " [9.97384846e-01]\n",
            " [4.61563691e-02]\n",
            " [9.58547115e-01]\n",
            " [9.76902306e-01]\n",
            " [1.48097274e-03]\n",
            " [7.93467928e-03]\n",
            " [3.20656714e-03]\n",
            " [4.74884361e-02]\n",
            " [2.13971245e-03]\n",
            " [9.30135489e-01]\n",
            " [9.97922063e-01]\n",
            " [1.17975399e-02]\n",
            " [2.68351525e-01]\n",
            " [8.46278891e-02]\n",
            " [4.61563691e-02]\n",
            " [9.55706298e-01]\n",
            " [1.91269219e-01]\n",
            " [3.22069041e-02]\n",
            " [1.31908833e-04]\n",
            " [9.69190478e-01]\n",
            " [4.65536490e-02]\n",
            " [3.60966864e-04]\n",
            " [9.51590121e-01]\n",
            " [2.76747433e-05]\n",
            " [2.33088747e-01]\n",
            " [7.69731641e-01]\n",
            " [9.09423828e-01]\n",
            " [3.40603113e-01]\n",
            " [9.92307425e-01]\n",
            " [8.98801088e-01]\n",
            " [9.49683368e-01]\n",
            " [9.93223786e-01]\n",
            " [1.91269219e-01]\n",
            " [5.80919869e-02]\n",
            " [5.56982994e-01]\n",
            " [7.60177150e-04]\n",
            " [9.97289360e-01]\n",
            " [9.89069045e-01]\n",
            " [9.30135489e-01]\n",
            " [1.91269219e-01]\n",
            " [8.12418200e-03]\n",
            " [7.02874444e-04]\n",
            " [2.54481491e-02]\n",
            " [3.20656691e-03]\n",
            " [5.80595195e-01]\n",
            " [9.91228938e-01]\n",
            " [1.43726794e-02]\n",
            " [9.97922063e-01]\n",
            " [6.83637381e-01]\n",
            " [2.63714314e-01]\n",
            " [9.84924376e-01]\n",
            " [6.07446611e-01]\n",
            " [6.26344772e-05]\n",
            " [8.07835400e-01]\n",
            " [9.59930599e-01]\n",
            " [5.58619723e-02]\n",
            " [2.05036644e-02]\n",
            " [4.77950962e-05]\n",
            " [7.69731641e-01]\n",
            " [8.91113937e-01]\n",
            " [1.23164125e-01]\n",
            " [1.22272875e-03]\n",
            " [3.76915425e-01]\n",
            " [1.17477149e-01]\n",
            " [8.13982010e-01]\n",
            " [7.83855617e-01]\n",
            " [1.23038515e-01]\n",
            " [1.53416077e-05]\n",
            " [3.97823798e-03]\n",
            " [9.97365594e-01]\n",
            " [9.86849487e-01]\n",
            " [4.80797231e-01]\n",
            " [1.68009698e-02]\n",
            " [9.80444431e-01]\n",
            " [9.91672993e-01]\n",
            " [6.00695261e-04]\n",
            " [9.84147370e-01]\n",
            " [4.81948443e-02]\n",
            " [7.06193388e-01]\n",
            " [1.95769007e-05]\n",
            " [9.91824329e-01]\n",
            " [9.97289360e-01]\n",
            " [4.05531973e-01]\n",
            " [1.21957818e-02]\n",
            " [1.95769007e-05]\n",
            " [8.07905912e-01]\n",
            " [9.24211860e-01]\n",
            " [9.39061105e-01]\n",
            " [1.20413778e-02]\n",
            " [9.91200984e-01]\n",
            " [3.97823798e-03]\n",
            " [9.77000356e-01]\n",
            " [9.92414415e-01]\n",
            " [3.60966835e-04]\n",
            " [5.04283667e-01]\n",
            " [7.22614154e-02]\n",
            " [9.41185772e-01]\n",
            " [3.60966864e-04]\n",
            " [9.59568381e-01]\n",
            " [8.10600758e-01]\n",
            " [9.97922063e-01]\n",
            " [2.61767432e-02]\n",
            " [4.26208251e-04]\n",
            " [2.24627018e-01]\n",
            " [7.02306405e-02]\n",
            " [4.81948443e-02]\n",
            " [9.91672993e-01]\n",
            " [9.87815261e-01]\n",
            " [9.87341225e-01]\n",
            " [8.70780706e-01]\n",
            " [5.80331624e-01]\n",
            " [9.77272213e-01]\n",
            " [3.22069041e-02]\n",
            " [9.37951803e-01]\n",
            " [1.17820827e-02]\n",
            " [3.76915425e-01]\n",
            " [5.56982994e-01]\n",
            " [9.94507134e-01]\n",
            " [9.47220802e-01]\n",
            " [9.97378945e-01]\n",
            " [6.57328754e-04]\n",
            " [1.22272875e-03]\n",
            " [7.78908908e-01]\n",
            " [9.00021017e-01]\n",
            " [9.97384846e-01]\n",
            " [2.13971245e-03]\n",
            " [9.79106724e-01]\n",
            " [9.94507134e-01]\n",
            " [9.84179914e-01]\n",
            " [9.79501367e-01]\n",
            " [6.87155664e-01]\n",
            " [7.58292496e-01]\n",
            " [8.10600758e-01]\n",
            " [9.97378945e-01]\n",
            " [1.34627506e-01]\n",
            " [3.36710527e-03]\n",
            " [8.88508201e-01]\n",
            " [7.22614154e-02]\n",
            " [9.89806235e-01]\n",
            " [5.96142590e-01]\n",
            " [4.46195761e-03]\n",
            " [9.91672993e-01]\n",
            " [7.06193388e-01]\n",
            " [9.92476285e-01]\n",
            " [1.35695830e-01]\n",
            " [4.46195761e-03]\n",
            " [2.40583643e-01]\n",
            " [7.93467928e-03]\n",
            " [7.10983425e-02]\n",
            " [9.16203141e-01]\n",
            " [5.05753040e-01]\n",
            " [9.68130350e-01]\n",
            " [8.12418200e-03]\n",
            " [9.85435307e-01]\n",
            " [5.47807992e-01]\n",
            " [1.68009698e-02]\n",
            " [9.91228938e-01]\n",
            " [3.09965182e-02]\n",
            " [5.97621500e-03]\n",
            " [1.31908833e-04]\n",
            " [9.85053837e-01]\n",
            " [9.37951803e-01]\n",
            " [5.10957658e-01]\n",
            " [1.46559060e-01]\n",
            " [4.45356011e-01]\n",
            " [2.02926947e-03]\n",
            " [9.96521115e-01]\n",
            " [3.40603113e-01]\n",
            " [4.15107980e-03]\n",
            " [4.05531973e-01]\n",
            " [4.74884361e-02]\n",
            " [9.31762874e-01]\n",
            " [1.00188609e-02]\n",
            " [1.04486058e-02]\n",
            " [1.00533804e-02]\n",
            " [9.95503128e-01]\n",
            " [5.96142590e-01]\n",
            " [9.95216548e-01]\n",
            " [6.00695261e-04]\n",
            " [6.26344772e-05]\n",
            " [9.47220802e-01]\n",
            " [8.88508201e-01]\n",
            " [9.89069045e-01]\n",
            " [9.83339310e-01]\n",
            " [6.83637381e-01]\n",
            " [9.86849487e-01]\n",
            " [4.15107980e-03]\n",
            " [4.90062177e-01]\n",
            " [2.47615520e-02]\n",
            " [6.00695261e-04]\n",
            " [5.44171095e-01]\n",
            " [1.48097274e-03]\n",
            " [9.00021017e-01]\n",
            " [2.40583643e-01]\n",
            " [9.51590121e-01]\n",
            " [9.36116412e-05]\n",
            " [9.00534987e-02]\n",
            " [1.46559060e-01]\n",
            " [7.82909095e-01]\n",
            " [4.31459339e-04]\n",
            " [1.12220673e-02]\n",
            " [9.97384846e-01]\n",
            " [9.31775570e-01]\n",
            " [9.77272213e-01]\n",
            " [8.83916497e-01]\n",
            " [9.91200984e-01]\n",
            " [9.69022930e-01]\n",
            " [1.23038515e-01]\n",
            " [4.80797231e-01]\n",
            " [9.28417593e-02]\n",
            " [9.68130350e-01]\n",
            " [2.49910310e-01]\n",
            " [3.99915613e-02]\n",
            " [9.32278335e-01]\n",
            " [9.65704381e-01]]\n"
          ]
        }
      ],
      "source": [
        "print(ann_pred)"
      ],
      "id": "DOL05szWW48q"
    },
    {
      "cell_type": "code",
      "execution_count": 237,
      "metadata": {
        "id": "s0yIf-0OW48q",
        "colab": {
          "base_uri": "https://localhost:8080/"
        },
        "outputId": "f1b7884a-2548-4b0f-f0ec-9d6e16bc9e83"
      },
      "outputs": [
        {
          "output_type": "stream",
          "name": "stdout",
          "text": [
            "[1, 0, 1, 0, 1, 0, 1, 0, 1, 0, 0, 0, 0, 1, 0, 0, 0, 1, 0, 1, 1, 1, 0, 0, 0, 0, 0, 1, 1, 1, 0, 1, 1, 1, 0, 1, 0, 0, 0, 1, 1, 0, 1, 0, 0, 0, 0, 1, 1, 0, 0, 1, 0, 0, 1, 0, 1, 0, 1, 1, 1, 1, 1, 0, 1, 1, 1, 1, 1, 0, 0, 1, 0, 1, 1, 1, 1, 0, 0, 1, 0, 1, 1, 0, 0, 1, 1, 1, 1, 0, 0, 0, 1, 0, 1, 0, 0, 1, 0, 0, 0, 0, 1, 0, 1, 0, 0, 0, 1, 1, 0, 0, 0, 1, 0, 0, 1, 0, 0, 0, 0, 0, 0, 0, 0, 0, 1, 0, 0, 1, 0, 1, 1, 0, 0, 0, 1, 0, 1, 1, 0, 0, 0, 0, 0, 1, 1, 0, 0, 0, 0, 1, 0, 0, 0, 1, 0, 0, 1, 0, 0, 1, 1, 0, 1, 1, 1, 1, 0, 0, 1, 0, 1, 1, 1, 0, 0, 0, 0, 0, 1, 1, 0, 1, 1, 0, 1, 1, 0, 1, 1, 0, 0, 0, 1, 1, 0, 0, 0, 0, 1, 1, 0, 0, 0, 1, 1, 0, 0, 1, 1, 0, 1, 0, 1, 0, 1, 1, 0, 0, 0, 1, 1, 1, 0, 1, 0, 1, 1, 0, 1, 0, 1, 0, 1, 1, 1, 0, 0, 0, 0, 0, 1, 1, 1, 1, 1, 1, 0, 1, 0, 0, 1, 1, 1, 1, 0, 0, 1, 1, 1, 0, 1, 1, 1, 1, 1, 1, 1, 1, 0, 0, 1, 0, 1, 1, 0, 1, 1, 1, 0, 0, 0, 0, 0, 1, 1, 1, 0, 1, 1, 0, 1, 0, 0, 0, 1, 1, 1, 0, 0, 0, 1, 0, 0, 0, 0, 1, 0, 0, 0, 1, 1, 1, 0, 0, 1, 1, 1, 1, 1, 1, 0, 0, 0, 0, 1, 0, 1, 0, 1, 0, 0, 0, 1, 0, 0, 1, 1, 1, 1, 1, 1, 0, 0, 0, 1, 0, 0, 1, 1]\n"
          ]
        }
      ],
      "source": [
        "rounded = [int(round(x[0])) for x in ann_pred]\n",
        "print(rounded)"
      ],
      "id": "s0yIf-0OW48q"
    },
    {
      "cell_type": "code",
      "execution_count": 238,
      "metadata": {
        "id": "uhQUpEhXW48q"
      },
      "outputs": [],
      "source": [
        "y_true=list(y_test)"
      ],
      "id": "uhQUpEhXW48q"
    },
    {
      "cell_type": "code",
      "execution_count": 239,
      "metadata": {
        "id": "i9-qfztLW48q",
        "colab": {
          "base_uri": "https://localhost:8080/"
        },
        "outputId": "5440a7e4-6b28-42a8-bb36-f765269a8d61"
      },
      "outputs": [
        {
          "output_type": "stream",
          "name": "stdout",
          "text": [
            "[1, 0, 1, 0, 1, 0, 1, 0, 1, 0, 0, 0, 0, 1, 0, 0, 0, 1, 0, 1, 0, 1, 0, 0, 0, 0, 0, 1, 1, 1, 0, 1, 1, 1, 0, 1, 0, 0, 0, 1, 1, 0, 1, 0, 0, 0, 0, 1, 1, 0, 0, 1, 0, 0, 1, 0, 1, 0, 1, 1, 1, 1, 1, 0, 1, 1, 1, 1, 1, 0, 0, 0, 0, 1, 1, 1, 1, 0, 0, 1, 0, 1, 1, 0, 0, 1, 1, 0, 1, 0, 0, 0, 1, 0, 1, 0, 0, 1, 0, 0, 0, 0, 0, 0, 1, 0, 0, 0, 1, 1, 0, 0, 0, 1, 0, 0, 1, 0, 0, 0, 0, 0, 0, 0, 0, 0, 1, 0, 0, 1, 0, 1, 1, 0, 0, 0, 1, 0, 1, 1, 0, 0, 0, 0, 0, 1, 1, 0, 0, 0, 0, 1, 0, 0, 0, 1, 0, 0, 1, 0, 0, 1, 1, 0, 1, 1, 1, 1, 0, 0, 0, 0, 1, 1, 1, 0, 0, 0, 0, 0, 0, 1, 0, 1, 0, 0, 1, 1, 0, 1, 1, 0, 0, 0, 1, 1, 0, 0, 0, 0, 1, 1, 0, 0, 0, 1, 1, 0, 0, 1, 1, 0, 1, 0, 1, 0, 1, 1, 0, 0, 0, 0, 1, 1, 0, 1, 0, 1, 1, 0, 0, 0, 1, 0, 1, 1, 1, 0, 0, 0, 0, 0, 1, 1, 1, 1, 0, 1, 0, 1, 0, 0, 0, 1, 1, 1, 0, 0, 1, 1, 1, 0, 1, 1, 1, 1, 1, 1, 1, 1, 0, 0, 1, 0, 1, 1, 0, 1, 1, 1, 0, 0, 0, 0, 0, 1, 0, 1, 0, 1, 1, 0, 1, 0, 0, 0, 1, 1, 0, 0, 0, 0, 1, 0, 0, 0, 0, 1, 0, 0, 0, 1, 1, 1, 0, 0, 1, 1, 1, 1, 0, 1, 0, 0, 0, 0, 0, 0, 1, 0, 1, 0, 0, 0, 1, 0, 0, 1, 1, 1, 1, 1, 1, 0, 0, 0, 1, 0, 0, 1, 1]\n"
          ]
        }
      ],
      "source": [
        "print(y_true)"
      ],
      "id": "i9-qfztLW48q"
    },
    {
      "cell_type": "code",
      "execution_count": 240,
      "metadata": {
        "id": "VqiJU87eW48r",
        "colab": {
          "base_uri": "https://localhost:8080/"
        },
        "outputId": "3dea5352-e5e5-4618-eaf1-6995af5f6829"
      },
      "outputs": [
        {
          "output_type": "stream",
          "name": "stdout",
          "text": [
            "ArtificialNeuralNetwork model predicted 170 samples as AUTISM and 181 samples as NOT_AUTISM from 351 test samples.\n"
          ]
        }
      ],
      "source": [
        "Not_Autism=0\n",
        "Autism=0\n",
        "for predicted_label in rounded :\n",
        "    if predicted_label==0:\n",
        "        Not_Autism+=1\n",
        "    else:\n",
        "        Autism+=1\n",
        "print(f\"ArtificialNeuralNetwork model predicted {Autism} samples as AUTISM and {Not_Autism} samples as NOT_AUTISM from {len(rounded )} test samples.\")"
      ],
      "id": "VqiJU87eW48r"
    },
    {
      "cell_type": "markdown",
      "metadata": {
        "id": "6HZ6t6IhW48r"
      },
      "source": [
        "## Result Analysis"
      ],
      "id": "6HZ6t6IhW48r"
    },
    {
      "cell_type": "markdown",
      "metadata": {
        "id": "kpRwSMzPW48r"
      },
      "source": [
        "***Accuracy Score***"
      ],
      "id": "kpRwSMzPW48r"
    },
    {
      "cell_type": "code",
      "execution_count": 241,
      "metadata": {
        "id": "wb4m1U3bW48r",
        "colab": {
          "base_uri": "https://localhost:8080/"
        },
        "outputId": "a1d78af5-5972-4c44-a4ef-fc07d3b294fb"
      },
      "outputs": [
        {
          "output_type": "stream",
          "name": "stdout",
          "text": [
            "ANN Accuracy is 97.86\n"
          ]
        }
      ],
      "source": [
        "ann_accuracy2=accuracy_score(y_true=y_true,y_pred=rounded)\n",
        "print(\"ANN Accuracy is {:.2f}\".format(ann_accuracy*100))"
      ],
      "id": "wb4m1U3bW48r"
    },
    {
      "cell_type": "markdown",
      "metadata": {
        "id": "vCyQ9XuEW48r"
      },
      "source": [
        "***Classification Report***"
      ],
      "id": "vCyQ9XuEW48r"
    },
    {
      "cell_type": "code",
      "execution_count": 242,
      "metadata": {
        "id": "0ciDrpczW48r",
        "colab": {
          "base_uri": "https://localhost:8080/"
        },
        "outputId": "b579c856-cdfb-4ff9-8177-ec11f884a383"
      },
      "outputs": [
        {
          "output_type": "stream",
          "name": "stdout",
          "text": [
            "              precision    recall  f1-score   support\n",
            "\n",
            "          No       1.00      0.92      0.96       196\n",
            "         Yes       0.91      1.00      0.95       155\n",
            "\n",
            "    accuracy                           0.96       351\n",
            "   macro avg       0.96      0.96      0.96       351\n",
            "weighted avg       0.96      0.96      0.96       351\n",
            "\n"
          ]
        }
      ],
      "source": [
        "print(classification_report(y_true=y_true,y_pred=rounded,target_names=[\"No\",\"Yes\"]))"
      ],
      "id": "0ciDrpczW48r"
    },
    {
      "cell_type": "markdown",
      "metadata": {
        "id": "7g9HIao7W48r"
      },
      "source": [
        "***Confusion Matrix***"
      ],
      "id": "7g9HIao7W48r"
    },
    {
      "cell_type": "code",
      "execution_count": 243,
      "metadata": {
        "id": "CcQbvKv8W48s",
        "colab": {
          "base_uri": "https://localhost:8080/",
          "height": 459
        },
        "outputId": "b45c0cea-f8ba-47c3-f8ee-d1a8ace17ce9"
      },
      "outputs": [
        {
          "output_type": "display_data",
          "data": {
            "text/plain": [
              "<Figure size 500x500 with 1 Axes>"
            ],
            "image/png": "[encoded data removed]"
          },
          "metadata": {}
        }
      ],
      "source": [
        "plt.figure(figsize=(5,5))\n",
        "plt.rcParams[\"font.size\"]=20\n",
        "labels=[\"No\",\"Yes\"]\n",
        "sns.heatmap(data=confusion_matrix(y_true=y_true,y_pred=rounded),\n",
        "            cbar=False,\n",
        "            annot=True,\n",
        "            fmt=\"d\",\n",
        "            xticklabels=labels,\n",
        "            yticklabels=labels,\n",
        "            cmap=\"YlGnBu\",\n",
        "            linecolor=\"black\",\n",
        "            linewidths=0.2)\n",
        "plt.show()"
      ],
      "id": "CcQbvKv8W48s"
    },
    {
      "cell_type": "markdown",
      "metadata": {
        "id": "50ZucmkUW48s"
      },
      "source": [
        "## Accuracy Comparision for Child Dataset"
      ],
      "id": "50ZucmkUW48s"
    },
    {
      "cell_type": "code",
      "execution_count": 244,
      "metadata": {
        "id": "bIfAzg3TW48s",
        "colab": {
          "base_uri": "https://localhost:8080/",
          "height": 648
        },
        "outputId": "8796c189-58cd-48f6-a676-19b7d0f5e89f"
      },
      "outputs": [
        {
          "output_type": "display_data",
          "data": {
            "text/plain": [
              "<Figure size 1000x700 with 1 Axes>"
            ],
            "image/png": "[encoded data removed]"
          },
          "metadata": {}
        }
      ],
      "source": [
        "data=[svc_accuracy,RF_accuracy,ann_accuracy]\n",
        "labels=[\"SVC\",\"RFC\",\"ANN\"]\n",
        "colors=[\"yellow\",\"lawngreen\",\"teal\"]\n",
        "plt.figure(figsize=(10,7))\n",
        "plt.grid()\n",
        "plt.bar(x=labels,height=data,color=colors)\n",
        "plt.title(label=\"Accuracy Comparision for Child Dataset\")\n",
        "plt.show()"
      ],
      "id": "bIfAzg3TW48s"
    },
    {
      "cell_type": "markdown",
      "metadata": {
        "id": "icpkN7WUHHCC"
      },
      "source": [
        "## Accuracy Comparision for different test size of Child Dataset"
      ],
      "id": "icpkN7WUHHCC"
    },
    {
      "cell_type": "code",
      "source": [],
      "metadata": {
        "id": "Ju7c5ozFX3hA"
      },
      "id": "Ju7c5ozFX3hA",
      "execution_count": 244,
      "outputs": []
    },
    {
      "cell_type": "code",
      "source": [
        "data=[svc_accuracy,svc_accuracy2,RF_accuracy,RF_accuracy2,ann_accuracy,ann_accuracy2]\n",
        "labels=[\"SVC\",\"SVC2\",\"RFC\",\"RFC2\",\"ANN\",\"ANN2\"]\n",
        "colors=[\"gold\",\"blue\",\"lime\"]\n",
        "plt.figure(figsize=(10,5))\n",
        "plt.grid()\n",
        "plt.bar(x=labels,height=data,color=colors)\n",
        "plt.title(label=\"Accuracy Comparision for Comparative Analysis\")\n",
        "plt.show()"
      ],
      "metadata": {
        "id": "ffUQZWaYHB3o",
        "colab": {
          "base_uri": "https://localhost:8080/",
          "height": 494
        },
        "outputId": "d99fbbd6-5046-4fad-b790-e5f00988c929"
      },
      "execution_count": 245,
      "outputs": [
        {
          "output_type": "display_data",
          "data": {
            "text/plain": [
              "<Figure size 1000x500 with 1 Axes>"
            ],
            "image/png": "[encoded data removed]"
          },
          "metadata": {}
        }
      ],
      "id": "ffUQZWaYHB3o"
    },
    {
      "cell_type": "code",
      "execution_count": 246,
      "metadata": {
        "id": "46FDopoIW48s",
        "colab": {
          "base_uri": "https://localhost:8080/"
        },
        "outputId": "03782821-287b-4696-b0e2-baea497c496c"
      },
      "outputs": [
        {
          "output_type": "stream",
          "name": "stdout",
          "text": [
            "Middle aged adults with autism are 2.6 times more likely to be diagnosed with Alzheimer's disease\n"
          ]
        }
      ],
      "source": [
        "print(\"Middle aged adults with autism are 2.6 times more likely to be diagnosed with Alzheimer's disease\")"
      ],
      "id": "46FDopoIW48s"
    },
    {
      "cell_type": "code",
      "execution_count": 246,
      "metadata": {
        "id": "Tcas0KTwW48s"
      },
      "outputs": [],
      "source": [],
      "id": "Tcas0KTwW48s"
    }
  ],
  "metadata": {
    "kernelspec": {
      "display_name": "Python 3 (ipykernel)",
      "language": "python",
      "name": "python3"
    },
    "language_info": {
      "codemirror_mode": {
        "name": "ipython",
        "version": 3
      },
      "file_extension": ".py",
      "mimetype": "text/x-python",
      "name": "python",
      "nbconvert_exporter": "python",
      "pygments_lexer": "ipython3",
      "version": "3.9.7"
    },
    "colab": {
      "provenance": []
    }
  },
  "nbformat": 4,
  "nbformat_minor": 5
}